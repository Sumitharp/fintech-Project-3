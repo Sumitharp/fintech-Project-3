{
    "cells": [
        {
            "cell_type": "code",
            "execution_count": 2,
            "source": [
                "# Imports\r\n",
                "\r\n",
                "from urllib.request import urlopen, Request\r\n",
                "from bs4 import BeautifulSoup\r\n",
                "import os\r\n",
                "import pandas as pd\r\n",
                "import matplotlib.pyplot as plt\r\n",
                "%matplotlib inline\r\n",
                "# NLTK VADER for sentiment analysis\r\n",
                "from nltk.sentiment.vader import SentimentIntensityAnalyzer\r\n",
                "\r\n",
                "finwiz_url = 'https://finviz.com/quote.ashx?t='"
            ],
            "outputs": [],
            "metadata": {}
        },
        {
            "cell_type": "code",
            "execution_count": 74,
            "source": [
                "news_tables = {}\r\n",
                "tickers = ['TSLA','BA']\r\n",
                "\r\n",
                "for ticker in tickers:\r\n",
                "    url = finwiz_url + ticker\r\n",
                "    req = Request(url=url,headers={'User-Agent': 'Mozilla/5.0 (Windows NT 6.1; WOW64; rv:20.0) Gecko/20100101 Firefox/20.0'}) \r\n",
                "    response = urlopen(req)    \r\n",
                "    # Read the contents of the file into 'html'\r\n",
                "    html = BeautifulSoup(response)\r\n",
                "    # Find 'news-table' in the Soup and load it into 'news_table'\r\n",
                "    news_table = html.find(id='news-table')\r\n",
                "    # Add the table to our dictionary\r\n",
                "    news_tables[ticker] = news_table"
            ],
            "outputs": [],
            "metadata": {}
        },
        {
            "cell_type": "code",
            "execution_count": 75,
            "source": [
                "parsed_news = []\r\n",
                "\r\n",
                "# Iterate through the news\r\n",
                "for file_name, news_table in news_tables.items():\r\n",
                "    # Iterate through all tr tags in 'news_table'\r\n",
                "    for x in news_table.findAll('tr'):\r\n",
                "        # read the text from each tr tag into text\r\n",
                "        # get text from a only\r\n",
                "        text = x.a.get_text() \r\n",
                "        # splite text in the td tag into a list \r\n",
                "        date_scrape = x.td.text.split()\r\n",
                "        # if the length of 'date_scrape' is 1, load 'time' as the only element\r\n",
                "\r\n",
                "        if len(date_scrape) == 1:\r\n",
                "            time = date_scrape[0]\r\n",
                "            \r\n",
                "        # else load 'date' as the 1st element and 'time' as the second    \r\n",
                "        else:\r\n",
                "            date = date_scrape[0]\r\n",
                "            time = date_scrape[1]\r\n",
                "        # Extract the ticker from the file name, get the string up to the 1st '_'  \r\n",
                "        ticker = file_name.split('_')[0]\r\n",
                "        \r\n",
                "        # Append ticker, date, time and headline as a list to the 'parsed_news' list\r\n",
                "        parsed_news.append([ticker, date, time, text])\r\n",
                "        \r\n"
            ],
            "outputs": [],
            "metadata": {}
        },
        {
            "cell_type": "code",
            "execution_count": 76,
            "source": [
                "# parsed_news"
            ],
            "outputs": [],
            "metadata": {}
        },
        {
            "cell_type": "code",
            "execution_count": 77,
            "source": [
                "# Instantiate the sentiment intensity analyzer\r\n",
                "vader = SentimentIntensityAnalyzer()\r\n",
                "\r\n",
                "# Set column names\r\n",
                "columns = ['ticker', 'date', 'time', 'headline']\r\n",
                "\r\n",
                "# Convert the parsed_news list into a DataFrame called 'parsed_and_scored_news'\r\n",
                "parsed_and_scored_news = pd.DataFrame(parsed_news, columns=columns)\r\n",
                "\r\n",
                "# Iterate through the headlines and get the polarity scores using vader\r\n",
                "scores = parsed_and_scored_news['headline'].apply(vader.polarity_scores).tolist()\r\n",
                "\r\n",
                "# # Convert the 'scores' list of dicts into a DataFrame\r\n",
                "scores_df = pd.DataFrame(scores)\r\n",
                "\r\n",
                "# # Join the DataFrames of the news and the list of dicts\r\n",
                "parsed_and_scored_news = parsed_and_scored_news.join(scores_df, rsuffix='_right')\r\n",
                "\r\n",
                "# # Convert the date column from string to datetime\r\n",
                "parsed_and_scored_news['date'] = pd.to_datetime(parsed_and_scored_news.date).dt.date\r\n",
                "\r\n",
                "parsed_and_scored_news.head(50)"
            ],
            "outputs": [
                {
                    "output_type": "execute_result",
                    "data": {
                        "text/plain": [
                            "   ticker        date     time  \\\n",
                            "0    TSLA  2021-07-28  08:26PM   \n",
                            "1    TSLA  2021-07-28  07:58PM   \n",
                            "2    TSLA  2021-07-28  06:37PM   \n",
                            "3    TSLA  2021-07-28  06:00PM   \n",
                            "4    TSLA  2021-07-28  05:47PM   \n",
                            "5    TSLA  2021-07-28  04:36PM   \n",
                            "6    TSLA  2021-07-28  04:17PM   \n",
                            "7    TSLA  2021-07-28  03:24PM   \n",
                            "8    TSLA  2021-07-28  03:07PM   \n",
                            "9    TSLA  2021-07-28  01:56PM   \n",
                            "10   TSLA  2021-07-28  12:54PM   \n",
                            "11   TSLA  2021-07-28  12:50PM   \n",
                            "12   TSLA  2021-07-28  12:34PM   \n",
                            "13   TSLA  2021-07-28  11:16AM   \n",
                            "14   TSLA  2021-07-28  10:18AM   \n",
                            "15   TSLA  2021-07-28  10:11AM   \n",
                            "16   TSLA  2021-07-28  10:11AM   \n",
                            "17   TSLA  2021-07-28  10:07AM   \n",
                            "18   TSLA  2021-07-28  09:16AM   \n",
                            "19   TSLA  2021-07-28  09:00AM   \n",
                            "20   TSLA  2021-07-28  06:06AM   \n",
                            "21   TSLA  2021-07-28  06:06AM   \n",
                            "22   TSLA  2021-07-28  06:03AM   \n",
                            "23   TSLA  2021-07-28  05:51AM   \n",
                            "24   TSLA  2021-07-27  04:47PM   \n",
                            "25   TSLA  2021-07-27  04:31PM   \n",
                            "26   TSLA  2021-07-27  04:23PM   \n",
                            "27   TSLA  2021-07-27  04:15PM   \n",
                            "28   TSLA  2021-07-27  04:09PM   \n",
                            "29   TSLA  2021-07-27  03:48PM   \n",
                            "30   TSLA  2021-07-27  03:37PM   \n",
                            "31   TSLA  2021-07-27  02:53PM   \n",
                            "32   TSLA  2021-07-27  02:36PM   \n",
                            "33   TSLA  2021-07-27  12:54PM   \n",
                            "34   TSLA  2021-07-27  12:53PM   \n",
                            "35   TSLA  2021-07-27  12:41PM   \n",
                            "36   TSLA  2021-07-27  12:33PM   \n",
                            "37   TSLA  2021-07-27  12:14PM   \n",
                            "38   TSLA  2021-07-27  12:00PM   \n",
                            "39   TSLA  2021-07-27  11:56AM   \n",
                            "40   TSLA  2021-07-27  11:50AM   \n",
                            "41   TSLA  2021-07-27  11:40AM   \n",
                            "42   TSLA  2021-07-27  11:38AM   \n",
                            "43   TSLA  2021-07-27  11:34AM   \n",
                            "44   TSLA  2021-07-27  10:37AM   \n",
                            "45   TSLA  2021-07-27  10:23AM   \n",
                            "46   TSLA  2021-07-27  10:15AM   \n",
                            "47   TSLA  2021-07-27  10:15AM   \n",
                            "48   TSLA  2021-07-27  10:14AM   \n",
                            "49   TSLA  2021-07-27  10:05AM   \n",
                            "\n",
                            "                                             headline    neg    neu    pos  \\\n",
                            "0   Join Spire Global CEO in Fireside Chat at 1pm ...  0.000  0.845  0.155   \n",
                            "1   The Chip-Shortage Recovery Will Be Rocky, as A...  0.000  1.000  0.000   \n",
                            "2   Ford Beats With Surprise Profit, Lifts Outlook...  0.000  0.486  0.514   \n",
                            "3   Tesla's Moving Out of Malls...And Into Their P...  0.000  1.000  0.000   \n",
                            "4   Is Li Auto Stock A Buy Now? Shares Volatile Am...  0.187  0.667  0.147   \n",
                            "5                     Ford earnings beat Q2 estimates  0.000  1.000  0.000   \n",
                            "6                           EV Trucks: Will They Fly?  0.000  1.000  0.000   \n",
                            "7   Top Research Reports for Tesla, Disney & Wells...  0.000  0.612  0.388   \n",
                            "8   Tesla Blew Away Earnings. Shares Fell. What Gi...  0.000  0.761  0.239   \n",
                            "9   Is Lucid Motors Stock A Buy Right Now As LCID ...  0.000  1.000  0.000   \n",
                            "10  Tesla Blew Away Earnings. Shares Fell. What Gi...  0.000  0.761  0.239   \n",
                            "11  These Are The Best EV Stocks To Buy And Watch Now  0.000  0.704  0.296   \n",
                            "12  Tesla (TSLA) Stock Falls Despite Record Earnin...  0.000  1.000  0.000   \n",
                            "13                10 Best Low Float Stocks to Buy Now  0.171  0.488  0.341   \n",
                            "14                     10 Best Used Car Stocks to Buy  0.000  0.588  0.412   \n",
                            "15        The Next Step In EV Revolution  The Battery  0.000  1.000  0.000   \n",
                            "16  Is GM Stock A Buy? General Motors Hits Pothole...  0.000  1.000  0.000   \n",
                            "17  Tesla Delivers Another Earnings Spectacle With...  0.000  1.000  0.000   \n",
                            "18  WWF International President: Bitcoin is not a ...  0.000  1.000  0.000   \n",
                            "19          Average new car price hits record $41,000  0.000  1.000  0.000   \n",
                            "20  Analysis-Tesla hikes electric car prices in U....  0.000  1.000  0.000   \n",
                            "21  Can These Megacap Stocks Double? Wall Street T...  0.000  1.000  0.000   \n",
                            "22  3 High-Growth Stocks That Could Be Worth $1 Tr...  0.000  0.872  0.128   \n",
                            "23  Morning Bell With Jim Cramer: General Electric...  0.000  1.000  0.000   \n",
                            "24  US STOCKS-Wall St snaps five-day up streak as ...  0.000  1.000  0.000   \n",
                            "25  Chinas tech-stock crash is making me worried a...  0.329  0.671  0.000   \n",
                            "26  This Type of Day Is Price of Progress in Post-...  0.000  0.781  0.219   \n",
                            "27  Dow Jones Falls As CDC Reverses Mask Policy; A...  0.000  1.000  0.000   \n",
                            "28  Tesla Still Leads Global EV Market, And It's N...  0.000  1.000  0.000   \n",
                            "29  Dont Look Now, but Tesla Is a Mature Business....  0.000  0.778  0.222   \n",
                            "30  Lordstown Just Raised $400 Million. Why That I...  0.000  1.000  0.000   \n",
                            "31  Tesla's record earnings: 'There's quite a bit ...  0.000  1.000  0.000   \n",
                            "32  Why Lucid, Faraday Future, Lordstown Motors, a...  0.000  1.000  0.000   \n",
                            "33      We will be a leader in chips again: Intel CEO  0.000  1.000  0.000   \n",
                            "34  Why Tesla Lagged This Favorite Nasdaq Winner T...  0.157  0.357  0.486   \n",
                            "35  Teslas noisy quarter gets mixed reviews from W...  0.175  0.825  0.000   \n",
                            "36                    Why Tesla Stock Fell on Tuesday  0.000  1.000  0.000   \n",
                            "37  Tesla Falls as Chip Crisis, Battery Doubts Loo...  0.453  0.387  0.160   \n",
                            "38  What Elon Musk's Development Plans Could Mean ...  0.000  1.000  0.000   \n",
                            "39  Why there's 'financial interest' for Elon Musk...  0.000  0.800  0.200   \n",
                            "40  Dow Jones Falls, Tech Stocks Dive As Tesla Sli...  0.000  1.000  0.000   \n",
                            "41  Mobius Sees Bitcoin Going Lower, Says He's 'Le...  0.196  0.804  0.000   \n",
                            "42       Biggest takeaways from Teslas record quarter  0.000  1.000  0.000   \n",
                            "43  Is Tesla Stock A Buy Right Now? Here's What Te...  0.000  1.000  0.000   \n",
                            "44  A new Austin community will come standard with...  0.000  1.000  0.000   \n",
                            "45  Tesla reports first $1B quarterly profit, GE, ...  0.000  0.756  0.244   \n",
                            "46  Tesla (TSLA) Blows Past Estimates, Posts Recor...  0.000  1.000  0.000   \n",
                            "47                2 Top Value Stocks to Buy Right Now  0.000  0.543  0.457   \n",
                            "48  Tesla posts record quarter  heres why it still...  0.000  1.000  0.000   \n",
                            "49        ETFs to Buy on Tesla's Q2 Earnings Strength  0.000  0.686  0.314   \n",
                            "\n",
                            "    compound  \n",
                            "0     0.2960  \n",
                            "1     0.0000  \n",
                            "2     0.7511  \n",
                            "3     0.0000  \n",
                            "4    -0.1531  \n",
                            "5     0.0000  \n",
                            "6     0.0000  \n",
                            "7     0.4215  \n",
                            "8     0.2960  \n",
                            "9     0.0000  \n",
                            "10    0.2960  \n",
                            "11    0.6369  \n",
                            "12    0.0000  \n",
                            "13    0.4767  \n",
                            "14    0.6369  \n",
                            "15    0.0000  \n",
                            "16    0.0000  \n",
                            "17    0.0000  \n",
                            "18    0.0000  \n",
                            "19    0.0000  \n",
                            "20    0.0000  \n",
                            "21    0.0000  \n",
                            "22    0.2263  \n",
                            "23    0.0000  \n",
                            "24    0.0000  \n",
                            "25   -0.5994  \n",
                            "26    0.4215  \n",
                            "27    0.0000  \n",
                            "28    0.0000  \n",
                            "29    0.5719  \n",
                            "30    0.0000  \n",
                            "31    0.0000  \n",
                            "32    0.0000  \n",
                            "33    0.0000  \n",
                            "34    0.6808  \n",
                            "35   -0.1779  \n",
                            "36    0.0000  \n",
                            "37   -0.6486  \n",
                            "38    0.0000  \n",
                            "39    0.4588  \n",
                            "40    0.0000  \n",
                            "41   -0.2960  \n",
                            "42    0.0000  \n",
                            "43    0.0000  \n",
                            "44    0.0000  \n",
                            "45    0.4404  \n",
                            "46    0.0000  \n",
                            "47    0.4939  \n",
                            "48    0.0000  \n",
                            "49    0.4939  "
                        ],
                        "text/html": [
                            "<div>\n",
                            "<style scoped>\n",
                            "    .dataframe tbody tr th:only-of-type {\n",
                            "        vertical-align: middle;\n",
                            "    }\n",
                            "\n",
                            "    .dataframe tbody tr th {\n",
                            "        vertical-align: top;\n",
                            "    }\n",
                            "\n",
                            "    .dataframe thead th {\n",
                            "        text-align: right;\n",
                            "    }\n",
                            "</style>\n",
                            "<table border=\"1\" class=\"dataframe\">\n",
                            "  <thead>\n",
                            "    <tr style=\"text-align: right;\">\n",
                            "      <th></th>\n",
                            "      <th>ticker</th>\n",
                            "      <th>date</th>\n",
                            "      <th>time</th>\n",
                            "      <th>headline</th>\n",
                            "      <th>neg</th>\n",
                            "      <th>neu</th>\n",
                            "      <th>pos</th>\n",
                            "      <th>compound</th>\n",
                            "    </tr>\n",
                            "  </thead>\n",
                            "  <tbody>\n",
                            "    <tr>\n",
                            "      <th>0</th>\n",
                            "      <td>TSLA</td>\n",
                            "      <td>2021-07-28</td>\n",
                            "      <td>08:26PM</td>\n",
                            "      <td>Join Spire Global CEO in Fireside Chat at 1pm ...</td>\n",
                            "      <td>0.000</td>\n",
                            "      <td>0.845</td>\n",
                            "      <td>0.155</td>\n",
                            "      <td>0.2960</td>\n",
                            "    </tr>\n",
                            "    <tr>\n",
                            "      <th>1</th>\n",
                            "      <td>TSLA</td>\n",
                            "      <td>2021-07-28</td>\n",
                            "      <td>07:58PM</td>\n",
                            "      <td>The Chip-Shortage Recovery Will Be Rocky, as A...</td>\n",
                            "      <td>0.000</td>\n",
                            "      <td>1.000</td>\n",
                            "      <td>0.000</td>\n",
                            "      <td>0.0000</td>\n",
                            "    </tr>\n",
                            "    <tr>\n",
                            "      <th>2</th>\n",
                            "      <td>TSLA</td>\n",
                            "      <td>2021-07-28</td>\n",
                            "      <td>06:37PM</td>\n",
                            "      <td>Ford Beats With Surprise Profit, Lifts Outlook...</td>\n",
                            "      <td>0.000</td>\n",
                            "      <td>0.486</td>\n",
                            "      <td>0.514</td>\n",
                            "      <td>0.7511</td>\n",
                            "    </tr>\n",
                            "    <tr>\n",
                            "      <th>3</th>\n",
                            "      <td>TSLA</td>\n",
                            "      <td>2021-07-28</td>\n",
                            "      <td>06:00PM</td>\n",
                            "      <td>Tesla's Moving Out of Malls...And Into Their P...</td>\n",
                            "      <td>0.000</td>\n",
                            "      <td>1.000</td>\n",
                            "      <td>0.000</td>\n",
                            "      <td>0.0000</td>\n",
                            "    </tr>\n",
                            "    <tr>\n",
                            "      <th>4</th>\n",
                            "      <td>TSLA</td>\n",
                            "      <td>2021-07-28</td>\n",
                            "      <td>05:47PM</td>\n",
                            "      <td>Is Li Auto Stock A Buy Now? Shares Volatile Am...</td>\n",
                            "      <td>0.187</td>\n",
                            "      <td>0.667</td>\n",
                            "      <td>0.147</td>\n",
                            "      <td>-0.1531</td>\n",
                            "    </tr>\n",
                            "    <tr>\n",
                            "      <th>5</th>\n",
                            "      <td>TSLA</td>\n",
                            "      <td>2021-07-28</td>\n",
                            "      <td>04:36PM</td>\n",
                            "      <td>Ford earnings beat Q2 estimates</td>\n",
                            "      <td>0.000</td>\n",
                            "      <td>1.000</td>\n",
                            "      <td>0.000</td>\n",
                            "      <td>0.0000</td>\n",
                            "    </tr>\n",
                            "    <tr>\n",
                            "      <th>6</th>\n",
                            "      <td>TSLA</td>\n",
                            "      <td>2021-07-28</td>\n",
                            "      <td>04:17PM</td>\n",
                            "      <td>EV Trucks: Will They Fly?</td>\n",
                            "      <td>0.000</td>\n",
                            "      <td>1.000</td>\n",
                            "      <td>0.000</td>\n",
                            "      <td>0.0000</td>\n",
                            "    </tr>\n",
                            "    <tr>\n",
                            "      <th>7</th>\n",
                            "      <td>TSLA</td>\n",
                            "      <td>2021-07-28</td>\n",
                            "      <td>03:24PM</td>\n",
                            "      <td>Top Research Reports for Tesla, Disney &amp; Wells...</td>\n",
                            "      <td>0.000</td>\n",
                            "      <td>0.612</td>\n",
                            "      <td>0.388</td>\n",
                            "      <td>0.4215</td>\n",
                            "    </tr>\n",
                            "    <tr>\n",
                            "      <th>8</th>\n",
                            "      <td>TSLA</td>\n",
                            "      <td>2021-07-28</td>\n",
                            "      <td>03:07PM</td>\n",
                            "      <td>Tesla Blew Away Earnings. Shares Fell. What Gi...</td>\n",
                            "      <td>0.000</td>\n",
                            "      <td>0.761</td>\n",
                            "      <td>0.239</td>\n",
                            "      <td>0.2960</td>\n",
                            "    </tr>\n",
                            "    <tr>\n",
                            "      <th>9</th>\n",
                            "      <td>TSLA</td>\n",
                            "      <td>2021-07-28</td>\n",
                            "      <td>01:56PM</td>\n",
                            "      <td>Is Lucid Motors Stock A Buy Right Now As LCID ...</td>\n",
                            "      <td>0.000</td>\n",
                            "      <td>1.000</td>\n",
                            "      <td>0.000</td>\n",
                            "      <td>0.0000</td>\n",
                            "    </tr>\n",
                            "    <tr>\n",
                            "      <th>10</th>\n",
                            "      <td>TSLA</td>\n",
                            "      <td>2021-07-28</td>\n",
                            "      <td>12:54PM</td>\n",
                            "      <td>Tesla Blew Away Earnings. Shares Fell. What Gi...</td>\n",
                            "      <td>0.000</td>\n",
                            "      <td>0.761</td>\n",
                            "      <td>0.239</td>\n",
                            "      <td>0.2960</td>\n",
                            "    </tr>\n",
                            "    <tr>\n",
                            "      <th>11</th>\n",
                            "      <td>TSLA</td>\n",
                            "      <td>2021-07-28</td>\n",
                            "      <td>12:50PM</td>\n",
                            "      <td>These Are The Best EV Stocks To Buy And Watch Now</td>\n",
                            "      <td>0.000</td>\n",
                            "      <td>0.704</td>\n",
                            "      <td>0.296</td>\n",
                            "      <td>0.6369</td>\n",
                            "    </tr>\n",
                            "    <tr>\n",
                            "      <th>12</th>\n",
                            "      <td>TSLA</td>\n",
                            "      <td>2021-07-28</td>\n",
                            "      <td>12:34PM</td>\n",
                            "      <td>Tesla (TSLA) Stock Falls Despite Record Earnin...</td>\n",
                            "      <td>0.000</td>\n",
                            "      <td>1.000</td>\n",
                            "      <td>0.000</td>\n",
                            "      <td>0.0000</td>\n",
                            "    </tr>\n",
                            "    <tr>\n",
                            "      <th>13</th>\n",
                            "      <td>TSLA</td>\n",
                            "      <td>2021-07-28</td>\n",
                            "      <td>11:16AM</td>\n",
                            "      <td>10 Best Low Float Stocks to Buy Now</td>\n",
                            "      <td>0.171</td>\n",
                            "      <td>0.488</td>\n",
                            "      <td>0.341</td>\n",
                            "      <td>0.4767</td>\n",
                            "    </tr>\n",
                            "    <tr>\n",
                            "      <th>14</th>\n",
                            "      <td>TSLA</td>\n",
                            "      <td>2021-07-28</td>\n",
                            "      <td>10:18AM</td>\n",
                            "      <td>10 Best Used Car Stocks to Buy</td>\n",
                            "      <td>0.000</td>\n",
                            "      <td>0.588</td>\n",
                            "      <td>0.412</td>\n",
                            "      <td>0.6369</td>\n",
                            "    </tr>\n",
                            "    <tr>\n",
                            "      <th>15</th>\n",
                            "      <td>TSLA</td>\n",
                            "      <td>2021-07-28</td>\n",
                            "      <td>10:11AM</td>\n",
                            "      <td>The Next Step In EV Revolution  The Battery</td>\n",
                            "      <td>0.000</td>\n",
                            "      <td>1.000</td>\n",
                            "      <td>0.000</td>\n",
                            "      <td>0.0000</td>\n",
                            "    </tr>\n",
                            "    <tr>\n",
                            "      <th>16</th>\n",
                            "      <td>TSLA</td>\n",
                            "      <td>2021-07-28</td>\n",
                            "      <td>10:11AM</td>\n",
                            "      <td>Is GM Stock A Buy? General Motors Hits Pothole...</td>\n",
                            "      <td>0.000</td>\n",
                            "      <td>1.000</td>\n",
                            "      <td>0.000</td>\n",
                            "      <td>0.0000</td>\n",
                            "    </tr>\n",
                            "    <tr>\n",
                            "      <th>17</th>\n",
                            "      <td>TSLA</td>\n",
                            "      <td>2021-07-28</td>\n",
                            "      <td>10:07AM</td>\n",
                            "      <td>Tesla Delivers Another Earnings Spectacle With...</td>\n",
                            "      <td>0.000</td>\n",
                            "      <td>1.000</td>\n",
                            "      <td>0.000</td>\n",
                            "      <td>0.0000</td>\n",
                            "    </tr>\n",
                            "    <tr>\n",
                            "      <th>18</th>\n",
                            "      <td>TSLA</td>\n",
                            "      <td>2021-07-28</td>\n",
                            "      <td>09:16AM</td>\n",
                            "      <td>WWF International President: Bitcoin is not a ...</td>\n",
                            "      <td>0.000</td>\n",
                            "      <td>1.000</td>\n",
                            "      <td>0.000</td>\n",
                            "      <td>0.0000</td>\n",
                            "    </tr>\n",
                            "    <tr>\n",
                            "      <th>19</th>\n",
                            "      <td>TSLA</td>\n",
                            "      <td>2021-07-28</td>\n",
                            "      <td>09:00AM</td>\n",
                            "      <td>Average new car price hits record $41,000</td>\n",
                            "      <td>0.000</td>\n",
                            "      <td>1.000</td>\n",
                            "      <td>0.000</td>\n",
                            "      <td>0.0000</td>\n",
                            "    </tr>\n",
                            "    <tr>\n",
                            "      <th>20</th>\n",
                            "      <td>TSLA</td>\n",
                            "      <td>2021-07-28</td>\n",
                            "      <td>06:06AM</td>\n",
                            "      <td>Analysis-Tesla hikes electric car prices in U....</td>\n",
                            "      <td>0.000</td>\n",
                            "      <td>1.000</td>\n",
                            "      <td>0.000</td>\n",
                            "      <td>0.0000</td>\n",
                            "    </tr>\n",
                            "    <tr>\n",
                            "      <th>21</th>\n",
                            "      <td>TSLA</td>\n",
                            "      <td>2021-07-28</td>\n",
                            "      <td>06:06AM</td>\n",
                            "      <td>Can These Megacap Stocks Double? Wall Street T...</td>\n",
                            "      <td>0.000</td>\n",
                            "      <td>1.000</td>\n",
                            "      <td>0.000</td>\n",
                            "      <td>0.0000</td>\n",
                            "    </tr>\n",
                            "    <tr>\n",
                            "      <th>22</th>\n",
                            "      <td>TSLA</td>\n",
                            "      <td>2021-07-28</td>\n",
                            "      <td>06:03AM</td>\n",
                            "      <td>3 High-Growth Stocks That Could Be Worth $1 Tr...</td>\n",
                            "      <td>0.000</td>\n",
                            "      <td>0.872</td>\n",
                            "      <td>0.128</td>\n",
                            "      <td>0.2263</td>\n",
                            "    </tr>\n",
                            "    <tr>\n",
                            "      <th>23</th>\n",
                            "      <td>TSLA</td>\n",
                            "      <td>2021-07-28</td>\n",
                            "      <td>05:51AM</td>\n",
                            "      <td>Morning Bell With Jim Cramer: General Electric...</td>\n",
                            "      <td>0.000</td>\n",
                            "      <td>1.000</td>\n",
                            "      <td>0.000</td>\n",
                            "      <td>0.0000</td>\n",
                            "    </tr>\n",
                            "    <tr>\n",
                            "      <th>24</th>\n",
                            "      <td>TSLA</td>\n",
                            "      <td>2021-07-27</td>\n",
                            "      <td>04:47PM</td>\n",
                            "      <td>US STOCKS-Wall St snaps five-day up streak as ...</td>\n",
                            "      <td>0.000</td>\n",
                            "      <td>1.000</td>\n",
                            "      <td>0.000</td>\n",
                            "      <td>0.0000</td>\n",
                            "    </tr>\n",
                            "    <tr>\n",
                            "      <th>25</th>\n",
                            "      <td>TSLA</td>\n",
                            "      <td>2021-07-27</td>\n",
                            "      <td>04:31PM</td>\n",
                            "      <td>Chinas tech-stock crash is making me worried a...</td>\n",
                            "      <td>0.329</td>\n",
                            "      <td>0.671</td>\n",
                            "      <td>0.000</td>\n",
                            "      <td>-0.5994</td>\n",
                            "    </tr>\n",
                            "    <tr>\n",
                            "      <th>26</th>\n",
                            "      <td>TSLA</td>\n",
                            "      <td>2021-07-27</td>\n",
                            "      <td>04:23PM</td>\n",
                            "      <td>This Type of Day Is Price of Progress in Post-...</td>\n",
                            "      <td>0.000</td>\n",
                            "      <td>0.781</td>\n",
                            "      <td>0.219</td>\n",
                            "      <td>0.4215</td>\n",
                            "    </tr>\n",
                            "    <tr>\n",
                            "      <th>27</th>\n",
                            "      <td>TSLA</td>\n",
                            "      <td>2021-07-27</td>\n",
                            "      <td>04:15PM</td>\n",
                            "      <td>Dow Jones Falls As CDC Reverses Mask Policy; A...</td>\n",
                            "      <td>0.000</td>\n",
                            "      <td>1.000</td>\n",
                            "      <td>0.000</td>\n",
                            "      <td>0.0000</td>\n",
                            "    </tr>\n",
                            "    <tr>\n",
                            "      <th>28</th>\n",
                            "      <td>TSLA</td>\n",
                            "      <td>2021-07-27</td>\n",
                            "      <td>04:09PM</td>\n",
                            "      <td>Tesla Still Leads Global EV Market, And It's N...</td>\n",
                            "      <td>0.000</td>\n",
                            "      <td>1.000</td>\n",
                            "      <td>0.000</td>\n",
                            "      <td>0.0000</td>\n",
                            "    </tr>\n",
                            "    <tr>\n",
                            "      <th>29</th>\n",
                            "      <td>TSLA</td>\n",
                            "      <td>2021-07-27</td>\n",
                            "      <td>03:48PM</td>\n",
                            "      <td>Dont Look Now, but Tesla Is a Mature Business....</td>\n",
                            "      <td>0.000</td>\n",
                            "      <td>0.778</td>\n",
                            "      <td>0.222</td>\n",
                            "      <td>0.5719</td>\n",
                            "    </tr>\n",
                            "    <tr>\n",
                            "      <th>30</th>\n",
                            "      <td>TSLA</td>\n",
                            "      <td>2021-07-27</td>\n",
                            "      <td>03:37PM</td>\n",
                            "      <td>Lordstown Just Raised $400 Million. Why That I...</td>\n",
                            "      <td>0.000</td>\n",
                            "      <td>1.000</td>\n",
                            "      <td>0.000</td>\n",
                            "      <td>0.0000</td>\n",
                            "    </tr>\n",
                            "    <tr>\n",
                            "      <th>31</th>\n",
                            "      <td>TSLA</td>\n",
                            "      <td>2021-07-27</td>\n",
                            "      <td>02:53PM</td>\n",
                            "      <td>Tesla's record earnings: 'There's quite a bit ...</td>\n",
                            "      <td>0.000</td>\n",
                            "      <td>1.000</td>\n",
                            "      <td>0.000</td>\n",
                            "      <td>0.0000</td>\n",
                            "    </tr>\n",
                            "    <tr>\n",
                            "      <th>32</th>\n",
                            "      <td>TSLA</td>\n",
                            "      <td>2021-07-27</td>\n",
                            "      <td>02:36PM</td>\n",
                            "      <td>Why Lucid, Faraday Future, Lordstown Motors, a...</td>\n",
                            "      <td>0.000</td>\n",
                            "      <td>1.000</td>\n",
                            "      <td>0.000</td>\n",
                            "      <td>0.0000</td>\n",
                            "    </tr>\n",
                            "    <tr>\n",
                            "      <th>33</th>\n",
                            "      <td>TSLA</td>\n",
                            "      <td>2021-07-27</td>\n",
                            "      <td>12:54PM</td>\n",
                            "      <td>We will be a leader in chips again: Intel CEO</td>\n",
                            "      <td>0.000</td>\n",
                            "      <td>1.000</td>\n",
                            "      <td>0.000</td>\n",
                            "      <td>0.0000</td>\n",
                            "    </tr>\n",
                            "    <tr>\n",
                            "      <th>34</th>\n",
                            "      <td>TSLA</td>\n",
                            "      <td>2021-07-27</td>\n",
                            "      <td>12:53PM</td>\n",
                            "      <td>Why Tesla Lagged This Favorite Nasdaq Winner T...</td>\n",
                            "      <td>0.157</td>\n",
                            "      <td>0.357</td>\n",
                            "      <td>0.486</td>\n",
                            "      <td>0.6808</td>\n",
                            "    </tr>\n",
                            "    <tr>\n",
                            "      <th>35</th>\n",
                            "      <td>TSLA</td>\n",
                            "      <td>2021-07-27</td>\n",
                            "      <td>12:41PM</td>\n",
                            "      <td>Teslas noisy quarter gets mixed reviews from W...</td>\n",
                            "      <td>0.175</td>\n",
                            "      <td>0.825</td>\n",
                            "      <td>0.000</td>\n",
                            "      <td>-0.1779</td>\n",
                            "    </tr>\n",
                            "    <tr>\n",
                            "      <th>36</th>\n",
                            "      <td>TSLA</td>\n",
                            "      <td>2021-07-27</td>\n",
                            "      <td>12:33PM</td>\n",
                            "      <td>Why Tesla Stock Fell on Tuesday</td>\n",
                            "      <td>0.000</td>\n",
                            "      <td>1.000</td>\n",
                            "      <td>0.000</td>\n",
                            "      <td>0.0000</td>\n",
                            "    </tr>\n",
                            "    <tr>\n",
                            "      <th>37</th>\n",
                            "      <td>TSLA</td>\n",
                            "      <td>2021-07-27</td>\n",
                            "      <td>12:14PM</td>\n",
                            "      <td>Tesla Falls as Chip Crisis, Battery Doubts Loo...</td>\n",
                            "      <td>0.453</td>\n",
                            "      <td>0.387</td>\n",
                            "      <td>0.160</td>\n",
                            "      <td>-0.6486</td>\n",
                            "    </tr>\n",
                            "    <tr>\n",
                            "      <th>38</th>\n",
                            "      <td>TSLA</td>\n",
                            "      <td>2021-07-27</td>\n",
                            "      <td>12:00PM</td>\n",
                            "      <td>What Elon Musk's Development Plans Could Mean ...</td>\n",
                            "      <td>0.000</td>\n",
                            "      <td>1.000</td>\n",
                            "      <td>0.000</td>\n",
                            "      <td>0.0000</td>\n",
                            "    </tr>\n",
                            "    <tr>\n",
                            "      <th>39</th>\n",
                            "      <td>TSLA</td>\n",
                            "      <td>2021-07-27</td>\n",
                            "      <td>11:56AM</td>\n",
                            "      <td>Why there's 'financial interest' for Elon Musk...</td>\n",
                            "      <td>0.000</td>\n",
                            "      <td>0.800</td>\n",
                            "      <td>0.200</td>\n",
                            "      <td>0.4588</td>\n",
                            "    </tr>\n",
                            "    <tr>\n",
                            "      <th>40</th>\n",
                            "      <td>TSLA</td>\n",
                            "      <td>2021-07-27</td>\n",
                            "      <td>11:50AM</td>\n",
                            "      <td>Dow Jones Falls, Tech Stocks Dive As Tesla Sli...</td>\n",
                            "      <td>0.000</td>\n",
                            "      <td>1.000</td>\n",
                            "      <td>0.000</td>\n",
                            "      <td>0.0000</td>\n",
                            "    </tr>\n",
                            "    <tr>\n",
                            "      <th>41</th>\n",
                            "      <td>TSLA</td>\n",
                            "      <td>2021-07-27</td>\n",
                            "      <td>11:40AM</td>\n",
                            "      <td>Mobius Sees Bitcoin Going Lower, Says He's 'Le...</td>\n",
                            "      <td>0.196</td>\n",
                            "      <td>0.804</td>\n",
                            "      <td>0.000</td>\n",
                            "      <td>-0.2960</td>\n",
                            "    </tr>\n",
                            "    <tr>\n",
                            "      <th>42</th>\n",
                            "      <td>TSLA</td>\n",
                            "      <td>2021-07-27</td>\n",
                            "      <td>11:38AM</td>\n",
                            "      <td>Biggest takeaways from Teslas record quarter</td>\n",
                            "      <td>0.000</td>\n",
                            "      <td>1.000</td>\n",
                            "      <td>0.000</td>\n",
                            "      <td>0.0000</td>\n",
                            "    </tr>\n",
                            "    <tr>\n",
                            "      <th>43</th>\n",
                            "      <td>TSLA</td>\n",
                            "      <td>2021-07-27</td>\n",
                            "      <td>11:34AM</td>\n",
                            "      <td>Is Tesla Stock A Buy Right Now? Here's What Te...</td>\n",
                            "      <td>0.000</td>\n",
                            "      <td>1.000</td>\n",
                            "      <td>0.000</td>\n",
                            "      <td>0.0000</td>\n",
                            "    </tr>\n",
                            "    <tr>\n",
                            "      <th>44</th>\n",
                            "      <td>TSLA</td>\n",
                            "      <td>2021-07-27</td>\n",
                            "      <td>10:37AM</td>\n",
                            "      <td>A new Austin community will come standard with...</td>\n",
                            "      <td>0.000</td>\n",
                            "      <td>1.000</td>\n",
                            "      <td>0.000</td>\n",
                            "      <td>0.0000</td>\n",
                            "    </tr>\n",
                            "    <tr>\n",
                            "      <th>45</th>\n",
                            "      <td>TSLA</td>\n",
                            "      <td>2021-07-27</td>\n",
                            "      <td>10:23AM</td>\n",
                            "      <td>Tesla reports first $1B quarterly profit, GE, ...</td>\n",
                            "      <td>0.000</td>\n",
                            "      <td>0.756</td>\n",
                            "      <td>0.244</td>\n",
                            "      <td>0.4404</td>\n",
                            "    </tr>\n",
                            "    <tr>\n",
                            "      <th>46</th>\n",
                            "      <td>TSLA</td>\n",
                            "      <td>2021-07-27</td>\n",
                            "      <td>10:15AM</td>\n",
                            "      <td>Tesla (TSLA) Blows Past Estimates, Posts Recor...</td>\n",
                            "      <td>0.000</td>\n",
                            "      <td>1.000</td>\n",
                            "      <td>0.000</td>\n",
                            "      <td>0.0000</td>\n",
                            "    </tr>\n",
                            "    <tr>\n",
                            "      <th>47</th>\n",
                            "      <td>TSLA</td>\n",
                            "      <td>2021-07-27</td>\n",
                            "      <td>10:15AM</td>\n",
                            "      <td>2 Top Value Stocks to Buy Right Now</td>\n",
                            "      <td>0.000</td>\n",
                            "      <td>0.543</td>\n",
                            "      <td>0.457</td>\n",
                            "      <td>0.4939</td>\n",
                            "    </tr>\n",
                            "    <tr>\n",
                            "      <th>48</th>\n",
                            "      <td>TSLA</td>\n",
                            "      <td>2021-07-27</td>\n",
                            "      <td>10:14AM</td>\n",
                            "      <td>Tesla posts record quarter  heres why it still...</td>\n",
                            "      <td>0.000</td>\n",
                            "      <td>1.000</td>\n",
                            "      <td>0.000</td>\n",
                            "      <td>0.0000</td>\n",
                            "    </tr>\n",
                            "    <tr>\n",
                            "      <th>49</th>\n",
                            "      <td>TSLA</td>\n",
                            "      <td>2021-07-27</td>\n",
                            "      <td>10:05AM</td>\n",
                            "      <td>ETFs to Buy on Tesla's Q2 Earnings Strength</td>\n",
                            "      <td>0.000</td>\n",
                            "      <td>0.686</td>\n",
                            "      <td>0.314</td>\n",
                            "      <td>0.4939</td>\n",
                            "    </tr>\n",
                            "  </tbody>\n",
                            "</table>\n",
                            "</div>"
                        ]
                    },
                    "metadata": {},
                    "execution_count": 77
                }
            ],
            "metadata": {}
        },
        {
            "cell_type": "code",
            "execution_count": 84,
            "source": [
                "import plotly.express as px\r\n",
                "import plotly.graph_objects as go\r\n",
                "import yfinance as yf\r\n",
                "\r\n",
                "data=yf.Ticker(ticker).history(period= \"5d\", interval = \"1d\").reset_index()\r\n",
                "fig = px.line(data, x='Date', y=\"Open\")\r\n",
                "\r\n",
                "mean_scores = parsed_and_scored_news.groupby(['ticker','date']).mean()\r\n",
                "mean_scores1 = mean_scores.unstack()\r\n",
                "mean_scores11 = mean_scores1.xs('compound', axis=\"columns\").transpose()\r\n",
                "fig2=px.bar(mean_scores11,barmode='group',title= 'Compound sentiment scores of news aticles')\r\n",
                "# # fig.add_trace(fig2.data[0])\r\n",
                "# fig.show()"
            ],
            "outputs": [],
            "metadata": {}
        },
        {
            "cell_type": "code",
            "execution_count": 85,
            "source": [
                "data"
            ],
            "outputs": [
                {
                    "output_type": "execute_result",
                    "data": {
                        "text/plain": [
                            "        Date        Open        High         Low       Close    Volume  \\\n",
                            "0 2021-07-22  221.520004  222.250000  218.309998  220.869995   9768900   \n",
                            "1 2021-07-23  222.970001  224.630005  220.940002  221.520004   9357000   \n",
                            "2 2021-07-26  220.000000  226.119995  219.889999  225.850006   8928900   \n",
                            "3 2021-07-27  223.169998  225.699997  220.419998  222.270004   8768900   \n",
                            "4 2021-07-28  234.050003  237.490005  231.330093  231.570007  19123495   \n",
                            "\n",
                            "   Dividends  Stock Splits  \n",
                            "0          0             0  \n",
                            "1          0             0  \n",
                            "2          0             0  \n",
                            "3          0             0  \n",
                            "4          0             0  "
                        ],
                        "text/html": [
                            "<div>\n",
                            "<style scoped>\n",
                            "    .dataframe tbody tr th:only-of-type {\n",
                            "        vertical-align: middle;\n",
                            "    }\n",
                            "\n",
                            "    .dataframe tbody tr th {\n",
                            "        vertical-align: top;\n",
                            "    }\n",
                            "\n",
                            "    .dataframe thead th {\n",
                            "        text-align: right;\n",
                            "    }\n",
                            "</style>\n",
                            "<table border=\"1\" class=\"dataframe\">\n",
                            "  <thead>\n",
                            "    <tr style=\"text-align: right;\">\n",
                            "      <th></th>\n",
                            "      <th>Date</th>\n",
                            "      <th>Open</th>\n",
                            "      <th>High</th>\n",
                            "      <th>Low</th>\n",
                            "      <th>Close</th>\n",
                            "      <th>Volume</th>\n",
                            "      <th>Dividends</th>\n",
                            "      <th>Stock Splits</th>\n",
                            "    </tr>\n",
                            "  </thead>\n",
                            "  <tbody>\n",
                            "    <tr>\n",
                            "      <th>0</th>\n",
                            "      <td>2021-07-22</td>\n",
                            "      <td>221.520004</td>\n",
                            "      <td>222.250000</td>\n",
                            "      <td>218.309998</td>\n",
                            "      <td>220.869995</td>\n",
                            "      <td>9768900</td>\n",
                            "      <td>0</td>\n",
                            "      <td>0</td>\n",
                            "    </tr>\n",
                            "    <tr>\n",
                            "      <th>1</th>\n",
                            "      <td>2021-07-23</td>\n",
                            "      <td>222.970001</td>\n",
                            "      <td>224.630005</td>\n",
                            "      <td>220.940002</td>\n",
                            "      <td>221.520004</td>\n",
                            "      <td>9357000</td>\n",
                            "      <td>0</td>\n",
                            "      <td>0</td>\n",
                            "    </tr>\n",
                            "    <tr>\n",
                            "      <th>2</th>\n",
                            "      <td>2021-07-26</td>\n",
                            "      <td>220.000000</td>\n",
                            "      <td>226.119995</td>\n",
                            "      <td>219.889999</td>\n",
                            "      <td>225.850006</td>\n",
                            "      <td>8928900</td>\n",
                            "      <td>0</td>\n",
                            "      <td>0</td>\n",
                            "    </tr>\n",
                            "    <tr>\n",
                            "      <th>3</th>\n",
                            "      <td>2021-07-27</td>\n",
                            "      <td>223.169998</td>\n",
                            "      <td>225.699997</td>\n",
                            "      <td>220.419998</td>\n",
                            "      <td>222.270004</td>\n",
                            "      <td>8768900</td>\n",
                            "      <td>0</td>\n",
                            "      <td>0</td>\n",
                            "    </tr>\n",
                            "    <tr>\n",
                            "      <th>4</th>\n",
                            "      <td>2021-07-28</td>\n",
                            "      <td>234.050003</td>\n",
                            "      <td>237.490005</td>\n",
                            "      <td>231.330093</td>\n",
                            "      <td>231.570007</td>\n",
                            "      <td>19123495</td>\n",
                            "      <td>0</td>\n",
                            "      <td>0</td>\n",
                            "    </tr>\n",
                            "  </tbody>\n",
                            "</table>\n",
                            "</div>"
                        ]
                    },
                    "metadata": {},
                    "execution_count": 85
                }
            ],
            "metadata": {}
        },
        {
            "cell_type": "code",
            "execution_count": 79,
            "source": [
                "mean_scores11"
            ],
            "outputs": [
                {
                    "output_type": "execute_result",
                    "data": {
                        "text/plain": [
                            "ticker            BA      TSLA\n",
                            "date                          \n",
                            "2021-07-14  0.266300       NaN\n",
                            "2021-07-15 -0.053567       NaN\n",
                            "2021-07-16  0.308100       NaN\n",
                            "2021-07-17  0.172600       NaN\n",
                            "2021-07-19 -0.219862       NaN\n",
                            "2021-07-20  0.087600       NaN\n",
                            "2021-07-21  0.010125       NaN\n",
                            "2021-07-22  0.406750       NaN\n",
                            "2021-07-25  0.008350       NaN\n",
                            "2021-07-26  0.049250  0.075260\n",
                            "2021-07-27 -0.049444  0.049493\n",
                            "2021-07-28  0.061717  0.161846"
                        ],
                        "text/html": [
                            "<div>\n",
                            "<style scoped>\n",
                            "    .dataframe tbody tr th:only-of-type {\n",
                            "        vertical-align: middle;\n",
                            "    }\n",
                            "\n",
                            "    .dataframe tbody tr th {\n",
                            "        vertical-align: top;\n",
                            "    }\n",
                            "\n",
                            "    .dataframe thead th {\n",
                            "        text-align: right;\n",
                            "    }\n",
                            "</style>\n",
                            "<table border=\"1\" class=\"dataframe\">\n",
                            "  <thead>\n",
                            "    <tr style=\"text-align: right;\">\n",
                            "      <th>ticker</th>\n",
                            "      <th>BA</th>\n",
                            "      <th>TSLA</th>\n",
                            "    </tr>\n",
                            "    <tr>\n",
                            "      <th>date</th>\n",
                            "      <th></th>\n",
                            "      <th></th>\n",
                            "    </tr>\n",
                            "  </thead>\n",
                            "  <tbody>\n",
                            "    <tr>\n",
                            "      <th>2021-07-14</th>\n",
                            "      <td>0.266300</td>\n",
                            "      <td>NaN</td>\n",
                            "    </tr>\n",
                            "    <tr>\n",
                            "      <th>2021-07-15</th>\n",
                            "      <td>-0.053567</td>\n",
                            "      <td>NaN</td>\n",
                            "    </tr>\n",
                            "    <tr>\n",
                            "      <th>2021-07-16</th>\n",
                            "      <td>0.308100</td>\n",
                            "      <td>NaN</td>\n",
                            "    </tr>\n",
                            "    <tr>\n",
                            "      <th>2021-07-17</th>\n",
                            "      <td>0.172600</td>\n",
                            "      <td>NaN</td>\n",
                            "    </tr>\n",
                            "    <tr>\n",
                            "      <th>2021-07-19</th>\n",
                            "      <td>-0.219862</td>\n",
                            "      <td>NaN</td>\n",
                            "    </tr>\n",
                            "    <tr>\n",
                            "      <th>2021-07-20</th>\n",
                            "      <td>0.087600</td>\n",
                            "      <td>NaN</td>\n",
                            "    </tr>\n",
                            "    <tr>\n",
                            "      <th>2021-07-21</th>\n",
                            "      <td>0.010125</td>\n",
                            "      <td>NaN</td>\n",
                            "    </tr>\n",
                            "    <tr>\n",
                            "      <th>2021-07-22</th>\n",
                            "      <td>0.406750</td>\n",
                            "      <td>NaN</td>\n",
                            "    </tr>\n",
                            "    <tr>\n",
                            "      <th>2021-07-25</th>\n",
                            "      <td>0.008350</td>\n",
                            "      <td>NaN</td>\n",
                            "    </tr>\n",
                            "    <tr>\n",
                            "      <th>2021-07-26</th>\n",
                            "      <td>0.049250</td>\n",
                            "      <td>0.075260</td>\n",
                            "    </tr>\n",
                            "    <tr>\n",
                            "      <th>2021-07-27</th>\n",
                            "      <td>-0.049444</td>\n",
                            "      <td>0.049493</td>\n",
                            "    </tr>\n",
                            "    <tr>\n",
                            "      <th>2021-07-28</th>\n",
                            "      <td>0.061717</td>\n",
                            "      <td>0.161846</td>\n",
                            "    </tr>\n",
                            "  </tbody>\n",
                            "</table>\n",
                            "</div>"
                        ]
                    },
                    "metadata": {},
                    "execution_count": 79
                }
            ],
            "metadata": {}
        },
        {
            "cell_type": "code",
            "execution_count": 80,
            "source": [
                "fig"
            ],
            "outputs": [
                {
                    "output_type": "display_data",
                    "data": {
                        "application/vnd.plotly.v1+json": {
                            "config": {
                                "plotlyServerURL": "https://plot.ly"
                            },
                            "data": [
                                {
                                    "hovertemplate": "Date=%{x}<br>Open=%{y}<extra></extra>",
                                    "legendgroup": "",
                                    "line": {
                                        "color": "#636efa",
                                        "dash": "solid"
                                    },
                                    "mode": "lines",
                                    "name": "",
                                    "orientation": "v",
                                    "showlegend": false,
                                    "type": "scatter",
                                    "x": [
                                        "2021-07-22T00:00:00",
                                        "2021-07-23T00:00:00",
                                        "2021-07-26T00:00:00",
                                        "2021-07-27T00:00:00",
                                        "2021-07-28T00:00:00"
                                    ],
                                    "xaxis": "x",
                                    "y": [
                                        221.52000427246094,
                                        222.97000122070312,
                                        220,
                                        223.1699981689453,
                                        234.0500030517578
                                    ],
                                    "yaxis": "y"
                                }
                            ],
                            "layout": {
                                "legend": {
                                    "tracegroupgap": 0
                                },
                                "margin": {
                                    "t": 60
                                },
                                "template": {
                                    "data": {
                                        "bar": [
                                            {
                                                "error_x": {
                                                    "color": "#2a3f5f"
                                                },
                                                "error_y": {
                                                    "color": "#2a3f5f"
                                                },
                                                "marker": {
                                                    "line": {
                                                        "color": "#E5ECF6",
                                                        "width": 0.5
                                                    }
                                                },
                                                "type": "bar"
                                            }
                                        ],
                                        "barpolar": [
                                            {
                                                "marker": {
                                                    "line": {
                                                        "color": "#E5ECF6",
                                                        "width": 0.5
                                                    }
                                                },
                                                "type": "barpolar"
                                            }
                                        ],
                                        "carpet": [
                                            {
                                                "aaxis": {
                                                    "endlinecolor": "#2a3f5f",
                                                    "gridcolor": "white",
                                                    "linecolor": "white",
                                                    "minorgridcolor": "white",
                                                    "startlinecolor": "#2a3f5f"
                                                },
                                                "baxis": {
                                                    "endlinecolor": "#2a3f5f",
                                                    "gridcolor": "white",
                                                    "linecolor": "white",
                                                    "minorgridcolor": "white",
                                                    "startlinecolor": "#2a3f5f"
                                                },
                                                "type": "carpet"
                                            }
                                        ],
                                        "choropleth": [
                                            {
                                                "colorbar": {
                                                    "outlinewidth": 0,
                                                    "ticks": ""
                                                },
                                                "type": "choropleth"
                                            }
                                        ],
                                        "contour": [
                                            {
                                                "colorbar": {
                                                    "outlinewidth": 0,
                                                    "ticks": ""
                                                },
                                                "colorscale": [
                                                    [
                                                        0,
                                                        "#0d0887"
                                                    ],
                                                    [
                                                        0.1111111111111111,
                                                        "#46039f"
                                                    ],
                                                    [
                                                        0.2222222222222222,
                                                        "#7201a8"
                                                    ],
                                                    [
                                                        0.3333333333333333,
                                                        "#9c179e"
                                                    ],
                                                    [
                                                        0.4444444444444444,
                                                        "#bd3786"
                                                    ],
                                                    [
                                                        0.5555555555555556,
                                                        "#d8576b"
                                                    ],
                                                    [
                                                        0.6666666666666666,
                                                        "#ed7953"
                                                    ],
                                                    [
                                                        0.7777777777777778,
                                                        "#fb9f3a"
                                                    ],
                                                    [
                                                        0.8888888888888888,
                                                        "#fdca26"
                                                    ],
                                                    [
                                                        1,
                                                        "#f0f921"
                                                    ]
                                                ],
                                                "type": "contour"
                                            }
                                        ],
                                        "contourcarpet": [
                                            {
                                                "colorbar": {
                                                    "outlinewidth": 0,
                                                    "ticks": ""
                                                },
                                                "type": "contourcarpet"
                                            }
                                        ],
                                        "heatmap": [
                                            {
                                                "colorbar": {
                                                    "outlinewidth": 0,
                                                    "ticks": ""
                                                },
                                                "colorscale": [
                                                    [
                                                        0,
                                                        "#0d0887"
                                                    ],
                                                    [
                                                        0.1111111111111111,
                                                        "#46039f"
                                                    ],
                                                    [
                                                        0.2222222222222222,
                                                        "#7201a8"
                                                    ],
                                                    [
                                                        0.3333333333333333,
                                                        "#9c179e"
                                                    ],
                                                    [
                                                        0.4444444444444444,
                                                        "#bd3786"
                                                    ],
                                                    [
                                                        0.5555555555555556,
                                                        "#d8576b"
                                                    ],
                                                    [
                                                        0.6666666666666666,
                                                        "#ed7953"
                                                    ],
                                                    [
                                                        0.7777777777777778,
                                                        "#fb9f3a"
                                                    ],
                                                    [
                                                        0.8888888888888888,
                                                        "#fdca26"
                                                    ],
                                                    [
                                                        1,
                                                        "#f0f921"
                                                    ]
                                                ],
                                                "type": "heatmap"
                                            }
                                        ],
                                        "heatmapgl": [
                                            {
                                                "colorbar": {
                                                    "outlinewidth": 0,
                                                    "ticks": ""
                                                },
                                                "colorscale": [
                                                    [
                                                        0,
                                                        "#0d0887"
                                                    ],
                                                    [
                                                        0.1111111111111111,
                                                        "#46039f"
                                                    ],
                                                    [
                                                        0.2222222222222222,
                                                        "#7201a8"
                                                    ],
                                                    [
                                                        0.3333333333333333,
                                                        "#9c179e"
                                                    ],
                                                    [
                                                        0.4444444444444444,
                                                        "#bd3786"
                                                    ],
                                                    [
                                                        0.5555555555555556,
                                                        "#d8576b"
                                                    ],
                                                    [
                                                        0.6666666666666666,
                                                        "#ed7953"
                                                    ],
                                                    [
                                                        0.7777777777777778,
                                                        "#fb9f3a"
                                                    ],
                                                    [
                                                        0.8888888888888888,
                                                        "#fdca26"
                                                    ],
                                                    [
                                                        1,
                                                        "#f0f921"
                                                    ]
                                                ],
                                                "type": "heatmapgl"
                                            }
                                        ],
                                        "histogram": [
                                            {
                                                "marker": {
                                                    "colorbar": {
                                                        "outlinewidth": 0,
                                                        "ticks": ""
                                                    }
                                                },
                                                "type": "histogram"
                                            }
                                        ],
                                        "histogram2d": [
                                            {
                                                "colorbar": {
                                                    "outlinewidth": 0,
                                                    "ticks": ""
                                                },
                                                "colorscale": [
                                                    [
                                                        0,
                                                        "#0d0887"
                                                    ],
                                                    [
                                                        0.1111111111111111,
                                                        "#46039f"
                                                    ],
                                                    [
                                                        0.2222222222222222,
                                                        "#7201a8"
                                                    ],
                                                    [
                                                        0.3333333333333333,
                                                        "#9c179e"
                                                    ],
                                                    [
                                                        0.4444444444444444,
                                                        "#bd3786"
                                                    ],
                                                    [
                                                        0.5555555555555556,
                                                        "#d8576b"
                                                    ],
                                                    [
                                                        0.6666666666666666,
                                                        "#ed7953"
                                                    ],
                                                    [
                                                        0.7777777777777778,
                                                        "#fb9f3a"
                                                    ],
                                                    [
                                                        0.8888888888888888,
                                                        "#fdca26"
                                                    ],
                                                    [
                                                        1,
                                                        "#f0f921"
                                                    ]
                                                ],
                                                "type": "histogram2d"
                                            }
                                        ],
                                        "histogram2dcontour": [
                                            {
                                                "colorbar": {
                                                    "outlinewidth": 0,
                                                    "ticks": ""
                                                },
                                                "colorscale": [
                                                    [
                                                        0,
                                                        "#0d0887"
                                                    ],
                                                    [
                                                        0.1111111111111111,
                                                        "#46039f"
                                                    ],
                                                    [
                                                        0.2222222222222222,
                                                        "#7201a8"
                                                    ],
                                                    [
                                                        0.3333333333333333,
                                                        "#9c179e"
                                                    ],
                                                    [
                                                        0.4444444444444444,
                                                        "#bd3786"
                                                    ],
                                                    [
                                                        0.5555555555555556,
                                                        "#d8576b"
                                                    ],
                                                    [
                                                        0.6666666666666666,
                                                        "#ed7953"
                                                    ],
                                                    [
                                                        0.7777777777777778,
                                                        "#fb9f3a"
                                                    ],
                                                    [
                                                        0.8888888888888888,
                                                        "#fdca26"
                                                    ],
                                                    [
                                                        1,
                                                        "#f0f921"
                                                    ]
                                                ],
                                                "type": "histogram2dcontour"
                                            }
                                        ],
                                        "mesh3d": [
                                            {
                                                "colorbar": {
                                                    "outlinewidth": 0,
                                                    "ticks": ""
                                                },
                                                "type": "mesh3d"
                                            }
                                        ],
                                        "parcoords": [
                                            {
                                                "line": {
                                                    "colorbar": {
                                                        "outlinewidth": 0,
                                                        "ticks": ""
                                                    }
                                                },
                                                "type": "parcoords"
                                            }
                                        ],
                                        "pie": [
                                            {
                                                "automargin": true,
                                                "type": "pie"
                                            }
                                        ],
                                        "scatter": [
                                            {
                                                "marker": {
                                                    "colorbar": {
                                                        "outlinewidth": 0,
                                                        "ticks": ""
                                                    }
                                                },
                                                "type": "scatter"
                                            }
                                        ],
                                        "scatter3d": [
                                            {
                                                "line": {
                                                    "colorbar": {
                                                        "outlinewidth": 0,
                                                        "ticks": ""
                                                    }
                                                },
                                                "marker": {
                                                    "colorbar": {
                                                        "outlinewidth": 0,
                                                        "ticks": ""
                                                    }
                                                },
                                                "type": "scatter3d"
                                            }
                                        ],
                                        "scattercarpet": [
                                            {
                                                "marker": {
                                                    "colorbar": {
                                                        "outlinewidth": 0,
                                                        "ticks": ""
                                                    }
                                                },
                                                "type": "scattercarpet"
                                            }
                                        ],
                                        "scattergeo": [
                                            {
                                                "marker": {
                                                    "colorbar": {
                                                        "outlinewidth": 0,
                                                        "ticks": ""
                                                    }
                                                },
                                                "type": "scattergeo"
                                            }
                                        ],
                                        "scattergl": [
                                            {
                                                "marker": {
                                                    "colorbar": {
                                                        "outlinewidth": 0,
                                                        "ticks": ""
                                                    }
                                                },
                                                "type": "scattergl"
                                            }
                                        ],
                                        "scattermapbox": [
                                            {
                                                "marker": {
                                                    "colorbar": {
                                                        "outlinewidth": 0,
                                                        "ticks": ""
                                                    }
                                                },
                                                "type": "scattermapbox"
                                            }
                                        ],
                                        "scatterpolar": [
                                            {
                                                "marker": {
                                                    "colorbar": {
                                                        "outlinewidth": 0,
                                                        "ticks": ""
                                                    }
                                                },
                                                "type": "scatterpolar"
                                            }
                                        ],
                                        "scatterpolargl": [
                                            {
                                                "marker": {
                                                    "colorbar": {
                                                        "outlinewidth": 0,
                                                        "ticks": ""
                                                    }
                                                },
                                                "type": "scatterpolargl"
                                            }
                                        ],
                                        "scatterternary": [
                                            {
                                                "marker": {
                                                    "colorbar": {
                                                        "outlinewidth": 0,
                                                        "ticks": ""
                                                    }
                                                },
                                                "type": "scatterternary"
                                            }
                                        ],
                                        "surface": [
                                            {
                                                "colorbar": {
                                                    "outlinewidth": 0,
                                                    "ticks": ""
                                                },
                                                "colorscale": [
                                                    [
                                                        0,
                                                        "#0d0887"
                                                    ],
                                                    [
                                                        0.1111111111111111,
                                                        "#46039f"
                                                    ],
                                                    [
                                                        0.2222222222222222,
                                                        "#7201a8"
                                                    ],
                                                    [
                                                        0.3333333333333333,
                                                        "#9c179e"
                                                    ],
                                                    [
                                                        0.4444444444444444,
                                                        "#bd3786"
                                                    ],
                                                    [
                                                        0.5555555555555556,
                                                        "#d8576b"
                                                    ],
                                                    [
                                                        0.6666666666666666,
                                                        "#ed7953"
                                                    ],
                                                    [
                                                        0.7777777777777778,
                                                        "#fb9f3a"
                                                    ],
                                                    [
                                                        0.8888888888888888,
                                                        "#fdca26"
                                                    ],
                                                    [
                                                        1,
                                                        "#f0f921"
                                                    ]
                                                ],
                                                "type": "surface"
                                            }
                                        ],
                                        "table": [
                                            {
                                                "cells": {
                                                    "fill": {
                                                        "color": "#EBF0F8"
                                                    },
                                                    "line": {
                                                        "color": "white"
                                                    }
                                                },
                                                "header": {
                                                    "fill": {
                                                        "color": "#C8D4E3"
                                                    },
                                                    "line": {
                                                        "color": "white"
                                                    }
                                                },
                                                "type": "table"
                                            }
                                        ]
                                    },
                                    "layout": {
                                        "annotationdefaults": {
                                            "arrowcolor": "#2a3f5f",
                                            "arrowhead": 0,
                                            "arrowwidth": 1
                                        },
                                        "autotypenumbers": "strict",
                                        "coloraxis": {
                                            "colorbar": {
                                                "outlinewidth": 0,
                                                "ticks": ""
                                            }
                                        },
                                        "colorscale": {
                                            "diverging": [
                                                [
                                                    0,
                                                    "#8e0152"
                                                ],
                                                [
                                                    0.1,
                                                    "#c51b7d"
                                                ],
                                                [
                                                    0.2,
                                                    "#de77ae"
                                                ],
                                                [
                                                    0.3,
                                                    "#f1b6da"
                                                ],
                                                [
                                                    0.4,
                                                    "#fde0ef"
                                                ],
                                                [
                                                    0.5,
                                                    "#f7f7f7"
                                                ],
                                                [
                                                    0.6,
                                                    "#e6f5d0"
                                                ],
                                                [
                                                    0.7,
                                                    "#b8e186"
                                                ],
                                                [
                                                    0.8,
                                                    "#7fbc41"
                                                ],
                                                [
                                                    0.9,
                                                    "#4d9221"
                                                ],
                                                [
                                                    1,
                                                    "#276419"
                                                ]
                                            ],
                                            "sequential": [
                                                [
                                                    0,
                                                    "#0d0887"
                                                ],
                                                [
                                                    0.1111111111111111,
                                                    "#46039f"
                                                ],
                                                [
                                                    0.2222222222222222,
                                                    "#7201a8"
                                                ],
                                                [
                                                    0.3333333333333333,
                                                    "#9c179e"
                                                ],
                                                [
                                                    0.4444444444444444,
                                                    "#bd3786"
                                                ],
                                                [
                                                    0.5555555555555556,
                                                    "#d8576b"
                                                ],
                                                [
                                                    0.6666666666666666,
                                                    "#ed7953"
                                                ],
                                                [
                                                    0.7777777777777778,
                                                    "#fb9f3a"
                                                ],
                                                [
                                                    0.8888888888888888,
                                                    "#fdca26"
                                                ],
                                                [
                                                    1,
                                                    "#f0f921"
                                                ]
                                            ],
                                            "sequentialminus": [
                                                [
                                                    0,
                                                    "#0d0887"
                                                ],
                                                [
                                                    0.1111111111111111,
                                                    "#46039f"
                                                ],
                                                [
                                                    0.2222222222222222,
                                                    "#7201a8"
                                                ],
                                                [
                                                    0.3333333333333333,
                                                    "#9c179e"
                                                ],
                                                [
                                                    0.4444444444444444,
                                                    "#bd3786"
                                                ],
                                                [
                                                    0.5555555555555556,
                                                    "#d8576b"
                                                ],
                                                [
                                                    0.6666666666666666,
                                                    "#ed7953"
                                                ],
                                                [
                                                    0.7777777777777778,
                                                    "#fb9f3a"
                                                ],
                                                [
                                                    0.8888888888888888,
                                                    "#fdca26"
                                                ],
                                                [
                                                    1,
                                                    "#f0f921"
                                                ]
                                            ]
                                        },
                                        "colorway": [
                                            "#636efa",
                                            "#EF553B",
                                            "#00cc96",
                                            "#ab63fa",
                                            "#FFA15A",
                                            "#19d3f3",
                                            "#FF6692",
                                            "#B6E880",
                                            "#FF97FF",
                                            "#FECB52"
                                        ],
                                        "font": {
                                            "color": "#2a3f5f"
                                        },
                                        "geo": {
                                            "bgcolor": "white",
                                            "lakecolor": "white",
                                            "landcolor": "#E5ECF6",
                                            "showlakes": true,
                                            "showland": true,
                                            "subunitcolor": "white"
                                        },
                                        "hoverlabel": {
                                            "align": "left"
                                        },
                                        "hovermode": "closest",
                                        "mapbox": {
                                            "style": "light"
                                        },
                                        "paper_bgcolor": "white",
                                        "plot_bgcolor": "#E5ECF6",
                                        "polar": {
                                            "angularaxis": {
                                                "gridcolor": "white",
                                                "linecolor": "white",
                                                "ticks": ""
                                            },
                                            "bgcolor": "#E5ECF6",
                                            "radialaxis": {
                                                "gridcolor": "white",
                                                "linecolor": "white",
                                                "ticks": ""
                                            }
                                        },
                                        "scene": {
                                            "xaxis": {
                                                "backgroundcolor": "#E5ECF6",
                                                "gridcolor": "white",
                                                "gridwidth": 2,
                                                "linecolor": "white",
                                                "showbackground": true,
                                                "ticks": "",
                                                "zerolinecolor": "white"
                                            },
                                            "yaxis": {
                                                "backgroundcolor": "#E5ECF6",
                                                "gridcolor": "white",
                                                "gridwidth": 2,
                                                "linecolor": "white",
                                                "showbackground": true,
                                                "ticks": "",
                                                "zerolinecolor": "white"
                                            },
                                            "zaxis": {
                                                "backgroundcolor": "#E5ECF6",
                                                "gridcolor": "white",
                                                "gridwidth": 2,
                                                "linecolor": "white",
                                                "showbackground": true,
                                                "ticks": "",
                                                "zerolinecolor": "white"
                                            }
                                        },
                                        "shapedefaults": {
                                            "line": {
                                                "color": "#2a3f5f"
                                            }
                                        },
                                        "ternary": {
                                            "aaxis": {
                                                "gridcolor": "white",
                                                "linecolor": "white",
                                                "ticks": ""
                                            },
                                            "baxis": {
                                                "gridcolor": "white",
                                                "linecolor": "white",
                                                "ticks": ""
                                            },
                                            "bgcolor": "#E5ECF6",
                                            "caxis": {
                                                "gridcolor": "white",
                                                "linecolor": "white",
                                                "ticks": ""
                                            }
                                        },
                                        "title": {
                                            "x": 0.05
                                        },
                                        "xaxis": {
                                            "automargin": true,
                                            "gridcolor": "white",
                                            "linecolor": "white",
                                            "ticks": "",
                                            "title": {
                                                "standoff": 15
                                            },
                                            "zerolinecolor": "white",
                                            "zerolinewidth": 2
                                        },
                                        "yaxis": {
                                            "automargin": true,
                                            "gridcolor": "white",
                                            "linecolor": "white",
                                            "ticks": "",
                                            "title": {
                                                "standoff": 15
                                            },
                                            "zerolinecolor": "white",
                                            "zerolinewidth": 2
                                        }
                                    }
                                },
                                "xaxis": {
                                    "anchor": "y",
                                    "domain": [
                                        0,
                                        1
                                    ],
                                    "title": {
                                        "text": "Date"
                                    }
                                },
                                "yaxis": {
                                    "anchor": "x",
                                    "domain": [
                                        0,
                                        1
                                    ],
                                    "title": {
                                        "text": "Open"
                                    }
                                }
                            }
                        }
                    },
                    "metadata": {}
                }
            ],
            "metadata": {}
        },
        {
            "cell_type": "code",
            "execution_count": 81,
            "source": [
                "fig2"
            ],
            "outputs": [
                {
                    "output_type": "display_data",
                    "data": {
                        "application/vnd.plotly.v1+json": {
                            "config": {
                                "plotlyServerURL": "https://plot.ly"
                            },
                            "data": [
                                {
                                    "alignmentgroup": "True",
                                    "hovertemplate": "ticker=BA<br>date=%{x}<br>value=%{y}<extra></extra>",
                                    "legendgroup": "BA",
                                    "marker": {
                                        "color": "#636efa"
                                    },
                                    "name": "BA",
                                    "offsetgroup": "BA",
                                    "orientation": "v",
                                    "showlegend": true,
                                    "textposition": "auto",
                                    "type": "bar",
                                    "x": [
                                        "2021-07-14",
                                        "2021-07-15",
                                        "2021-07-16",
                                        "2021-07-17",
                                        "2021-07-19",
                                        "2021-07-20",
                                        "2021-07-21",
                                        "2021-07-22",
                                        "2021-07-25",
                                        "2021-07-26",
                                        "2021-07-27",
                                        "2021-07-28"
                                    ],
                                    "xaxis": "x",
                                    "y": [
                                        0.26630000000000004,
                                        -0.05356666666666665,
                                        0.3081,
                                        0.1726,
                                        -0.2198625,
                                        0.08760000000000001,
                                        0.010125000000000023,
                                        0.40675,
                                        0.008350000000000024,
                                        0.049249999999999995,
                                        -0.04944444444444444,
                                        0.06171666666666667
                                    ],
                                    "yaxis": "y"
                                },
                                {
                                    "alignmentgroup": "True",
                                    "hovertemplate": "ticker=TSLA<br>date=%{x}<br>value=%{y}<extra></extra>",
                                    "legendgroup": "TSLA",
                                    "marker": {
                                        "color": "#EF553B"
                                    },
                                    "name": "TSLA",
                                    "offsetgroup": "TSLA",
                                    "orientation": "v",
                                    "showlegend": true,
                                    "textposition": "auto",
                                    "type": "bar",
                                    "x": [
                                        "2021-07-14",
                                        "2021-07-15",
                                        "2021-07-16",
                                        "2021-07-17",
                                        "2021-07-19",
                                        "2021-07-20",
                                        "2021-07-21",
                                        "2021-07-22",
                                        "2021-07-25",
                                        "2021-07-26",
                                        "2021-07-27",
                                        "2021-07-28"
                                    ],
                                    "xaxis": "x",
                                    "y": [
                                        null,
                                        null,
                                        null,
                                        null,
                                        null,
                                        null,
                                        null,
                                        null,
                                        null,
                                        0.07526000000000001,
                                        0.049492682926829276,
                                        0.16184583333333333
                                    ],
                                    "yaxis": "y"
                                }
                            ],
                            "layout": {
                                "barmode": "group",
                                "legend": {
                                    "title": {
                                        "text": "ticker"
                                    },
                                    "tracegroupgap": 0
                                },
                                "template": {
                                    "data": {
                                        "bar": [
                                            {
                                                "error_x": {
                                                    "color": "#2a3f5f"
                                                },
                                                "error_y": {
                                                    "color": "#2a3f5f"
                                                },
                                                "marker": {
                                                    "line": {
                                                        "color": "#E5ECF6",
                                                        "width": 0.5
                                                    }
                                                },
                                                "type": "bar"
                                            }
                                        ],
                                        "barpolar": [
                                            {
                                                "marker": {
                                                    "line": {
                                                        "color": "#E5ECF6",
                                                        "width": 0.5
                                                    }
                                                },
                                                "type": "barpolar"
                                            }
                                        ],
                                        "carpet": [
                                            {
                                                "aaxis": {
                                                    "endlinecolor": "#2a3f5f",
                                                    "gridcolor": "white",
                                                    "linecolor": "white",
                                                    "minorgridcolor": "white",
                                                    "startlinecolor": "#2a3f5f"
                                                },
                                                "baxis": {
                                                    "endlinecolor": "#2a3f5f",
                                                    "gridcolor": "white",
                                                    "linecolor": "white",
                                                    "minorgridcolor": "white",
                                                    "startlinecolor": "#2a3f5f"
                                                },
                                                "type": "carpet"
                                            }
                                        ],
                                        "choropleth": [
                                            {
                                                "colorbar": {
                                                    "outlinewidth": 0,
                                                    "ticks": ""
                                                },
                                                "type": "choropleth"
                                            }
                                        ],
                                        "contour": [
                                            {
                                                "colorbar": {
                                                    "outlinewidth": 0,
                                                    "ticks": ""
                                                },
                                                "colorscale": [
                                                    [
                                                        0,
                                                        "#0d0887"
                                                    ],
                                                    [
                                                        0.1111111111111111,
                                                        "#46039f"
                                                    ],
                                                    [
                                                        0.2222222222222222,
                                                        "#7201a8"
                                                    ],
                                                    [
                                                        0.3333333333333333,
                                                        "#9c179e"
                                                    ],
                                                    [
                                                        0.4444444444444444,
                                                        "#bd3786"
                                                    ],
                                                    [
                                                        0.5555555555555556,
                                                        "#d8576b"
                                                    ],
                                                    [
                                                        0.6666666666666666,
                                                        "#ed7953"
                                                    ],
                                                    [
                                                        0.7777777777777778,
                                                        "#fb9f3a"
                                                    ],
                                                    [
                                                        0.8888888888888888,
                                                        "#fdca26"
                                                    ],
                                                    [
                                                        1,
                                                        "#f0f921"
                                                    ]
                                                ],
                                                "type": "contour"
                                            }
                                        ],
                                        "contourcarpet": [
                                            {
                                                "colorbar": {
                                                    "outlinewidth": 0,
                                                    "ticks": ""
                                                },
                                                "type": "contourcarpet"
                                            }
                                        ],
                                        "heatmap": [
                                            {
                                                "colorbar": {
                                                    "outlinewidth": 0,
                                                    "ticks": ""
                                                },
                                                "colorscale": [
                                                    [
                                                        0,
                                                        "#0d0887"
                                                    ],
                                                    [
                                                        0.1111111111111111,
                                                        "#46039f"
                                                    ],
                                                    [
                                                        0.2222222222222222,
                                                        "#7201a8"
                                                    ],
                                                    [
                                                        0.3333333333333333,
                                                        "#9c179e"
                                                    ],
                                                    [
                                                        0.4444444444444444,
                                                        "#bd3786"
                                                    ],
                                                    [
                                                        0.5555555555555556,
                                                        "#d8576b"
                                                    ],
                                                    [
                                                        0.6666666666666666,
                                                        "#ed7953"
                                                    ],
                                                    [
                                                        0.7777777777777778,
                                                        "#fb9f3a"
                                                    ],
                                                    [
                                                        0.8888888888888888,
                                                        "#fdca26"
                                                    ],
                                                    [
                                                        1,
                                                        "#f0f921"
                                                    ]
                                                ],
                                                "type": "heatmap"
                                            }
                                        ],
                                        "heatmapgl": [
                                            {
                                                "colorbar": {
                                                    "outlinewidth": 0,
                                                    "ticks": ""
                                                },
                                                "colorscale": [
                                                    [
                                                        0,
                                                        "#0d0887"
                                                    ],
                                                    [
                                                        0.1111111111111111,
                                                        "#46039f"
                                                    ],
                                                    [
                                                        0.2222222222222222,
                                                        "#7201a8"
                                                    ],
                                                    [
                                                        0.3333333333333333,
                                                        "#9c179e"
                                                    ],
                                                    [
                                                        0.4444444444444444,
                                                        "#bd3786"
                                                    ],
                                                    [
                                                        0.5555555555555556,
                                                        "#d8576b"
                                                    ],
                                                    [
                                                        0.6666666666666666,
                                                        "#ed7953"
                                                    ],
                                                    [
                                                        0.7777777777777778,
                                                        "#fb9f3a"
                                                    ],
                                                    [
                                                        0.8888888888888888,
                                                        "#fdca26"
                                                    ],
                                                    [
                                                        1,
                                                        "#f0f921"
                                                    ]
                                                ],
                                                "type": "heatmapgl"
                                            }
                                        ],
                                        "histogram": [
                                            {
                                                "marker": {
                                                    "colorbar": {
                                                        "outlinewidth": 0,
                                                        "ticks": ""
                                                    }
                                                },
                                                "type": "histogram"
                                            }
                                        ],
                                        "histogram2d": [
                                            {
                                                "colorbar": {
                                                    "outlinewidth": 0,
                                                    "ticks": ""
                                                },
                                                "colorscale": [
                                                    [
                                                        0,
                                                        "#0d0887"
                                                    ],
                                                    [
                                                        0.1111111111111111,
                                                        "#46039f"
                                                    ],
                                                    [
                                                        0.2222222222222222,
                                                        "#7201a8"
                                                    ],
                                                    [
                                                        0.3333333333333333,
                                                        "#9c179e"
                                                    ],
                                                    [
                                                        0.4444444444444444,
                                                        "#bd3786"
                                                    ],
                                                    [
                                                        0.5555555555555556,
                                                        "#d8576b"
                                                    ],
                                                    [
                                                        0.6666666666666666,
                                                        "#ed7953"
                                                    ],
                                                    [
                                                        0.7777777777777778,
                                                        "#fb9f3a"
                                                    ],
                                                    [
                                                        0.8888888888888888,
                                                        "#fdca26"
                                                    ],
                                                    [
                                                        1,
                                                        "#f0f921"
                                                    ]
                                                ],
                                                "type": "histogram2d"
                                            }
                                        ],
                                        "histogram2dcontour": [
                                            {
                                                "colorbar": {
                                                    "outlinewidth": 0,
                                                    "ticks": ""
                                                },
                                                "colorscale": [
                                                    [
                                                        0,
                                                        "#0d0887"
                                                    ],
                                                    [
                                                        0.1111111111111111,
                                                        "#46039f"
                                                    ],
                                                    [
                                                        0.2222222222222222,
                                                        "#7201a8"
                                                    ],
                                                    [
                                                        0.3333333333333333,
                                                        "#9c179e"
                                                    ],
                                                    [
                                                        0.4444444444444444,
                                                        "#bd3786"
                                                    ],
                                                    [
                                                        0.5555555555555556,
                                                        "#d8576b"
                                                    ],
                                                    [
                                                        0.6666666666666666,
                                                        "#ed7953"
                                                    ],
                                                    [
                                                        0.7777777777777778,
                                                        "#fb9f3a"
                                                    ],
                                                    [
                                                        0.8888888888888888,
                                                        "#fdca26"
                                                    ],
                                                    [
                                                        1,
                                                        "#f0f921"
                                                    ]
                                                ],
                                                "type": "histogram2dcontour"
                                            }
                                        ],
                                        "mesh3d": [
                                            {
                                                "colorbar": {
                                                    "outlinewidth": 0,
                                                    "ticks": ""
                                                },
                                                "type": "mesh3d"
                                            }
                                        ],
                                        "parcoords": [
                                            {
                                                "line": {
                                                    "colorbar": {
                                                        "outlinewidth": 0,
                                                        "ticks": ""
                                                    }
                                                },
                                                "type": "parcoords"
                                            }
                                        ],
                                        "pie": [
                                            {
                                                "automargin": true,
                                                "type": "pie"
                                            }
                                        ],
                                        "scatter": [
                                            {
                                                "marker": {
                                                    "colorbar": {
                                                        "outlinewidth": 0,
                                                        "ticks": ""
                                                    }
                                                },
                                                "type": "scatter"
                                            }
                                        ],
                                        "scatter3d": [
                                            {
                                                "line": {
                                                    "colorbar": {
                                                        "outlinewidth": 0,
                                                        "ticks": ""
                                                    }
                                                },
                                                "marker": {
                                                    "colorbar": {
                                                        "outlinewidth": 0,
                                                        "ticks": ""
                                                    }
                                                },
                                                "type": "scatter3d"
                                            }
                                        ],
                                        "scattercarpet": [
                                            {
                                                "marker": {
                                                    "colorbar": {
                                                        "outlinewidth": 0,
                                                        "ticks": ""
                                                    }
                                                },
                                                "type": "scattercarpet"
                                            }
                                        ],
                                        "scattergeo": [
                                            {
                                                "marker": {
                                                    "colorbar": {
                                                        "outlinewidth": 0,
                                                        "ticks": ""
                                                    }
                                                },
                                                "type": "scattergeo"
                                            }
                                        ],
                                        "scattergl": [
                                            {
                                                "marker": {
                                                    "colorbar": {
                                                        "outlinewidth": 0,
                                                        "ticks": ""
                                                    }
                                                },
                                                "type": "scattergl"
                                            }
                                        ],
                                        "scattermapbox": [
                                            {
                                                "marker": {
                                                    "colorbar": {
                                                        "outlinewidth": 0,
                                                        "ticks": ""
                                                    }
                                                },
                                                "type": "scattermapbox"
                                            }
                                        ],
                                        "scatterpolar": [
                                            {
                                                "marker": {
                                                    "colorbar": {
                                                        "outlinewidth": 0,
                                                        "ticks": ""
                                                    }
                                                },
                                                "type": "scatterpolar"
                                            }
                                        ],
                                        "scatterpolargl": [
                                            {
                                                "marker": {
                                                    "colorbar": {
                                                        "outlinewidth": 0,
                                                        "ticks": ""
                                                    }
                                                },
                                                "type": "scatterpolargl"
                                            }
                                        ],
                                        "scatterternary": [
                                            {
                                                "marker": {
                                                    "colorbar": {
                                                        "outlinewidth": 0,
                                                        "ticks": ""
                                                    }
                                                },
                                                "type": "scatterternary"
                                            }
                                        ],
                                        "surface": [
                                            {
                                                "colorbar": {
                                                    "outlinewidth": 0,
                                                    "ticks": ""
                                                },
                                                "colorscale": [
                                                    [
                                                        0,
                                                        "#0d0887"
                                                    ],
                                                    [
                                                        0.1111111111111111,
                                                        "#46039f"
                                                    ],
                                                    [
                                                        0.2222222222222222,
                                                        "#7201a8"
                                                    ],
                                                    [
                                                        0.3333333333333333,
                                                        "#9c179e"
                                                    ],
                                                    [
                                                        0.4444444444444444,
                                                        "#bd3786"
                                                    ],
                                                    [
                                                        0.5555555555555556,
                                                        "#d8576b"
                                                    ],
                                                    [
                                                        0.6666666666666666,
                                                        "#ed7953"
                                                    ],
                                                    [
                                                        0.7777777777777778,
                                                        "#fb9f3a"
                                                    ],
                                                    [
                                                        0.8888888888888888,
                                                        "#fdca26"
                                                    ],
                                                    [
                                                        1,
                                                        "#f0f921"
                                                    ]
                                                ],
                                                "type": "surface"
                                            }
                                        ],
                                        "table": [
                                            {
                                                "cells": {
                                                    "fill": {
                                                        "color": "#EBF0F8"
                                                    },
                                                    "line": {
                                                        "color": "white"
                                                    }
                                                },
                                                "header": {
                                                    "fill": {
                                                        "color": "#C8D4E3"
                                                    },
                                                    "line": {
                                                        "color": "white"
                                                    }
                                                },
                                                "type": "table"
                                            }
                                        ]
                                    },
                                    "layout": {
                                        "annotationdefaults": {
                                            "arrowcolor": "#2a3f5f",
                                            "arrowhead": 0,
                                            "arrowwidth": 1
                                        },
                                        "autotypenumbers": "strict",
                                        "coloraxis": {
                                            "colorbar": {
                                                "outlinewidth": 0,
                                                "ticks": ""
                                            }
                                        },
                                        "colorscale": {
                                            "diverging": [
                                                [
                                                    0,
                                                    "#8e0152"
                                                ],
                                                [
                                                    0.1,
                                                    "#c51b7d"
                                                ],
                                                [
                                                    0.2,
                                                    "#de77ae"
                                                ],
                                                [
                                                    0.3,
                                                    "#f1b6da"
                                                ],
                                                [
                                                    0.4,
                                                    "#fde0ef"
                                                ],
                                                [
                                                    0.5,
                                                    "#f7f7f7"
                                                ],
                                                [
                                                    0.6,
                                                    "#e6f5d0"
                                                ],
                                                [
                                                    0.7,
                                                    "#b8e186"
                                                ],
                                                [
                                                    0.8,
                                                    "#7fbc41"
                                                ],
                                                [
                                                    0.9,
                                                    "#4d9221"
                                                ],
                                                [
                                                    1,
                                                    "#276419"
                                                ]
                                            ],
                                            "sequential": [
                                                [
                                                    0,
                                                    "#0d0887"
                                                ],
                                                [
                                                    0.1111111111111111,
                                                    "#46039f"
                                                ],
                                                [
                                                    0.2222222222222222,
                                                    "#7201a8"
                                                ],
                                                [
                                                    0.3333333333333333,
                                                    "#9c179e"
                                                ],
                                                [
                                                    0.4444444444444444,
                                                    "#bd3786"
                                                ],
                                                [
                                                    0.5555555555555556,
                                                    "#d8576b"
                                                ],
                                                [
                                                    0.6666666666666666,
                                                    "#ed7953"
                                                ],
                                                [
                                                    0.7777777777777778,
                                                    "#fb9f3a"
                                                ],
                                                [
                                                    0.8888888888888888,
                                                    "#fdca26"
                                                ],
                                                [
                                                    1,
                                                    "#f0f921"
                                                ]
                                            ],
                                            "sequentialminus": [
                                                [
                                                    0,
                                                    "#0d0887"
                                                ],
                                                [
                                                    0.1111111111111111,
                                                    "#46039f"
                                                ],
                                                [
                                                    0.2222222222222222,
                                                    "#7201a8"
                                                ],
                                                [
                                                    0.3333333333333333,
                                                    "#9c179e"
                                                ],
                                                [
                                                    0.4444444444444444,
                                                    "#bd3786"
                                                ],
                                                [
                                                    0.5555555555555556,
                                                    "#d8576b"
                                                ],
                                                [
                                                    0.6666666666666666,
                                                    "#ed7953"
                                                ],
                                                [
                                                    0.7777777777777778,
                                                    "#fb9f3a"
                                                ],
                                                [
                                                    0.8888888888888888,
                                                    "#fdca26"
                                                ],
                                                [
                                                    1,
                                                    "#f0f921"
                                                ]
                                            ]
                                        },
                                        "colorway": [
                                            "#636efa",
                                            "#EF553B",
                                            "#00cc96",
                                            "#ab63fa",
                                            "#FFA15A",
                                            "#19d3f3",
                                            "#FF6692",
                                            "#B6E880",
                                            "#FF97FF",
                                            "#FECB52"
                                        ],
                                        "font": {
                                            "color": "#2a3f5f"
                                        },
                                        "geo": {
                                            "bgcolor": "white",
                                            "lakecolor": "white",
                                            "landcolor": "#E5ECF6",
                                            "showlakes": true,
                                            "showland": true,
                                            "subunitcolor": "white"
                                        },
                                        "hoverlabel": {
                                            "align": "left"
                                        },
                                        "hovermode": "closest",
                                        "mapbox": {
                                            "style": "light"
                                        },
                                        "paper_bgcolor": "white",
                                        "plot_bgcolor": "#E5ECF6",
                                        "polar": {
                                            "angularaxis": {
                                                "gridcolor": "white",
                                                "linecolor": "white",
                                                "ticks": ""
                                            },
                                            "bgcolor": "#E5ECF6",
                                            "radialaxis": {
                                                "gridcolor": "white",
                                                "linecolor": "white",
                                                "ticks": ""
                                            }
                                        },
                                        "scene": {
                                            "xaxis": {
                                                "backgroundcolor": "#E5ECF6",
                                                "gridcolor": "white",
                                                "gridwidth": 2,
                                                "linecolor": "white",
                                                "showbackground": true,
                                                "ticks": "",
                                                "zerolinecolor": "white"
                                            },
                                            "yaxis": {
                                                "backgroundcolor": "#E5ECF6",
                                                "gridcolor": "white",
                                                "gridwidth": 2,
                                                "linecolor": "white",
                                                "showbackground": true,
                                                "ticks": "",
                                                "zerolinecolor": "white"
                                            },
                                            "zaxis": {
                                                "backgroundcolor": "#E5ECF6",
                                                "gridcolor": "white",
                                                "gridwidth": 2,
                                                "linecolor": "white",
                                                "showbackground": true,
                                                "ticks": "",
                                                "zerolinecolor": "white"
                                            }
                                        },
                                        "shapedefaults": {
                                            "line": {
                                                "color": "#2a3f5f"
                                            }
                                        },
                                        "ternary": {
                                            "aaxis": {
                                                "gridcolor": "white",
                                                "linecolor": "white",
                                                "ticks": ""
                                            },
                                            "baxis": {
                                                "gridcolor": "white",
                                                "linecolor": "white",
                                                "ticks": ""
                                            },
                                            "bgcolor": "#E5ECF6",
                                            "caxis": {
                                                "gridcolor": "white",
                                                "linecolor": "white",
                                                "ticks": ""
                                            }
                                        },
                                        "title": {
                                            "x": 0.05
                                        },
                                        "xaxis": {
                                            "automargin": true,
                                            "gridcolor": "white",
                                            "linecolor": "white",
                                            "ticks": "",
                                            "title": {
                                                "standoff": 15
                                            },
                                            "zerolinecolor": "white",
                                            "zerolinewidth": 2
                                        },
                                        "yaxis": {
                                            "automargin": true,
                                            "gridcolor": "white",
                                            "linecolor": "white",
                                            "ticks": "",
                                            "title": {
                                                "standoff": 15
                                            },
                                            "zerolinecolor": "white",
                                            "zerolinewidth": 2
                                        }
                                    }
                                },
                                "title": {
                                    "text": "Compound sentiment scores of news aticles"
                                },
                                "xaxis": {
                                    "anchor": "y",
                                    "domain": [
                                        0,
                                        1
                                    ],
                                    "title": {
                                        "text": "date"
                                    }
                                },
                                "yaxis": {
                                    "anchor": "x",
                                    "domain": [
                                        0,
                                        1
                                    ],
                                    "title": {
                                        "text": "value"
                                    }
                                }
                            }
                        }
                    },
                    "metadata": {}
                }
            ],
            "metadata": {}
        },
        {
            "cell_type": "code",
            "execution_count": null,
            "source": [],
            "outputs": [],
            "metadata": {}
        },
        {
            "cell_type": "code",
            "execution_count": 82,
            "source": [
                "\r\n",
                "# doesnot work?????\r\n",
                "# fig = go.Figure()\r\n",
                "# stock = (yf.Ticker(ticker)).history(period= \"7d\", interval = \"1d\").reset_index()\r\n",
                "# fig.add_trace(\r\n",
                "#     go.Scatter(\r\n",
                "#         stock, x='Datetime', y=\"Open\", title=\"Price movement\"\r\n",
                "#     ))"
            ],
            "outputs": [],
            "metadata": {}
        }
    ],
    "metadata": {
        "orig_nbformat": 4,
        "language_info": {
            "name": "python",
            "version": "3.8.10",
            "mimetype": "text/x-python",
            "codemirror_mode": {
                "name": "ipython",
                "version": 3
            },
            "pygments_lexer": "ipython3",
            "nbconvert_exporter": "python",
            "file_extension": ".py"
        },
        "kernelspec": {
            "name": "python3",
            "display_name": "Python 3.8.10 64-bit ('project3': conda)"
        },
        "interpreter": {
            "hash": "5d4c6269effcd4d3ef5f9a2e39285257dbec2e7fbb3a11a1f54b6b1fe87dc19e"
        }
    },
    "nbformat": 4,
    "nbformat_minor": 2
}