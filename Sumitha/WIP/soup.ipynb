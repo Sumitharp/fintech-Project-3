{
 "cells": [
  {
   "cell_type": "code",
   "execution_count": 28,
   "source": [
    "from urllib.request import urlopen, Request\r\n",
    "from bs4 import BeautifulSoup\r\n",
    "import os\r\n",
    "import pandas as pd\r\n",
    "import matplotlib.pyplot as plt\r\n",
    "%matplotlib inline\r\n",
    "# NLTK VADER for sentiment analysis\r\n",
    "from nltk.sentiment.vader import SentimentIntensityAnalyzer\r\n",
    "\r\n",
    "finwiz_url = 'https://finviz.com/quote.ashx?t='"
   ],
   "outputs": [],
   "metadata": {}
  },
  {
   "cell_type": "code",
   "execution_count": 29,
   "source": [
    "news_tables = {}\r\n",
    "tickers = ['AMZN', 'TSLA', 'GOOG']\r\n",
    "\r\n",
    "for ticker in tickers:\r\n",
    "    url = finwiz_url + ticker\r\n",
    "    req = Request(url=url,headers={'User-Agent': 'Mozilla/5.0 (Windows NT 6.1; WOW64; rv:20.0) Gecko/20100101 Firefox/20.0'}) \r\n",
    "    response = urlopen(req)    \r\n",
    "    # Read the contents of the file into 'html'\r\n",
    "    html = BeautifulSoup(response)\r\n",
    "    # Find 'news-table' in the Soup and load it into 'news_table'\r\n",
    "    news_table = html.find(id='news-table')\r\n",
    "    # Add the table to our dictionary\r\n",
    "    news_tables[ticker] = news_table"
   ],
   "outputs": [],
   "metadata": {}
  },
  {
   "cell_type": "code",
   "execution_count": 30,
   "source": [
    "# Read one single day of headlines for 'AMZN' \r\n",
    "amzn = news_tables['AMZN']\r\n",
    "# Get all the table rows tagged in HTML with <tr> into 'amzn_tr'\r\n",
    "amzn_tr = amzn.findAll('tr')\r\n",
    "\r\n",
    "for i, table_row in enumerate(amzn_tr):\r\n",
    "    # Read the text of the element 'a' into 'link_text'\r\n",
    "    a_text = table_row.a.text\r\n",
    "    # Read the text of the element 'td' into 'data_text'\r\n",
    "    td_text = table_row.td.text\r\n",
    "    # Print the contents of 'link_text' and 'data_text' \r\n",
    "    print(a_text)\r\n",
    "    print(td_text)\r\n",
    "    # Exit after printing 4 rows of data\r\n",
    "    if i == 3:\r\n",
    "        break"
   ],
   "outputs": [
    {
     "output_type": "stream",
     "name": "stdout",
     "text": [
      "Why Virgin Galactic Stock Sank Today\n",
      "Jul-27-21 02:34PM  \n",
      "Why Crypto Stocks Plunged Today\n",
      "02:30PM  \n",
      "Is Kroger Stock A Buy Right Now? Here's What Earnings, Charts Show\n",
      "02:28PM  \n",
      "These Growth Stocks Are Bargains Because of 1 Unreasonable Fear\n",
      "02:24PM  \n"
     ]
    }
   ],
   "metadata": {}
  },
  {
   "cell_type": "code",
   "execution_count": 31,
   "source": [
    "parsed_news = []\r\n",
    "\r\n",
    "# Iterate through the news\r\n",
    "for file_name, news_table in news_tables.items():\r\n",
    "    # Iterate through all tr tags in 'news_table'\r\n",
    "    for x in news_table.findAll('tr'):\r\n",
    "        # read the text from each tr tag into text\r\n",
    "        # get text from a only\r\n",
    "        text = x.a.get_text() \r\n",
    "        # splite text in the td tag into a list \r\n",
    "        date_scrape = x.td.text.split()\r\n",
    "        # if the length of 'date_scrape' is 1, load 'time' as the only element\r\n",
    "\r\n",
    "        if len(date_scrape) == 1:\r\n",
    "            time = date_scrape[0]\r\n",
    "            \r\n",
    "        # else load 'date' as the 1st element and 'time' as the second    \r\n",
    "        else:\r\n",
    "            date = date_scrape[0]\r\n",
    "            time = date_scrape[1]\r\n",
    "        # Extract the ticker from the file name, get the string up to the 1st '_'  \r\n",
    "        ticker = file_name.split('_')[0]\r\n",
    "        \r\n",
    "        # Append ticker, date, time and headline as a list to the 'parsed_news' list\r\n",
    "        parsed_news.append([ticker, date, time, text])\r\n",
    "        \r\n",
    "parsed_news"
   ],
   "outputs": [
    {
     "output_type": "execute_result",
     "data": {
      "text/plain": [
       "[['AMZN', 'Jul-27-21', '02:34PM', 'Why Virgin Galactic Stock Sank Today'], ['AMZN', 'Jul-27-21', '02:30PM', 'Why Crypto Stocks Plunged Today'], ['AMZN', 'Jul-27-21', '02:28PM', \"Is Kroger Stock A Buy Right Now? Here's What Earnings, Charts Show\"], ['AMZN', 'Jul-27-21', '02:24PM', 'These Growth Stocks Are Bargains Because of 1 Unreasonable Fear'], ['AMZN', 'Jul-27-21', '02:00PM', 'Amazon Starts Trading in Canada With Depositary-Receipt Launch'], ['AMZN', 'Jul-27-21', '01:58PM', \"Intel CEO on the chip industry: You can't be a little player\"], ['AMZN', 'Jul-27-21', '12:54PM', 'We will be a leader in chips again: Intel CEO'], ['AMZN', 'Jul-27-21', '12:19PM', 'Amazon responds to bitcoin rumour that sent crypto market surging'], ['AMZN', 'Jul-27-21', '12:07PM', 'Bitcoin hovers around $38K as Amazon denies plans to accept the currency'], ['AMZN', 'Jul-27-21', '11:46AM', 'Better Buy: Sea Limited vs. Coupang'], ['AMZN', 'Jul-27-21', '11:45AM', 'Amazon Has Big News on Gaming and Digital Currency'], ['AMZN', 'Jul-27-21', '11:35AM', \"Bitcoin's wild price action\"], ['AMZN', 'Jul-27-21', '11:33AM', \"UPS Earnings Beat But Key Metrics Signal Boom Is Fading; Analyst Flags 'Biggest Risk'\"], ['AMZN', 'Jul-27-21', '10:30AM', 'Forget Amazon, Is GameStop Really Trying to Be the \"Best Buy of Gaming?\"'], ['AMZN', 'Jul-27-21', '10:21AM', 'Stock Split in the Stars for Amazon?'], ['AMZN', 'Jul-27-21', '10:05AM', \"Racing Towards The World's First Electric Pickup\"], ['AMZN', 'Jul-27-21', '09:59AM', 'This tool helps measure how climate friendly your 401(k) is  and dings Amazon.com for its fund offerings'], ['AMZN', 'Jul-27-21', '09:56AM', 'Amazon Q2 Earnings: Did Reopening Economies Hurt Sales?'], ['AMZN', 'Jul-27-21', '09:12AM', '/C O R R E C T I O N from Source -- Investment Industry Regulatory Organization of Canada (IIROC) - Halts/Resumptions/'], ['AMZN', 'Jul-27-21', '08:42AM', 'Will Amazon Accept Bitcoin Payments?'], ['AMZN', 'Jul-27-21', '08:26AM', \"Will Amazon's (AMZN) Q2 Earnings Benefit From AWS Momentum?\"], ['AMZN', 'Jul-27-21', '08:11AM', 'IIROC Trading Halt - AMZN'], ['AMZN', 'Jul-27-21', '07:27AM', '3 Stocks to Make the Most of the Bitcoin Rebound'], ['AMZN', 'Jul-27-21', '06:40AM', 'Bitcoin Steadies After Foray Past $40,000 on Amazon Speculation'], ['AMZN', 'Jul-27-21', '06:30AM', '\"Alexa, what can I ask Bianca Andreescu?\"'], ['AMZN', 'Jul-27-21', '06:07AM', \"Walmart's Flipkart goes to Indian Supreme Court in antitrust case-sources\"], ['AMZN', 'Jul-27-21', '06:03AM', \"Walmart's Flipkart goes to Indian Supreme Court in antitrust case - sources\"], ['AMZN', 'Jul-27-21', '05:30AM', 'Could a New CEO Lead to a Stock Split at Amazon?'], ['AMZN', 'Jul-27-21', '05:11AM', 'Options for Beginners: How Much Cash Do You Need?'], ['AMZN', 'Jul-27-21', '03:47AM', 'Bitcoin pulls back from highs as Amazon denies payment rumours'], ['AMZN', 'Jul-27-21', '01:25AM', 'Amazon eyes potential stake in Indian film, media businesses; Inox denies report'], ['AMZN', 'Jul-27-21', '12:55AM', 'Amazon eyes potential stake in Indian film, media businesses; Inox denies report'], ['AMZN', 'Jul-26-21', '11:35PM', 'Bitcoin Tumbles After Reaching $40,000 on Amazon Speculations'], ['AMZN', 'Jul-26-21', '08:05PM', 'Intel Pledges to Retake Innovation Crown, Changes Yardstick'], ['AMZN', 'Jul-26-21', '06:21PM', \"Here's Why Bitcoin, Ethereum, and Dogecoin Soared Today\"], ['AMZN', 'Jul-26-21', '05:52PM', 'Amazon denies report of accepting bitcoin as payment'], ['AMZN', 'Jul-26-21', '05:49PM', 'Amazon denies report of accepting bitcoin as payment'], ['AMZN', 'Jul-26-21', '05:11PM', 'Bitcoin Is Soaring on Bets That Amazon Will Go Crypto. Why the Rally Could Last.'], ['AMZN', 'Jul-26-21', '04:51PM', 'Microsoft Q4 earnings preview: Analysts expect a big cloud win'], ['AMZN', 'Jul-26-21', '04:20PM', 'Better Big Tech Buy Before Earnings: Shopify vs. Amazon'], ['AMZN', 'Jul-26-21', '04:12PM', 'Amazon Job Posting Hints at Plan to Accept Cryptocurrency'], ['AMZN', 'Jul-26-21', '03:56PM', 'MSFT Option Traders Optimistic Going Into Earnings'], ['AMZN', 'Jul-26-21', '03:54PM', 'The markets have rewarded Powell: Heritage Capital President'], ['AMZN', 'Jul-26-21', '03:35PM', 'AAPL Option Traders Enthusiastic Ahead of Earnings'], ['AMZN', 'Jul-26-21', '03:17PM', 'Bitcoin Is Soaring on Bets That Amazon Will Go Crypto. Why the Rally Could Last.'], ['AMZN', 'Jul-26-21', '01:51PM', 'Amazon earnings preview:  As shoppers increasingly head out of their homes, e-commerce sales could slow'], ['AMZN', 'Jul-26-21', '12:52PM', 'Amazon Inches Higher as Expectations Grow for an Earnings Blowout'], ['AMZN', 'Jul-26-21', '12:28PM', \"Amazon (AMZN) to Report Q2 Earnings: What's in the Cards?\"], ['AMZN', 'Jul-26-21', '12:16PM', 'Why Coinbase, MicroStrategy, and Other Bitcoin Stocks Rocketed Higher Today'], ['AMZN', 'Jul-26-21', '11:58AM', 'Stock Split Watch: Is Amazon Next?'], ['AMZN', 'Jul-26-21', '11:40AM', '6 ETFs in the Spotlight Ahead of Big Tech Q2 Earnings'], ['AMZN', 'Jul-26-21', '11:34AM', 'Tech earnings expected to grow into 2022: strategist'], ['AMZN', 'Jul-26-21', '11:30AM', 'Is Amazon.com (AMZN) Stock Outpacing Its Retail-Wholesale Peers This Year?'], ['AMZN', 'Jul-26-21', '11:16AM', 'Big tech earnings on tap, Federal Reserve decision this week'], ['AMZN', 'Jul-26-21', '10:49AM', 'The two-year path back to normal'], ['AMZN', 'Jul-26-21', '09:25AM', \"Bitcoin: Americans know about cryptocurrency but most aren't interested in investing\"], ['AMZN', 'Jul-26-21', '09:17AM', 'Bitcoin nears $39,000 amid Amazon payment rumors'], ['AMZN', 'Jul-26-21', '08:15AM', 'Dow Jones Futures Fall: Market Rally At Highs As Apple Earnings Loom; China Stocks Dive, Bitcoin Spikes, Here Comes Tesla'], ['AMZN', 'Jul-26-21', '08:00AM', \"As Jeff Bezos stresses climate change, Amazon promotes books saying it's fake\"], ['AMZN', 'Jul-26-21', '07:39AM', 'U.K. Proposes Tighter Rules to Control Musk, OneWeb Satellites'], ['AMZN', 'Jul-26-21', '07:30AM', '1 Tech Stock That Could Double Your Money (and More)'], ['AMZN', 'Jul-26-21', '06:33AM', 'COVID-19 Delta variant may threaten consumer spending'], ['AMZN', 'Jul-26-21', '06:08AM', 'Bitcoin backers cheering Amazon should be wary of Tesla-style disappointment'], ['AMZN', 'Jul-26-21', '06:06AM', '3 Warren Buffett Stocks That Are Screaming Summer Buys'], ['AMZN', 'Jul-26-21', '05:25AM', 'Cryptocurrency Price Check: Bitcoin Rises on Amazon Crypto Speculation'], ['AMZN', 'Jul-26-21', '05:05AM', 'Second quarter earnings are all about 2019: Morning Brief'], ['AMZN', 'Jul-26-21', '04:08AM', 'TAL Education, Tencent Music, Lockheed Fall Premarket; Hasbro Rises'], ['AMZN', 'Jul-26-21', '03:34AM', 'Bitcoin and other cryptocurrencies surge on Amazon payments rumours'], ['AMZN', 'Jul-26-21', '03:29AM', 'Microsoft, Facebook, Alphabet: Ranking the Mega-Cap Tech Stocks Ahead of Earnings'], ['AMZN', 'Jul-26-21', '03:16AM', 'Bitcoin surges after speculation over Amazons plan to allow users to pay in cryptocurrency'], ['AMZN', 'Jul-26-21', '03:11AM', 'Dow Futures 135 Pts Lower; Chinese Clampdown Weighs'], ['AMZN', 'Jul-26-21', '02:35AM', \"Bitcoin Surge, China Tech Onslaught, Tesla Earnings  - What's Moving Markets\"], ['AMZN', 'Jul-26-21', '01:51AM', 'Bitcoins Adoption Is Growing. Now Its Amazons Time To Accept It'], ['AMZN', 'Jul-26-21', '01:47AM', 'Amazon Gains Amid Talk Of Digital Currency Foray, Cryptos Jump'], ['AMZN', 'Jul-26-21', '12:06AM', 'Bitcoin rally puts $40,000 in view as Amazon steps up crypto push'], ['AMZN', 'Jul-25-21', '10:10PM', '4 Money Moves That Made Bezos Rich'], ['AMZN', 'Jul-25-21', '07:16PM', 'The main attractions arrive: Apple, Microsoft, Google, Facebook, Amazon and Tesla headline the biggest week of earnings'], ['AMZN', 'Jul-25-21', '03:14PM', \"Microsoft's (MSFT) Q3 FY2021 Earnings: What to Expect\"], ['AMZN', 'Jul-25-21', '11:43AM', 'Big Tech earnings, Federal Reserve decision: What to know this week'], ['AMZN', 'Jul-25-21', '11:00AM', 'Big Tech Earnings Preview: Alphabet, Facebook, and Amazon'], ['AMZN', 'Jul-25-21', '09:00AM', '3 Vanguard ETFs That Can Help You Survive a Market Crash'], ['AMZN', 'Jul-25-21', '07:30AM', '3 Stocks That Can Turn $300,000 into $1 Million in 10 Years'], ['AMZN', 'Jul-25-21', '07:05AM', '5 Ways to Squeeze Every Last Penny Out of Your 401(k)'], ['AMZN', 'Jul-25-21', '07:00AM', '3 Things to Watch in the Stock Market This Week'], ['AMZN', 'Jul-25-21', '06:17AM', 'Here Are All 19 Stocks I Own'], ['AMZN', 'Jul-24-21', '09:30AM', \"Great News Investors! It's Not Too Late to Invest in Streaming\"], ['AMZN', 'Jul-24-21', '08:05AM', 'Better Buy: Invesco QQQ or Fidelity MSCI IT Index ETF'], ['AMZN', 'Jul-24-21', '06:12AM', 'Better Healthcare Stock: Teladoc vs. Doximity'], ['AMZN', 'Jul-24-21', '05:45AM', 'Will Netflix Be a Trillion-Dollar Stock by 2030?'], ['AMZN', 'Jul-23-21', '07:05PM', 'Big Tech Earnings Preview: Apple, Amazon and Other Market Movers'], ['AMZN', 'Jul-23-21', '05:33PM', 'Amazon Eyes Blockchain and Cryptocurrencies, Hunts Talent'], ['AMZN', 'Jul-23-21', '04:45PM', \"The Week In Cannabis: Amazon Lobbies In DC, Colombia's New Law, Big IPOs And More\"], ['AMZN', 'Jul-23-21', '04:17PM', 'UPDATE 1-EV startup Rivian announces $2.5 bln funding round led by Amazon, Ford'], ['AMZN', 'Jul-23-21', '02:33PM', 'ContextLogics Growth Trajectory And Recent Price Decline Make It A Buy'], ['AMZN', 'Jul-23-21', '01:47PM', '15 Most Valuable IT Companies in the World'], ['AMZN', 'Jul-23-21', '12:45PM', 'Amazon job posting points to companys growing interest in cryptocurrency'], ['AMZN', 'Jul-23-21', '11:59AM', 'Intel Server-Chip Woes Drag on Sales Forecast; Shares Slump'], ['AMZN', 'Jul-23-21', '10:13AM', 'Amazons stock looks tired. Consider buying shares of these five fast-growing e-commerce plays instead'], ['AMZN', 'Jul-23-21', '10:00AM', 'Is Etsy Stock a Buy Now?'], ['AMZN', 'Jul-23-21', '09:56AM', 'Does This Under-the-Radar Footwear Stock Belong in Your Portfolio?'], ['TSLA', 'Jul-27-21', '02:36PM', 'Why Lucid, Faraday Future, Lordstown Motors, and Other Electric-Vehicle Stocks Are Down Today'], ['TSLA', 'Jul-27-21', '01:12PM', \"Tesla Still Leads Global EV Market, And It's Not Even Close\"], ['TSLA', 'Jul-27-21', '12:57PM', 'Is Lucid Motors Stock A Buy Right Now As LCID Surges After Its Highly Anticipated IPO?'], ['TSLA', 'Jul-27-21', '12:54PM', 'We will be a leader in chips again: Intel CEO'], ['TSLA', 'Jul-27-21', '12:53PM', 'Why Tesla Lagged This Favorite Nasdaq Winner Tuesday'], ['TSLA', 'Jul-27-21', '12:41PM', 'Teslas noisy quarter gets mixed reviews from Wall Street'], ['TSLA', 'Jul-27-21', '12:33PM', 'Why Tesla Stock Fell on Tuesday'], ['TSLA', 'Jul-27-21', '12:14PM', 'Tesla Falls as Chip Crisis, Battery Doubts Loom Over Profit Beat'], ['TSLA', 'Jul-27-21', '12:13PM', 'Lordstown Stock Is Getting Crushed. $400 Million Isnt Enough.'], ['TSLA', 'Jul-27-21', '12:00PM', \"What Elon Musk's Development Plans Could Mean for Texas\"], ['TSLA', 'Jul-27-21', '11:56AM', \"Why there's 'financial interest' for Elon Musk to stay as Tesla CEO: Analyst\"], ['TSLA', 'Jul-27-21', '11:50AM', 'Dow Jones Falls, Tech Stocks Dive As Tesla Slides On Earnings; Apple Sells Off Before Earnings'], ['TSLA', 'Jul-27-21', '11:40AM', \"Mobius Sees Bitcoin Going Lower, Says He's 'Leery' of Tesla\"], ['TSLA', 'Jul-27-21', '11:38AM', 'Biggest takeaways from Teslas record quarter'], ['TSLA', 'Jul-27-21', '11:34AM', \"Is Tesla Stock A Buy Right Now? Here's What Tesla Earnings, Charts Show\"], ['TSLA', 'Jul-27-21', '11:29AM', 'Dont Look Now, but Tesla Is a Mature Business'], ['TSLA', 'Jul-27-21', '10:37AM', 'A new Austin community will come standard with Tesla solar panels and batteries'], ['TSLA', 'Jul-27-21', '10:23AM', 'Tesla reports first $1B quarterly profit, GE, UPS earnings beat'], ['TSLA', 'Jul-27-21', '10:15AM', 'Tesla (TSLA) Blows Past Estimates, Posts Record Quarter'], ['TSLA', 'Jul-27-21', '10:15AM', '2 Top Value Stocks to Buy Right Now'], ['TSLA', 'Jul-27-21', '10:14AM', 'Tesla posts record quarter  heres why it still has more room to grow'], ['TSLA', 'Jul-27-21', '10:05AM', \"ETFs to Buy on Tesla's Q2 Earnings Strength\"], ['TSLA', 'Jul-27-21', '10:00AM', \"4 Things Investors Should Know About Tesla's Earnings\"], ['TSLA', 'Jul-27-21', '09:00AM', 'Tesla Rises, GE Pops, and the Stock Market Is Down'], ['TSLA', 'Jul-27-21', '08:35AM', 'Is GM Stock A Buy? General Motors Hits Pothole, But Ultium EV Ramp Is Close'], ['TSLA', 'Jul-27-21', '08:05AM', 'Tesla Earnings Crush Expectations: 5 Must-See Takeaways'], ['TSLA', 'Jul-27-21', '07:53AM', 'Dow Jones Futures Fall As Tesla Earnings Beat, While Apple Leads 4 Tech Giants Set To Report'], ['TSLA', 'Jul-27-21', '07:53AM', 'Teslas Earnings Came in Strong. One Thing Is Holding the Stock Back.'], ['TSLA', 'Jul-27-21', '07:51AM', 'Chinese Stocks Were Crushed Again. The Pain Is Spreading.'], ['TSLA', 'Jul-27-21', '06:33AM', 'Tesla is surviving global chip shortage by rewriting vehicle software, says Elon Musk'], ['TSLA', 'Jul-27-21', '06:10AM', 'Tesla Gains as First $1 Billion Quarter Adds Earnings Momentum'], ['TSLA', 'Jul-27-21', '05:51AM', '5 of the Fastest-Growing Stocks on the Planet'], ['TSLA', 'Jul-27-21', '05:01AM', 'Tesla (TSLA) Q2 2021 Earnings Call Transcript'], ['TSLA', 'Jul-27-21', '03:47AM', 'Bitcoin pulls back from highs as Amazon denies payment rumours'], ['TSLA', 'Jul-27-21', '02:07AM', 'Musk Ditches Earnings Calls, Cautions on Chip Shortage After Record Tesla Profits'], ['TSLA', 'Jul-27-21', '01:39AM', 'Dow Futures Lower Ahead of Apple Earnings, Fed; China Slumps on Tech Crackdown'], ['TSLA', 'Jul-27-21', '01:35AM', 'Tesla Gains as Results Show Dependence On Carbon Credits Falling'], ['TSLA', 'Jul-27-21', '01:06AM', 'Tesla, Apple, AMD, General Electric and Lucid - 5 Things You Must Know Tuesday'], ['TSLA', 'Jul-26-21', '10:14PM', 'Elon Musk says he is done with regular earnings calls. Tesla investors are better off.'], ['TSLA', 'Jul-26-21', '07:48PM', 'PRESS DIGEST-British Business - July 27'], ['TSLA', 'Jul-26-21', '06:58PM', \"Tesla Earnings Beat But Musk Warns On Chips, Semi Delayed; FSD Subscription 'Debatable'\"], ['TSLA', 'Jul-26-21', '05:44PM', 'Tesla Beats in Q2 as Indexes Set New Closing Highs'], ['TSLA', 'Jul-26-21', '05:40PM', \"Lucid Motors CEO market debut, retail investors, and what's next for EVs\"], ['TSLA', 'Jul-26-21', '05:35PM', 'Tesla (TSLA) Q2 Earnings and Revenues Top Estimates'], ['TSLA', 'Jul-26-21', '05:14PM', 'Tesla posts record $1.1bn profit but warns of chip shortage'], ['TSLA', 'Jul-26-21', '05:10PM', 'Tesla Earnings: What Happened with TSLA'], ['TSLA', 'Jul-26-21', '04:42PM', 'Tesla to come under tremendous pressure: GLJ Research Founder'], ['TSLA', 'Jul-26-21', '04:37PM', 'Tesla tops $1 billion in profit, delays Semi launch'], ['TSLA', 'Jul-26-21', '04:35PM', 'Is Nio Stock A Buy After Q2 Sales More Than Double?'], ['TSLA', 'Jul-26-21', '04:31PM', 'Tesla beats Q2 earnings estimates'], ['TSLA', 'Jul-26-21', '04:17PM', 'Dow Jones Gains, Nasdaq Closes Positive; Tesla Earnings Beat As Bitcoin Soars; IPO Passes Buy'], ['TSLA', 'Jul-26-21', '04:12PM', 'Amazon Job Posting Hints at Plan to Accept Cryptocurrency'], ['TSLA', 'Jul-26-21', '04:10PM', 'Tesla beats profit and revenue estimates, delays Semi launch'], ['TSLA', 'Jul-26-21', '04:07PM', 'Tesla Releases Second Quarter 2021 Financial Results'], ['TSLA', 'Jul-26-21', '04:00PM', 'US STOCKS-S&P 500 edges up as investors eye key earnings, Fed meeting'], ['TSLA', 'Jul-26-21', '03:54PM', 'The markets have rewarded Powell: Heritage Capital President'], ['TSLA', 'Jul-26-21', '03:45PM', 'Bitcoin price trades above $40,000  4 things driving the rally'], ['TSLA', 'Jul-26-21', '01:32PM', 'Why Tesla Stock Bounced Ahead of Earnings'], ['TSLA', 'Jul-26-21', '01:09PM', 'Tesla Q2 earnings: What to expect'], ['TSLA', 'Jul-26-21', '12:45PM', 'Tesla rival Lucid Motors jumps in public debut'], ['TSLA', 'Jul-26-21', '12:20PM', 'US STOCKS-Wall Street hovers near record highs before tech earnings, Fed meeting'], ['TSLA', 'Jul-26-21', '12:16PM', 'Why Coinbase, MicroStrategy, and Other Bitcoin Stocks Rocketed Higher Today'], ['TSLA', 'Jul-26-21', '12:12PM', 'Dow Jones Targets New High As These Stocks Lead; Tesla, Apple, Microsoft Earnings On Tap'], ['TSLA', 'Jul-26-21', '11:34AM', 'Tech earnings expected to grow into 2022: strategist'], ['TSLA', 'Jul-26-21', '11:29AM', 'Dow Jones Reverses As Bitcoin Soars Above $39,000; Tesla Earnings On Deck'], ['TSLA', 'Jul-26-21', '11:28AM', \"Big Tech's Earnings Results in Focus\"], ['TSLA', 'Jul-26-21', '11:20AM', \"'Robinhood is not a place to trust holding your money': Strategist\"], ['TSLA', 'Jul-26-21', '11:16AM', 'Big tech earnings on tap, Federal Reserve decision this week'], ['TSLA', 'Jul-26-21', '11:10AM', 'Lucid Goes Public. Its the Fourth Most Valuable EV Stock Now.'], ['TSLA', 'Jul-26-21', '11:00AM', 'What to expect from Teslas Q2 earnings'], ['TSLA', 'Jul-26-21', '10:49AM', 'The two-year path back to normal'], ['TSLA', 'Jul-26-21', '10:21AM', 'Q2 Earnings, Economic Data to Make for Eventful Week'], ['TSLA', 'Jul-26-21', '10:16AM', 'These Are The Best EV Stocks To Buy And Watch Now'], ['TSLA', 'Jul-26-21', '10:16AM', \"ESG investing is booming, and investors are 'winging it when it comes to research'\"], ['TSLA', 'Jul-26-21', '09:37AM', 'Auto Stock Roundup: Buyout Deals of MGA and MGO, TSLA-BHP Deal & More'], ['TSLA', 'Jul-26-21', '09:25AM', \"Bitcoin: Americans know about cryptocurrency but most aren't interested in investing\"], ['TSLA', 'Jul-26-21', '08:15AM', 'Dow Jones Futures Fall: Market Rally At Highs As Apple Earnings Loom; China Stocks Dive, Bitcoin Spikes, Here Comes Tesla'], ['TSLA', 'Jul-26-21', '07:54AM', 'For Tesla, Main Risk is Valuation Contraction'], ['TSLA', 'Jul-26-21', '07:14AM', 'Ahead of Tesla results, Cathie Wood says Wall Streets valuing it all wrong'], ['TSLA', 'Jul-26-21', '06:24AM', 'Bitcoin Surges Near $40,000 on Amazons Crypto Hiring Plans'], ['TSLA', 'Jul-26-21', '06:08AM', 'Bitcoin backers cheering Amazon should be wary of Tesla-style disappointment'], ['TSLA', 'Jul-26-21', '06:05AM', \"Analysis: Tesla's plans for batteries, China scrutinized as Musk drops features\"], ['TSLA', 'Jul-26-21', '06:04AM', \"Analysis-Tesla's plans for batteries, China scrutinized as Musk drops features\"], ['TSLA', 'Jul-26-21', '06:01AM', 'Tesla Earnings: What to Look for from TSLA'], ['TSLA', 'Jul-26-21', '05:38AM', 'Stocks Wobble as Wall Street Readies for Earnings From U.S. Tech Giants'], ['TSLA', 'Jul-26-21', '05:35AM', 'Live: Jim Cramer on Tesla, Lucid Motors, Amazon, Cryptocurrency'], ['TSLA', 'Jul-26-21', '04:20AM', 'Tesla Reports Earnings Today. Theres Almost Too Much to Watch.'], ['TSLA', 'Jul-26-21', '03:34AM', 'Bitcoin and other cryptocurrencies surge on Amazon payments rumours'], ['TSLA', 'Jul-26-21', '03:23AM', 'Tesla Earnings Preview: Berlin Buildout, Bitcoin, Profit Margins in Focus'], ['TSLA', 'Jul-26-21', '02:35AM', \"Bitcoin Surge, China Tech Onslaught, Tesla Earnings  - What's Moving Markets\"], ['TSLA', 'Jul-26-21', '01:47AM', 'Amazon Gains Amid Talk Of Digital Currency Foray, Cryptos Jump'], ['TSLA', 'Jul-26-21', '01:05AM', 'Tesla, Lucid Motors, Bitcoin, Amazon and Apple - 5 Things You Must Know Monday'], ['TSLA', 'Jul-26-21', '01:00AM', 'Could ethereum overtake bitcoin?'], ['TSLA', 'Jul-25-21', '11:18PM', 'UPDATE 1-Bitcoin leaps 12% to test recent peaks, ether hits 3-week high'], ['TSLA', 'Jul-25-21', '09:18PM', '10 Most-Shorted Stocks Reddits WallStreetBets Is Paying Attention To'], ['TSLA', 'Jul-25-21', '07:16PM', 'The main attractions arrive: Apple, Microsoft, Google, Facebook, Amazon and Tesla headline the biggest week of earnings'], ['TSLA', 'Jul-25-21', '07:15PM', 'Why Short Sellers Are Desperately Trying (And Failing) To Sink Recon Africa'], ['TSLA', 'Jul-25-21', '06:27PM', 'Stock Index Futures Show Poise Ahead of Mondays Open'], ['TSLA', 'Jul-25-21', '05:26PM', 'Apple, Tesla, Amazon, Pfizer, and Other Stocks to Watch This Week'], ['TSLA', 'Jul-25-21', '03:00PM', 'Apple, Tesla, Amazon, Exxon Mobil, Pfizer, and Other Stocks for Investors to Watch This Week'], ['GOOG', 'Jul-27-21', '02:38PM', \"Facebook (FB) Option Traders Ready to 'Like' Earnings\"], ['GOOG', 'Jul-27-21', '02:18PM', 'Alphabet (GOOG) Option Traders Searching for New Highs'], ['GOOG', 'Jul-27-21', '12:33PM', 'US STOCKS-Nasdaq set for worst day in 2 months before big tech earnings'], ['GOOG', 'Jul-27-21', '10:31AM', 'Alphabet, Microsoft, and Apple earnings  what to expect'], ['GOOG', 'Jul-27-21', '10:12AM', 'Mega-Cap Mania: Apple, Alphabet, Microsoft Earnings All Ahead After Close Today'], ['GOOG', 'Jul-27-21', '09:37AM', 'Dow falls 200 points, index at risk of snapping 5-day win streak as stock-market investors ready for Apple, Microsoft results'], ['GOOG', 'Jul-27-21', '08:38AM', 'Prudential Joins Effort to Build Africas New Financial Hub'], ['GOOG', 'Jul-27-21', '08:22AM', \"Apple's iPhone expected to drive sales, but App Store faces regulatory risk\"], ['GOOG', 'Jul-27-21', '08:21AM', \"Google takes legal action over Germany's expanded hate-speech law\"], ['GOOG', 'Jul-27-21', '08:19AM', 'US STOCKS-Wall Street set for muted open ahead of big tech earnings'], ['GOOG', 'Jul-27-21', '08:00AM', \"Here's Who Wins In Apple, Microsoft, Amazon, Alphabet Profit Clash\"], ['GOOG', 'Jul-27-21', '07:55AM', 'Alphabet Reports Earnings Tuesday. Heres What to Expect.'], ['GOOG', 'Jul-27-21', '07:35AM', \"Google takes legal action over Germany's expanded hate-speech law\"], ['GOOG', 'Jul-27-21', '07:13AM', '3 Stocks to Make the Most of Rising Demand for Smartwatches'], ['GOOG', 'Jul-27-21', '07:05AM', \"Apple's iPhone expected to drive sales, but App Store faces regulatory risk\"], ['GOOG', 'Jul-27-21', '06:22AM', 'Demand for Digital Advertising Is Exploding'], ['GOOG', 'Jul-27-21', '06:07AM', 'Google, Facebook set to squash initial iOS fears, show big revenue jump'], ['GOOG', 'Jul-27-21', '05:30AM', 'Could a New CEO Lead to a Stock Split at Amazon?'], ['GOOG', 'Jul-27-21', '03:40AM', 'Caution in markets as Chinese crackdown causes biggest knock since 2008'], ['GOOG', 'Jul-26-21', '07:49PM', 'These Are The Best Robinhood Stocks To Buy Or Watch Now'], ['GOOG', 'Jul-26-21', '04:51PM', 'Microsoft Q4 earnings preview: Analysts expect a big cloud win'], ['GOOG', 'Jul-26-21', '04:43PM', 'Amid post-COVID boom, IT company Wipro invests $1 billion in cloud services'], ['GOOG', 'Jul-26-21', '03:56PM', 'MSFT Option Traders Optimistic Going Into Earnings'], ['GOOG', 'Jul-26-21', '03:41PM', 'This could be the peak of the tech boom  Heres what to look for'], ['GOOG', 'Jul-26-21', '03:35PM', 'AAPL Option Traders Enthusiastic Ahead of Earnings'], ['GOOG', 'Jul-26-21', '12:03PM', 'Why Alphabet (GOOG) Might Surprise This Earnings Season'], ['GOOG', 'Jul-26-21', '11:56AM', 'Big  5 Tech Stocks Now Account for 23% of the S&P 500'], ['GOOG', 'Jul-26-21', '11:40AM', '6 ETFs in the Spotlight Ahead of Big Tech Q2 Earnings'], ['GOOG', 'Jul-26-21', '11:37AM', 'Big  5 Tech Stocks Now Account for 23% of the S&P 500'], ['GOOG', 'Jul-26-21', '11:34AM', 'Tech earnings expected to grow into 2022: strategist'], ['GOOG', 'Jul-26-21', '11:23AM', 'Alphabet (Google) Earnings: What to Look for from GOOGL'], ['GOOG', 'Jul-26-21', '10:49AM', 'The two-year path back to normal'], ['GOOG', 'Jul-26-21', '08:41AM', 'EU gives Google 2 months to improve hotel, flight search results'], ['GOOG', 'Jul-26-21', '08:15AM', 'Dow Jones Futures Fall: Market Rally At Highs As Apple Earnings Loom; China Stocks Dive, Bitcoin Spikes, Here Comes Tesla'], ['GOOG', 'Jul-26-21', '08:07AM', 'EU gives Google 2 months to improve hotel, flight search results'], ['GOOG', 'Jul-26-21', '08:05AM', 'EU gives Google 2 months to improve hotel, flight search results'], ['GOOG', 'Jul-26-21', '07:43AM', \"UPDATE 3-Kremlin critic Alexei Navalny's website blocked by regulator before election\"], ['GOOG', 'Jul-26-21', '06:45AM', \"If You'd Invested $5,000 in Baidu in 2005, This Is How Much You Would Have Today\"], ['GOOG', 'Jul-26-21', '05:05AM', 'Second quarter earnings are all about 2019'], ['GOOG', 'Jul-26-21', '04:02AM', 'Dow Futures Slip From Record High Ahead of Key Earnings Week: Bitcoin Tops $38,000'], ['GOOG', 'Jul-26-21', '03:29AM', 'Microsoft, Facebook, Alphabet: Ranking the Mega-Cap Tech Stocks Ahead of Earnings'], ['GOOG', 'Jul-26-21', '01:43AM', 'Alphabet Could Scale to Fresh Record High on Upbeat Q2 Earnings; Target Price $3,000'], ['GOOG', 'Jul-25-21', '07:16PM', 'The main attractions arrive: Apple, Microsoft, Google, Facebook, Amazon and Tesla headline the biggest week of earnings'], ['GOOG', 'Jul-25-21', '11:43AM', 'Big Tech earnings, Federal Reserve decision: What to know this week'], ['GOOG', 'Jul-25-21', '11:00AM', 'Big Tech Earnings Preview: Alphabet, Facebook, and Amazon'], ['GOOG', 'Jul-25-21', '07:13AM', 'Is It Time for The Trade Desk Shareholders to Take Profits?'], ['GOOG', 'Jul-25-21', '02:46AM', 'Monstrous Earnings Week Ahead: Tesla, Google, Microsoft, Apple, Facebook and Amazon in Focus'], ['GOOG', 'Jul-24-21', '09:30AM', \"Great News Investors! It's Not Too Late to Invest in Streaming\"], ['GOOG', 'Jul-24-21', '05:45AM', 'Will Netflix Be a Trillion-Dollar Stock by 2030?'], ['GOOG', 'Jul-24-21', '04:00AM', 'Smart security: how to keep your home safe while youre away'], ['GOOG', 'Jul-23-21', '02:26PM', 'Center-Left Candidate Jumps Into Chile Presidential Race'], ['GOOG', 'Jul-23-21', '02:07PM', 'Google-linked Waymo lobbies UK on driverless car rules'], ['GOOG', 'Jul-23-21', '01:47PM', '15 Most Valuable IT Companies in the World'], ['GOOG', 'Jul-23-21', '12:59PM', 'Air-Taxi Maker Joby Adds LinkedIn Founder, Google Vets to Board'], ['GOOG', 'Jul-23-21', '12:49PM', 'Kayak co-founder launches app with personalized podcast picks'], ['GOOG', 'Jul-23-21', '12:42PM', 'You know who doesnt hate Facebook? Wall Street'], ['GOOG', 'Jul-23-21', '12:37PM', 'Tesla (TSLA) Q2 Earnings: 4 Things to Watch'], ['GOOG', 'Jul-23-21', '12:32PM', 'Facing antitrust bulls-eye, Google stock still at record highs because ad sales are sizzling'], ['GOOG', 'Jul-23-21', '11:59AM', 'Intel Server-Chip Woes Drag on Sales Forecast; Shares Slump'], ['GOOG', 'Jul-23-21', '10:30AM', \"Alphabet's Robotics Company Intrinsic Is Ready For Launch\"], ['GOOG', 'Jul-23-21', '09:50AM', \"Google Cloud Strength to Aid Alphabet's (GOOGL) Q2 Earnings\"], ['GOOG', 'Jul-23-21', '09:38AM', 'Alphabet to launch robotics firm Intrinsic under its other bets unit'], ['GOOG', 'Jul-23-21', '09:15AM', 'Alphabet Inc. (GOOG) Hits Fresh High: Is There Still Room to Run?'], ['GOOG', 'Jul-23-21', '08:27AM', 'Alphabet Introduces Intrinsic, Its Robot Software Company'], ['GOOG', 'Jul-23-21', '08:13AM', 'Dow Jones Futures: Apple, Microsoft Lead Market Rally; Snap, Twitter Surge On Earnings, Chinese Stocks Hit'], ['GOOG', 'Jul-23-21', '08:07AM', 'If I Could Buy Only 1 Stock, This Would Be It'], ['GOOG', 'Jul-23-21', '06:35AM', 'Google Shares Jump on Credit Suisse Price Target Boost Ahead of Earnings'], ['GOOG', 'Jul-23-21', '06:19AM', \"White House sees YouTube, Facebook as 'Judge, Jury & Executioner' on vaccine misinformation\"], ['GOOG', 'Jul-23-21', '06:00AM', 'Where Will Roku Be in 10 Years?'], ['GOOG', 'Jul-23-21', '06:00AM', 'Mark Zuckerberg starting to plant the seeds to step down: Cecilia Kang'], ['GOOG', 'Jul-23-21', '06:00AM', \"FOCUS-White House sees YouTube, Facebook as 'Judge, Jury & Executioner' on vaccine misinformation\"], ['GOOG', 'Jul-23-21', '04:04AM', 'Twitter, Snap, Schlumberger Rise Premarket; Intel Falls'], ['GOOG', 'Jul-23-21', '03:30AM', 'Tech Stocks Roundup: Cramer Says FAANG is Key to Gauging Market'], ['GOOG', 'Jul-23-21', '03:15AM', 'Apple Earnings Preview: Whats in the Offing?'], ['GOOG', 'Jul-22-21', '05:47PM', 'Big Tech Under the Microscope, the Streaming Landscape, and More'], ['GOOG', 'Jul-22-21', '05:15PM', 'Intels Sales Forecast Falls Short as Data Center Unit Sags'], ['GOOG', 'Jul-22-21', '05:00PM', 'Twitter earnings show large, unexpected growth in users and ad sales'], ['GOOG', 'Jul-22-21', '04:18PM', 'Alphabet Profitability Still Hidden In The Cloud As It Surges Past FAANG Toward Q2 Earnings'], ['GOOG', 'Jul-22-21', '02:19PM', 'Google Chromecasts HBO Max Bundle Offers Two Free Months of Streaming Service'], ['GOOG', 'Jul-22-21', '01:41PM', 'Uber to Buy TPG Freight Firm Transplace for $2.25 Billion'], ['GOOG', 'Jul-22-21', '01:00PM', 'Google is starting to tell you how it found Search results'], ['GOOG', 'Jul-22-21', '12:37PM', 'Heres Why Ensemble Capital Became Bullish in Alphabet Inc. (GOOG)'], ['GOOG', 'Jul-22-21', '12:05PM', 'How this startup is turning TikTok & YouTube stars into filmmakers'], ['GOOG', 'Jul-22-21', '11:53AM', 'Square (SQ) Expands Financial Offerings With Square Banking'], ['GOOG', 'Jul-22-21', '11:00AM', \"Alphabet (GOOGL) to Report Q2 Earnings: What's in the Cards?\"], ['GOOG', 'Jul-22-21', '10:13AM', \"Donald Trump 'tested so many parts of Facebook: Author\"], ['GOOG', 'Jul-22-21', '09:07AM', '15 Socialist Countries that Have Succeeded'], ['GOOG', 'Jul-22-21', '08:29AM', 'Telecom Stock Roundup: Verizon, Iridium Beat Q2 Earnings Estimates & More'], ['GOOG', 'Jul-22-21', '07:43AM', 'The Zacks Analyst Blog Highlights: Google, Toyota Motor, Union Pacific, Anheuser-Busch InBev and Target'], ['GOOG', 'Jul-22-21', '07:40AM', 'Amazon finally gives Alexa a masculine-sounding voice'], ['GOOG', 'Jul-22-21', '07:30AM', 'Skillz Boasts Competitive Advantage on 2 Fronts'], ['GOOG', 'Jul-22-21', '06:00AM', 'Giant Can of Worms: Amazons Battle Against Product Recalls Is On'], ['GOOG', 'Jul-22-21', '06:00AM', 'Trump tested so many parts of Facebook: Cecilia Kang'], ['GOOG', 'Jul-22-21', '06:00AM', 'This Investing Strategy Could Make You a Millionaire'], ['GOOG', 'Jul-22-21', '06:00AM', 'Influencers with Andy Serwer: Cecilia Kang'], ['GOOG', 'Jul-22-21', '04:51AM', 'Billionaire Who Missed Out on TikTok Is Trying to Beat It'], ['GOOG', 'Jul-21-21', '07:19PM', 'What Duolingo Has to Offer Investors'], ['GOOG', 'Jul-21-21', '06:50PM', 'Google Reveals Commerce-Related Updates'], ['GOOG', 'Jul-21-21', '05:45PM', 'Alphabet Inc. (GOOG) Outpaces Stock Market Gains: What You Should Know'], ['GOOG', 'Jul-21-21', '04:47PM', \"Stock market news live updates: Stocks come full circle, erase Monday's COVID-inspired losses\"]]"
      ]
     },
     "metadata": {},
     "execution_count": 31
    }
   ],
   "metadata": {}
  },
  {
   "cell_type": "code",
   "execution_count": 52,
   "source": [
    "# Instantiate the sentiment intensity analyzer\r\n",
    "vader = SentimentIntensityAnalyzer()\r\n",
    "\r\n",
    "# Set column names\r\n",
    "columns = ['ticker', 'date', 'time', 'headline']\r\n",
    "\r\n",
    "# Convert the parsed_news list into a DataFrame called 'parsed_and_scored_news'\r\n",
    "parsed_and_scored_news = pd.DataFrame(parsed_news, columns=columns)\r\n",
    "\r\n",
    "# Iterate through the headlines and get the polarity scores using vader\r\n",
    "scores = parsed_and_scored_news['headline'].apply(vader.polarity_scores).tolist()\r\n",
    "\r\n",
    "# # Convert the 'scores' list of dicts into a DataFrame\r\n",
    "scores_df = pd.DataFrame(scores)\r\n",
    "\r\n",
    "# # Join the DataFrames of the news and the list of dicts\r\n",
    "parsed_and_scored_news = parsed_and_scored_news.join(scores_df, rsuffix='_right')\r\n",
    "\r\n",
    "# # Convert the date column from string to datetime\r\n",
    "parsed_and_scored_news['date'] = pd.to_datetime(parsed_and_scored_news.date).dt.date\r\n",
    "\r\n",
    "parsed_and_scored_news.head()"
   ],
   "outputs": [
    {
     "output_type": "execute_result",
     "data": {
      "text/plain": [
       "  ticker        date     time  \\\n",
       "0   AMZN  2021-07-27  02:34PM   \n",
       "1   AMZN  2021-07-27  02:30PM   \n",
       "2   AMZN  2021-07-27  02:28PM   \n",
       "3   AMZN  2021-07-27  02:24PM   \n",
       "4   AMZN  2021-07-27  02:00PM   \n",
       "\n",
       "                                            headline   neg    neu    pos  \\\n",
       "0               Why Virgin Galactic Stock Sank Today  0.00  1.000  0.000   \n",
       "1                    Why Crypto Stocks Plunged Today  0.00  1.000  0.000   \n",
       "2  Is Kroger Stock A Buy Right Now? Here's What E...  0.00  1.000  0.000   \n",
       "3  These Growth Stocks Are Bargains Because of 1 ...  0.25  0.547  0.203   \n",
       "4  Amazon Starts Trading in Canada With Depositar...  0.00  0.805  0.195   \n",
       "\n",
       "   compound  \n",
       "0    0.0000  \n",
       "1    0.0000  \n",
       "2    0.0000  \n",
       "3   -0.1531  \n",
       "4    0.1779  "
      ],
      "text/html": [
       "<div>\n",
       "<style scoped>\n",
       "    .dataframe tbody tr th:only-of-type {\n",
       "        vertical-align: middle;\n",
       "    }\n",
       "\n",
       "    .dataframe tbody tr th {\n",
       "        vertical-align: top;\n",
       "    }\n",
       "\n",
       "    .dataframe thead th {\n",
       "        text-align: right;\n",
       "    }\n",
       "</style>\n",
       "<table border=\"1\" class=\"dataframe\">\n",
       "  <thead>\n",
       "    <tr style=\"text-align: right;\">\n",
       "      <th></th>\n",
       "      <th>ticker</th>\n",
       "      <th>date</th>\n",
       "      <th>time</th>\n",
       "      <th>headline</th>\n",
       "      <th>neg</th>\n",
       "      <th>neu</th>\n",
       "      <th>pos</th>\n",
       "      <th>compound</th>\n",
       "    </tr>\n",
       "  </thead>\n",
       "  <tbody>\n",
       "    <tr>\n",
       "      <th>0</th>\n",
       "      <td>AMZN</td>\n",
       "      <td>2021-07-27</td>\n",
       "      <td>02:34PM</td>\n",
       "      <td>Why Virgin Galactic Stock Sank Today</td>\n",
       "      <td>0.00</td>\n",
       "      <td>1.000</td>\n",
       "      <td>0.000</td>\n",
       "      <td>0.0000</td>\n",
       "    </tr>\n",
       "    <tr>\n",
       "      <th>1</th>\n",
       "      <td>AMZN</td>\n",
       "      <td>2021-07-27</td>\n",
       "      <td>02:30PM</td>\n",
       "      <td>Why Crypto Stocks Plunged Today</td>\n",
       "      <td>0.00</td>\n",
       "      <td>1.000</td>\n",
       "      <td>0.000</td>\n",
       "      <td>0.0000</td>\n",
       "    </tr>\n",
       "    <tr>\n",
       "      <th>2</th>\n",
       "      <td>AMZN</td>\n",
       "      <td>2021-07-27</td>\n",
       "      <td>02:28PM</td>\n",
       "      <td>Is Kroger Stock A Buy Right Now? Here's What E...</td>\n",
       "      <td>0.00</td>\n",
       "      <td>1.000</td>\n",
       "      <td>0.000</td>\n",
       "      <td>0.0000</td>\n",
       "    </tr>\n",
       "    <tr>\n",
       "      <th>3</th>\n",
       "      <td>AMZN</td>\n",
       "      <td>2021-07-27</td>\n",
       "      <td>02:24PM</td>\n",
       "      <td>These Growth Stocks Are Bargains Because of 1 ...</td>\n",
       "      <td>0.25</td>\n",
       "      <td>0.547</td>\n",
       "      <td>0.203</td>\n",
       "      <td>-0.1531</td>\n",
       "    </tr>\n",
       "    <tr>\n",
       "      <th>4</th>\n",
       "      <td>AMZN</td>\n",
       "      <td>2021-07-27</td>\n",
       "      <td>02:00PM</td>\n",
       "      <td>Amazon Starts Trading in Canada With Depositar...</td>\n",
       "      <td>0.00</td>\n",
       "      <td>0.805</td>\n",
       "      <td>0.195</td>\n",
       "      <td>0.1779</td>\n",
       "    </tr>\n",
       "  </tbody>\n",
       "</table>\n",
       "</div>"
      ]
     },
     "metadata": {},
     "execution_count": 52
    }
   ],
   "metadata": {}
  },
  {
   "cell_type": "code",
   "execution_count": 53,
   "source": [
    "parsed_and_scored_news"
   ],
   "outputs": [
    {
     "output_type": "execute_result",
     "data": {
      "text/plain": [
       "    ticker        date     time  \\\n",
       "0     AMZN  2021-07-27  02:34PM   \n",
       "1     AMZN  2021-07-27  02:30PM   \n",
       "2     AMZN  2021-07-27  02:28PM   \n",
       "3     AMZN  2021-07-27  02:24PM   \n",
       "4     AMZN  2021-07-27  02:00PM   \n",
       "..     ...         ...      ...   \n",
       "295   GOOG  2021-07-22  04:51AM   \n",
       "296   GOOG  2021-07-21  07:19PM   \n",
       "297   GOOG  2021-07-21  06:50PM   \n",
       "298   GOOG  2021-07-21  05:45PM   \n",
       "299   GOOG  2021-07-21  04:47PM   \n",
       "\n",
       "                                              headline    neg    neu    pos  \\\n",
       "0                 Why Virgin Galactic Stock Sank Today  0.000  1.000  0.000   \n",
       "1                      Why Crypto Stocks Plunged Today  0.000  1.000  0.000   \n",
       "2    Is Kroger Stock A Buy Right Now? Here's What E...  0.000  1.000  0.000   \n",
       "3    These Growth Stocks Are Bargains Because of 1 ...  0.250  0.547  0.203   \n",
       "4    Amazon Starts Trading in Canada With Depositar...  0.000  0.805  0.195   \n",
       "..                                                 ...    ...    ...    ...   \n",
       "295  Billionaire Who Missed Out on TikTok Is Trying...  0.180  0.820  0.000   \n",
       "296               What Duolingo Has to Offer Investors  0.000  1.000  0.000   \n",
       "297            Google Reveals Commerce-Related Updates  0.000  1.000  0.000   \n",
       "298  Alphabet Inc. (GOOG) Outpaces Stock Market Gai...  0.000  0.806  0.194   \n",
       "299  Stock market news live updates: Stocks come fu...  0.184  0.816  0.000   \n",
       "\n",
       "     compound  \n",
       "0      0.0000  \n",
       "1      0.0000  \n",
       "2      0.0000  \n",
       "3     -0.1531  \n",
       "4      0.1779  \n",
       "..        ...  \n",
       "295   -0.2960  \n",
       "296    0.0000  \n",
       "297    0.0000  \n",
       "298    0.3400  \n",
       "299   -0.4019  \n",
       "\n",
       "[300 rows x 8 columns]"
      ],
      "text/html": [
       "<div>\n",
       "<style scoped>\n",
       "    .dataframe tbody tr th:only-of-type {\n",
       "        vertical-align: middle;\n",
       "    }\n",
       "\n",
       "    .dataframe tbody tr th {\n",
       "        vertical-align: top;\n",
       "    }\n",
       "\n",
       "    .dataframe thead th {\n",
       "        text-align: right;\n",
       "    }\n",
       "</style>\n",
       "<table border=\"1\" class=\"dataframe\">\n",
       "  <thead>\n",
       "    <tr style=\"text-align: right;\">\n",
       "      <th></th>\n",
       "      <th>ticker</th>\n",
       "      <th>date</th>\n",
       "      <th>time</th>\n",
       "      <th>headline</th>\n",
       "      <th>neg</th>\n",
       "      <th>neu</th>\n",
       "      <th>pos</th>\n",
       "      <th>compound</th>\n",
       "    </tr>\n",
       "  </thead>\n",
       "  <tbody>\n",
       "    <tr>\n",
       "      <th>0</th>\n",
       "      <td>AMZN</td>\n",
       "      <td>2021-07-27</td>\n",
       "      <td>02:34PM</td>\n",
       "      <td>Why Virgin Galactic Stock Sank Today</td>\n",
       "      <td>0.000</td>\n",
       "      <td>1.000</td>\n",
       "      <td>0.000</td>\n",
       "      <td>0.0000</td>\n",
       "    </tr>\n",
       "    <tr>\n",
       "      <th>1</th>\n",
       "      <td>AMZN</td>\n",
       "      <td>2021-07-27</td>\n",
       "      <td>02:30PM</td>\n",
       "      <td>Why Crypto Stocks Plunged Today</td>\n",
       "      <td>0.000</td>\n",
       "      <td>1.000</td>\n",
       "      <td>0.000</td>\n",
       "      <td>0.0000</td>\n",
       "    </tr>\n",
       "    <tr>\n",
       "      <th>2</th>\n",
       "      <td>AMZN</td>\n",
       "      <td>2021-07-27</td>\n",
       "      <td>02:28PM</td>\n",
       "      <td>Is Kroger Stock A Buy Right Now? Here's What E...</td>\n",
       "      <td>0.000</td>\n",
       "      <td>1.000</td>\n",
       "      <td>0.000</td>\n",
       "      <td>0.0000</td>\n",
       "    </tr>\n",
       "    <tr>\n",
       "      <th>3</th>\n",
       "      <td>AMZN</td>\n",
       "      <td>2021-07-27</td>\n",
       "      <td>02:24PM</td>\n",
       "      <td>These Growth Stocks Are Bargains Because of 1 ...</td>\n",
       "      <td>0.250</td>\n",
       "      <td>0.547</td>\n",
       "      <td>0.203</td>\n",
       "      <td>-0.1531</td>\n",
       "    </tr>\n",
       "    <tr>\n",
       "      <th>4</th>\n",
       "      <td>AMZN</td>\n",
       "      <td>2021-07-27</td>\n",
       "      <td>02:00PM</td>\n",
       "      <td>Amazon Starts Trading in Canada With Depositar...</td>\n",
       "      <td>0.000</td>\n",
       "      <td>0.805</td>\n",
       "      <td>0.195</td>\n",
       "      <td>0.1779</td>\n",
       "    </tr>\n",
       "    <tr>\n",
       "      <th>...</th>\n",
       "      <td>...</td>\n",
       "      <td>...</td>\n",
       "      <td>...</td>\n",
       "      <td>...</td>\n",
       "      <td>...</td>\n",
       "      <td>...</td>\n",
       "      <td>...</td>\n",
       "      <td>...</td>\n",
       "    </tr>\n",
       "    <tr>\n",
       "      <th>295</th>\n",
       "      <td>GOOG</td>\n",
       "      <td>2021-07-22</td>\n",
       "      <td>04:51AM</td>\n",
       "      <td>Billionaire Who Missed Out on TikTok Is Trying...</td>\n",
       "      <td>0.180</td>\n",
       "      <td>0.820</td>\n",
       "      <td>0.000</td>\n",
       "      <td>-0.2960</td>\n",
       "    </tr>\n",
       "    <tr>\n",
       "      <th>296</th>\n",
       "      <td>GOOG</td>\n",
       "      <td>2021-07-21</td>\n",
       "      <td>07:19PM</td>\n",
       "      <td>What Duolingo Has to Offer Investors</td>\n",
       "      <td>0.000</td>\n",
       "      <td>1.000</td>\n",
       "      <td>0.000</td>\n",
       "      <td>0.0000</td>\n",
       "    </tr>\n",
       "    <tr>\n",
       "      <th>297</th>\n",
       "      <td>GOOG</td>\n",
       "      <td>2021-07-21</td>\n",
       "      <td>06:50PM</td>\n",
       "      <td>Google Reveals Commerce-Related Updates</td>\n",
       "      <td>0.000</td>\n",
       "      <td>1.000</td>\n",
       "      <td>0.000</td>\n",
       "      <td>0.0000</td>\n",
       "    </tr>\n",
       "    <tr>\n",
       "      <th>298</th>\n",
       "      <td>GOOG</td>\n",
       "      <td>2021-07-21</td>\n",
       "      <td>05:45PM</td>\n",
       "      <td>Alphabet Inc. (GOOG) Outpaces Stock Market Gai...</td>\n",
       "      <td>0.000</td>\n",
       "      <td>0.806</td>\n",
       "      <td>0.194</td>\n",
       "      <td>0.3400</td>\n",
       "    </tr>\n",
       "    <tr>\n",
       "      <th>299</th>\n",
       "      <td>GOOG</td>\n",
       "      <td>2021-07-21</td>\n",
       "      <td>04:47PM</td>\n",
       "      <td>Stock market news live updates: Stocks come fu...</td>\n",
       "      <td>0.184</td>\n",
       "      <td>0.816</td>\n",
       "      <td>0.000</td>\n",
       "      <td>-0.4019</td>\n",
       "    </tr>\n",
       "  </tbody>\n",
       "</table>\n",
       "<p>300 rows × 8 columns</p>\n",
       "</div>"
      ]
     },
     "metadata": {},
     "execution_count": 53
    }
   ],
   "metadata": {}
  },
  {
   "cell_type": "code",
   "execution_count": 67,
   "source": [
    "import plotly.express as px\r\n",
    "\r\n",
    "# Group by date and ticker columns from scored_news and calculate the mean\r\n",
    "mean_scores = parsed_and_scored_news.groupby(['ticker','date']).mean()\r\n",
    "\r\n",
    "# Unstack the column ticker\r\n",
    "mean_scores1 = mean_scores.unstack()\r\n",
    "\r\n",
    "# Get the cross-section of compound in the 'columns' axis\r\n",
    "mean_scores11 = mean_scores1.xs('compound', axis=\"columns\").transpose()\r\n",
    "\r\n",
    "# Plot a bar chart with pandas\r\n",
    "fig = px.bar(mean_scores11,barmode='group')\r\n",
    "fig"
   ],
   "outputs": [
    {
     "output_type": "error",
     "ename": "ValueError",
     "evalue": "Mime type rendering requires nbformat>=4.2.0 but it is not installed",
     "traceback": [
      "\u001b[1;31m---------------------------------------------------------------------------\u001b[0m",
      "\u001b[1;31mValueError\u001b[0m                                Traceback (most recent call last)",
      "\u001b[1;32m~\\anaconda3\\envs\\project3\\lib\\site-packages\\IPython\\core\\formatters.py\u001b[0m in \u001b[0;36m__call__\u001b[1;34m(self, obj)\u001b[0m\n\u001b[0;32m    916\u001b[0m             \u001b[0mmethod\u001b[0m \u001b[1;33m=\u001b[0m \u001b[0mget_real_method\u001b[0m\u001b[1;33m(\u001b[0m\u001b[0mobj\u001b[0m\u001b[1;33m,\u001b[0m \u001b[0mself\u001b[0m\u001b[1;33m.\u001b[0m\u001b[0mprint_method\u001b[0m\u001b[1;33m)\u001b[0m\u001b[1;33m\u001b[0m\u001b[1;33m\u001b[0m\u001b[0m\n\u001b[0;32m    917\u001b[0m             \u001b[1;32mif\u001b[0m \u001b[0mmethod\u001b[0m \u001b[1;32mis\u001b[0m \u001b[1;32mnot\u001b[0m \u001b[1;32mNone\u001b[0m\u001b[1;33m:\u001b[0m\u001b[1;33m\u001b[0m\u001b[1;33m\u001b[0m\u001b[0m\n\u001b[1;32m--> 918\u001b[1;33m                 \u001b[0mmethod\u001b[0m\u001b[1;33m(\u001b[0m\u001b[1;33m)\u001b[0m\u001b[1;33m\u001b[0m\u001b[1;33m\u001b[0m\u001b[0m\n\u001b[0m\u001b[0;32m    919\u001b[0m                 \u001b[1;32mreturn\u001b[0m \u001b[1;32mTrue\u001b[0m\u001b[1;33m\u001b[0m\u001b[1;33m\u001b[0m\u001b[0m\n\u001b[0;32m    920\u001b[0m \u001b[1;33m\u001b[0m\u001b[0m\n",
      "\u001b[1;32m~\\anaconda3\\envs\\project3\\lib\\site-packages\\plotly\\basedatatypes.py\u001b[0m in \u001b[0;36m_ipython_display_\u001b[1;34m(self)\u001b[0m\n\u001b[0;32m    842\u001b[0m \u001b[1;33m\u001b[0m\u001b[0m\n\u001b[0;32m    843\u001b[0m         \u001b[1;32mif\u001b[0m \u001b[0mpio\u001b[0m\u001b[1;33m.\u001b[0m\u001b[0mrenderers\u001b[0m\u001b[1;33m.\u001b[0m\u001b[0mrender_on_display\u001b[0m \u001b[1;32mand\u001b[0m \u001b[0mpio\u001b[0m\u001b[1;33m.\u001b[0m\u001b[0mrenderers\u001b[0m\u001b[1;33m.\u001b[0m\u001b[0mdefault\u001b[0m\u001b[1;33m:\u001b[0m\u001b[1;33m\u001b[0m\u001b[1;33m\u001b[0m\u001b[0m\n\u001b[1;32m--> 844\u001b[1;33m             \u001b[0mpio\u001b[0m\u001b[1;33m.\u001b[0m\u001b[0mshow\u001b[0m\u001b[1;33m(\u001b[0m\u001b[0mself\u001b[0m\u001b[1;33m)\u001b[0m\u001b[1;33m\u001b[0m\u001b[1;33m\u001b[0m\u001b[0m\n\u001b[0m\u001b[0;32m    845\u001b[0m         \u001b[1;32melse\u001b[0m\u001b[1;33m:\u001b[0m\u001b[1;33m\u001b[0m\u001b[1;33m\u001b[0m\u001b[0m\n\u001b[0;32m    846\u001b[0m             \u001b[0mprint\u001b[0m\u001b[1;33m(\u001b[0m\u001b[0mrepr\u001b[0m\u001b[1;33m(\u001b[0m\u001b[0mself\u001b[0m\u001b[1;33m)\u001b[0m\u001b[1;33m)\u001b[0m\u001b[1;33m\u001b[0m\u001b[1;33m\u001b[0m\u001b[0m\n",
      "\u001b[1;32m~\\anaconda3\\envs\\project3\\lib\\site-packages\\plotly\\io\\_renderers.py\u001b[0m in \u001b[0;36mshow\u001b[1;34m(fig, renderer, validate, **kwargs)\u001b[0m\n\u001b[0;32m    395\u001b[0m \u001b[1;33m\u001b[0m\u001b[0m\n\u001b[0;32m    396\u001b[0m         \u001b[1;32mif\u001b[0m \u001b[1;32mnot\u001b[0m \u001b[0mnbformat\u001b[0m \u001b[1;32mor\u001b[0m \u001b[0mLooseVersion\u001b[0m\u001b[1;33m(\u001b[0m\u001b[0mnbformat\u001b[0m\u001b[1;33m.\u001b[0m\u001b[0m__version__\u001b[0m\u001b[1;33m)\u001b[0m \u001b[1;33m<\u001b[0m \u001b[0mLooseVersion\u001b[0m\u001b[1;33m(\u001b[0m\u001b[1;34m\"4.2.0\"\u001b[0m\u001b[1;33m)\u001b[0m\u001b[1;33m:\u001b[0m\u001b[1;33m\u001b[0m\u001b[1;33m\u001b[0m\u001b[0m\n\u001b[1;32m--> 397\u001b[1;33m             raise ValueError(\n\u001b[0m\u001b[0;32m    398\u001b[0m                 \u001b[1;34m\"Mime type rendering requires nbformat>=4.2.0 but it is not installed\"\u001b[0m\u001b[1;33m\u001b[0m\u001b[1;33m\u001b[0m\u001b[0m\n\u001b[0;32m    399\u001b[0m             )\n",
      "\u001b[1;31mValueError\u001b[0m: Mime type rendering requires nbformat>=4.2.0 but it is not installed"
     ]
    },
    {
     "output_type": "execute_result",
     "data": {
      "text/plain": [
       "Figure({\n",
       "    'data': [{'alignmentgroup': 'True',\n",
       "              'hovertemplate': 'ticker=AMZN<br>date=%{x}<br>value=%{y}<extra></extra>',\n",
       "              'legendgroup': 'AMZN',\n",
       "              'marker': {'color': '#636efa'},\n",
       "              'name': 'AMZN',\n",
       "              'offsetgroup': 'AMZN',\n",
       "              'orientation': 'v',\n",
       "              'showlegend': True,\n",
       "              'textposition': 'auto',\n",
       "              'type': 'bar',\n",
       "              'x': array([datetime.date(2021, 7, 21), datetime.date(2021, 7, 22),\n",
       "                          datetime.date(2021, 7, 23), datetime.date(2021, 7, 24),\n",
       "                          datetime.date(2021, 7, 25), datetime.date(2021, 7, 26),\n",
       "                          datetime.date(2021, 7, 27)], dtype=object),\n",
       "              'xaxis': 'x',\n",
       "              'y': array([       nan,        nan, 0.21026364, 0.3849    , 0.12776   , 0.11007209,\n",
       "                          0.09611875]),\n",
       "              'yaxis': 'y'},\n",
       "             {'alignmentgroup': 'True',\n",
       "              'hovertemplate': 'ticker=GOOG<br>date=%{x}<br>value=%{y}<extra></extra>',\n",
       "              'legendgroup': 'GOOG',\n",
       "              'marker': {'color': '#EF553B'},\n",
       "              'name': 'GOOG',\n",
       "              'offsetgroup': 'GOOG',\n",
       "              'orientation': 'v',\n",
       "              'showlegend': True,\n",
       "              'textposition': 'auto',\n",
       "              'type': 'bar',\n",
       "              'x': array([datetime.date(2021, 7, 21), datetime.date(2021, 7, 22),\n",
       "                          datetime.date(2021, 7, 23), datetime.date(2021, 7, 24),\n",
       "                          datetime.date(2021, 7, 25), datetime.date(2021, 7, 26),\n",
       "                          datetime.date(2021, 7, 27)], dtype=object),\n",
       "              'xaxis': 'x',\n",
       "              'y': array([-0.015475  ,  0.07144091,  0.07904583,  0.48313333,  0.2677    ,\n",
       "                           0.16251739,  0.00461579]),\n",
       "              'yaxis': 'y'},\n",
       "             {'alignmentgroup': 'True',\n",
       "              'hovertemplate': 'ticker=TSLA<br>date=%{x}<br>value=%{y}<extra></extra>',\n",
       "              'legendgroup': 'TSLA',\n",
       "              'marker': {'color': '#00cc96'},\n",
       "              'name': 'TSLA',\n",
       "              'offsetgroup': 'TSLA',\n",
       "              'orientation': 'v',\n",
       "              'showlegend': True,\n",
       "              'textposition': 'auto',\n",
       "              'type': 'bar',\n",
       "              'x': array([datetime.date(2021, 7, 21), datetime.date(2021, 7, 22),\n",
       "                          datetime.date(2021, 7, 23), datetime.date(2021, 7, 24),\n",
       "                          datetime.date(2021, 7, 25), datetime.date(2021, 7, 26),\n",
       "                          datetime.date(2021, 7, 27)], dtype=object),\n",
       "              'xaxis': 'x',\n",
       "              'y': array([       nan,        nan,        nan,        nan, 0.07375714, 0.06700364,\n",
       "                          0.04698947]),\n",
       "              'yaxis': 'y'}],\n",
       "    'layout': {'barmode': 'group',\n",
       "               'legend': {'title': {'text': 'ticker'}, 'tracegroupgap': 0},\n",
       "               'margin': {'t': 60},\n",
       "               'template': '...',\n",
       "               'xaxis': {'anchor': 'y', 'domain': [0.0, 1.0], 'title': {'text': 'date'}},\n",
       "               'yaxis': {'anchor': 'x', 'domain': [0.0, 1.0], 'title': {'text': 'value'}}}\n",
       "})"
      ],
      "text/html": [
       "<div>                        <script type=\"text/javascript\">window.PlotlyConfig = {MathJaxConfig: 'local'};</script>\n",
       "        <script src=\"https://cdn.plot.ly/plotly-latest.min.js\"></script>                <div id=\"ab56ab32-f716-43c8-9639-fce34b1dc6a3\" class=\"plotly-graph-div\" style=\"height:100%; width:100%;\"></div>            <script type=\"text/javascript\">                                    window.PLOTLYENV=window.PLOTLYENV || {};                                    if (document.getElementById(\"ab56ab32-f716-43c8-9639-fce34b1dc6a3\")) {                    Plotly.newPlot(                        \"ab56ab32-f716-43c8-9639-fce34b1dc6a3\",                        [{\"alignmentgroup\": \"True\", \"hovertemplate\": \"ticker=AMZN<br>date=%{x}<br>value=%{y}<extra></extra>\", \"legendgroup\": \"AMZN\", \"marker\": {\"color\": \"#636efa\"}, \"name\": \"AMZN\", \"offsetgroup\": \"AMZN\", \"orientation\": \"v\", \"showlegend\": true, \"textposition\": \"auto\", \"type\": \"bar\", \"x\": [\"2021-07-21\", \"2021-07-22\", \"2021-07-23\", \"2021-07-24\", \"2021-07-25\", \"2021-07-26\", \"2021-07-27\"], \"xaxis\": \"x\", \"y\": [null, null, 0.21026363636363635, 0.3849, 0.12776, 0.11007209302325582, 0.09611875], \"yaxis\": \"y\"}, {\"alignmentgroup\": \"True\", \"hovertemplate\": \"ticker=GOOG<br>date=%{x}<br>value=%{y}<extra></extra>\", \"legendgroup\": \"GOOG\", \"marker\": {\"color\": \"#EF553B\"}, \"name\": \"GOOG\", \"offsetgroup\": \"GOOG\", \"orientation\": \"v\", \"showlegend\": true, \"textposition\": \"auto\", \"type\": \"bar\", \"x\": [\"2021-07-21\", \"2021-07-22\", \"2021-07-23\", \"2021-07-24\", \"2021-07-25\", \"2021-07-26\", \"2021-07-27\"], \"xaxis\": \"x\", \"y\": [-0.015474999999999989, 0.07144090909090908, 0.07904583333333333, 0.48313333333333336, 0.2677, 0.16251739130434784, 0.004615789473684208], \"yaxis\": \"y\"}, {\"alignmentgroup\": \"True\", \"hovertemplate\": \"ticker=TSLA<br>date=%{x}<br>value=%{y}<extra></extra>\", \"legendgroup\": \"TSLA\", \"marker\": {\"color\": \"#00cc96\"}, \"name\": \"TSLA\", \"offsetgroup\": \"TSLA\", \"orientation\": \"v\", \"showlegend\": true, \"textposition\": \"auto\", \"type\": \"bar\", \"x\": [\"2021-07-21\", \"2021-07-22\", \"2021-07-23\", \"2021-07-24\", \"2021-07-25\", \"2021-07-26\", \"2021-07-27\"], \"xaxis\": \"x\", \"y\": [null, null, null, null, 0.07375714285714285, 0.06700363636363636, 0.046989473684210525], \"yaxis\": \"y\"}],                        {\"barmode\": \"group\", \"legend\": {\"title\": {\"text\": \"ticker\"}, \"tracegroupgap\": 0}, \"margin\": {\"t\": 60}, \"template\": {\"data\": {\"bar\": [{\"error_x\": {\"color\": \"#2a3f5f\"}, \"error_y\": {\"color\": \"#2a3f5f\"}, \"marker\": {\"line\": {\"color\": \"#E5ECF6\", \"width\": 0.5}}, \"type\": \"bar\"}], \"barpolar\": [{\"marker\": {\"line\": {\"color\": \"#E5ECF6\", \"width\": 0.5}}, \"type\": \"barpolar\"}], \"carpet\": [{\"aaxis\": {\"endlinecolor\": \"#2a3f5f\", \"gridcolor\": \"white\", \"linecolor\": \"white\", \"minorgridcolor\": \"white\", \"startlinecolor\": \"#2a3f5f\"}, \"baxis\": {\"endlinecolor\": \"#2a3f5f\", \"gridcolor\": \"white\", \"linecolor\": \"white\", \"minorgridcolor\": \"white\", \"startlinecolor\": \"#2a3f5f\"}, \"type\": \"carpet\"}], \"choropleth\": [{\"colorbar\": {\"outlinewidth\": 0, \"ticks\": \"\"}, \"type\": \"choropleth\"}], \"contour\": [{\"colorbar\": {\"outlinewidth\": 0, \"ticks\": \"\"}, \"colorscale\": [[0.0, \"#0d0887\"], [0.1111111111111111, \"#46039f\"], [0.2222222222222222, \"#7201a8\"], [0.3333333333333333, \"#9c179e\"], [0.4444444444444444, \"#bd3786\"], [0.5555555555555556, \"#d8576b\"], [0.6666666666666666, \"#ed7953\"], [0.7777777777777778, \"#fb9f3a\"], [0.8888888888888888, \"#fdca26\"], [1.0, \"#f0f921\"]], \"type\": \"contour\"}], \"contourcarpet\": [{\"colorbar\": {\"outlinewidth\": 0, \"ticks\": \"\"}, \"type\": \"contourcarpet\"}], \"heatmap\": [{\"colorbar\": {\"outlinewidth\": 0, \"ticks\": \"\"}, \"colorscale\": [[0.0, \"#0d0887\"], [0.1111111111111111, \"#46039f\"], [0.2222222222222222, \"#7201a8\"], [0.3333333333333333, \"#9c179e\"], [0.4444444444444444, \"#bd3786\"], [0.5555555555555556, \"#d8576b\"], [0.6666666666666666, \"#ed7953\"], [0.7777777777777778, \"#fb9f3a\"], [0.8888888888888888, \"#fdca26\"], [1.0, \"#f0f921\"]], \"type\": \"heatmap\"}], \"heatmapgl\": [{\"colorbar\": {\"outlinewidth\": 0, \"ticks\": \"\"}, \"colorscale\": [[0.0, \"#0d0887\"], [0.1111111111111111, \"#46039f\"], [0.2222222222222222, \"#7201a8\"], [0.3333333333333333, \"#9c179e\"], [0.4444444444444444, \"#bd3786\"], [0.5555555555555556, \"#d8576b\"], [0.6666666666666666, \"#ed7953\"], [0.7777777777777778, \"#fb9f3a\"], [0.8888888888888888, \"#fdca26\"], [1.0, \"#f0f921\"]], \"type\": \"heatmapgl\"}], \"histogram\": [{\"marker\": {\"colorbar\": {\"outlinewidth\": 0, \"ticks\": \"\"}}, \"type\": \"histogram\"}], \"histogram2d\": [{\"colorbar\": {\"outlinewidth\": 0, \"ticks\": \"\"}, \"colorscale\": [[0.0, \"#0d0887\"], [0.1111111111111111, \"#46039f\"], [0.2222222222222222, \"#7201a8\"], [0.3333333333333333, \"#9c179e\"], [0.4444444444444444, \"#bd3786\"], [0.5555555555555556, \"#d8576b\"], [0.6666666666666666, \"#ed7953\"], [0.7777777777777778, \"#fb9f3a\"], [0.8888888888888888, \"#fdca26\"], [1.0, \"#f0f921\"]], \"type\": \"histogram2d\"}], \"histogram2dcontour\": [{\"colorbar\": {\"outlinewidth\": 0, \"ticks\": \"\"}, \"colorscale\": [[0.0, \"#0d0887\"], [0.1111111111111111, \"#46039f\"], [0.2222222222222222, \"#7201a8\"], [0.3333333333333333, \"#9c179e\"], [0.4444444444444444, \"#bd3786\"], [0.5555555555555556, \"#d8576b\"], [0.6666666666666666, \"#ed7953\"], [0.7777777777777778, \"#fb9f3a\"], [0.8888888888888888, \"#fdca26\"], [1.0, \"#f0f921\"]], \"type\": \"histogram2dcontour\"}], \"mesh3d\": [{\"colorbar\": {\"outlinewidth\": 0, \"ticks\": \"\"}, \"type\": \"mesh3d\"}], \"parcoords\": [{\"line\": {\"colorbar\": {\"outlinewidth\": 0, \"ticks\": \"\"}}, \"type\": \"parcoords\"}], \"pie\": [{\"automargin\": true, \"type\": \"pie\"}], \"scatter\": [{\"marker\": {\"colorbar\": {\"outlinewidth\": 0, \"ticks\": \"\"}}, \"type\": \"scatter\"}], \"scatter3d\": [{\"line\": {\"colorbar\": {\"outlinewidth\": 0, \"ticks\": \"\"}}, \"marker\": {\"colorbar\": {\"outlinewidth\": 0, \"ticks\": \"\"}}, \"type\": \"scatter3d\"}], \"scattercarpet\": [{\"marker\": {\"colorbar\": {\"outlinewidth\": 0, \"ticks\": \"\"}}, \"type\": \"scattercarpet\"}], \"scattergeo\": [{\"marker\": {\"colorbar\": {\"outlinewidth\": 0, \"ticks\": \"\"}}, \"type\": \"scattergeo\"}], \"scattergl\": [{\"marker\": {\"colorbar\": {\"outlinewidth\": 0, \"ticks\": \"\"}}, \"type\": \"scattergl\"}], \"scattermapbox\": [{\"marker\": {\"colorbar\": {\"outlinewidth\": 0, \"ticks\": \"\"}}, \"type\": \"scattermapbox\"}], \"scatterpolar\": [{\"marker\": {\"colorbar\": {\"outlinewidth\": 0, \"ticks\": \"\"}}, \"type\": \"scatterpolar\"}], \"scatterpolargl\": [{\"marker\": {\"colorbar\": {\"outlinewidth\": 0, \"ticks\": \"\"}}, \"type\": \"scatterpolargl\"}], \"scatterternary\": [{\"marker\": {\"colorbar\": {\"outlinewidth\": 0, \"ticks\": \"\"}}, \"type\": \"scatterternary\"}], \"surface\": [{\"colorbar\": {\"outlinewidth\": 0, \"ticks\": \"\"}, \"colorscale\": [[0.0, \"#0d0887\"], [0.1111111111111111, \"#46039f\"], [0.2222222222222222, \"#7201a8\"], [0.3333333333333333, \"#9c179e\"], [0.4444444444444444, \"#bd3786\"], [0.5555555555555556, \"#d8576b\"], [0.6666666666666666, \"#ed7953\"], [0.7777777777777778, \"#fb9f3a\"], [0.8888888888888888, \"#fdca26\"], [1.0, \"#f0f921\"]], \"type\": \"surface\"}], \"table\": [{\"cells\": {\"fill\": {\"color\": \"#EBF0F8\"}, \"line\": {\"color\": \"white\"}}, \"header\": {\"fill\": {\"color\": \"#C8D4E3\"}, \"line\": {\"color\": \"white\"}}, \"type\": \"table\"}]}, \"layout\": {\"annotationdefaults\": {\"arrowcolor\": \"#2a3f5f\", \"arrowhead\": 0, \"arrowwidth\": 1}, \"autotypenumbers\": \"strict\", \"coloraxis\": {\"colorbar\": {\"outlinewidth\": 0, \"ticks\": \"\"}}, \"colorscale\": {\"diverging\": [[0, \"#8e0152\"], [0.1, \"#c51b7d\"], [0.2, \"#de77ae\"], [0.3, \"#f1b6da\"], [0.4, \"#fde0ef\"], [0.5, \"#f7f7f7\"], [0.6, \"#e6f5d0\"], [0.7, \"#b8e186\"], [0.8, \"#7fbc41\"], [0.9, \"#4d9221\"], [1, \"#276419\"]], \"sequential\": [[0.0, \"#0d0887\"], [0.1111111111111111, \"#46039f\"], [0.2222222222222222, \"#7201a8\"], [0.3333333333333333, \"#9c179e\"], [0.4444444444444444, \"#bd3786\"], [0.5555555555555556, \"#d8576b\"], [0.6666666666666666, \"#ed7953\"], [0.7777777777777778, \"#fb9f3a\"], [0.8888888888888888, \"#fdca26\"], [1.0, \"#f0f921\"]], \"sequentialminus\": [[0.0, \"#0d0887\"], [0.1111111111111111, \"#46039f\"], [0.2222222222222222, \"#7201a8\"], [0.3333333333333333, \"#9c179e\"], [0.4444444444444444, \"#bd3786\"], [0.5555555555555556, \"#d8576b\"], [0.6666666666666666, \"#ed7953\"], [0.7777777777777778, \"#fb9f3a\"], [0.8888888888888888, \"#fdca26\"], [1.0, \"#f0f921\"]]}, \"colorway\": [\"#636efa\", \"#EF553B\", \"#00cc96\", \"#ab63fa\", \"#FFA15A\", \"#19d3f3\", \"#FF6692\", \"#B6E880\", \"#FF97FF\", \"#FECB52\"], \"font\": {\"color\": \"#2a3f5f\"}, \"geo\": {\"bgcolor\": \"white\", \"lakecolor\": \"white\", \"landcolor\": \"#E5ECF6\", \"showlakes\": true, \"showland\": true, \"subunitcolor\": \"white\"}, \"hoverlabel\": {\"align\": \"left\"}, \"hovermode\": \"closest\", \"mapbox\": {\"style\": \"light\"}, \"paper_bgcolor\": \"white\", \"plot_bgcolor\": \"#E5ECF6\", \"polar\": {\"angularaxis\": {\"gridcolor\": \"white\", \"linecolor\": \"white\", \"ticks\": \"\"}, \"bgcolor\": \"#E5ECF6\", \"radialaxis\": {\"gridcolor\": \"white\", \"linecolor\": \"white\", \"ticks\": \"\"}}, \"scene\": {\"xaxis\": {\"backgroundcolor\": \"#E5ECF6\", \"gridcolor\": \"white\", \"gridwidth\": 2, \"linecolor\": \"white\", \"showbackground\": true, \"ticks\": \"\", \"zerolinecolor\": \"white\"}, \"yaxis\": {\"backgroundcolor\": \"#E5ECF6\", \"gridcolor\": \"white\", \"gridwidth\": 2, \"linecolor\": \"white\", \"showbackground\": true, \"ticks\": \"\", \"zerolinecolor\": \"white\"}, \"zaxis\": {\"backgroundcolor\": \"#E5ECF6\", \"gridcolor\": \"white\", \"gridwidth\": 2, \"linecolor\": \"white\", \"showbackground\": true, \"ticks\": \"\", \"zerolinecolor\": \"white\"}}, \"shapedefaults\": {\"line\": {\"color\": \"#2a3f5f\"}}, \"ternary\": {\"aaxis\": {\"gridcolor\": \"white\", \"linecolor\": \"white\", \"ticks\": \"\"}, \"baxis\": {\"gridcolor\": \"white\", \"linecolor\": \"white\", \"ticks\": \"\"}, \"bgcolor\": \"#E5ECF6\", \"caxis\": {\"gridcolor\": \"white\", \"linecolor\": \"white\", \"ticks\": \"\"}}, \"title\": {\"x\": 0.05}, \"xaxis\": {\"automargin\": true, \"gridcolor\": \"white\", \"linecolor\": \"white\", \"ticks\": \"\", \"title\": {\"standoff\": 15}, \"zerolinecolor\": \"white\", \"zerolinewidth\": 2}, \"yaxis\": {\"automargin\": true, \"gridcolor\": \"white\", \"linecolor\": \"white\", \"ticks\": \"\", \"title\": {\"standoff\": 15}, \"zerolinecolor\": \"white\", \"zerolinewidth\": 2}}}, \"xaxis\": {\"anchor\": \"y\", \"domain\": [0.0, 1.0], \"title\": {\"text\": \"date\"}}, \"yaxis\": {\"anchor\": \"x\", \"domain\": [0.0, 1.0], \"title\": {\"text\": \"value\"}}},                        {\"responsive\": true}                    )                };                            </script>        </div>"
      ],
      "application/vnd.plotly.v1+json": {
       "config": {
        "plotlyServerURL": "https://plot.ly"
       },
       "data": [
        {
         "alignmentgroup": "True",
         "hovertemplate": "ticker=AMZN<br>date=%{x}<br>value=%{y}<extra></extra>",
         "legendgroup": "AMZN",
         "marker": {
          "color": "#636efa"
         },
         "name": "AMZN",
         "offsetgroup": "AMZN",
         "orientation": "v",
         "showlegend": true,
         "textposition": "auto",
         "type": "bar",
         "x": [
          "2021-07-21",
          "2021-07-22",
          "2021-07-23",
          "2021-07-24",
          "2021-07-25",
          "2021-07-26",
          "2021-07-27"
         ],
         "xaxis": "x",
         "y": [
          null,
          null,
          0.21026363636363635,
          0.3849,
          0.12776,
          0.11007209302325582,
          0.09611875
         ],
         "yaxis": "y"
        },
        {
         "alignmentgroup": "True",
         "hovertemplate": "ticker=GOOG<br>date=%{x}<br>value=%{y}<extra></extra>",
         "legendgroup": "GOOG",
         "marker": {
          "color": "#EF553B"
         },
         "name": "GOOG",
         "offsetgroup": "GOOG",
         "orientation": "v",
         "showlegend": true,
         "textposition": "auto",
         "type": "bar",
         "x": [
          "2021-07-21",
          "2021-07-22",
          "2021-07-23",
          "2021-07-24",
          "2021-07-25",
          "2021-07-26",
          "2021-07-27"
         ],
         "xaxis": "x",
         "y": [
          -0.015474999999999989,
          0.07144090909090908,
          0.07904583333333333,
          0.48313333333333336,
          0.2677,
          0.16251739130434784,
          0.004615789473684208
         ],
         "yaxis": "y"
        },
        {
         "alignmentgroup": "True",
         "hovertemplate": "ticker=TSLA<br>date=%{x}<br>value=%{y}<extra></extra>",
         "legendgroup": "TSLA",
         "marker": {
          "color": "#00cc96"
         },
         "name": "TSLA",
         "offsetgroup": "TSLA",
         "orientation": "v",
         "showlegend": true,
         "textposition": "auto",
         "type": "bar",
         "x": [
          "2021-07-21",
          "2021-07-22",
          "2021-07-23",
          "2021-07-24",
          "2021-07-25",
          "2021-07-26",
          "2021-07-27"
         ],
         "xaxis": "x",
         "y": [
          null,
          null,
          null,
          null,
          0.07375714285714285,
          0.06700363636363636,
          0.046989473684210525
         ],
         "yaxis": "y"
        }
       ],
       "layout": {
        "barmode": "group",
        "legend": {
         "title": {
          "text": "ticker"
         },
         "tracegroupgap": 0
        },
        "margin": {
         "t": 60
        },
        "template": {
         "data": {
          "bar": [
           {
            "error_x": {
             "color": "#2a3f5f"
            },
            "error_y": {
             "color": "#2a3f5f"
            },
            "marker": {
             "line": {
              "color": "#E5ECF6",
              "width": 0.5
             }
            },
            "type": "bar"
           }
          ],
          "barpolar": [
           {
            "marker": {
             "line": {
              "color": "#E5ECF6",
              "width": 0.5
             }
            },
            "type": "barpolar"
           }
          ],
          "carpet": [
           {
            "aaxis": {
             "endlinecolor": "#2a3f5f",
             "gridcolor": "white",
             "linecolor": "white",
             "minorgridcolor": "white",
             "startlinecolor": "#2a3f5f"
            },
            "baxis": {
             "endlinecolor": "#2a3f5f",
             "gridcolor": "white",
             "linecolor": "white",
             "minorgridcolor": "white",
             "startlinecolor": "#2a3f5f"
            },
            "type": "carpet"
           }
          ],
          "choropleth": [
           {
            "colorbar": {
             "outlinewidth": 0,
             "ticks": ""
            },
            "type": "choropleth"
           }
          ],
          "contour": [
           {
            "colorbar": {
             "outlinewidth": 0,
             "ticks": ""
            },
            "colorscale": [
             [
              0,
              "#0d0887"
             ],
             [
              0.1111111111111111,
              "#46039f"
             ],
             [
              0.2222222222222222,
              "#7201a8"
             ],
             [
              0.3333333333333333,
              "#9c179e"
             ],
             [
              0.4444444444444444,
              "#bd3786"
             ],
             [
              0.5555555555555556,
              "#d8576b"
             ],
             [
              0.6666666666666666,
              "#ed7953"
             ],
             [
              0.7777777777777778,
              "#fb9f3a"
             ],
             [
              0.8888888888888888,
              "#fdca26"
             ],
             [
              1,
              "#f0f921"
             ]
            ],
            "type": "contour"
           }
          ],
          "contourcarpet": [
           {
            "colorbar": {
             "outlinewidth": 0,
             "ticks": ""
            },
            "type": "contourcarpet"
           }
          ],
          "heatmap": [
           {
            "colorbar": {
             "outlinewidth": 0,
             "ticks": ""
            },
            "colorscale": [
             [
              0,
              "#0d0887"
             ],
             [
              0.1111111111111111,
              "#46039f"
             ],
             [
              0.2222222222222222,
              "#7201a8"
             ],
             [
              0.3333333333333333,
              "#9c179e"
             ],
             [
              0.4444444444444444,
              "#bd3786"
             ],
             [
              0.5555555555555556,
              "#d8576b"
             ],
             [
              0.6666666666666666,
              "#ed7953"
             ],
             [
              0.7777777777777778,
              "#fb9f3a"
             ],
             [
              0.8888888888888888,
              "#fdca26"
             ],
             [
              1,
              "#f0f921"
             ]
            ],
            "type": "heatmap"
           }
          ],
          "heatmapgl": [
           {
            "colorbar": {
             "outlinewidth": 0,
             "ticks": ""
            },
            "colorscale": [
             [
              0,
              "#0d0887"
             ],
             [
              0.1111111111111111,
              "#46039f"
             ],
             [
              0.2222222222222222,
              "#7201a8"
             ],
             [
              0.3333333333333333,
              "#9c179e"
             ],
             [
              0.4444444444444444,
              "#bd3786"
             ],
             [
              0.5555555555555556,
              "#d8576b"
             ],
             [
              0.6666666666666666,
              "#ed7953"
             ],
             [
              0.7777777777777778,
              "#fb9f3a"
             ],
             [
              0.8888888888888888,
              "#fdca26"
             ],
             [
              1,
              "#f0f921"
             ]
            ],
            "type": "heatmapgl"
           }
          ],
          "histogram": [
           {
            "marker": {
             "colorbar": {
              "outlinewidth": 0,
              "ticks": ""
             }
            },
            "type": "histogram"
           }
          ],
          "histogram2d": [
           {
            "colorbar": {
             "outlinewidth": 0,
             "ticks": ""
            },
            "colorscale": [
             [
              0,
              "#0d0887"
             ],
             [
              0.1111111111111111,
              "#46039f"
             ],
             [
              0.2222222222222222,
              "#7201a8"
             ],
             [
              0.3333333333333333,
              "#9c179e"
             ],
             [
              0.4444444444444444,
              "#bd3786"
             ],
             [
              0.5555555555555556,
              "#d8576b"
             ],
             [
              0.6666666666666666,
              "#ed7953"
             ],
             [
              0.7777777777777778,
              "#fb9f3a"
             ],
             [
              0.8888888888888888,
              "#fdca26"
             ],
             [
              1,
              "#f0f921"
             ]
            ],
            "type": "histogram2d"
           }
          ],
          "histogram2dcontour": [
           {
            "colorbar": {
             "outlinewidth": 0,
             "ticks": ""
            },
            "colorscale": [
             [
              0,
              "#0d0887"
             ],
             [
              0.1111111111111111,
              "#46039f"
             ],
             [
              0.2222222222222222,
              "#7201a8"
             ],
             [
              0.3333333333333333,
              "#9c179e"
             ],
             [
              0.4444444444444444,
              "#bd3786"
             ],
             [
              0.5555555555555556,
              "#d8576b"
             ],
             [
              0.6666666666666666,
              "#ed7953"
             ],
             [
              0.7777777777777778,
              "#fb9f3a"
             ],
             [
              0.8888888888888888,
              "#fdca26"
             ],
             [
              1,
              "#f0f921"
             ]
            ],
            "type": "histogram2dcontour"
           }
          ],
          "mesh3d": [
           {
            "colorbar": {
             "outlinewidth": 0,
             "ticks": ""
            },
            "type": "mesh3d"
           }
          ],
          "parcoords": [
           {
            "line": {
             "colorbar": {
              "outlinewidth": 0,
              "ticks": ""
             }
            },
            "type": "parcoords"
           }
          ],
          "pie": [
           {
            "automargin": true,
            "type": "pie"
           }
          ],
          "scatter": [
           {
            "marker": {
             "colorbar": {
              "outlinewidth": 0,
              "ticks": ""
             }
            },
            "type": "scatter"
           }
          ],
          "scatter3d": [
           {
            "line": {
             "colorbar": {
              "outlinewidth": 0,
              "ticks": ""
             }
            },
            "marker": {
             "colorbar": {
              "outlinewidth": 0,
              "ticks": ""
             }
            },
            "type": "scatter3d"
           }
          ],
          "scattercarpet": [
           {
            "marker": {
             "colorbar": {
              "outlinewidth": 0,
              "ticks": ""
             }
            },
            "type": "scattercarpet"
           }
          ],
          "scattergeo": [
           {
            "marker": {
             "colorbar": {
              "outlinewidth": 0,
              "ticks": ""
             }
            },
            "type": "scattergeo"
           }
          ],
          "scattergl": [
           {
            "marker": {
             "colorbar": {
              "outlinewidth": 0,
              "ticks": ""
             }
            },
            "type": "scattergl"
           }
          ],
          "scattermapbox": [
           {
            "marker": {
             "colorbar": {
              "outlinewidth": 0,
              "ticks": ""
             }
            },
            "type": "scattermapbox"
           }
          ],
          "scatterpolar": [
           {
            "marker": {
             "colorbar": {
              "outlinewidth": 0,
              "ticks": ""
             }
            },
            "type": "scatterpolar"
           }
          ],
          "scatterpolargl": [
           {
            "marker": {
             "colorbar": {
              "outlinewidth": 0,
              "ticks": ""
             }
            },
            "type": "scatterpolargl"
           }
          ],
          "scatterternary": [
           {
            "marker": {
             "colorbar": {
              "outlinewidth": 0,
              "ticks": ""
             }
            },
            "type": "scatterternary"
           }
          ],
          "surface": [
           {
            "colorbar": {
             "outlinewidth": 0,
             "ticks": ""
            },
            "colorscale": [
             [
              0,
              "#0d0887"
             ],
             [
              0.1111111111111111,
              "#46039f"
             ],
             [
              0.2222222222222222,
              "#7201a8"
             ],
             [
              0.3333333333333333,
              "#9c179e"
             ],
             [
              0.4444444444444444,
              "#bd3786"
             ],
             [
              0.5555555555555556,
              "#d8576b"
             ],
             [
              0.6666666666666666,
              "#ed7953"
             ],
             [
              0.7777777777777778,
              "#fb9f3a"
             ],
             [
              0.8888888888888888,
              "#fdca26"
             ],
             [
              1,
              "#f0f921"
             ]
            ],
            "type": "surface"
           }
          ],
          "table": [
           {
            "cells": {
             "fill": {
              "color": "#EBF0F8"
             },
             "line": {
              "color": "white"
             }
            },
            "header": {
             "fill": {
              "color": "#C8D4E3"
             },
             "line": {
              "color": "white"
             }
            },
            "type": "table"
           }
          ]
         },
         "layout": {
          "annotationdefaults": {
           "arrowcolor": "#2a3f5f",
           "arrowhead": 0,
           "arrowwidth": 1
          },
          "autotypenumbers": "strict",
          "coloraxis": {
           "colorbar": {
            "outlinewidth": 0,
            "ticks": ""
           }
          },
          "colorscale": {
           "diverging": [
            [
             0,
             "#8e0152"
            ],
            [
             0.1,
             "#c51b7d"
            ],
            [
             0.2,
             "#de77ae"
            ],
            [
             0.3,
             "#f1b6da"
            ],
            [
             0.4,
             "#fde0ef"
            ],
            [
             0.5,
             "#f7f7f7"
            ],
            [
             0.6,
             "#e6f5d0"
            ],
            [
             0.7,
             "#b8e186"
            ],
            [
             0.8,
             "#7fbc41"
            ],
            [
             0.9,
             "#4d9221"
            ],
            [
             1,
             "#276419"
            ]
           ],
           "sequential": [
            [
             0,
             "#0d0887"
            ],
            [
             0.1111111111111111,
             "#46039f"
            ],
            [
             0.2222222222222222,
             "#7201a8"
            ],
            [
             0.3333333333333333,
             "#9c179e"
            ],
            [
             0.4444444444444444,
             "#bd3786"
            ],
            [
             0.5555555555555556,
             "#d8576b"
            ],
            [
             0.6666666666666666,
             "#ed7953"
            ],
            [
             0.7777777777777778,
             "#fb9f3a"
            ],
            [
             0.8888888888888888,
             "#fdca26"
            ],
            [
             1,
             "#f0f921"
            ]
           ],
           "sequentialminus": [
            [
             0,
             "#0d0887"
            ],
            [
             0.1111111111111111,
             "#46039f"
            ],
            [
             0.2222222222222222,
             "#7201a8"
            ],
            [
             0.3333333333333333,
             "#9c179e"
            ],
            [
             0.4444444444444444,
             "#bd3786"
            ],
            [
             0.5555555555555556,
             "#d8576b"
            ],
            [
             0.6666666666666666,
             "#ed7953"
            ],
            [
             0.7777777777777778,
             "#fb9f3a"
            ],
            [
             0.8888888888888888,
             "#fdca26"
            ],
            [
             1,
             "#f0f921"
            ]
           ]
          },
          "colorway": [
           "#636efa",
           "#EF553B",
           "#00cc96",
           "#ab63fa",
           "#FFA15A",
           "#19d3f3",
           "#FF6692",
           "#B6E880",
           "#FF97FF",
           "#FECB52"
          ],
          "font": {
           "color": "#2a3f5f"
          },
          "geo": {
           "bgcolor": "white",
           "lakecolor": "white",
           "landcolor": "#E5ECF6",
           "showlakes": true,
           "showland": true,
           "subunitcolor": "white"
          },
          "hoverlabel": {
           "align": "left"
          },
          "hovermode": "closest",
          "mapbox": {
           "style": "light"
          },
          "paper_bgcolor": "white",
          "plot_bgcolor": "#E5ECF6",
          "polar": {
           "angularaxis": {
            "gridcolor": "white",
            "linecolor": "white",
            "ticks": ""
           },
           "bgcolor": "#E5ECF6",
           "radialaxis": {
            "gridcolor": "white",
            "linecolor": "white",
            "ticks": ""
           }
          },
          "scene": {
           "xaxis": {
            "backgroundcolor": "#E5ECF6",
            "gridcolor": "white",
            "gridwidth": 2,
            "linecolor": "white",
            "showbackground": true,
            "ticks": "",
            "zerolinecolor": "white"
           },
           "yaxis": {
            "backgroundcolor": "#E5ECF6",
            "gridcolor": "white",
            "gridwidth": 2,
            "linecolor": "white",
            "showbackground": true,
            "ticks": "",
            "zerolinecolor": "white"
           },
           "zaxis": {
            "backgroundcolor": "#E5ECF6",
            "gridcolor": "white",
            "gridwidth": 2,
            "linecolor": "white",
            "showbackground": true,
            "ticks": "",
            "zerolinecolor": "white"
           }
          },
          "shapedefaults": {
           "line": {
            "color": "#2a3f5f"
           }
          },
          "ternary": {
           "aaxis": {
            "gridcolor": "white",
            "linecolor": "white",
            "ticks": ""
           },
           "baxis": {
            "gridcolor": "white",
            "linecolor": "white",
            "ticks": ""
           },
           "bgcolor": "#E5ECF6",
           "caxis": {
            "gridcolor": "white",
            "linecolor": "white",
            "ticks": ""
           }
          },
          "title": {
           "x": 0.05
          },
          "xaxis": {
           "automargin": true,
           "gridcolor": "white",
           "linecolor": "white",
           "ticks": "",
           "title": {
            "standoff": 15
           },
           "zerolinecolor": "white",
           "zerolinewidth": 2
          },
          "yaxis": {
           "automargin": true,
           "gridcolor": "white",
           "linecolor": "white",
           "ticks": "",
           "title": {
            "standoff": 15
           },
           "zerolinecolor": "white",
           "zerolinewidth": 2
          }
         }
        },
        "xaxis": {
         "anchor": "y",
         "domain": [
          0,
          1
         ],
         "title": {
          "text": "date"
         }
        },
        "yaxis": {
         "anchor": "x",
         "domain": [
          0,
          1
         ],
         "title": {
          "text": "value"
         }
        }
       }
      }
     },
     "metadata": {},
     "execution_count": 67
    }
   ],
   "metadata": {}
  },
  {
   "cell_type": "code",
   "execution_count": 69,
   "source": [
    "import plotly.graph_objects as go # or plotly.express as px\r\n",
    "# fig = go.Figure() # or any Plotly Express function e.g. px.bar(...)\r\n",
    "# fig.add_trace( ... )\r\n",
    "# fig.update_layout( ... )\r\n",
    "\r\n",
    "import dash\r\n",
    "import dash_core_components as dcc\r\n",
    "import dash_html_components as html\r\n",
    "\r\n",
    "app = dash.Dash()\r\n",
    "app.layout = html.Div([\r\n",
    "    dcc.Graph(figure=fig)\r\n",
    "])\r\n",
    "\r\n",
    "app.run_server(debug=False, use_reloader=False) "
   ],
   "outputs": [
    {
     "output_type": "stream",
     "name": "stdout",
     "text": [
      "Dash is running on http://127.0.0.1:8050/\n",
      "\n",
      "Dash is running on http://127.0.0.1:8050/\n",
      "\n",
      " * Serving Flask app \"__main__\" (lazy loading)\n",
      " * Environment: production\n",
      "   WARNING: This is a development server. Do not use it in a production deployment.\n",
      "   Use a production WSGI server instead.\n",
      " * Debug mode: off\n"
     ]
    }
   ],
   "metadata": {}
  },
  {
   "cell_type": "code",
   "execution_count": null,
   "source": [],
   "outputs": [],
   "metadata": {}
  }
 ],
 "metadata": {
  "orig_nbformat": 4,
  "language_info": {
   "name": "python",
   "version": "3.8.10",
   "mimetype": "text/x-python",
   "codemirror_mode": {
    "name": "ipython",
    "version": 3
   },
   "pygments_lexer": "ipython3",
   "nbconvert_exporter": "python",
   "file_extension": ".py"
  },
  "kernelspec": {
   "name": "python3",
   "display_name": "Python 3.8.10 64-bit ('project3': conda)"
  },
  "interpreter": {
   "hash": "5d4c6269effcd4d3ef5f9a2e39285257dbec2e7fbb3a11a1f54b6b1fe87dc19e"
  }
 },
 "nbformat": 4,
 "nbformat_minor": 2
}