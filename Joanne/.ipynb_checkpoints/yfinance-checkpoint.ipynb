{
 "cells": [
  {
   "cell_type": "code",
   "execution_count": null,
   "metadata": {},
   "outputs": [],
   "source": [
    "# Import libraries and dependencies\n",
    "import dash\n",
    "import dash_core_components as dcc\n",
    "import dash_html_components as html\n",
    "import plotly.express as px\n",
    "import pandas as pd\n",
    "import yfinance as yf\n",
    "\n",
    "# Apply Dash function\n",
    "app = dash.Dash(__name__)\n",
    "\n",
    "external_stylesheets = ['https://codepen.io/chriddyp/pen/bWLwgP.css']\n",
    "\n",
    "# Retrieve stock information\n",
    "stock = (yf.Ticker('BA')).history(period= \"1d\", interval = \"5m\").reset_index()\n",
    "\n",
    "# Create line plot\n",
    "fig = px.line(stock, x='Datetime', y=\"Open\")\n",
    "\n",
    "# Modify layout\n",
    "app.layout = html.Div(children=[\n",
    "    html.H1(children='Hello Dash'), # Header 1\n",
    "    html.Div(children='''\n",
    "        Dash: A web application framework for Python.\n",
    "    '''), # String (similiar to Markdown but NOT markdown)\n",
    "    dcc.Graph( # Line graph\n",
    "        id='example-graph', # provide id to graph\n",
    "        figure=fig # specify graoh variable\n",
    "    )\n",
    "]\n",
    ")\n",
    "\n",
    "if __name__ == '__main__':\n",
    "    app.run_server(debug=False, port = 8095)"
   ]
  },
  {
   "cell_type": "code",
   "execution_count": null,
   "metadata": {},
   "outputs": [],
   "source": []
  }
 ],
 "metadata": {
  "kernelspec": {
   "display_name": "Python [conda env:hvplot_dev]",
   "language": "python",
   "name": "conda-env-hvplot_dev-py"
  },
  "language_info": {
   "codemirror_mode": {
    "name": "ipython",
    "version": 3
   },
   "file_extension": ".py",
   "mimetype": "text/x-python",
   "name": "python",
   "nbconvert_exporter": "python",
   "pygments_lexer": "ipython3",
   "version": "3.6.13"
  }
 },
 "nbformat": 4,
 "nbformat_minor": 4
}
