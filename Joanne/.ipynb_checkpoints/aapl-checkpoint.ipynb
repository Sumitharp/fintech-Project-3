{
 "cells": [
  {
   "cell_type": "code",
   "execution_count": 1,
   "metadata": {},
   "outputs": [
    {
     "name": "stderr",
     "output_type": "stream",
     "text": [
      "C:\\Users\\Joanne\\anaconda3\\envs\\hvplot_dev\\lib\\site-packages\\ipykernel\\parentpoller.py:116: UserWarning: Parent poll failed.  If the frontend dies,\n",
      "                the kernel may be left running.  Please let us know\n",
      "                about your system (bitness, Python, etc.) at\n",
      "                ipython-dev@scipy.org\n",
      "  ipython-dev@scipy.org\"\"\")\n"
     ]
    }
   ],
   "source": [
    "#Import the libraries\n",
    "import math\n",
    "import pandas_datareader as web\n",
    "import numpy as np\n",
    "import pandas as pd\n",
    "from sklearn.preprocessing import MinMaxScaler\n",
    "from keras.models import Sequential\n",
    "from keras.layers import Dense, LSTM\n",
    "import matplotlib.pyplot as plt\n",
    "plt.style.use('fivethirtyeight')"
   ]
  },
  {
   "cell_type": "code",
   "execution_count": 2,
   "metadata": {},
   "outputs": [
    {
     "name": "stdout",
     "output_type": "stream",
     "text": [
      "Requirement already satisfied: pandas_datareader in c:\\users\\joanne\\anaconda3\\envs\\hvplot_dev\\lib\\site-packages (0.10.0)\n",
      "Requirement already satisfied: requests>=2.19.0 in c:\\users\\joanne\\anaconda3\\envs\\hvplot_dev\\lib\\site-packages (from pandas_datareader) (2.25.1)\n",
      "Requirement already satisfied: lxml in c:\\users\\joanne\\anaconda3\\envs\\hvplot_dev\\lib\\site-packages (from pandas_datareader) (4.6.3)\n",
      "Requirement already satisfied: pandas>=0.23 in c:\\users\\joanne\\anaconda3\\envs\\hvplot_dev\\lib\\site-packages (from pandas_datareader) (1.1.5)\n",
      "Requirement already satisfied: numpy>=1.15.4 in c:\\users\\joanne\\anaconda3\\envs\\hvplot_dev\\lib\\site-packages (from pandas>=0.23->pandas_datareader) (1.19.5)\n",
      "Requirement already satisfied: python-dateutil>=2.7.3 in c:\\users\\joanne\\anaconda3\\envs\\hvplot_dev\\lib\\site-packages (from pandas>=0.23->pandas_datareader) (2.8.2)\n",
      "Requirement already satisfied: pytz>=2017.2 in c:\\users\\joanne\\anaconda3\\envs\\hvplot_dev\\lib\\site-packages (from pandas>=0.23->pandas_datareader) (2021.1)\n",
      "Requirement already satisfied: six>=1.5 in c:\\users\\joanne\\anaconda3\\envs\\hvplot_dev\\lib\\site-packages (from python-dateutil>=2.7.3->pandas>=0.23->pandas_datareader) (1.15.0)\n",
      "Requirement already satisfied: chardet<5,>=3.0.2 in c:\\users\\joanne\\anaconda3\\envs\\hvplot_dev\\lib\\site-packages (from requests>=2.19.0->pandas_datareader) (4.0.0)\n",
      "Requirement already satisfied: urllib3<1.27,>=1.21.1 in c:\\users\\joanne\\anaconda3\\envs\\hvplot_dev\\lib\\site-packages (from requests>=2.19.0->pandas_datareader) (1.26.6)\n",
      "Requirement already satisfied: idna<3,>=2.5 in c:\\users\\joanne\\anaconda3\\envs\\hvplot_dev\\lib\\site-packages (from requests>=2.19.0->pandas_datareader) (2.10)\n",
      "Requirement already satisfied: certifi>=2017.4.17 in c:\\users\\joanne\\anaconda3\\envs\\hvplot_dev\\lib\\site-packages (from requests>=2.19.0->pandas_datareader) (2021.5.30)\n"
     ]
    }
   ],
   "source": [
    "!pip3 install pandas_datareader\n"
   ]
  },
  {
   "cell_type": "code",
   "execution_count": 3,
   "metadata": {},
   "outputs": [
    {
     "name": "stdout",
     "output_type": "stream",
     "text": [
      "Requirement already satisfied: keras in c:\\users\\joanne\\anaconda3\\envs\\hvplot_dev\\lib\\site-packages (2.4.3)\n",
      "Requirement already satisfied: pyyaml in c:\\users\\joanne\\anaconda3\\envs\\hvplot_dev\\lib\\site-packages (from keras) (5.4.1)\n",
      "Requirement already satisfied: scipy>=0.14 in c:\\users\\joanne\\anaconda3\\envs\\hvplot_dev\\lib\\site-packages (from keras) (1.5.4)\n",
      "Requirement already satisfied: numpy>=1.9.1 in c:\\users\\joanne\\anaconda3\\envs\\hvplot_dev\\lib\\site-packages (from keras) (1.19.5)\n",
      "Requirement already satisfied: h5py in c:\\users\\joanne\\anaconda3\\envs\\hvplot_dev\\lib\\site-packages (from keras) (3.1.0)\n",
      "Requirement already satisfied: cached-property in c:\\users\\joanne\\anaconda3\\envs\\hvplot_dev\\lib\\site-packages (from h5py->keras) (1.5.2)\n",
      "Note: you may need to restart the kernel to use updated packages.\n"
     ]
    }
   ],
   "source": [
    "pip install keras\n"
   ]
  },
  {
   "cell_type": "code",
   "execution_count": 4,
   "metadata": {},
   "outputs": [
    {
     "name": "stdout",
     "output_type": "stream",
     "text": [
      "Requirement already satisfied: matplotlip in c:\\users\\joanne\\anaconda3\\envs\\hvplot_dev\\lib\\site-packages (0.2)\n",
      "Note: you may need to restart the kernel to use updated packages.\n"
     ]
    }
   ],
   "source": [
    "pip install matplotlip"
   ]
  },
  {
   "cell_type": "code",
   "execution_count": 5,
   "metadata": {},
   "outputs": [],
   "source": [
    "#get the stock quote\n",
    "df = web.DataReader('AAPL', data_source='yahoo', start='2012-01-01', end='2021-07-26') "
   ]
  },
  {
   "cell_type": "code",
   "execution_count": 6,
   "metadata": {},
   "outputs": [
    {
     "data": {
      "text/html": [
       "<div>\n",
       "<style scoped>\n",
       "    .dataframe tbody tr th:only-of-type {\n",
       "        vertical-align: middle;\n",
       "    }\n",
       "\n",
       "    .dataframe tbody tr th {\n",
       "        vertical-align: top;\n",
       "    }\n",
       "\n",
       "    .dataframe thead th {\n",
       "        text-align: right;\n",
       "    }\n",
       "</style>\n",
       "<table border=\"1\" class=\"dataframe\">\n",
       "  <thead>\n",
       "    <tr style=\"text-align: right;\">\n",
       "      <th></th>\n",
       "      <th>High</th>\n",
       "      <th>Low</th>\n",
       "      <th>Open</th>\n",
       "      <th>Close</th>\n",
       "      <th>Volume</th>\n",
       "      <th>Adj Close</th>\n",
       "    </tr>\n",
       "    <tr>\n",
       "      <th>Date</th>\n",
       "      <th></th>\n",
       "      <th></th>\n",
       "      <th></th>\n",
       "      <th></th>\n",
       "      <th></th>\n",
       "      <th></th>\n",
       "    </tr>\n",
       "  </thead>\n",
       "  <tbody>\n",
       "    <tr>\n",
       "      <th>2021-07-13</th>\n",
       "      <td>147.460007</td>\n",
       "      <td>143.630005</td>\n",
       "      <td>144.029999</td>\n",
       "      <td>145.639999</td>\n",
       "      <td>100827100.0</td>\n",
       "      <td>145.639999</td>\n",
       "    </tr>\n",
       "    <tr>\n",
       "      <th>2021-07-14</th>\n",
       "      <td>149.570007</td>\n",
       "      <td>147.679993</td>\n",
       "      <td>148.100006</td>\n",
       "      <td>149.149994</td>\n",
       "      <td>127050800.0</td>\n",
       "      <td>149.149994</td>\n",
       "    </tr>\n",
       "    <tr>\n",
       "      <th>2021-07-15</th>\n",
       "      <td>150.000000</td>\n",
       "      <td>147.089996</td>\n",
       "      <td>149.240005</td>\n",
       "      <td>148.479996</td>\n",
       "      <td>106820300.0</td>\n",
       "      <td>148.479996</td>\n",
       "    </tr>\n",
       "    <tr>\n",
       "      <th>2021-07-16</th>\n",
       "      <td>149.759995</td>\n",
       "      <td>145.880005</td>\n",
       "      <td>148.460007</td>\n",
       "      <td>146.389999</td>\n",
       "      <td>93100300.0</td>\n",
       "      <td>146.389999</td>\n",
       "    </tr>\n",
       "    <tr>\n",
       "      <th>2021-07-19</th>\n",
       "      <td>144.070007</td>\n",
       "      <td>141.669998</td>\n",
       "      <td>143.750000</td>\n",
       "      <td>142.449997</td>\n",
       "      <td>121434600.0</td>\n",
       "      <td>142.449997</td>\n",
       "    </tr>\n",
       "    <tr>\n",
       "      <th>2021-07-20</th>\n",
       "      <td>147.100006</td>\n",
       "      <td>142.960007</td>\n",
       "      <td>143.460007</td>\n",
       "      <td>146.149994</td>\n",
       "      <td>96238600.0</td>\n",
       "      <td>146.149994</td>\n",
       "    </tr>\n",
       "    <tr>\n",
       "      <th>2021-07-21</th>\n",
       "      <td>146.130005</td>\n",
       "      <td>144.630005</td>\n",
       "      <td>145.529999</td>\n",
       "      <td>145.399994</td>\n",
       "      <td>74915000.0</td>\n",
       "      <td>145.399994</td>\n",
       "    </tr>\n",
       "    <tr>\n",
       "      <th>2021-07-22</th>\n",
       "      <td>148.199997</td>\n",
       "      <td>145.809998</td>\n",
       "      <td>145.940002</td>\n",
       "      <td>146.800003</td>\n",
       "      <td>77338200.0</td>\n",
       "      <td>146.800003</td>\n",
       "    </tr>\n",
       "    <tr>\n",
       "      <th>2021-07-23</th>\n",
       "      <td>148.720001</td>\n",
       "      <td>146.919998</td>\n",
       "      <td>147.550003</td>\n",
       "      <td>148.559998</td>\n",
       "      <td>71361600.0</td>\n",
       "      <td>148.559998</td>\n",
       "    </tr>\n",
       "    <tr>\n",
       "      <th>2021-07-26</th>\n",
       "      <td>149.830002</td>\n",
       "      <td>147.699997</td>\n",
       "      <td>148.270004</td>\n",
       "      <td>148.990005</td>\n",
       "      <td>72269700.0</td>\n",
       "      <td>148.990005</td>\n",
       "    </tr>\n",
       "  </tbody>\n",
       "</table>\n",
       "</div>"
      ],
      "text/plain": [
       "                  High         Low        Open       Close       Volume  \\\n",
       "Date                                                                      \n",
       "2021-07-13  147.460007  143.630005  144.029999  145.639999  100827100.0   \n",
       "2021-07-14  149.570007  147.679993  148.100006  149.149994  127050800.0   \n",
       "2021-07-15  150.000000  147.089996  149.240005  148.479996  106820300.0   \n",
       "2021-07-16  149.759995  145.880005  148.460007  146.389999   93100300.0   \n",
       "2021-07-19  144.070007  141.669998  143.750000  142.449997  121434600.0   \n",
       "2021-07-20  147.100006  142.960007  143.460007  146.149994   96238600.0   \n",
       "2021-07-21  146.130005  144.630005  145.529999  145.399994   74915000.0   \n",
       "2021-07-22  148.199997  145.809998  145.940002  146.800003   77338200.0   \n",
       "2021-07-23  148.720001  146.919998  147.550003  148.559998   71361600.0   \n",
       "2021-07-26  149.830002  147.699997  148.270004  148.990005   72269700.0   \n",
       "\n",
       "             Adj Close  \n",
       "Date                    \n",
       "2021-07-13  145.639999  \n",
       "2021-07-14  149.149994  \n",
       "2021-07-15  148.479996  \n",
       "2021-07-16  146.389999  \n",
       "2021-07-19  142.449997  \n",
       "2021-07-20  146.149994  \n",
       "2021-07-21  145.399994  \n",
       "2021-07-22  146.800003  \n",
       "2021-07-23  148.559998  \n",
       "2021-07-26  148.990005  "
      ]
     },
     "execution_count": 6,
     "metadata": {},
     "output_type": "execute_result"
    }
   ],
   "source": [
    "#show data\n",
    "df.tail(10)"
   ]
  },
  {
   "cell_type": "code",
   "execution_count": 7,
   "metadata": {},
   "outputs": [
    {
     "data": {
      "text/plain": [
       "(2406, 6)"
      ]
     },
     "execution_count": 7,
     "metadata": {},
     "output_type": "execute_result"
    }
   ],
   "source": [
    "# get the number of rows and colums inthe data set\n",
    "df.shape"
   ]
  },
  {
   "cell_type": "code",
   "execution_count": 8,
   "metadata": {},
   "outputs": [
    {
     "data": {
      "image/png": "[encoded data removed]",
      "text/plain": [
       "<Figure size 1152x576 with 1 Axes>"
      ]
     },
     "metadata": {},
     "output_type": "display_data"
    }
   ],
   "source": [
    "# visulize the closing price history\n",
    "plt.figure(figsize=(16,8))\n",
    "plt.title('Close Price History')\n",
    "plt.plot(df['Close'])\n",
    "plt.xlabel('Date',fontsize=18)\n",
    "plt.ylabel('Close Price USD ($)',fontsize=18)\n",
    "plt.show()"
   ]
  },
  {
   "cell_type": "code",
   "execution_count": 9,
   "metadata": {},
   "outputs": [
    {
     "data": {
      "text/plain": [
       "1925"
      ]
     },
     "execution_count": 9,
     "metadata": {},
     "output_type": "execute_result"
    }
   ],
   "source": [
    "# Create a new datafram with only the \"close column\"\n",
    "data = df.filter(['Close'])\n",
    "#Convert the dataframe to a numpy array\n",
    "dataset = data.values\n",
    "#Get the nubmer of rows to train the model on\n",
    "training_data_len = math.ceil( len(dataset) *.8) \n",
    "training_data_len"
   ]
  },
  {
   "cell_type": "code",
   "execution_count": 10,
   "metadata": {},
   "outputs": [],
   "source": [
    "# Scale the data\n",
    "scaler = MinMaxScaler(feature_range = (0,1))\n",
    "scaled_data = scaler.fit_transform(dataset)\n"
   ]
  },
  {
   "cell_type": "code",
   "execution_count": 11,
   "metadata": {},
   "outputs": [
    {
     "data": {
      "text/plain": [
       "array([[0.00546799],\n",
       "       [0.00605176],\n",
       "       [0.00726423],\n",
       "       ...,\n",
       "       [0.98261873],\n",
       "       [0.9956362 ],\n",
       "       [0.99881668]])"
      ]
     },
     "execution_count": 11,
     "metadata": {},
     "output_type": "execute_result"
    }
   ],
   "source": [
    "scaled_data"
   ]
  },
  {
   "cell_type": "code",
   "execution_count": 12,
   "metadata": {},
   "outputs": [],
   "source": [
    "# create the training datae set\n",
    "#create the scled training date set\n",
    "train_data = scaled_data[0:training_data_len, :]\n"
   ]
  },
  {
   "cell_type": "code",
   "execution_count": 13,
   "metadata": {},
   "outputs": [
    {
     "name": "stdout",
     "output_type": "stream",
     "text": [
      "[array([0.00546799, 0.00605176, 0.00726423, 0.00841859, 0.0082416 ,\n",
      "       0.00864048, 0.00845821, 0.00815179, 0.00773442, 0.00902614,\n",
      "       0.01019106, 0.00983181, 0.00786386, 0.009742  , 0.00789292,\n",
      "       0.01482696, 0.01429074, 0.01499074, 0.01650434, 0.01742095,\n",
      "       0.01734435, 0.01706171, 0.01826625, 0.01939947, 0.02068326,\n",
      "       0.02275687, 0.02711277, 0.02717881, 0.02960375, 0.03141584,\n",
      "       0.02830147, 0.02950072, 0.02947695, 0.03283963, 0.03236151,\n",
      "       0.03324642, 0.03483663, 0.03572155, 0.03827064, 0.04012763,\n",
      "       0.04066387, 0.04085142, 0.0376763 , 0.03691024, 0.03702383,\n",
      "       0.04000878, 0.04084879, 0.04265296, 0.04690583, 0.05257986,\n",
      "       0.05151796, 0.0515206 , 0.05562292, 0.05690671, 0.05599273,\n",
      "       0.05515801, 0.05428894, 0.05717614, 0.0591573 , 0.05998674])]\n",
      "[0.05793690333412359]\n",
      "\n",
      "[array([0.00546799, 0.00605176, 0.00726423, 0.00841859, 0.0082416 ,\n",
      "       0.00864048, 0.00845821, 0.00815179, 0.00773442, 0.00902614,\n",
      "       0.01019106, 0.00983181, 0.00786386, 0.009742  , 0.00789292,\n",
      "       0.01482696, 0.01429074, 0.01499074, 0.01650434, 0.01742095,\n",
      "       0.01734435, 0.01706171, 0.01826625, 0.01939947, 0.02068326,\n",
      "       0.02275687, 0.02711277, 0.02717881, 0.02960375, 0.03141584,\n",
      "       0.02830147, 0.02950072, 0.02947695, 0.03283963, 0.03236151,\n",
      "       0.03324642, 0.03483663, 0.03572155, 0.03827064, 0.04012763,\n",
      "       0.04066387, 0.04085142, 0.0376763 , 0.03691024, 0.03702383,\n",
      "       0.04000878, 0.04084879, 0.04265296, 0.04690583, 0.05257986,\n",
      "       0.05151796, 0.0515206 , 0.05562292, 0.05690671, 0.05599273,\n",
      "       0.05515801, 0.05428894, 0.05717614, 0.0591573 , 0.05998674]), array([0.00605176, 0.00726423, 0.00841859, 0.0082416 , 0.00864048,\n",
      "       0.00845821, 0.00815179, 0.00773442, 0.00902614, 0.01019106,\n",
      "       0.00983181, 0.00786386, 0.009742  , 0.00789292, 0.01482696,\n",
      "       0.01429074, 0.01499074, 0.01650434, 0.01742095, 0.01734435,\n",
      "       0.01706171, 0.01826625, 0.01939947, 0.02068326, 0.02275687,\n",
      "       0.02711277, 0.02717881, 0.02960375, 0.03141584, 0.02830147,\n",
      "       0.02950072, 0.02947695, 0.03283963, 0.03236151, 0.03324642,\n",
      "       0.03483663, 0.03572155, 0.03827064, 0.04012763, 0.04066387,\n",
      "       0.04085142, 0.0376763 , 0.03691024, 0.03702383, 0.04000878,\n",
      "       0.04084879, 0.04265296, 0.04690583, 0.05257986, 0.05151796,\n",
      "       0.0515206 , 0.05562292, 0.05690671, 0.05599273, 0.05515801,\n",
      "       0.05428894, 0.05717614, 0.0591573 , 0.05998674, 0.0579369 ])]\n",
      "[0.05793690333412359, 0.05521347979676107]\n",
      "\n"
     ]
    }
   ],
   "source": [
    "#Split the data into x_train and y_train data sets\n",
    "x_train=[]\n",
    "y_train = []\n",
    "for i in range(60,len(train_data)):\n",
    "    x_train.append(train_data[i-60:i,0])\n",
    "    y_train.append(train_data[i,0])\n",
    "    if i<= 61:\n",
    "        print(x_train)\n",
    "        print(y_train)\n",
    "        print()"
   ]
  },
  {
   "cell_type": "code",
   "execution_count": 14,
   "metadata": {},
   "outputs": [],
   "source": [
    "#Convert x_train and y_train to numpy arrays\n",
    "x_train, y_train = np.array(x_train), np.array(y_train)"
   ]
  },
  {
   "cell_type": "code",
   "execution_count": 15,
   "metadata": {},
   "outputs": [
    {
     "data": {
      "text/plain": [
       "(1865, 60, 1)"
      ]
     },
     "execution_count": 15,
     "metadata": {},
     "output_type": "execute_result"
    }
   ],
   "source": [
    "#Reshape the data into the shape accepted by the LSTM\n",
    "x_train = np.reshape(x_train, (x_train.shape[0],x_train.shape[1],1))\n",
    "x_train.shape"
   ]
  },
  {
   "cell_type": "code",
   "execution_count": 16,
   "metadata": {},
   "outputs": [],
   "source": [
    "#Build the LSTM network model\n",
    "model = Sequential()\n",
    "model.add(LSTM(units=50, return_sequences=True,input_shape=(x_train.shape[1],1)))\n",
    "model.add(LSTM(units=50, return_sequences=False))\n",
    "model.add(Dense(units=25))\n",
    "model.add(Dense(units=1))"
   ]
  },
  {
   "cell_type": "code",
   "execution_count": 17,
   "metadata": {},
   "outputs": [],
   "source": [
    "#Compile the model\n",
    "model.compile(optimizer='adam', loss='mean_squared_error')"
   ]
  },
  {
   "cell_type": "code",
   "execution_count": 18,
   "metadata": {},
   "outputs": [
    {
     "name": "stdout",
     "output_type": "stream",
     "text": [
      "1865/1865 [==============================] - 53s 17ms/step - loss: 3.3425e-04\n"
     ]
    },
    {
     "data": {
      "text/plain": [
       "<keras.callbacks.History at 0x1ca88607f98>"
      ]
     },
     "execution_count": 18,
     "metadata": {},
     "output_type": "execute_result"
    }
   ],
   "source": [
    "# Train the model\n",
    "model.fit(x_train, y_train, batch_size = 1, epochs = 1)"
   ]
  },
  {
   "cell_type": "code",
   "execution_count": 19,
   "metadata": {},
   "outputs": [],
   "source": [
    "# Create the testing data set\n",
    "# Crete a new array containing scaled valueds from index 1543 to 2003\n",
    "test_data = scaled_data[training_data_len -60:,:]"
   ]
  },
  {
   "cell_type": "code",
   "execution_count": 20,
   "metadata": {},
   "outputs": [],
   "source": [
    "# Create the data sets x_test and y_test"
   ]
  },
  {
   "cell_type": "code",
   "execution_count": 21,
   "metadata": {},
   "outputs": [],
   "source": [
    "x_test = []\n",
    "y_test =  dataset[training_data_len : , : ] #Get all of the rows from index 1603 to the rest and all of the columns (in this case it's only column 'Close'), so 2003 - 1603 = 400 rows of data\n",
    "for i in range(60,len(test_data)):\n",
    "    x_test.append(test_data[i-60:i,0])"
   ]
  },
  {
   "cell_type": "code",
   "execution_count": 22,
   "metadata": {},
   "outputs": [],
   "source": [
    "# convert the data to a numpy array\n",
    "x_test = np.array(x_test)"
   ]
  },
  {
   "cell_type": "code",
   "execution_count": 23,
   "metadata": {},
   "outputs": [],
   "source": [
    "#Reshape the data into the shape accepted by the LSTM\n",
    "x_test = np.reshape(x_test, (x_test.shape[0],x_test.shape[1],1))"
   ]
  },
  {
   "cell_type": "code",
   "execution_count": 24,
   "metadata": {},
   "outputs": [],
   "source": [
    "#Getting the models predicted price values\n",
    "predictions = model.predict(x_test) \n",
    "predictions = scaler.inverse_transform(predictions)#Undo scaling"
   ]
  },
  {
   "cell_type": "code",
   "execution_count": 25,
   "metadata": {},
   "outputs": [
    {
     "data": {
      "text/plain": [
       "7.789634980462423"
      ]
     },
     "execution_count": 25,
     "metadata": {},
     "output_type": "execute_result"
    }
   ],
   "source": [
    "# Get the root mean squrared erro(RMSE)--how accurate the model to predit the response, the standard deviatation of the residules. \n",
    "rmse=np.sqrt(np.mean(((predictions- y_test)**2)))\n",
    "rmse"
   ]
  },
  {
   "cell_type": "code",
   "execution_count": 26,
   "metadata": {},
   "outputs": [
    {
     "name": "stderr",
     "output_type": "stream",
     "text": [
      "C:\\Users\\Joanne\\anaconda3\\envs\\hvplot_dev\\lib\\site-packages\\ipykernel_launcher.py:4: SettingWithCopyWarning: \n",
      "A value is trying to be set on a copy of a slice from a DataFrame.\n",
      "Try using .loc[row_indexer,col_indexer] = value instead\n",
      "\n",
      "See the caveats in the documentation: https://pandas.pydata.org/pandas-docs/stable/user_guide/indexing.html#returning-a-view-versus-a-copy\n",
      "  after removing the cwd from sys.path.\n"
     ]
    }
   ],
   "source": [
    "#Plot/Create the data for the graph\n",
    "train = data[:training_data_len]\n",
    "valid = data[training_data_len:]\n",
    "valid['Predictions'] = predictions\n"
   ]
  },
  {
   "cell_type": "code",
   "execution_count": 27,
   "metadata": {},
   "outputs": [
    {
     "data": {
      "image/png": "[encoded data removed]",
      "text/plain": [
       "<Figure size 1152x576 with 1 Axes>"
      ]
     },
     "metadata": {},
     "output_type": "display_data"
    }
   ],
   "source": [
    "#Visualize the data\n",
    "plt.figure(figsize=(16,8))\n",
    "plt.title('Model')\n",
    "plt.xlabel('Date', fontsize=18)\n",
    "plt.ylabel('Close Price USD ($)', fontsize=18)\n",
    "plt.plot(train['Close'])\n",
    "plt.plot(valid[['Close', 'Predictions']])\n",
    "plt.legend(['Train', 'Actural', 'Predictions'], loc='lower right')\n",
    "plt.show()"
   ]
  },
  {
   "cell_type": "code",
   "execution_count": 28,
   "metadata": {},
   "outputs": [
    {
     "data": {
      "text/html": [
       "<div>\n",
       "<style scoped>\n",
       "    .dataframe tbody tr th:only-of-type {\n",
       "        vertical-align: middle;\n",
       "    }\n",
       "\n",
       "    .dataframe tbody tr th {\n",
       "        vertical-align: top;\n",
       "    }\n",
       "\n",
       "    .dataframe thead th {\n",
       "        text-align: right;\n",
       "    }\n",
       "</style>\n",
       "<table border=\"1\" class=\"dataframe\">\n",
       "  <thead>\n",
       "    <tr style=\"text-align: right;\">\n",
       "      <th></th>\n",
       "      <th>Close</th>\n",
       "      <th>Predictions</th>\n",
       "    </tr>\n",
       "    <tr>\n",
       "      <th>Date</th>\n",
       "      <th></th>\n",
       "      <th></th>\n",
       "    </tr>\n",
       "  </thead>\n",
       "  <tbody>\n",
       "    <tr>\n",
       "      <th>2019-08-28</th>\n",
       "      <td>51.382500</td>\n",
       "      <td>50.784603</td>\n",
       "    </tr>\n",
       "    <tr>\n",
       "      <th>2019-08-29</th>\n",
       "      <td>52.252499</td>\n",
       "      <td>50.616619</td>\n",
       "    </tr>\n",
       "    <tr>\n",
       "      <th>2019-08-30</th>\n",
       "      <td>52.185001</td>\n",
       "      <td>50.582706</td>\n",
       "    </tr>\n",
       "    <tr>\n",
       "      <th>2019-09-03</th>\n",
       "      <td>51.424999</td>\n",
       "      <td>50.613346</td>\n",
       "    </tr>\n",
       "    <tr>\n",
       "      <th>2019-09-04</th>\n",
       "      <td>52.297501</td>\n",
       "      <td>50.580410</td>\n",
       "    </tr>\n",
       "    <tr>\n",
       "      <th>...</th>\n",
       "      <td>...</td>\n",
       "      <td>...</td>\n",
       "    </tr>\n",
       "    <tr>\n",
       "      <th>2021-07-20</th>\n",
       "      <td>146.149994</td>\n",
       "      <td>134.246933</td>\n",
       "    </tr>\n",
       "    <tr>\n",
       "      <th>2021-07-21</th>\n",
       "      <td>145.399994</td>\n",
       "      <td>134.056427</td>\n",
       "    </tr>\n",
       "    <tr>\n",
       "      <th>2021-07-22</th>\n",
       "      <td>146.800003</td>\n",
       "      <td>133.840302</td>\n",
       "    </tr>\n",
       "    <tr>\n",
       "      <th>2021-07-23</th>\n",
       "      <td>148.559998</td>\n",
       "      <td>133.818344</td>\n",
       "    </tr>\n",
       "    <tr>\n",
       "      <th>2021-07-26</th>\n",
       "      <td>148.990005</td>\n",
       "      <td>134.104630</td>\n",
       "    </tr>\n",
       "  </tbody>\n",
       "</table>\n",
       "<p>481 rows × 2 columns</p>\n",
       "</div>"
      ],
      "text/plain": [
       "                 Close  Predictions\n",
       "Date                               \n",
       "2019-08-28   51.382500    50.784603\n",
       "2019-08-29   52.252499    50.616619\n",
       "2019-08-30   52.185001    50.582706\n",
       "2019-09-03   51.424999    50.613346\n",
       "2019-09-04   52.297501    50.580410\n",
       "...                ...          ...\n",
       "2021-07-20  146.149994   134.246933\n",
       "2021-07-21  145.399994   134.056427\n",
       "2021-07-22  146.800003   133.840302\n",
       "2021-07-23  148.559998   133.818344\n",
       "2021-07-26  148.990005   134.104630\n",
       "\n",
       "[481 rows x 2 columns]"
      ]
     },
     "execution_count": 28,
     "metadata": {},
     "output_type": "execute_result"
    }
   ],
   "source": [
    "# show the valid (actural  and predicted price)\n",
    "valid"
   ]
  },
  {
   "cell_type": "code",
   "execution_count": 29,
   "metadata": {},
   "outputs": [],
   "source": [
    "# get the quote "
   ]
  },
  {
   "cell_type": "code",
   "execution_count": 30,
   "metadata": {},
   "outputs": [
    {
     "name": "stdout",
     "output_type": "stream",
     "text": [
      "[[134.54565]]\n"
     ]
    }
   ],
   "source": [
    "#Get the quote\n",
    "apple_quote = web.DataReader('AAPL', data_source='yahoo', start='2012-01-01', end='2021-07-26')\n",
    "#Create a new dataframe\n",
    "new_df = apple_quote.filter(['Close'])\n",
    "#Get teh last 60 day closing price \n",
    "last_60_days = new_df[-60:].values\n",
    "#Scale the data to be values between 0 and 1\n",
    "last_60_days_scaled = scaler.transform(last_60_days)\n",
    "#Create an empty list\n",
    "X_test = []\n",
    "#Append teh past 60 days\n",
    "X_test.append(last_60_days_scaled)\n",
    "#Convert the X_test data set to a numpy array\n",
    "X_test = np.array(X_test)\n",
    "#Reshape the data\n",
    "X_test = np.reshape(X_test, (X_test.shape[0], X_test.shape[1], 1))\n",
    "#Get the predicted scaled price\n",
    "pred_price = model.predict(X_test)\n",
    "#undo the scaling \n",
    "pred_price = scaler.inverse_transform(pred_price)\n",
    "print(pred_price)"
   ]
  },
  {
   "cell_type": "code",
   "execution_count": 31,
   "metadata": {},
   "outputs": [
    {
     "name": "stdout",
     "output_type": "stream",
     "text": [
      "Date\n",
      "2019-12-18     69.934998\n",
      "2019-12-19     70.004997\n",
      "2019-12-20     69.860001\n",
      "2019-12-23     71.000000\n",
      "2019-12-24     71.067497\n",
      "                 ...    \n",
      "2021-07-21    145.399994\n",
      "2021-07-22    146.800003\n",
      "2021-07-23    148.559998\n",
      "2021-07-26    148.990005\n",
      "2021-07-27    146.770004\n",
      "Name: Close, Length: 404, dtype: float64\n"
     ]
    }
   ],
   "source": [
    "#Get the quote\n",
    "apple_quote2 = web.DataReader('AAPL', data_source='yahoo', start='2019-12-18', end='2021-07-27')\n",
    "print(apple_quote2['Close'])"
   ]
  },
  {
   "cell_type": "code",
   "execution_count": null,
   "metadata": {},
   "outputs": [],
   "source": []
  }
 ],
 "metadata": {
  "kernelspec": {
   "display_name": "Python [conda env:hvplot_dev]",
   "language": "python",
   "name": "conda-env-hvplot_dev-py"
  },
  "language_info": {
   "codemirror_mode": {
    "name": "ipython",
    "version": 3
   },
   "file_extension": ".py",
   "mimetype": "text/x-python",
   "name": "python",
   "nbconvert_exporter": "python",
   "pygments_lexer": "ipython3",
   "version": "3.6.13"
  }
 },
 "nbformat": 4,
 "nbformat_minor": 4
}
