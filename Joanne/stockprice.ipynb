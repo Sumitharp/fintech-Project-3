{
 "cells": [
  {
   "cell_type": "code",
   "execution_count": null,
   "metadata": {},
   "outputs": [
    {
     "name": "stdout",
     "output_type": "stream",
     "text": [
      "Dash is running on http://127.0.0.1:8050/\n",
      "\n",
      " * Serving Flask app \"__main__\" (lazy loading)\n",
      " * Environment: production\n",
      "   WARNING: This is a development server. Do not use it in a production deployment.\n",
      "   Use a production WSGI server instead.\n",
      " * Debug mode: off\n"
     ]
    },
    {
     "name": "stderr",
     "output_type": "stream",
     "text": [
      " * Running on http://127.0.0.1:8050/ (Press CTRL+C to quit)\n",
      "127.0.0.1 - - [31/Jul/2021 16:15:44] \"\u001b[37mGET / HTTP/1.1\u001b[0m\" 200 -\n",
      "127.0.0.1 - - [31/Jul/2021 16:15:45] \"\u001b[37mGET /_favicon.ico?v=1.21.0 HTTP/1.1\u001b[0m\" 200 -\n",
      "127.0.0.1 - - [31/Jul/2021 16:15:45] \"\u001b[37mGET /_dash-layout HTTP/1.1\u001b[0m\" 200 -\n",
      "127.0.0.1 - - [31/Jul/2021 16:15:45] \"\u001b[37mGET /_dash-dependencies HTTP/1.1\u001b[0m\" 200 -\n",
      "127.0.0.1 - - [31/Jul/2021 16:15:45] \"\u001b[37mGET /_favicon.ico?v=1.21.0 HTTP/1.1\u001b[0m\" 200 -\n"
     ]
    },
    {
     "name": "stdout",
     "output_type": "stream",
     "text": [
      "Exception on /_dash-update-component [POST]\n",
      "Traceback (most recent call last):\n",
      "  File \"C:\\Users\\Joanne\\anaconda3\\envs\\pyvizenv\\lib\\site-packages\\flask\\app.py\", line 2447, in wsgi_app\n",
      "    response = self.full_dispatch_request()\n",
      "  File \"C:\\Users\\Joanne\\anaconda3\\envs\\pyvizenv\\lib\\site-packages\\flask\\app.py\", line 1952, in full_dispatch_request\n",
      "    rv = self.handle_user_exception(e)\n",
      "  File \"C:\\Users\\Joanne\\anaconda3\\envs\\pyvizenv\\lib\\site-packages\\flask\\app.py\", line 1821, in handle_user_exception\n",
      "    reraise(exc_type, exc_value, tb)\n",
      "  File \"C:\\Users\\Joanne\\anaconda3\\envs\\pyvizenv\\lib\\site-packages\\flask\\_compat.py\", line 39, in reraise\n",
      "    raise value\n",
      "  File \"C:\\Users\\Joanne\\anaconda3\\envs\\pyvizenv\\lib\\site-packages\\flask\\app.py\", line 1950, in full_dispatch_request\n",
      "    rv = self.dispatch_request()\n",
      "  File \"C:\\Users\\Joanne\\anaconda3\\envs\\pyvizenv\\lib\\site-packages\\flask\\app.py\", line 1936, in dispatch_request\n",
      "    return self.view_functions[rule.endpoint](**req.view_args)\n",
      "  File \"C:\\Users\\Joanne\\anaconda3\\envs\\pyvizenv\\lib\\site-packages\\dash\\dash.py\", line 1096, in dispatch\n",
      "    response.set_data(func(*args, outputs_list=outputs_list))\n",
      "  File \"C:\\Users\\Joanne\\anaconda3\\envs\\pyvizenv\\lib\\site-packages\\dash\\dash.py\", line 1017, in add_context\n",
      "    output_value = func(*args, **kwargs)  # %% callback invoked %%\n",
      "  File \"<ipython-input-1-1b4d3a4b15c8>\", line 29, in update_value\n",
      "    df = web.DataReader(input_data, 'yahoo', start, end)\n",
      "  File \"C:\\Users\\Joanne\\anaconda3\\envs\\pyvizenv\\lib\\site-packages\\pandas\\util\\_decorators.py\", line 188, in wrapper\n",
      "    return func(*args, **kwargs)\n",
      "  File \"C:\\Users\\Joanne\\anaconda3\\envs\\pyvizenv\\lib\\site-packages\\pandas_datareader\\data.py\", line 378, in DataReader\n",
      "    session=session,\n",
      "  File \"C:\\Users\\Joanne\\anaconda3\\envs\\pyvizenv\\lib\\site-packages\\pandas_datareader\\base.py\", line 253, in read\n",
      "    df = self._read_one_data(self.url, params=self._get_params(self.symbols))\n",
      "  File \"C:\\Users\\Joanne\\anaconda3\\envs\\pyvizenv\\lib\\site-packages\\pandas_datareader\\yahoo\\daily.py\", line 149, in _read_one_data\n",
      "    resp = self._get_response(url, params=params, headers=self.headers)\n",
      "  File \"C:\\Users\\Joanne\\anaconda3\\envs\\pyvizenv\\lib\\site-packages\\pandas_datareader\\base.py\", line 181, in _get_response\n",
      "    raise RemoteDataError(msg)\n",
      "pandas_datareader._utils.RemoteDataError: Unable to read URL: https://finance.yahoo.com/quote//history?period1=1262347200&period2=1627815599&interval=1d&frequency=1d&filter=history\n",
      "Response Text:\n",
      "b'<html>\\n<meta charset=\\'utf-8\\'>\\n<script>\\nvar u=\\'https://www.yahoo.com/?err=404&err_url=https%3a%2f%2ffinance.yahoo.com%2fquote%2f%2fhistory%3fperiod1%3d1262347200%26period2%3d1627815599%26interval%3d1d%26frequency%3d1d%26filter%3dhistory\\';\\nif(window!=window.top){\\n  document.write(\\'<p>Content is currently unavailable.</p><img src=\"//geo.yahoo.com/p?s=1197757039&t=\\'+new Date().getTime()+\\'&_R=\\'+encodeURIComponent(document.referrer)+\\'&err=404&err_url=\\'+u+\\'\" width=\"0px\" height=\"0px\"/>\\');\\n}else{\\n  window.location.replace(u);\\n}\\n</script>\\n<noscript><META http-equiv=\"refresh\" content=\"0;URL=\\'https://www.yahoo.com/?err=404&err_url=https%3a%2f%2ffinance.yahoo.com%2fquote%2f%2fhistory%3fperiod1%3d1262347200%26period2%3d1627815599%26interval%3d1d%26frequency%3d1d%26filter%3dhistory\\'\"></noscript>\\n</html>\\n'\n"
     ]
    },
    {
     "name": "stderr",
     "output_type": "stream",
     "text": [
      "127.0.0.1 - - [31/Jul/2021 16:15:48] \"\u001b[35m\u001b[1mPOST /_dash-update-component HTTP/1.1\u001b[0m\" 500 -\n",
      "127.0.0.1 - - [31/Jul/2021 16:15:49] \"\u001b[37mPOST /_dash-update-component HTTP/1.1\u001b[0m\" 200 -\n",
      "127.0.0.1 - - [31/Jul/2021 16:15:49] \"\u001b[37mPOST /_dash-update-component HTTP/1.1\u001b[0m\" 200 -\n",
      "127.0.0.1 - - [31/Jul/2021 16:15:49] \"\u001b[37mPOST /_dash-update-component HTTP/1.1\u001b[0m\" 200 -\n",
      "127.0.0.1 - - [31/Jul/2021 16:15:49] \"\u001b[37mPOST /_dash-update-component HTTP/1.1\u001b[0m\" 200 -\n",
      "127.0.0.1 - - [31/Jul/2021 16:15:49] \"\u001b[37mGET /_dash-component-suites/dash_core_components/async-graph.js HTTP/1.1\u001b[0m\" 200 -\n",
      "127.0.0.1 - - [31/Jul/2021 16:15:50] \"\u001b[37mGET /_dash-component-suites/dash_core_components/async-plotlyjs.js HTTP/1.1\u001b[0m\" 200 -\n",
      "127.0.0.1 - - [31/Jul/2021 17:32:32] \"\u001b[37mGET / HTTP/1.1\u001b[0m\" 200 -\n",
      "127.0.0.1 - - [31/Jul/2021 17:32:32] \"\u001b[37mGET /_favicon.ico?v=1.21.0 HTTP/1.1\u001b[0m\" 200 -\n",
      "127.0.0.1 - - [31/Jul/2021 17:32:32] \"\u001b[37mGET /_dash-layout HTTP/1.1\u001b[0m\" 200 -\n",
      "127.0.0.1 - - [31/Jul/2021 17:32:32] \"\u001b[37mGET /_dash-dependencies HTTP/1.1\u001b[0m\" 200 -\n",
      "127.0.0.1 - - [31/Jul/2021 17:32:35] \"\u001b[37mPOST /_dash-update-component HTTP/1.1\u001b[0m\" 200 -\n",
      "127.0.0.1 - - [31/Jul/2021 17:32:35] \"\u001b[37mPOST /_dash-update-component HTTP/1.1\u001b[0m\" 200 -\n"
     ]
    },
    {
     "name": "stdout",
     "output_type": "stream",
     "text": [
      "Exception on /_dash-update-component [POST]\n",
      "Traceback (most recent call last):\n",
      "  File \"C:\\Users\\Joanne\\anaconda3\\envs\\pyvizenv\\lib\\site-packages\\flask\\app.py\", line 2447, in wsgi_app\n",
      "    response = self.full_dispatch_request()\n",
      "  File \"C:\\Users\\Joanne\\anaconda3\\envs\\pyvizenv\\lib\\site-packages\\flask\\app.py\", line 1952, in full_dispatch_request\n",
      "    rv = self.handle_user_exception(e)\n",
      "  File \"C:\\Users\\Joanne\\anaconda3\\envs\\pyvizenv\\lib\\site-packages\\flask\\app.py\", line 1821, in handle_user_exception\n",
      "    reraise(exc_type, exc_value, tb)\n",
      "  File \"C:\\Users\\Joanne\\anaconda3\\envs\\pyvizenv\\lib\\site-packages\\flask\\_compat.py\", line 39, in reraise\n",
      "    raise value\n",
      "  File \"C:\\Users\\Joanne\\anaconda3\\envs\\pyvizenv\\lib\\site-packages\\flask\\app.py\", line 1950, in full_dispatch_request\n",
      "    rv = self.dispatch_request()\n",
      "  File \"C:\\Users\\Joanne\\anaconda3\\envs\\pyvizenv\\lib\\site-packages\\flask\\app.py\", line 1936, in dispatch_request\n",
      "    return self.view_functions[rule.endpoint](**req.view_args)\n",
      "  File \"C:\\Users\\Joanne\\anaconda3\\envs\\pyvizenv\\lib\\site-packages\\dash\\dash.py\", line 1096, in dispatch\n",
      "    response.set_data(func(*args, outputs_list=outputs_list))\n",
      "  File \"C:\\Users\\Joanne\\anaconda3\\envs\\pyvizenv\\lib\\site-packages\\dash\\dash.py\", line 1017, in add_context\n",
      "    output_value = func(*args, **kwargs)  # %% callback invoked %%\n",
      "  File \"<ipython-input-1-1b4d3a4b15c8>\", line 29, in update_value\n",
      "    df = web.DataReader(input_data, 'yahoo', start, end)\n",
      "  File \"C:\\Users\\Joanne\\anaconda3\\envs\\pyvizenv\\lib\\site-packages\\pandas\\util\\_decorators.py\", line 188, in wrapper\n",
      "    return func(*args, **kwargs)\n",
      "  File \"C:\\Users\\Joanne\\anaconda3\\envs\\pyvizenv\\lib\\site-packages\\pandas_datareader\\data.py\", line 378, in DataReader\n",
      "    session=session,\n",
      "  File \"C:\\Users\\Joanne\\anaconda3\\envs\\pyvizenv\\lib\\site-packages\\pandas_datareader\\base.py\", line 253, in read\n",
      "    df = self._read_one_data(self.url, params=self._get_params(self.symbols))\n",
      "  File \"C:\\Users\\Joanne\\anaconda3\\envs\\pyvizenv\\lib\\site-packages\\pandas_datareader\\yahoo\\daily.py\", line 149, in _read_one_data\n",
      "    resp = self._get_response(url, params=params, headers=self.headers)\n",
      "  File \"C:\\Users\\Joanne\\anaconda3\\envs\\pyvizenv\\lib\\site-packages\\pandas_datareader\\base.py\", line 181, in _get_response\n",
      "    raise RemoteDataError(msg)\n",
      "pandas_datareader._utils.RemoteDataError: Unable to read URL: https://finance.yahoo.com/quote//history?period1=1262347200&period2=1627815599&interval=1d&frequency=1d&filter=history\n",
      "Response Text:\n",
      "b'<html>\\n<meta charset=\\'utf-8\\'>\\n<script>\\nvar u=\\'https://www.yahoo.com/?err=404&err_url=https%3a%2f%2ffinance.yahoo.com%2fquote%2f%2fhistory%3fperiod1%3d1262347200%26period2%3d1627815599%26interval%3d1d%26frequency%3d1d%26filter%3dhistory\\';\\nif(window!=window.top){\\n  document.write(\\'<p>Content is currently unavailable.</p><img src=\"//geo.yahoo.com/p?s=1197757039&t=\\'+new Date().getTime()+\\'&_R=\\'+encodeURIComponent(document.referrer)+\\'&err=404&err_url=\\'+u+\\'\" width=\"0px\" height=\"0px\"/>\\');\\n}else{\\n  window.location.replace(u);\\n}\\n</script>\\n<noscript><META http-equiv=\"refresh\" content=\"0;URL=\\'https://www.yahoo.com/?err=404&err_url=https%3a%2f%2ffinance.yahoo.com%2fquote%2f%2fhistory%3fperiod1%3d1262347200%26period2%3d1627815599%26interval%3d1d%26frequency%3d1d%26filter%3dhistory\\'\"></noscript>\\n</html>\\n'\n"
     ]
    },
    {
     "name": "stderr",
     "output_type": "stream",
     "text": [
      "127.0.0.1 - - [31/Jul/2021 17:32:35] \"\u001b[35m\u001b[1mPOST /_dash-update-component HTTP/1.1\u001b[0m\" 500 -\n",
      "127.0.0.1 - - [31/Jul/2021 17:32:35] \"\u001b[37mPOST /_dash-update-component HTTP/1.1\u001b[0m\" 200 -\n",
      "127.0.0.1 - - [31/Jul/2021 17:32:36] \"\u001b[37mPOST /_dash-update-component HTTP/1.1\u001b[0m\" 200 -\n",
      "127.0.0.1 - - [31/Jul/2021 17:32:36] \"\u001b[37mGET /_dash-component-suites/dash_core_components/async-graph.js HTTP/1.1\u001b[0m\" 200 -\n",
      "127.0.0.1 - - [31/Jul/2021 17:32:36] \"\u001b[37mGET /_dash-component-suites/dash_core_components/async-plotlyjs.js HTTP/1.1\u001b[0m\" 200 -\n",
      "127.0.0.1 - - [31/Jul/2021 17:36:11] \"\u001b[37mGET / HTTP/1.1\u001b[0m\" 200 -\n",
      "127.0.0.1 - - [31/Jul/2021 17:36:12] \"\u001b[37mGET /_favicon.ico?v=1.21.0 HTTP/1.1\u001b[0m\" 200 -\n",
      "127.0.0.1 - - [31/Jul/2021 17:36:12] \"\u001b[37mGET /_dash-layout HTTP/1.1\u001b[0m\" 200 -\n",
      "127.0.0.1 - - [31/Jul/2021 17:36:12] \"\u001b[37mGET /_dash-dependencies HTTP/1.1\u001b[0m\" 200 -\n"
     ]
    },
    {
     "name": "stdout",
     "output_type": "stream",
     "text": [
      "Exception on /_dash-update-component [POST]\n",
      "Traceback (most recent call last):\n",
      "  File \"C:\\Users\\Joanne\\anaconda3\\envs\\pyvizenv\\lib\\site-packages\\flask\\app.py\", line 2447, in wsgi_app\n",
      "    response = self.full_dispatch_request()\n",
      "  File \"C:\\Users\\Joanne\\anaconda3\\envs\\pyvizenv\\lib\\site-packages\\flask\\app.py\", line 1952, in full_dispatch_request\n",
      "    rv = self.handle_user_exception(e)\n",
      "  File \"C:\\Users\\Joanne\\anaconda3\\envs\\pyvizenv\\lib\\site-packages\\flask\\app.py\", line 1821, in handle_user_exception\n",
      "    reraise(exc_type, exc_value, tb)\n",
      "  File \"C:\\Users\\Joanne\\anaconda3\\envs\\pyvizenv\\lib\\site-packages\\flask\\_compat.py\", line 39, in reraise\n",
      "    raise value\n",
      "  File \"C:\\Users\\Joanne\\anaconda3\\envs\\pyvizenv\\lib\\site-packages\\flask\\app.py\", line 1950, in full_dispatch_request\n",
      "    rv = self.dispatch_request()\n",
      "  File \"C:\\Users\\Joanne\\anaconda3\\envs\\pyvizenv\\lib\\site-packages\\flask\\app.py\", line 1936, in dispatch_request\n",
      "    return self.view_functions[rule.endpoint](**req.view_args)\n",
      "  File \"C:\\Users\\Joanne\\anaconda3\\envs\\pyvizenv\\lib\\site-packages\\dash\\dash.py\", line 1096, in dispatch\n",
      "    response.set_data(func(*args, outputs_list=outputs_list))\n",
      "  File \"C:\\Users\\Joanne\\anaconda3\\envs\\pyvizenv\\lib\\site-packages\\dash\\dash.py\", line 1017, in add_context\n",
      "    output_value = func(*args, **kwargs)  # %% callback invoked %%\n",
      "  File \"<ipython-input-1-1b4d3a4b15c8>\", line 29, in update_value\n",
      "    df = web.DataReader(input_data, 'yahoo', start, end)\n",
      "  File \"C:\\Users\\Joanne\\anaconda3\\envs\\pyvizenv\\lib\\site-packages\\pandas\\util\\_decorators.py\", line 188, in wrapper\n",
      "    return func(*args, **kwargs)\n",
      "  File \"C:\\Users\\Joanne\\anaconda3\\envs\\pyvizenv\\lib\\site-packages\\pandas_datareader\\data.py\", line 378, in DataReader\n",
      "    session=session,\n",
      "  File \"C:\\Users\\Joanne\\anaconda3\\envs\\pyvizenv\\lib\\site-packages\\pandas_datareader\\base.py\", line 253, in read\n",
      "    df = self._read_one_data(self.url, params=self._get_params(self.symbols))\n",
      "  File \"C:\\Users\\Joanne\\anaconda3\\envs\\pyvizenv\\lib\\site-packages\\pandas_datareader\\yahoo\\daily.py\", line 149, in _read_one_data\n",
      "    resp = self._get_response(url, params=params, headers=self.headers)\n",
      "  File \"C:\\Users\\Joanne\\anaconda3\\envs\\pyvizenv\\lib\\site-packages\\pandas_datareader\\base.py\", line 181, in _get_response\n",
      "    raise RemoteDataError(msg)\n",
      "pandas_datareader._utils.RemoteDataError: Unable to read URL: https://finance.yahoo.com/quote//history?period1=1262347200&period2=1627815599&interval=1d&frequency=1d&filter=history\n",
      "Response Text:\n",
      "b'<html>\\n<meta charset=\\'utf-8\\'>\\n<script>\\nvar u=\\'https://www.yahoo.com/?err=404&err_url=https%3a%2f%2ffinance.yahoo.com%2fquote%2f%2fhistory%3fperiod1%3d1262347200%26period2%3d1627815599%26interval%3d1d%26frequency%3d1d%26filter%3dhistory\\';\\nif(window!=window.top){\\n  document.write(\\'<p>Content is currently unavailable.</p><img src=\"//geo.yahoo.com/p?s=1197757039&t=\\'+new Date().getTime()+\\'&_R=\\'+encodeURIComponent(document.referrer)+\\'&err=404&err_url=\\'+u+\\'\" width=\"0px\" height=\"0px\"/>\\');\\n}else{\\n  window.location.replace(u);\\n}\\n</script>\\n<noscript><META http-equiv=\"refresh\" content=\"0;URL=\\'https://www.yahoo.com/?err=404&err_url=https%3a%2f%2ffinance.yahoo.com%2fquote%2f%2fhistory%3fperiod1%3d1262347200%26period2%3d1627815599%26interval%3d1d%26frequency%3d1d%26filter%3dhistory\\'\"></noscript>\\n</html>\\n'\n"
     ]
    },
    {
     "name": "stderr",
     "output_type": "stream",
     "text": [
      "127.0.0.1 - - [31/Jul/2021 17:36:15] \"\u001b[35m\u001b[1mPOST /_dash-update-component HTTP/1.1\u001b[0m\" 500 -\n",
      "127.0.0.1 - - [31/Jul/2021 17:36:16] \"\u001b[37mPOST /_dash-update-component HTTP/1.1\u001b[0m\" 200 -\n",
      "127.0.0.1 - - [31/Jul/2021 17:36:16] \"\u001b[37mPOST /_dash-update-component HTTP/1.1\u001b[0m\" 200 -\n",
      "127.0.0.1 - - [31/Jul/2021 17:36:16] \"\u001b[37mPOST /_dash-update-component HTTP/1.1\u001b[0m\" 200 -\n"
     ]
    },
    {
     "name": "stdout",
     "output_type": "stream",
     "text": [
      "Exception on /_dash-update-component [POST]\n",
      "Traceback (most recent call last):\n",
      "  File \"C:\\Users\\Joanne\\anaconda3\\envs\\pyvizenv\\lib\\site-packages\\pandas\\core\\indexes\\base.py\", line 2657, in get_loc\n",
      "    return self._engine.get_loc(key)\n",
      "  File \"pandas/_libs/index.pyx\", line 108, in pandas._libs.index.IndexEngine.get_loc\n",
      "  File \"pandas/_libs/index.pyx\", line 132, in pandas._libs.index.IndexEngine.get_loc\n",
      "  File \"pandas/_libs/hashtable_class_helper.pxi\", line 1601, in pandas._libs.hashtable.PyObjectHashTable.get_item\n",
      "  File \"pandas/_libs/hashtable_class_helper.pxi\", line 1608, in pandas._libs.hashtable.PyObjectHashTable.get_item\n",
      "KeyError: 'Date'\n",
      "\n",
      "During handling of the above exception, another exception occurred:\n",
      "\n",
      "Traceback (most recent call last):\n",
      "  File \"C:\\Users\\Joanne\\anaconda3\\envs\\pyvizenv\\lib\\site-packages\\flask\\app.py\", line 2447, in wsgi_app\n",
      "    response = self.full_dispatch_request()\n",
      "  File \"C:\\Users\\Joanne\\anaconda3\\envs\\pyvizenv\\lib\\site-packages\\flask\\app.py\", line 1952, in full_dispatch_request\n",
      "    rv = self.handle_user_exception(e)\n",
      "  File \"C:\\Users\\Joanne\\anaconda3\\envs\\pyvizenv\\lib\\site-packages\\flask\\app.py\", line 1821, in handle_user_exception\n",
      "    reraise(exc_type, exc_value, tb)\n",
      "  File \"C:\\Users\\Joanne\\anaconda3\\envs\\pyvizenv\\lib\\site-packages\\flask\\_compat.py\", line 39, in reraise\n",
      "    raise value\n",
      "  File \"C:\\Users\\Joanne\\anaconda3\\envs\\pyvizenv\\lib\\site-packages\\flask\\app.py\", line 1950, in full_dispatch_request\n",
      "    rv = self.dispatch_request()\n",
      "  File \"C:\\Users\\Joanne\\anaconda3\\envs\\pyvizenv\\lib\\site-packages\\flask\\app.py\", line 1936, in dispatch_request\n",
      "    return self.view_functions[rule.endpoint](**req.view_args)\n",
      "  File \"C:\\Users\\Joanne\\anaconda3\\envs\\pyvizenv\\lib\\site-packages\\dash\\dash.py\", line 1096, in dispatch\n",
      "    response.set_data(func(*args, outputs_list=outputs_list))\n",
      "  File \"C:\\Users\\Joanne\\anaconda3\\envs\\pyvizenv\\lib\\site-packages\\dash\\dash.py\", line 1017, in add_context\n",
      "    output_value = func(*args, **kwargs)  # %% callback invoked %%\n",
      "  File \"<ipython-input-1-1b4d3a4b15c8>\", line 29, in update_value\n",
      "    df = web.DataReader(input_data, 'yahoo', start, end)\n",
      "  File \"C:\\Users\\Joanne\\anaconda3\\envs\\pyvizenv\\lib\\site-packages\\pandas\\util\\_decorators.py\", line 188, in wrapper\n",
      "    return func(*args, **kwargs)\n",
      "  File \"C:\\Users\\Joanne\\anaconda3\\envs\\pyvizenv\\lib\\site-packages\\pandas_datareader\\data.py\", line 378, in DataReader\n",
      "    session=session,\n",
      "  File \"C:\\Users\\Joanne\\anaconda3\\envs\\pyvizenv\\lib\\site-packages\\pandas_datareader\\base.py\", line 253, in read\n",
      "    df = self._read_one_data(self.url, params=self._get_params(self.symbols))\n",
      "  File \"C:\\Users\\Joanne\\anaconda3\\envs\\pyvizenv\\lib\\site-packages\\pandas_datareader\\yahoo\\daily.py\", line 161, in _read_one_data\n",
      "    prices[\"Date\"] = to_datetime(to_datetime(prices[\"Date\"], unit=\"s\").dt.date)\n",
      "  File \"C:\\Users\\Joanne\\anaconda3\\envs\\pyvizenv\\lib\\site-packages\\pandas\\core\\frame.py\", line 2927, in __getitem__\n",
      "    indexer = self.columns.get_loc(key)\n",
      "  File \"C:\\Users\\Joanne\\anaconda3\\envs\\pyvizenv\\lib\\site-packages\\pandas\\core\\indexes\\base.py\", line 2659, in get_loc\n",
      "    return self._engine.get_loc(self._maybe_cast_indexer(key))\n",
      "  File \"pandas/_libs/index.pyx\", line 108, in pandas._libs.index.IndexEngine.get_loc\n",
      "  File \"pandas/_libs/index.pyx\", line 132, in pandas._libs.index.IndexEngine.get_loc\n",
      "  File \"pandas/_libs/hashtable_class_helper.pxi\", line 1601, in pandas._libs.hashtable.PyObjectHashTable.get_item\n",
      "  File \"pandas/_libs/hashtable_class_helper.pxi\", line 1608, in pandas._libs.hashtable.PyObjectHashTable.get_item\n",
      "KeyError: 'Date'\n"
     ]
    },
    {
     "name": "stderr",
     "output_type": "stream",
     "text": [
      "127.0.0.1 - - [31/Jul/2021 17:36:16] \"\u001b[35m\u001b[1mPOST /_dash-update-component HTTP/1.1\u001b[0m\" 500 -\n"
     ]
    },
    {
     "name": "stdout",
     "output_type": "stream",
     "text": [
      "Exception on /_dash-update-component [POST]\n",
      "Traceback (most recent call last):\n",
      "  File \"C:\\Users\\Joanne\\anaconda3\\envs\\pyvizenv\\lib\\site-packages\\pandas_datareader\\yahoo\\daily.py\", line 153, in _read_one_data\n",
      "    data = j[\"context\"][\"dispatcher\"][\"stores\"][\"HistoricalPriceStore\"]\n",
      "KeyError: 'HistoricalPriceStore'\n",
      "\n",
      "During handling of the above exception, another exception occurred:\n",
      "\n",
      "Traceback (most recent call last):\n",
      "  File \"C:\\Users\\Joanne\\anaconda3\\envs\\pyvizenv\\lib\\site-packages\\flask\\app.py\", line 2447, in wsgi_app\n",
      "    response = self.full_dispatch_request()\n",
      "  File \"C:\\Users\\Joanne\\anaconda3\\envs\\pyvizenv\\lib\\site-packages\\flask\\app.py\", line 1952, in full_dispatch_request\n",
      "    rv = self.handle_user_exception(e)\n",
      "  File \"C:\\Users\\Joanne\\anaconda3\\envs\\pyvizenv\\lib\\site-packages\\flask\\app.py\", line 1821, in handle_user_exception\n",
      "    reraise(exc_type, exc_value, tb)\n",
      "  File \"C:\\Users\\Joanne\\anaconda3\\envs\\pyvizenv\\lib\\site-packages\\flask\\_compat.py\", line 39, in reraise\n",
      "    raise value\n",
      "  File \"C:\\Users\\Joanne\\anaconda3\\envs\\pyvizenv\\lib\\site-packages\\flask\\app.py\", line 1950, in full_dispatch_request\n",
      "    rv = self.dispatch_request()\n",
      "  File \"C:\\Users\\Joanne\\anaconda3\\envs\\pyvizenv\\lib\\site-packages\\flask\\app.py\", line 1936, in dispatch_request\n",
      "    return self.view_functions[rule.endpoint](**req.view_args)\n",
      "  File \"C:\\Users\\Joanne\\anaconda3\\envs\\pyvizenv\\lib\\site-packages\\dash\\dash.py\", line 1096, in dispatch\n",
      "    response.set_data(func(*args, outputs_list=outputs_list))\n",
      "  File \"C:\\Users\\Joanne\\anaconda3\\envs\\pyvizenv\\lib\\site-packages\\dash\\dash.py\", line 1017, in add_context\n",
      "    output_value = func(*args, **kwargs)  # %% callback invoked %%\n",
      "  File \"<ipython-input-1-1b4d3a4b15c8>\", line 29, in update_value\n",
      "    df = web.DataReader(input_data, 'yahoo', start, end)\n",
      "  File \"C:\\Users\\Joanne\\anaconda3\\envs\\pyvizenv\\lib\\site-packages\\pandas\\util\\_decorators.py\", line 188, in wrapper\n",
      "    return func(*args, **kwargs)\n",
      "  File \"C:\\Users\\Joanne\\anaconda3\\envs\\pyvizenv\\lib\\site-packages\\pandas_datareader\\data.py\", line 378, in DataReader\n",
      "    session=session,\n",
      "  File \"C:\\Users\\Joanne\\anaconda3\\envs\\pyvizenv\\lib\\site-packages\\pandas_datareader\\base.py\", line 253, in read\n",
      "    df = self._read_one_data(self.url, params=self._get_params(self.symbols))\n",
      "  File \"C:\\Users\\Joanne\\anaconda3\\envs\\pyvizenv\\lib\\site-packages\\pandas_datareader\\yahoo\\daily.py\", line 156, in _read_one_data\n",
      "    raise RemoteDataError(msg.format(symbol, self.__class__.__name__))\n",
      "pandas_datareader._utils.RemoteDataError: No data fetched for symbol apapl using YahooDailyReader\n"
     ]
    },
    {
     "name": "stderr",
     "output_type": "stream",
     "text": [
      "127.0.0.1 - - [31/Jul/2021 17:36:21] \"\u001b[35m\u001b[1mPOST /_dash-update-component HTTP/1.1\u001b[0m\" 500 -\n"
     ]
    },
    {
     "name": "stdout",
     "output_type": "stream",
     "text": [
      "Exception on /_dash-update-component [POST]\n",
      "Traceback (most recent call last):\n",
      "  File \"C:\\Users\\Joanne\\anaconda3\\envs\\pyvizenv\\lib\\site-packages\\pandas\\core\\indexes\\base.py\", line 2657, in get_loc\n",
      "    return self._engine.get_loc(key)\n",
      "  File \"pandas/_libs/index.pyx\", line 108, in pandas._libs.index.IndexEngine.get_loc\n",
      "  File \"pandas/_libs/index.pyx\", line 132, in pandas._libs.index.IndexEngine.get_loc\n",
      "  File \"pandas/_libs/hashtable_class_helper.pxi\", line 1601, in pandas._libs.hashtable.PyObjectHashTable.get_item\n",
      "  File \"pandas/_libs/hashtable_class_helper.pxi\", line 1608, in pandas._libs.hashtable.PyObjectHashTable.get_item\n",
      "KeyError: 'Date'\n",
      "\n",
      "During handling of the above exception, another exception occurred:\n",
      "\n",
      "Traceback (most recent call last):\n",
      "  File \"C:\\Users\\Joanne\\anaconda3\\envs\\pyvizenv\\lib\\site-packages\\flask\\app.py\", line 2447, in wsgi_app\n",
      "    response = self.full_dispatch_request()\n",
      "  File \"C:\\Users\\Joanne\\anaconda3\\envs\\pyvizenv\\lib\\site-packages\\flask\\app.py\", line 1952, in full_dispatch_request\n",
      "    rv = self.handle_user_exception(e)\n",
      "  File \"C:\\Users\\Joanne\\anaconda3\\envs\\pyvizenv\\lib\\site-packages\\flask\\app.py\", line 1821, in handle_user_exception\n",
      "    reraise(exc_type, exc_value, tb)\n",
      "  File \"C:\\Users\\Joanne\\anaconda3\\envs\\pyvizenv\\lib\\site-packages\\flask\\_compat.py\", line 39, in reraise\n",
      "    raise value\n",
      "  File \"C:\\Users\\Joanne\\anaconda3\\envs\\pyvizenv\\lib\\site-packages\\flask\\app.py\", line 1950, in full_dispatch_request\n",
      "    rv = self.dispatch_request()\n",
      "  File \"C:\\Users\\Joanne\\anaconda3\\envs\\pyvizenv\\lib\\site-packages\\flask\\app.py\", line 1936, in dispatch_request\n",
      "    return self.view_functions[rule.endpoint](**req.view_args)\n",
      "  File \"C:\\Users\\Joanne\\anaconda3\\envs\\pyvizenv\\lib\\site-packages\\dash\\dash.py\", line 1096, in dispatch\n",
      "    response.set_data(func(*args, outputs_list=outputs_list))\n",
      "  File \"C:\\Users\\Joanne\\anaconda3\\envs\\pyvizenv\\lib\\site-packages\\dash\\dash.py\", line 1017, in add_context\n",
      "    output_value = func(*args, **kwargs)  # %% callback invoked %%\n",
      "  File \"<ipython-input-1-1b4d3a4b15c8>\", line 29, in update_value\n",
      "    df = web.DataReader(input_data, 'yahoo', start, end)\n",
      "  File \"C:\\Users\\Joanne\\anaconda3\\envs\\pyvizenv\\lib\\site-packages\\pandas\\util\\_decorators.py\", line 188, in wrapper\n",
      "    return func(*args, **kwargs)\n",
      "  File \"C:\\Users\\Joanne\\anaconda3\\envs\\pyvizenv\\lib\\site-packages\\pandas_datareader\\data.py\", line 378, in DataReader\n",
      "    session=session,\n",
      "  File \"C:\\Users\\Joanne\\anaconda3\\envs\\pyvizenv\\lib\\site-packages\\pandas_datareader\\base.py\", line 253, in read\n",
      "    df = self._read_one_data(self.url, params=self._get_params(self.symbols))\n",
      "  File \"C:\\Users\\Joanne\\anaconda3\\envs\\pyvizenv\\lib\\site-packages\\pandas_datareader\\yahoo\\daily.py\", line 161, in _read_one_data\n",
      "    prices[\"Date\"] = to_datetime(to_datetime(prices[\"Date\"], unit=\"s\").dt.date)\n",
      "  File \"C:\\Users\\Joanne\\anaconda3\\envs\\pyvizenv\\lib\\site-packages\\pandas\\core\\frame.py\", line 2927, in __getitem__\n",
      "    indexer = self.columns.get_loc(key)\n",
      "  File \"C:\\Users\\Joanne\\anaconda3\\envs\\pyvizenv\\lib\\site-packages\\pandas\\core\\indexes\\base.py\", line 2659, in get_loc\n",
      "    return self._engine.get_loc(self._maybe_cast_indexer(key))\n",
      "  File \"pandas/_libs/index.pyx\", line 108, in pandas._libs.index.IndexEngine.get_loc\n",
      "  File \"pandas/_libs/index.pyx\", line 132, in pandas._libs.index.IndexEngine.get_loc\n",
      "  File \"pandas/_libs/hashtable_class_helper.pxi\", line 1601, in pandas._libs.hashtable.PyObjectHashTable.get_item\n",
      "  File \"pandas/_libs/hashtable_class_helper.pxi\", line 1608, in pandas._libs.hashtable.PyObjectHashTable.get_item\n",
      "KeyError: 'Date'\n"
     ]
    },
    {
     "name": "stderr",
     "output_type": "stream",
     "text": [
      "127.0.0.1 - - [31/Jul/2021 17:36:22] \"\u001b[35m\u001b[1mPOST /_dash-update-component HTTP/1.1\u001b[0m\" 500 -\n",
      "127.0.0.1 - - [31/Jul/2021 17:36:22] \"\u001b[37mPOST /_dash-update-component HTTP/1.1\u001b[0m\" 200 -\n",
      "127.0.0.1 - - [31/Jul/2021 17:36:22] \"\u001b[37mPOST /_dash-update-component HTTP/1.1\u001b[0m\" 200 -\n",
      "127.0.0.1 - - [31/Jul/2021 17:36:22] \"\u001b[37mGET /_dash-component-suites/dash_core_components/async-graph.js HTTP/1.1\u001b[0m\" 200 -\n",
      "127.0.0.1 - - [31/Jul/2021 17:36:22] \"\u001b[37mGET /_dash-component-suites/dash_core_components/async-plotlyjs.js HTTP/1.1\u001b[0m\" 200 -\n",
      "127.0.0.1 - - [31/Jul/2021 17:37:50] \"\u001b[37mGET / HTTP/1.1\u001b[0m\" 200 -\n",
      "127.0.0.1 - - [31/Jul/2021 17:37:51] \"\u001b[37mGET /_favicon.ico?v=1.21.0 HTTP/1.1\u001b[0m\" 200 -\n",
      "127.0.0.1 - - [31/Jul/2021 17:37:51] \"\u001b[37mGET /_dash-layout HTTP/1.1\u001b[0m\" 200 -\n",
      "127.0.0.1 - - [31/Jul/2021 17:37:51] \"\u001b[37mGET /_dash-dependencies HTTP/1.1\u001b[0m\" 200 -\n",
      "127.0.0.1 - - [31/Jul/2021 17:37:53] \"\u001b[37mPOST /_dash-update-component HTTP/1.1\u001b[0m\" 200 -\n"
     ]
    },
    {
     "name": "stdout",
     "output_type": "stream",
     "text": [
      "Exception on /_dash-update-component [POST]\n",
      "Traceback (most recent call last):\n",
      "  File \"C:\\Users\\Joanne\\anaconda3\\envs\\pyvizenv\\lib\\site-packages\\flask\\app.py\", line 2447, in wsgi_app\n",
      "    response = self.full_dispatch_request()\n",
      "  File \"C:\\Users\\Joanne\\anaconda3\\envs\\pyvizenv\\lib\\site-packages\\flask\\app.py\", line 1952, in full_dispatch_request\n",
      "    rv = self.handle_user_exception(e)\n",
      "  File \"C:\\Users\\Joanne\\anaconda3\\envs\\pyvizenv\\lib\\site-packages\\flask\\app.py\", line 1821, in handle_user_exception\n",
      "    reraise(exc_type, exc_value, tb)\n",
      "  File \"C:\\Users\\Joanne\\anaconda3\\envs\\pyvizenv\\lib\\site-packages\\flask\\_compat.py\", line 39, in reraise\n",
      "    raise value\n",
      "  File \"C:\\Users\\Joanne\\anaconda3\\envs\\pyvizenv\\lib\\site-packages\\flask\\app.py\", line 1950, in full_dispatch_request\n",
      "    rv = self.dispatch_request()\n",
      "  File \"C:\\Users\\Joanne\\anaconda3\\envs\\pyvizenv\\lib\\site-packages\\flask\\app.py\", line 1936, in dispatch_request\n",
      "    return self.view_functions[rule.endpoint](**req.view_args)\n",
      "  File \"C:\\Users\\Joanne\\anaconda3\\envs\\pyvizenv\\lib\\site-packages\\dash\\dash.py\", line 1096, in dispatch\n",
      "    response.set_data(func(*args, outputs_list=outputs_list))\n",
      "  File \"C:\\Users\\Joanne\\anaconda3\\envs\\pyvizenv\\lib\\site-packages\\dash\\dash.py\", line 1017, in add_context\n",
      "    output_value = func(*args, **kwargs)  # %% callback invoked %%\n",
      "  File \"<ipython-input-1-1b4d3a4b15c8>\", line 29, in update_value\n",
      "    df = web.DataReader(input_data, 'yahoo', start, end)\n",
      "  File \"C:\\Users\\Joanne\\anaconda3\\envs\\pyvizenv\\lib\\site-packages\\pandas\\util\\_decorators.py\", line 188, in wrapper\n",
      "    return func(*args, **kwargs)\n",
      "  File \"C:\\Users\\Joanne\\anaconda3\\envs\\pyvizenv\\lib\\site-packages\\pandas_datareader\\data.py\", line 378, in DataReader\n",
      "    session=session,\n",
      "  File \"C:\\Users\\Joanne\\anaconda3\\envs\\pyvizenv\\lib\\site-packages\\pandas_datareader\\base.py\", line 253, in read\n",
      "    df = self._read_one_data(self.url, params=self._get_params(self.symbols))\n",
      "  File \"C:\\Users\\Joanne\\anaconda3\\envs\\pyvizenv\\lib\\site-packages\\pandas_datareader\\yahoo\\daily.py\", line 149, in _read_one_data\n",
      "    resp = self._get_response(url, params=params, headers=self.headers)\n",
      "  File \"C:\\Users\\Joanne\\anaconda3\\envs\\pyvizenv\\lib\\site-packages\\pandas_datareader\\base.py\", line 181, in _get_response\n",
      "    raise RemoteDataError(msg)\n",
      "pandas_datareader._utils.RemoteDataError: Unable to read URL: https://finance.yahoo.com/quote//history?period1=1262347200&period2=1627815599&interval=1d&frequency=1d&filter=history\n",
      "Response Text:\n",
      "b'<html>\\n<meta charset=\\'utf-8\\'>\\n<script>\\nvar u=\\'https://www.yahoo.com/?err=404&err_url=https%3a%2f%2ffinance.yahoo.com%2fquote%2f%2fhistory%3fperiod1%3d1262347200%26period2%3d1627815599%26interval%3d1d%26frequency%3d1d%26filter%3dhistory\\';\\nif(window!=window.top){\\n  document.write(\\'<p>Content is currently unavailable.</p><img src=\"//geo.yahoo.com/p?s=1197757039&t=\\'+new Date().getTime()+\\'&_R=\\'+encodeURIComponent(document.referrer)+\\'&err=404&err_url=\\'+u+\\'\" width=\"0px\" height=\"0px\"/>\\');\\n}else{\\n  window.location.replace(u);\\n}\\n</script>\\n<noscript><META http-equiv=\"refresh\" content=\"0;URL=\\'https://www.yahoo.com/?err=404&err_url=https%3a%2f%2ffinance.yahoo.com%2fquote%2f%2fhistory%3fperiod1%3d1262347200%26period2%3d1627815599%26interval%3d1d%26frequency%3d1d%26filter%3dhistory\\'\"></noscript>\\n</html>\\n'\n"
     ]
    },
    {
     "name": "stderr",
     "output_type": "stream",
     "text": [
      "127.0.0.1 - - [31/Jul/2021 17:37:54] \"\u001b[37mPOST /_dash-update-component HTTP/1.1\u001b[0m\" 200 -\n",
      "127.0.0.1 - - [31/Jul/2021 17:37:54] \"\u001b[35m\u001b[1mPOST /_dash-update-component HTTP/1.1\u001b[0m\" 500 -\n"
     ]
    },
    {
     "name": "stdout",
     "output_type": "stream",
     "text": [
      "Exception on /_dash-update-component [POST]\n",
      "Traceback (most recent call last):\n",
      "  File \"C:\\Users\\Joanne\\anaconda3\\envs\\pyvizenv\\lib\\site-packages\\pandas\\core\\indexes\\base.py\", line 2657, in get_loc\n",
      "    return self._engine.get_loc(key)\n",
      "  File \"pandas/_libs/index.pyx\", line 108, in pandas._libs.index.IndexEngine.get_loc\n",
      "  File \"pandas/_libs/index.pyx\", line 132, in pandas._libs.index.IndexEngine.get_loc\n",
      "  File \"pandas/_libs/hashtable_class_helper.pxi\", line 1601, in pandas._libs.hashtable.PyObjectHashTable.get_item\n",
      "  File \"pandas/_libs/hashtable_class_helper.pxi\", line 1608, in pandas._libs.hashtable.PyObjectHashTable.get_item\n",
      "KeyError: 'Date'\n",
      "\n",
      "During handling of the above exception, another exception occurred:\n",
      "\n",
      "Traceback (most recent call last):\n",
      "  File \"C:\\Users\\Joanne\\anaconda3\\envs\\pyvizenv\\lib\\site-packages\\flask\\app.py\", line 2447, in wsgi_app\n",
      "    response = self.full_dispatch_request()\n",
      "  File \"C:\\Users\\Joanne\\anaconda3\\envs\\pyvizenv\\lib\\site-packages\\flask\\app.py\", line 1952, in full_dispatch_request\n",
      "    rv = self.handle_user_exception(e)\n",
      "  File \"C:\\Users\\Joanne\\anaconda3\\envs\\pyvizenv\\lib\\site-packages\\flask\\app.py\", line 1821, in handle_user_exception\n",
      "    reraise(exc_type, exc_value, tb)\n",
      "  File \"C:\\Users\\Joanne\\anaconda3\\envs\\pyvizenv\\lib\\site-packages\\flask\\_compat.py\", line 39, in reraise\n",
      "    raise value\n",
      "  File \"C:\\Users\\Joanne\\anaconda3\\envs\\pyvizenv\\lib\\site-packages\\flask\\app.py\", line 1950, in full_dispatch_request\n",
      "    rv = self.dispatch_request()\n",
      "  File \"C:\\Users\\Joanne\\anaconda3\\envs\\pyvizenv\\lib\\site-packages\\flask\\app.py\", line 1936, in dispatch_request\n",
      "    return self.view_functions[rule.endpoint](**req.view_args)\n",
      "  File \"C:\\Users\\Joanne\\anaconda3\\envs\\pyvizenv\\lib\\site-packages\\dash\\dash.py\", line 1096, in dispatch\n",
      "    response.set_data(func(*args, outputs_list=outputs_list))\n",
      "  File \"C:\\Users\\Joanne\\anaconda3\\envs\\pyvizenv\\lib\\site-packages\\dash\\dash.py\", line 1017, in add_context\n",
      "    output_value = func(*args, **kwargs)  # %% callback invoked %%\n",
      "  File \"<ipython-input-1-1b4d3a4b15c8>\", line 29, in update_value\n",
      "    df = web.DataReader(input_data, 'yahoo', start, end)\n",
      "  File \"C:\\Users\\Joanne\\anaconda3\\envs\\pyvizenv\\lib\\site-packages\\pandas\\util\\_decorators.py\", line 188, in wrapper\n",
      "    return func(*args, **kwargs)\n",
      "  File \"C:\\Users\\Joanne\\anaconda3\\envs\\pyvizenv\\lib\\site-packages\\pandas_datareader\\data.py\", line 378, in DataReader\n",
      "    session=session,\n",
      "  File \"C:\\Users\\Joanne\\anaconda3\\envs\\pyvizenv\\lib\\site-packages\\pandas_datareader\\base.py\", line 253, in read\n",
      "    df = self._read_one_data(self.url, params=self._get_params(self.symbols))\n",
      "  File \"C:\\Users\\Joanne\\anaconda3\\envs\\pyvizenv\\lib\\site-packages\\pandas_datareader\\yahoo\\daily.py\", line 161, in _read_one_data\n",
      "    prices[\"Date\"] = to_datetime(to_datetime(prices[\"Date\"], unit=\"s\").dt.date)\n",
      "  File \"C:\\Users\\Joanne\\anaconda3\\envs\\pyvizenv\\lib\\site-packages\\pandas\\core\\frame.py\", line 2927, in __getitem__\n",
      "    indexer = self.columns.get_loc(key)\n",
      "  File \"C:\\Users\\Joanne\\anaconda3\\envs\\pyvizenv\\lib\\site-packages\\pandas\\core\\indexes\\base.py\", line 2659, in get_loc\n",
      "    return self._engine.get_loc(self._maybe_cast_indexer(key))\n",
      "  File \"pandas/_libs/index.pyx\", line 108, in pandas._libs.index.IndexEngine.get_loc\n",
      "  File \"pandas/_libs/index.pyx\", line 132, in pandas._libs.index.IndexEngine.get_loc\n",
      "  File \"pandas/_libs/hashtable_class_helper.pxi\", line 1601, in pandas._libs.hashtable.PyObjectHashTable.get_item\n",
      "  File \"pandas/_libs/hashtable_class_helper.pxi\", line 1608, in pandas._libs.hashtable.PyObjectHashTable.get_item\n",
      "KeyError: 'Date'\n"
     ]
    },
    {
     "name": "stderr",
     "output_type": "stream",
     "text": [
      "127.0.0.1 - - [31/Jul/2021 17:37:54] \"\u001b[35m\u001b[1mPOST /_dash-update-component HTTP/1.1\u001b[0m\" 500 -\n",
      "127.0.0.1 - - [31/Jul/2021 17:37:54] \"\u001b[37mPOST /_dash-update-component HTTP/1.1\u001b[0m\" 200 -\n",
      "127.0.0.1 - - [31/Jul/2021 17:37:54] \"\u001b[37mGET /_dash-component-suites/dash_core_components/async-graph.js HTTP/1.1\u001b[0m\" 200 -\n",
      "127.0.0.1 - - [31/Jul/2021 17:37:54] \"\u001b[37mGET /_dash-component-suites/dash_core_components/async-plotlyjs.js HTTP/1.1\u001b[0m\" 200 -\n"
     ]
    }
   ],
   "source": [
    "# Dash Framework - stock price visualization demo\n",
    "import pandas_datareader.data as web\n",
    "import dash\n",
    "import dash_core_components as dcc\n",
    "import dash_html_components as html\n",
    "from dash.dependencies import Input, Output\n",
    "import datetime\n",
    "\n",
    "# First the layout\n",
    "app = dash.Dash()\n",
    "app.title = \"Stock Visualization\"\n",
    "app.layout = html.Div(children=[\n",
    "    html.H1('Stock Visualization Dashboard'),\n",
    "    html.H4('Please enter the stock name'),\n",
    "    dcc.Input(id=\"input\", value='', type='text'),\n",
    "    html.Div(id=\"output-graph\")\n",
    "])\n",
    "\n",
    "# Second the interaction with the user\n",
    "\n",
    "\n",
    "@app.callback(\n",
    "    Output(component_id=\"output-graph\", component_property='children'),\n",
    "    [Input(component_id=\"input\", component_property=\"value\")]\n",
    ")\n",
    "def update_value(input_data):\n",
    "    start = datetime.datetime(2010, 1, 1)\n",
    "    end = datetime.datetime.now()\n",
    "    df = web.DataReader(input_data, 'yahoo', start, end)\n",
    "    return dcc.Graph(id=\"demo\", figure={'data': [{'x': df.index, 'y': df.Close, 'type': 'line', 'name': input_data}, ], 'layout': {'title': input_data}})\n",
    "\n",
    "\n",
    "if __name__ == \"__main__\":\n",
    "    app.run_server(debug=False)"
   ]
  },
  {
   "cell_type": "code",
   "execution_count": null,
   "metadata": {},
   "outputs": [],
   "source": [
    "!pip install pandas_datareader"
   ]
  },
  {
   "cell_type": "code",
   "execution_count": 6,
   "metadata": {},
   "outputs": [
    {
     "data": {
      "application/vnd.plotly.v1+json": {
       "config": {
        "plotlyServerURL": "https://plot.ly"
       },
       "data": [
        {
         "hovertemplate": "variable=GOOG<br>date=%{x}<br>value=%{y}<extra></extra>",
         "legendgroup": "GOOG",
         "line": {
          "color": "#636efa",
          "dash": "solid"
         },
         "mode": "lines",
         "name": "GOOG",
         "orientation": "v",
         "showlegend": true,
         "type": "scatter",
         "x": [
          "2018-01-01",
          "2018-01-08",
          "2018-01-15",
          "2018-01-22",
          "2018-01-29",
          "2018-02-05",
          "2018-02-12",
          "2018-02-19",
          "2018-02-26",
          "2018-03-05",
          "2018-03-12",
          "2018-03-19",
          "2018-03-26",
          "2018-04-02",
          "2018-04-09",
          "2018-04-16",
          "2018-04-23",
          "2018-04-30",
          "2018-05-07",
          "2018-05-14",
          "2018-05-21",
          "2018-05-28",
          "2018-06-04",
          "2018-06-11",
          "2018-06-18",
          "2018-06-25",
          "2018-07-02",
          "2018-07-09",
          "2018-07-16",
          "2018-07-23",
          "2018-07-30",
          "2018-08-06",
          "2018-08-13",
          "2018-08-20",
          "2018-08-27",
          "2018-09-03",
          "2018-09-10",
          "2018-09-17",
          "2018-09-24",
          "2018-10-01",
          "2018-10-08",
          "2018-10-15",
          "2018-10-22",
          "2018-10-29",
          "2018-11-05",
          "2018-11-12",
          "2018-11-19",
          "2018-11-26",
          "2018-12-03",
          "2018-12-10",
          "2018-12-17",
          "2018-12-24",
          "2018-12-31",
          "2019-01-07",
          "2019-01-14",
          "2019-01-21",
          "2019-01-28",
          "2019-02-04",
          "2019-02-11",
          "2019-02-18",
          "2019-02-25",
          "2019-03-04",
          "2019-03-11",
          "2019-03-18",
          "2019-03-25",
          "2019-04-01",
          "2019-04-08",
          "2019-04-15",
          "2019-04-22",
          "2019-04-29",
          "2019-05-06",
          "2019-05-13",
          "2019-05-20",
          "2019-05-27",
          "2019-06-03",
          "2019-06-10",
          "2019-06-17",
          "2019-06-24",
          "2019-07-01",
          "2019-07-08",
          "2019-07-15",
          "2019-07-22",
          "2019-07-29",
          "2019-08-05",
          "2019-08-12",
          "2019-08-19",
          "2019-08-26",
          "2019-09-02",
          "2019-09-09",
          "2019-09-16",
          "2019-09-23",
          "2019-09-30",
          "2019-10-07",
          "2019-10-14",
          "2019-10-21",
          "2019-10-28",
          "2019-11-04",
          "2019-11-11",
          "2019-11-18",
          "2019-11-25",
          "2019-12-02",
          "2019-12-09",
          "2019-12-16",
          "2019-12-23",
          "2019-12-30"
         ],
         "xaxis": "x",
         "y": [
          1,
          1.018172278347936,
          1.032007866452698,
          1.066782783389724,
          1.0087731636550117,
          0.9415276737437316,
          0.99325918262539,
          1.0222821547641083,
          0.9788520214265992,
          1.0524482730908842,
          1.0303929312465263,
          0.926821104067592,
          0.9360932452590338,
          0.913638710861412,
          0.93380695379017,
          0.9734447261178653,
          0.9345146364100892,
          0.9509902470625956,
          0.9963982380519172,
          0.9674568868105002,
          0.9758943718805396,
          1.015668254641377,
          1.0169111849053498,
          1.0453898287179595,
          1.0483111519067918,
          1.0121753574512644,
          1.0344211867653972,
          1.0785588920381208,
          1.075011617811375,
          1.1236312044424703,
          1.1102129167272332,
          1.1228237368393843,
          1.0895729410299655,
          1.1074367837463466,
          1.1052048693141154,
          1.0567939333314087,
          1.0637798374890872,
          1.0579370795194665,
          1.0827776350267664,
          1.0500077089175164,
          1.0071219039061161,
          0.9947651405743836,
          0.9720929301886708,
          0.959681788913054,
          0.9672663993407256,
          0.9630385756700248,
          0.9289168536315806,
          0.992923504040418,
          0.9404389054995582,
          0.945446952912676,
          0.8886892896888904,
          0.9408925313390586,
          0.9714034098401132,
          0.9591373489949891,
          0.9963982380519172,
          0.989802500200548,
          1.0077298024501202,
          0.9934950771344468,
          1.0103608540932627,
          1.0073850422758417,
          1.035165084150587,
          1.0363716889645844,
          1.0746032883264525,
          1.0936918990354445,
          1.064487521016258,
          1.095188886079836,
          1.1049145977684258,
          1.1216987538299403,
          1.1541874899828073,
          1.075456162061569,
          1.0562859304552756,
          1.0544986709579427,
          1.0283425342867192,
          1.0012701750318929,
          0.9671666152648106,
          0.98468558802946,
          1.0178275181736574,
          0.980657443195294,
          1.0266368965939394,
          1.0387124690620373,
          1.025285100664745,
          1.1344366027859267,
          1.0832494231376286,
          1.0778240762422375,
          1.068379555417282,
          1.0445098208996275,
          1.0779056980467905,
          1.0931748145700046,
          1.12459294475006,
          1.1158561065450243,
          1.1114649285805127,
          1.0968672799119472,
          1.1027190087861698,
          1.129972884606169,
          1.1477913211905195,
          1.1556027445379409,
          1.189742629754999,
          1.2110630442115171,
          1.1751993590303178,
          1.1839271156460471,
          1.216279741365772,
          1.222820990588552,
          1.22441776261611,
          1.2265044859331442,
          1.213013658002661
         ],
         "yaxis": "y"
        },
        {
         "hovertemplate": "variable=FB<br>date=%{x}<br>value=%{y}<extra></extra>",
         "legendgroup": "FB",
         "line": {
          "color": "#EF553B",
          "dash": "solid"
         },
         "mode": "lines",
         "name": "FB",
         "orientation": "v",
         "showlegend": true,
         "type": "scatter",
         "x": [
          "2018-01-01",
          "2018-01-08",
          "2018-01-15",
          "2018-01-22",
          "2018-01-29",
          "2018-02-05",
          "2018-02-12",
          "2018-02-19",
          "2018-02-26",
          "2018-03-05",
          "2018-03-12",
          "2018-03-19",
          "2018-03-26",
          "2018-04-02",
          "2018-04-09",
          "2018-04-16",
          "2018-04-23",
          "2018-04-30",
          "2018-05-07",
          "2018-05-14",
          "2018-05-21",
          "2018-05-28",
          "2018-06-04",
          "2018-06-11",
          "2018-06-18",
          "2018-06-25",
          "2018-07-02",
          "2018-07-09",
          "2018-07-16",
          "2018-07-23",
          "2018-07-30",
          "2018-08-06",
          "2018-08-13",
          "2018-08-20",
          "2018-08-27",
          "2018-09-03",
          "2018-09-10",
          "2018-09-17",
          "2018-09-24",
          "2018-10-01",
          "2018-10-08",
          "2018-10-15",
          "2018-10-22",
          "2018-10-29",
          "2018-11-05",
          "2018-11-12",
          "2018-11-19",
          "2018-11-26",
          "2018-12-03",
          "2018-12-10",
          "2018-12-17",
          "2018-12-24",
          "2018-12-31",
          "2019-01-07",
          "2019-01-14",
          "2019-01-21",
          "2019-01-28",
          "2019-02-04",
          "2019-02-11",
          "2019-02-18",
          "2019-02-25",
          "2019-03-04",
          "2019-03-11",
          "2019-03-18",
          "2019-03-25",
          "2019-04-01",
          "2019-04-08",
          "2019-04-15",
          "2019-04-22",
          "2019-04-29",
          "2019-05-06",
          "2019-05-13",
          "2019-05-20",
          "2019-05-27",
          "2019-06-03",
          "2019-06-10",
          "2019-06-17",
          "2019-06-24",
          "2019-07-01",
          "2019-07-08",
          "2019-07-15",
          "2019-07-22",
          "2019-07-29",
          "2019-08-05",
          "2019-08-12",
          "2019-08-19",
          "2019-08-26",
          "2019-09-02",
          "2019-09-09",
          "2019-09-16",
          "2019-09-23",
          "2019-09-30",
          "2019-10-07",
          "2019-10-14",
          "2019-10-21",
          "2019-10-28",
          "2019-11-04",
          "2019-11-11",
          "2019-11-18",
          "2019-11-25",
          "2019-12-02",
          "2019-12-09",
          "2019-12-16",
          "2019-12-23",
          "2019-12-30"
         ],
         "xaxis": "x",
         "y": [
          1,
          0.9599678310954936,
          0.9702434422185674,
          1.0168584099483515,
          1.0183569327795472,
          0.9425207136466456,
          0.949210571606832,
          0.9809472149548658,
          0.9452501435830832,
          0.9913298905647344,
          0.9905806264731936,
          0.8530371628674177,
          0.8551778853033591,
          0.8413165210173983,
          0.8804923666954552,
          0.8899116599439659,
          0.9290339332394776,
          0.9451966568307202,
          1.0007492587396545,
          0.9776825642702948,
          0.9896708164943808,
          1.0382124633166991,
          1.0120417443283358,
          1.048166977313343,
          1.0796895826698554,
          1.039978596521961,
          1.0876638451914205,
          1.109553119307901,
          1.12357503483302,
          0.9359914015737306,
          0.951458353177682,
          0.9647310099631464,
          0.9301578668399936,
          0.934706922085943,
          0.9404869700673171,
          0.8725715159998442,
          0.8687182327411859,
          0.8719828084993478,
          0.8801712695690254,
          0.8420122930046896,
          0.8227990369986931,
          0.8244581110690464,
          0.7780036945784202,
          0.8046561475625534,
          0.7758094853901156,
          0.7467486995959743,
          0.7050039698687512,
          0.7525287475773482,
          0.735456214007293,
          0.7709927394918039,
          0.6687181856445861,
          0.7128712481818171,
          0.7382927084305257,
          0.7696012757955171,
          0.8029969932139043,
          0.7974845609584834,
          0.8868611275292119,
          0.8955311566861818,
          0.8696815348242483,
          0.8664168787877908,
          0.8685041144713691,
          0.9076799601494259,
          0.8883060779778621,
          0.8795289843340972,
          0.8921059494105662,
          0.9404334779630672,
          0.9585228806468435,
          0.9541342963617566,
          1.024832747396326,
          1.0461332337340143,
          1.0079742571696786,
          0.9917045600737096,
          0.9690125351133252,
          0.9497992791073284,
          0.9277495340299856,
          0.9704575658402708,
          1.0229595550561554,
          1.0329140690527994,
          1.0511104505931883,
          1.0964409334832987,
          1.0616001853379655,
          1.0690393020378066,
          1.011613582715111,
          1.0053518863681492,
          0.9831415097733526,
          0.951297801938524,
          0.993684731270493,
          1.003425201923729,
          1.0018196199576253,
          1.0164837404393767,
          0.9478191079105452,
          0.9657478790768677,
          0.9857639608531776,
          0.9946481136318508,
          1.0055659243596704,
          1.03623221184162,
          1.0213539730900516,
          1.044153062537231,
          1.0640620851786324,
          1.0791543619217223,
          1.07599677037206,
          1.0388546682733315,
          1.1040941738048429,
          1.113727585323171,
          1.0984746770626277
         ],
         "yaxis": "y"
        }
       ],
       "layout": {
        "autosize": true,
        "legend": {
         "title": {
          "text": "variable"
         },
         "tracegroupgap": 0
        },
        "margin": {
         "t": 60
        },
        "template": {
         "data": {
          "bar": [
           {
            "error_x": {
             "color": "#2a3f5f"
            },
            "error_y": {
             "color": "#2a3f5f"
            },
            "marker": {
             "line": {
              "color": "#E5ECF6",
              "width": 0.5
             }
            },
            "type": "bar"
           }
          ],
          "barpolar": [
           {
            "marker": {
             "line": {
              "color": "#E5ECF6",
              "width": 0.5
             }
            },
            "type": "barpolar"
           }
          ],
          "carpet": [
           {
            "aaxis": {
             "endlinecolor": "#2a3f5f",
             "gridcolor": "white",
             "linecolor": "white",
             "minorgridcolor": "white",
             "startlinecolor": "#2a3f5f"
            },
            "baxis": {
             "endlinecolor": "#2a3f5f",
             "gridcolor": "white",
             "linecolor": "white",
             "minorgridcolor": "white",
             "startlinecolor": "#2a3f5f"
            },
            "type": "carpet"
           }
          ],
          "choropleth": [
           {
            "colorbar": {
             "outlinewidth": 0,
             "ticks": ""
            },
            "type": "choropleth"
           }
          ],
          "contour": [
           {
            "colorbar": {
             "outlinewidth": 0,
             "ticks": ""
            },
            "colorscale": [
             [
              0,
              "#0d0887"
             ],
             [
              0.1111111111111111,
              "#46039f"
             ],
             [
              0.2222222222222222,
              "#7201a8"
             ],
             [
              0.3333333333333333,
              "#9c179e"
             ],
             [
              0.4444444444444444,
              "#bd3786"
             ],
             [
              0.5555555555555556,
              "#d8576b"
             ],
             [
              0.6666666666666666,
              "#ed7953"
             ],
             [
              0.7777777777777778,
              "#fb9f3a"
             ],
             [
              0.8888888888888888,
              "#fdca26"
             ],
             [
              1,
              "#f0f921"
             ]
            ],
            "type": "contour"
           }
          ],
          "contourcarpet": [
           {
            "colorbar": {
             "outlinewidth": 0,
             "ticks": ""
            },
            "type": "contourcarpet"
           }
          ],
          "heatmap": [
           {
            "colorbar": {
             "outlinewidth": 0,
             "ticks": ""
            },
            "colorscale": [
             [
              0,
              "#0d0887"
             ],
             [
              0.1111111111111111,
              "#46039f"
             ],
             [
              0.2222222222222222,
              "#7201a8"
             ],
             [
              0.3333333333333333,
              "#9c179e"
             ],
             [
              0.4444444444444444,
              "#bd3786"
             ],
             [
              0.5555555555555556,
              "#d8576b"
             ],
             [
              0.6666666666666666,
              "#ed7953"
             ],
             [
              0.7777777777777778,
              "#fb9f3a"
             ],
             [
              0.8888888888888888,
              "#fdca26"
             ],
             [
              1,
              "#f0f921"
             ]
            ],
            "type": "heatmap"
           }
          ],
          "heatmapgl": [
           {
            "colorbar": {
             "outlinewidth": 0,
             "ticks": ""
            },
            "colorscale": [
             [
              0,
              "#0d0887"
             ],
             [
              0.1111111111111111,
              "#46039f"
             ],
             [
              0.2222222222222222,
              "#7201a8"
             ],
             [
              0.3333333333333333,
              "#9c179e"
             ],
             [
              0.4444444444444444,
              "#bd3786"
             ],
             [
              0.5555555555555556,
              "#d8576b"
             ],
             [
              0.6666666666666666,
              "#ed7953"
             ],
             [
              0.7777777777777778,
              "#fb9f3a"
             ],
             [
              0.8888888888888888,
              "#fdca26"
             ],
             [
              1,
              "#f0f921"
             ]
            ],
            "type": "heatmapgl"
           }
          ],
          "histogram": [
           {
            "marker": {
             "colorbar": {
              "outlinewidth": 0,
              "ticks": ""
             }
            },
            "type": "histogram"
           }
          ],
          "histogram2d": [
           {
            "colorbar": {
             "outlinewidth": 0,
             "ticks": ""
            },
            "colorscale": [
             [
              0,
              "#0d0887"
             ],
             [
              0.1111111111111111,
              "#46039f"
             ],
             [
              0.2222222222222222,
              "#7201a8"
             ],
             [
              0.3333333333333333,
              "#9c179e"
             ],
             [
              0.4444444444444444,
              "#bd3786"
             ],
             [
              0.5555555555555556,
              "#d8576b"
             ],
             [
              0.6666666666666666,
              "#ed7953"
             ],
             [
              0.7777777777777778,
              "#fb9f3a"
             ],
             [
              0.8888888888888888,
              "#fdca26"
             ],
             [
              1,
              "#f0f921"
             ]
            ],
            "type": "histogram2d"
           }
          ],
          "histogram2dcontour": [
           {
            "colorbar": {
             "outlinewidth": 0,
             "ticks": ""
            },
            "colorscale": [
             [
              0,
              "#0d0887"
             ],
             [
              0.1111111111111111,
              "#46039f"
             ],
             [
              0.2222222222222222,
              "#7201a8"
             ],
             [
              0.3333333333333333,
              "#9c179e"
             ],
             [
              0.4444444444444444,
              "#bd3786"
             ],
             [
              0.5555555555555556,
              "#d8576b"
             ],
             [
              0.6666666666666666,
              "#ed7953"
             ],
             [
              0.7777777777777778,
              "#fb9f3a"
             ],
             [
              0.8888888888888888,
              "#fdca26"
             ],
             [
              1,
              "#f0f921"
             ]
            ],
            "type": "histogram2dcontour"
           }
          ],
          "mesh3d": [
           {
            "colorbar": {
             "outlinewidth": 0,
             "ticks": ""
            },
            "type": "mesh3d"
           }
          ],
          "parcoords": [
           {
            "line": {
             "colorbar": {
              "outlinewidth": 0,
              "ticks": ""
             }
            },
            "type": "parcoords"
           }
          ],
          "pie": [
           {
            "automargin": true,
            "type": "pie"
           }
          ],
          "scatter": [
           {
            "marker": {
             "colorbar": {
              "outlinewidth": 0,
              "ticks": ""
             }
            },
            "type": "scatter"
           }
          ],
          "scatter3d": [
           {
            "line": {
             "colorbar": {
              "outlinewidth": 0,
              "ticks": ""
             }
            },
            "marker": {
             "colorbar": {
              "outlinewidth": 0,
              "ticks": ""
             }
            },
            "type": "scatter3d"
           }
          ],
          "scattercarpet": [
           {
            "marker": {
             "colorbar": {
              "outlinewidth": 0,
              "ticks": ""
             }
            },
            "type": "scattercarpet"
           }
          ],
          "scattergeo": [
           {
            "marker": {
             "colorbar": {
              "outlinewidth": 0,
              "ticks": ""
             }
            },
            "type": "scattergeo"
           }
          ],
          "scattergl": [
           {
            "marker": {
             "colorbar": {
              "outlinewidth": 0,
              "ticks": ""
             }
            },
            "type": "scattergl"
           }
          ],
          "scattermapbox": [
           {
            "marker": {
             "colorbar": {
              "outlinewidth": 0,
              "ticks": ""
             }
            },
            "type": "scattermapbox"
           }
          ],
          "scatterpolar": [
           {
            "marker": {
             "colorbar": {
              "outlinewidth": 0,
              "ticks": ""
             }
            },
            "type": "scatterpolar"
           }
          ],
          "scatterpolargl": [
           {
            "marker": {
             "colorbar": {
              "outlinewidth": 0,
              "ticks": ""
             }
            },
            "type": "scatterpolargl"
           }
          ],
          "scatterternary": [
           {
            "marker": {
             "colorbar": {
              "outlinewidth": 0,
              "ticks": ""
             }
            },
            "type": "scatterternary"
           }
          ],
          "surface": [
           {
            "colorbar": {
             "outlinewidth": 0,
             "ticks": ""
            },
            "colorscale": [
             [
              0,
              "#0d0887"
             ],
             [
              0.1111111111111111,
              "#46039f"
             ],
             [
              0.2222222222222222,
              "#7201a8"
             ],
             [
              0.3333333333333333,
              "#9c179e"
             ],
             [
              0.4444444444444444,
              "#bd3786"
             ],
             [
              0.5555555555555556,
              "#d8576b"
             ],
             [
              0.6666666666666666,
              "#ed7953"
             ],
             [
              0.7777777777777778,
              "#fb9f3a"
             ],
             [
              0.8888888888888888,
              "#fdca26"
             ],
             [
              1,
              "#f0f921"
             ]
            ],
            "type": "surface"
           }
          ],
          "table": [
           {
            "cells": {
             "fill": {
              "color": "#EBF0F8"
             },
             "line": {
              "color": "white"
             }
            },
            "header": {
             "fill": {
              "color": "#C8D4E3"
             },
             "line": {
              "color": "white"
             }
            },
            "type": "table"
           }
          ]
         },
         "layout": {
          "annotationdefaults": {
           "arrowcolor": "#2a3f5f",
           "arrowhead": 0,
           "arrowwidth": 1
          },
          "autotypenumbers": "strict",
          "coloraxis": {
           "colorbar": {
            "outlinewidth": 0,
            "ticks": ""
           }
          },
          "colorscale": {
           "diverging": [
            [
             0,
             "#8e0152"
            ],
            [
             0.1,
             "#c51b7d"
            ],
            [
             0.2,
             "#de77ae"
            ],
            [
             0.3,
             "#f1b6da"
            ],
            [
             0.4,
             "#fde0ef"
            ],
            [
             0.5,
             "#f7f7f7"
            ],
            [
             0.6,
             "#e6f5d0"
            ],
            [
             0.7,
             "#b8e186"
            ],
            [
             0.8,
             "#7fbc41"
            ],
            [
             0.9,
             "#4d9221"
            ],
            [
             1,
             "#276419"
            ]
           ],
           "sequential": [
            [
             0,
             "#0d0887"
            ],
            [
             0.1111111111111111,
             "#46039f"
            ],
            [
             0.2222222222222222,
             "#7201a8"
            ],
            [
             0.3333333333333333,
             "#9c179e"
            ],
            [
             0.4444444444444444,
             "#bd3786"
            ],
            [
             0.5555555555555556,
             "#d8576b"
            ],
            [
             0.6666666666666666,
             "#ed7953"
            ],
            [
             0.7777777777777778,
             "#fb9f3a"
            ],
            [
             0.8888888888888888,
             "#fdca26"
            ],
            [
             1,
             "#f0f921"
            ]
           ],
           "sequentialminus": [
            [
             0,
             "#0d0887"
            ],
            [
             0.1111111111111111,
             "#46039f"
            ],
            [
             0.2222222222222222,
             "#7201a8"
            ],
            [
             0.3333333333333333,
             "#9c179e"
            ],
            [
             0.4444444444444444,
             "#bd3786"
            ],
            [
             0.5555555555555556,
             "#d8576b"
            ],
            [
             0.6666666666666666,
             "#ed7953"
            ],
            [
             0.7777777777777778,
             "#fb9f3a"
            ],
            [
             0.8888888888888888,
             "#fdca26"
            ],
            [
             1,
             "#f0f921"
            ]
           ]
          },
          "colorway": [
           "#636efa",
           "#EF553B",
           "#00cc96",
           "#ab63fa",
           "#FFA15A",
           "#19d3f3",
           "#FF6692",
           "#B6E880",
           "#FF97FF",
           "#FECB52"
          ],
          "font": {
           "color": "#2a3f5f"
          },
          "geo": {
           "bgcolor": "white",
           "lakecolor": "white",
           "landcolor": "#E5ECF6",
           "showlakes": true,
           "showland": true,
           "subunitcolor": "white"
          },
          "hoverlabel": {
           "align": "left"
          },
          "hovermode": "closest",
          "mapbox": {
           "style": "light"
          },
          "paper_bgcolor": "white",
          "plot_bgcolor": "#E5ECF6",
          "polar": {
           "angularaxis": {
            "gridcolor": "white",
            "linecolor": "white",
            "ticks": ""
           },
           "bgcolor": "#E5ECF6",
           "radialaxis": {
            "gridcolor": "white",
            "linecolor": "white",
            "ticks": ""
           }
          },
          "scene": {
           "xaxis": {
            "backgroundcolor": "#E5ECF6",
            "gridcolor": "white",
            "gridwidth": 2,
            "linecolor": "white",
            "showbackground": true,
            "ticks": "",
            "zerolinecolor": "white"
           },
           "yaxis": {
            "backgroundcolor": "#E5ECF6",
            "gridcolor": "white",
            "gridwidth": 2,
            "linecolor": "white",
            "showbackground": true,
            "ticks": "",
            "zerolinecolor": "white"
           },
           "zaxis": {
            "backgroundcolor": "#E5ECF6",
            "gridcolor": "white",
            "gridwidth": 2,
            "linecolor": "white",
            "showbackground": true,
            "ticks": "",
            "zerolinecolor": "white"
           }
          },
          "shapedefaults": {
           "line": {
            "color": "#2a3f5f"
           }
          },
          "ternary": {
           "aaxis": {
            "gridcolor": "white",
            "linecolor": "white",
            "ticks": ""
           },
           "baxis": {
            "gridcolor": "white",
            "linecolor": "white",
            "ticks": ""
           },
           "bgcolor": "#E5ECF6",
           "caxis": {
            "gridcolor": "white",
            "linecolor": "white",
            "ticks": ""
           }
          },
          "title": {
           "x": 0.05
          },
          "xaxis": {
           "automargin": true,
           "gridcolor": "white",
           "linecolor": "white",
           "ticks": "",
           "title": {
            "standoff": 15
           },
           "zerolinecolor": "white",
           "zerolinewidth": 2
          },
          "yaxis": {
           "automargin": true,
           "gridcolor": "white",
           "linecolor": "white",
           "ticks": "",
           "title": {
            "standoff": 15
           },
           "zerolinecolor": "white",
           "zerolinewidth": 2
          }
         }
        },
        "xaxis": {
         "anchor": "y",
         "autorange": true,
         "domain": [
          0,
          1
         ],
         "range": [
          "2018-01-01",
          "2019-12-30"
         ],
         "title": {
          "text": "date"
         },
         "type": "date"
        },
        "yaxis": {
         "anchor": "x",
         "autorange": true,
         "domain": [
          0,
          1
         ],
         "range": [
          0.6377300578507773,
          1.257492613726953
         ],
         "title": {
          "text": "value"
         },
         "type": "linear"
        }
       }
      },
      "image/png": "[encoded data removed]",
      "text/html": [
       "<div>                            <div id=\"28e62035-947f-4f7a-a599-d249115d0f53\" class=\"plotly-graph-div\" style=\"height:525px; width:100%;\"></div>            <script type=\"text/javascript\">                require([\"plotly\"], function(Plotly) {                    window.PLOTLYENV=window.PLOTLYENV || {};                                    if (document.getElementById(\"28e62035-947f-4f7a-a599-d249115d0f53\")) {                    Plotly.newPlot(                        \"28e62035-947f-4f7a-a599-d249115d0f53\",                        [{\"hovertemplate\": \"variable=GOOG<br>date=%{x}<br>value=%{y}<extra></extra>\", \"legendgroup\": \"GOOG\", \"line\": {\"color\": \"#636efa\", \"dash\": \"solid\"}, \"mode\": \"lines\", \"name\": \"GOOG\", \"orientation\": \"v\", \"showlegend\": true, \"type\": \"scatter\", \"x\": [\"2018-01-01\", \"2018-01-08\", \"2018-01-15\", \"2018-01-22\", \"2018-01-29\", \"2018-02-05\", \"2018-02-12\", \"2018-02-19\", \"2018-02-26\", \"2018-03-05\", \"2018-03-12\", \"2018-03-19\", \"2018-03-26\", \"2018-04-02\", \"2018-04-09\", \"2018-04-16\", \"2018-04-23\", \"2018-04-30\", \"2018-05-07\", \"2018-05-14\", \"2018-05-21\", \"2018-05-28\", \"2018-06-04\", \"2018-06-11\", \"2018-06-18\", \"2018-06-25\", \"2018-07-02\", \"2018-07-09\", \"2018-07-16\", \"2018-07-23\", \"2018-07-30\", \"2018-08-06\", \"2018-08-13\", \"2018-08-20\", \"2018-08-27\", \"2018-09-03\", \"2018-09-10\", \"2018-09-17\", \"2018-09-24\", \"2018-10-01\", \"2018-10-08\", \"2018-10-15\", \"2018-10-22\", \"2018-10-29\", \"2018-11-05\", \"2018-11-12\", \"2018-11-19\", \"2018-11-26\", \"2018-12-03\", \"2018-12-10\", \"2018-12-17\", \"2018-12-24\", \"2018-12-31\", \"2019-01-07\", \"2019-01-14\", \"2019-01-21\", \"2019-01-28\", \"2019-02-04\", \"2019-02-11\", \"2019-02-18\", \"2019-02-25\", \"2019-03-04\", \"2019-03-11\", \"2019-03-18\", \"2019-03-25\", \"2019-04-01\", \"2019-04-08\", \"2019-04-15\", \"2019-04-22\", \"2019-04-29\", \"2019-05-06\", \"2019-05-13\", \"2019-05-20\", \"2019-05-27\", \"2019-06-03\", \"2019-06-10\", \"2019-06-17\", \"2019-06-24\", \"2019-07-01\", \"2019-07-08\", \"2019-07-15\", \"2019-07-22\", \"2019-07-29\", \"2019-08-05\", \"2019-08-12\", \"2019-08-19\", \"2019-08-26\", \"2019-09-02\", \"2019-09-09\", \"2019-09-16\", \"2019-09-23\", \"2019-09-30\", \"2019-10-07\", \"2019-10-14\", \"2019-10-21\", \"2019-10-28\", \"2019-11-04\", \"2019-11-11\", \"2019-11-18\", \"2019-11-25\", \"2019-12-02\", \"2019-12-09\", \"2019-12-16\", \"2019-12-23\", \"2019-12-30\"], \"xaxis\": \"x\", \"y\": [1.0, 1.018172278347936, 1.032007866452698, 1.066782783389724, 1.0087731636550117, 0.9415276737437316, 0.99325918262539, 1.0222821547641083, 0.9788520214265992, 1.0524482730908842, 1.0303929312465263, 0.926821104067592, 0.9360932452590338, 0.913638710861412, 0.93380695379017, 0.9734447261178653, 0.9345146364100892, 0.9509902470625956, 0.9963982380519172, 0.9674568868105002, 0.9758943718805396, 1.015668254641377, 1.0169111849053498, 1.0453898287179595, 1.0483111519067918, 1.0121753574512644, 1.0344211867653972, 1.0785588920381208, 1.075011617811375, 1.1236312044424703, 1.1102129167272332, 1.1228237368393843, 1.0895729410299655, 1.1074367837463466, 1.1052048693141154, 1.0567939333314087, 1.0637798374890872, 1.0579370795194665, 1.0827776350267664, 1.0500077089175164, 1.0071219039061161, 0.9947651405743836, 0.9720929301886708, 0.959681788913054, 0.9672663993407256, 0.9630385756700248, 0.9289168536315806, 0.992923504040418, 0.9404389054995582, 0.945446952912676, 0.8886892896888904, 0.9408925313390586, 0.9714034098401132, 0.9591373489949891, 0.9963982380519172, 0.989802500200548, 1.0077298024501202, 0.9934950771344468, 1.0103608540932627, 1.0073850422758417, 1.035165084150587, 1.0363716889645844, 1.0746032883264525, 1.0936918990354445, 1.064487521016258, 1.095188886079836, 1.1049145977684258, 1.1216987538299403, 1.1541874899828073, 1.075456162061569, 1.0562859304552756, 1.0544986709579427, 1.0283425342867192, 1.0012701750318929, 0.9671666152648106, 0.98468558802946, 1.0178275181736574, 0.980657443195294, 1.0266368965939394, 1.0387124690620373, 1.025285100664745, 1.1344366027859267, 1.0832494231376286, 1.0778240762422375, 1.068379555417282, 1.0445098208996275, 1.0779056980467905, 1.0931748145700046, 1.12459294475006, 1.1158561065450243, 1.1114649285805127, 1.0968672799119472, 1.1027190087861698, 1.129972884606169, 1.1477913211905195, 1.1556027445379409, 1.189742629754999, 1.2110630442115171, 1.1751993590303178, 1.1839271156460471, 1.216279741365772, 1.222820990588552, 1.22441776261611, 1.2265044859331442, 1.213013658002661], \"yaxis\": \"y\"}, {\"hovertemplate\": \"variable=FB<br>date=%{x}<br>value=%{y}<extra></extra>\", \"legendgroup\": \"FB\", \"line\": {\"color\": \"#EF553B\", \"dash\": \"solid\"}, \"mode\": \"lines\", \"name\": \"FB\", \"orientation\": \"v\", \"showlegend\": true, \"type\": \"scatter\", \"x\": [\"2018-01-01\", \"2018-01-08\", \"2018-01-15\", \"2018-01-22\", \"2018-01-29\", \"2018-02-05\", \"2018-02-12\", \"2018-02-19\", \"2018-02-26\", \"2018-03-05\", \"2018-03-12\", \"2018-03-19\", \"2018-03-26\", \"2018-04-02\", \"2018-04-09\", \"2018-04-16\", \"2018-04-23\", \"2018-04-30\", \"2018-05-07\", \"2018-05-14\", \"2018-05-21\", \"2018-05-28\", \"2018-06-04\", \"2018-06-11\", \"2018-06-18\", \"2018-06-25\", \"2018-07-02\", \"2018-07-09\", \"2018-07-16\", \"2018-07-23\", \"2018-07-30\", \"2018-08-06\", \"2018-08-13\", \"2018-08-20\", \"2018-08-27\", \"2018-09-03\", \"2018-09-10\", \"2018-09-17\", \"2018-09-24\", \"2018-10-01\", \"2018-10-08\", \"2018-10-15\", \"2018-10-22\", \"2018-10-29\", \"2018-11-05\", \"2018-11-12\", \"2018-11-19\", \"2018-11-26\", \"2018-12-03\", \"2018-12-10\", \"2018-12-17\", \"2018-12-24\", \"2018-12-31\", \"2019-01-07\", \"2019-01-14\", \"2019-01-21\", \"2019-01-28\", \"2019-02-04\", \"2019-02-11\", \"2019-02-18\", \"2019-02-25\", \"2019-03-04\", \"2019-03-11\", \"2019-03-18\", \"2019-03-25\", \"2019-04-01\", \"2019-04-08\", \"2019-04-15\", \"2019-04-22\", \"2019-04-29\", \"2019-05-06\", \"2019-05-13\", \"2019-05-20\", \"2019-05-27\", \"2019-06-03\", \"2019-06-10\", \"2019-06-17\", \"2019-06-24\", \"2019-07-01\", \"2019-07-08\", \"2019-07-15\", \"2019-07-22\", \"2019-07-29\", \"2019-08-05\", \"2019-08-12\", \"2019-08-19\", \"2019-08-26\", \"2019-09-02\", \"2019-09-09\", \"2019-09-16\", \"2019-09-23\", \"2019-09-30\", \"2019-10-07\", \"2019-10-14\", \"2019-10-21\", \"2019-10-28\", \"2019-11-04\", \"2019-11-11\", \"2019-11-18\", \"2019-11-25\", \"2019-12-02\", \"2019-12-09\", \"2019-12-16\", \"2019-12-23\", \"2019-12-30\"], \"xaxis\": \"x\", \"y\": [1.0, 0.9599678310954936, 0.9702434422185674, 1.0168584099483515, 1.0183569327795472, 0.9425207136466456, 0.949210571606832, 0.9809472149548658, 0.9452501435830832, 0.9913298905647344, 0.9905806264731936, 0.8530371628674177, 0.8551778853033591, 0.8413165210173983, 0.8804923666954552, 0.8899116599439659, 0.9290339332394776, 0.9451966568307202, 1.0007492587396545, 0.9776825642702948, 0.9896708164943808, 1.0382124633166991, 1.0120417443283358, 1.048166977313343, 1.0796895826698554, 1.039978596521961, 1.0876638451914205, 1.109553119307901, 1.12357503483302, 0.9359914015737306, 0.951458353177682, 0.9647310099631464, 0.9301578668399936, 0.934706922085943, 0.9404869700673171, 0.8725715159998442, 0.8687182327411859, 0.8719828084993478, 0.8801712695690254, 0.8420122930046896, 0.8227990369986931, 0.8244581110690464, 0.7780036945784202, 0.8046561475625534, 0.7758094853901156, 0.7467486995959743, 0.7050039698687512, 0.7525287475773482, 0.735456214007293, 0.7709927394918039, 0.6687181856445861, 0.7128712481818171, 0.7382927084305257, 0.7696012757955171, 0.8029969932139043, 0.7974845609584834, 0.8868611275292119, 0.8955311566861818, 0.8696815348242483, 0.8664168787877908, 0.8685041144713691, 0.9076799601494259, 0.8883060779778621, 0.8795289843340972, 0.8921059494105662, 0.9404334779630672, 0.9585228806468435, 0.9541342963617566, 1.024832747396326, 1.0461332337340143, 1.0079742571696786, 0.9917045600737096, 0.9690125351133252, 0.9497992791073284, 0.9277495340299856, 0.9704575658402708, 1.0229595550561554, 1.0329140690527994, 1.0511104505931883, 1.0964409334832987, 1.0616001853379655, 1.0690393020378066, 1.011613582715111, 1.0053518863681492, 0.9831415097733526, 0.951297801938524, 0.993684731270493, 1.003425201923729, 1.0018196199576253, 1.0164837404393767, 0.9478191079105452, 0.9657478790768677, 0.9857639608531776, 0.9946481136318508, 1.0055659243596704, 1.03623221184162, 1.0213539730900516, 1.044153062537231, 1.0640620851786324, 1.0791543619217223, 1.07599677037206, 1.0388546682733315, 1.1040941738048429, 1.113727585323171, 1.0984746770626277], \"yaxis\": \"y\"}],                        {\"legend\": {\"title\": {\"text\": \"variable\"}, \"tracegroupgap\": 0}, \"margin\": {\"t\": 60}, \"template\": {\"data\": {\"bar\": [{\"error_x\": {\"color\": \"#2a3f5f\"}, \"error_y\": {\"color\": \"#2a3f5f\"}, \"marker\": {\"line\": {\"color\": \"#E5ECF6\", \"width\": 0.5}}, \"type\": \"bar\"}], \"barpolar\": [{\"marker\": {\"line\": {\"color\": \"#E5ECF6\", \"width\": 0.5}}, \"type\": \"barpolar\"}], \"carpet\": [{\"aaxis\": {\"endlinecolor\": \"#2a3f5f\", \"gridcolor\": \"white\", \"linecolor\": \"white\", \"minorgridcolor\": \"white\", \"startlinecolor\": \"#2a3f5f\"}, \"baxis\": {\"endlinecolor\": \"#2a3f5f\", \"gridcolor\": \"white\", \"linecolor\": \"white\", \"minorgridcolor\": \"white\", \"startlinecolor\": \"#2a3f5f\"}, \"type\": \"carpet\"}], \"choropleth\": [{\"colorbar\": {\"outlinewidth\": 0, \"ticks\": \"\"}, \"type\": \"choropleth\"}], \"contour\": [{\"colorbar\": {\"outlinewidth\": 0, \"ticks\": \"\"}, \"colorscale\": [[0.0, \"#0d0887\"], [0.1111111111111111, \"#46039f\"], [0.2222222222222222, \"#7201a8\"], [0.3333333333333333, \"#9c179e\"], [0.4444444444444444, \"#bd3786\"], [0.5555555555555556, \"#d8576b\"], [0.6666666666666666, \"#ed7953\"], [0.7777777777777778, \"#fb9f3a\"], [0.8888888888888888, \"#fdca26\"], [1.0, \"#f0f921\"]], \"type\": \"contour\"}], \"contourcarpet\": [{\"colorbar\": {\"outlinewidth\": 0, \"ticks\": \"\"}, \"type\": \"contourcarpet\"}], \"heatmap\": [{\"colorbar\": {\"outlinewidth\": 0, \"ticks\": \"\"}, \"colorscale\": [[0.0, \"#0d0887\"], [0.1111111111111111, \"#46039f\"], [0.2222222222222222, \"#7201a8\"], [0.3333333333333333, \"#9c179e\"], [0.4444444444444444, \"#bd3786\"], [0.5555555555555556, \"#d8576b\"], [0.6666666666666666, \"#ed7953\"], [0.7777777777777778, \"#fb9f3a\"], [0.8888888888888888, \"#fdca26\"], [1.0, \"#f0f921\"]], \"type\": \"heatmap\"}], \"heatmapgl\": [{\"colorbar\": {\"outlinewidth\": 0, \"ticks\": \"\"}, \"colorscale\": [[0.0, \"#0d0887\"], [0.1111111111111111, \"#46039f\"], [0.2222222222222222, \"#7201a8\"], [0.3333333333333333, \"#9c179e\"], [0.4444444444444444, \"#bd3786\"], [0.5555555555555556, \"#d8576b\"], [0.6666666666666666, \"#ed7953\"], [0.7777777777777778, \"#fb9f3a\"], [0.8888888888888888, \"#fdca26\"], [1.0, \"#f0f921\"]], \"type\": \"heatmapgl\"}], \"histogram\": [{\"marker\": {\"colorbar\": {\"outlinewidth\": 0, \"ticks\": \"\"}}, \"type\": \"histogram\"}], \"histogram2d\": [{\"colorbar\": {\"outlinewidth\": 0, \"ticks\": \"\"}, \"colorscale\": [[0.0, \"#0d0887\"], [0.1111111111111111, \"#46039f\"], [0.2222222222222222, \"#7201a8\"], [0.3333333333333333, \"#9c179e\"], [0.4444444444444444, \"#bd3786\"], [0.5555555555555556, \"#d8576b\"], [0.6666666666666666, \"#ed7953\"], [0.7777777777777778, \"#fb9f3a\"], [0.8888888888888888, \"#fdca26\"], [1.0, \"#f0f921\"]], \"type\": \"histogram2d\"}], \"histogram2dcontour\": [{\"colorbar\": {\"outlinewidth\": 0, \"ticks\": \"\"}, \"colorscale\": [[0.0, \"#0d0887\"], [0.1111111111111111, \"#46039f\"], [0.2222222222222222, \"#7201a8\"], [0.3333333333333333, \"#9c179e\"], [0.4444444444444444, \"#bd3786\"], [0.5555555555555556, \"#d8576b\"], [0.6666666666666666, \"#ed7953\"], [0.7777777777777778, \"#fb9f3a\"], [0.8888888888888888, \"#fdca26\"], [1.0, \"#f0f921\"]], \"type\": \"histogram2dcontour\"}], \"mesh3d\": [{\"colorbar\": {\"outlinewidth\": 0, \"ticks\": \"\"}, \"type\": \"mesh3d\"}], \"parcoords\": [{\"line\": {\"colorbar\": {\"outlinewidth\": 0, \"ticks\": \"\"}}, \"type\": \"parcoords\"}], \"pie\": [{\"automargin\": true, \"type\": \"pie\"}], \"scatter\": [{\"marker\": {\"colorbar\": {\"outlinewidth\": 0, \"ticks\": \"\"}}, \"type\": \"scatter\"}], \"scatter3d\": [{\"line\": {\"colorbar\": {\"outlinewidth\": 0, \"ticks\": \"\"}}, \"marker\": {\"colorbar\": {\"outlinewidth\": 0, \"ticks\": \"\"}}, \"type\": \"scatter3d\"}], \"scattercarpet\": [{\"marker\": {\"colorbar\": {\"outlinewidth\": 0, \"ticks\": \"\"}}, \"type\": \"scattercarpet\"}], \"scattergeo\": [{\"marker\": {\"colorbar\": {\"outlinewidth\": 0, \"ticks\": \"\"}}, \"type\": \"scattergeo\"}], \"scattergl\": [{\"marker\": {\"colorbar\": {\"outlinewidth\": 0, \"ticks\": \"\"}}, \"type\": \"scattergl\"}], \"scattermapbox\": [{\"marker\": {\"colorbar\": {\"outlinewidth\": 0, \"ticks\": \"\"}}, \"type\": \"scattermapbox\"}], \"scatterpolar\": [{\"marker\": {\"colorbar\": {\"outlinewidth\": 0, \"ticks\": \"\"}}, \"type\": \"scatterpolar\"}], \"scatterpolargl\": [{\"marker\": {\"colorbar\": {\"outlinewidth\": 0, \"ticks\": \"\"}}, \"type\": \"scatterpolargl\"}], \"scatterternary\": [{\"marker\": {\"colorbar\": {\"outlinewidth\": 0, \"ticks\": \"\"}}, \"type\": \"scatterternary\"}], \"surface\": [{\"colorbar\": {\"outlinewidth\": 0, \"ticks\": \"\"}, \"colorscale\": [[0.0, \"#0d0887\"], [0.1111111111111111, \"#46039f\"], [0.2222222222222222, \"#7201a8\"], [0.3333333333333333, \"#9c179e\"], [0.4444444444444444, \"#bd3786\"], [0.5555555555555556, \"#d8576b\"], [0.6666666666666666, \"#ed7953\"], [0.7777777777777778, \"#fb9f3a\"], [0.8888888888888888, \"#fdca26\"], [1.0, \"#f0f921\"]], \"type\": \"surface\"}], \"table\": [{\"cells\": {\"fill\": {\"color\": \"#EBF0F8\"}, \"line\": {\"color\": \"white\"}}, \"header\": {\"fill\": {\"color\": \"#C8D4E3\"}, \"line\": {\"color\": \"white\"}}, \"type\": \"table\"}]}, \"layout\": {\"annotationdefaults\": {\"arrowcolor\": \"#2a3f5f\", \"arrowhead\": 0, \"arrowwidth\": 1}, \"autotypenumbers\": \"strict\", \"coloraxis\": {\"colorbar\": {\"outlinewidth\": 0, \"ticks\": \"\"}}, \"colorscale\": {\"diverging\": [[0, \"#8e0152\"], [0.1, \"#c51b7d\"], [0.2, \"#de77ae\"], [0.3, \"#f1b6da\"], [0.4, \"#fde0ef\"], [0.5, \"#f7f7f7\"], [0.6, \"#e6f5d0\"], [0.7, \"#b8e186\"], [0.8, \"#7fbc41\"], [0.9, \"#4d9221\"], [1, \"#276419\"]], \"sequential\": [[0.0, \"#0d0887\"], [0.1111111111111111, \"#46039f\"], [0.2222222222222222, \"#7201a8\"], [0.3333333333333333, \"#9c179e\"], [0.4444444444444444, \"#bd3786\"], [0.5555555555555556, \"#d8576b\"], [0.6666666666666666, \"#ed7953\"], [0.7777777777777778, \"#fb9f3a\"], [0.8888888888888888, \"#fdca26\"], [1.0, \"#f0f921\"]], \"sequentialminus\": [[0.0, \"#0d0887\"], [0.1111111111111111, \"#46039f\"], [0.2222222222222222, \"#7201a8\"], [0.3333333333333333, \"#9c179e\"], [0.4444444444444444, \"#bd3786\"], [0.5555555555555556, \"#d8576b\"], [0.6666666666666666, \"#ed7953\"], [0.7777777777777778, \"#fb9f3a\"], [0.8888888888888888, \"#fdca26\"], [1.0, \"#f0f921\"]]}, \"colorway\": [\"#636efa\", \"#EF553B\", \"#00cc96\", \"#ab63fa\", \"#FFA15A\", \"#19d3f3\", \"#FF6692\", \"#B6E880\", \"#FF97FF\", \"#FECB52\"], \"font\": {\"color\": \"#2a3f5f\"}, \"geo\": {\"bgcolor\": \"white\", \"lakecolor\": \"white\", \"landcolor\": \"#E5ECF6\", \"showlakes\": true, \"showland\": true, \"subunitcolor\": \"white\"}, \"hoverlabel\": {\"align\": \"left\"}, \"hovermode\": \"closest\", \"mapbox\": {\"style\": \"light\"}, \"paper_bgcolor\": \"white\", \"plot_bgcolor\": \"#E5ECF6\", \"polar\": {\"angularaxis\": {\"gridcolor\": \"white\", \"linecolor\": \"white\", \"ticks\": \"\"}, \"bgcolor\": \"#E5ECF6\", \"radialaxis\": {\"gridcolor\": \"white\", \"linecolor\": \"white\", \"ticks\": \"\"}}, \"scene\": {\"xaxis\": {\"backgroundcolor\": \"#E5ECF6\", \"gridcolor\": \"white\", \"gridwidth\": 2, \"linecolor\": \"white\", \"showbackground\": true, \"ticks\": \"\", \"zerolinecolor\": \"white\"}, \"yaxis\": {\"backgroundcolor\": \"#E5ECF6\", \"gridcolor\": \"white\", \"gridwidth\": 2, \"linecolor\": \"white\", \"showbackground\": true, \"ticks\": \"\", \"zerolinecolor\": \"white\"}, \"zaxis\": {\"backgroundcolor\": \"#E5ECF6\", \"gridcolor\": \"white\", \"gridwidth\": 2, \"linecolor\": \"white\", \"showbackground\": true, \"ticks\": \"\", \"zerolinecolor\": \"white\"}}, \"shapedefaults\": {\"line\": {\"color\": \"#2a3f5f\"}}, \"ternary\": {\"aaxis\": {\"gridcolor\": \"white\", \"linecolor\": \"white\", \"ticks\": \"\"}, \"baxis\": {\"gridcolor\": \"white\", \"linecolor\": \"white\", \"ticks\": \"\"}, \"bgcolor\": \"#E5ECF6\", \"caxis\": {\"gridcolor\": \"white\", \"linecolor\": \"white\", \"ticks\": \"\"}}, \"title\": {\"x\": 0.05}, \"xaxis\": {\"automargin\": true, \"gridcolor\": \"white\", \"linecolor\": \"white\", \"ticks\": \"\", \"title\": {\"standoff\": 15}, \"zerolinecolor\": \"white\", \"zerolinewidth\": 2}, \"yaxis\": {\"automargin\": true, \"gridcolor\": \"white\", \"linecolor\": \"white\", \"ticks\": \"\", \"title\": {\"standoff\": 15}, \"zerolinecolor\": \"white\", \"zerolinewidth\": 2}}}, \"xaxis\": {\"anchor\": \"y\", \"domain\": [0.0, 1.0], \"title\": {\"text\": \"date\"}}, \"yaxis\": {\"anchor\": \"x\", \"domain\": [0.0, 1.0], \"title\": {\"text\": \"value\"}}},                        {\"responsive\": true}                    ).then(function(){\n",
       "                            \n",
       "var gd = document.getElementById('28e62035-947f-4f7a-a599-d249115d0f53');\n",
       "var x = new MutationObserver(function (mutations, observer) {{\n",
       "        var display = window.getComputedStyle(gd).display;\n",
       "        if (!display || display === 'none') {{\n",
       "            console.log([gd, 'removed!']);\n",
       "            Plotly.purge(gd);\n",
       "            observer.disconnect();\n",
       "        }}\n",
       "}});\n",
       "\n",
       "// Listen for the removal of the full notebook cells\n",
       "var notebookContainer = gd.closest('#notebook-container');\n",
       "if (notebookContainer) {{\n",
       "    x.observe(notebookContainer, {childList: true});\n",
       "}}\n",
       "\n",
       "// Listen for the clearing of the current output cell\n",
       "var outputEl = gd.closest('.output');\n",
       "if (outputEl) {{\n",
       "    x.observe(outputEl, {childList: true});\n",
       "}}\n",
       "\n",
       "                        })                };                });            </script>        </div>"
      ]
     },
     "metadata": {},
     "output_type": "display_data"
    }
   ],
   "source": [
    "import plotly.express as px\n",
    "\n",
    "df = px.data.stocks()\n",
    "fig = px.line(df, x='date', y=[\"GOOG\", 'FB'])\n",
    "fig.show()\n"
   ]
  },
  {
   "cell_type": "code",
   "execution_count": 3,
   "metadata": {},
   "outputs": [
    {
     "data": {
      "text/html": [
       "<div>\n",
       "<style scoped>\n",
       "    .dataframe tbody tr th:only-of-type {\n",
       "        vertical-align: middle;\n",
       "    }\n",
       "\n",
       "    .dataframe tbody tr th {\n",
       "        vertical-align: top;\n",
       "    }\n",
       "\n",
       "    .dataframe thead th {\n",
       "        text-align: right;\n",
       "    }\n",
       "</style>\n",
       "<table border=\"1\" class=\"dataframe\">\n",
       "  <thead>\n",
       "    <tr style=\"text-align: right;\">\n",
       "      <th></th>\n",
       "      <th>date</th>\n",
       "      <th>GOOG</th>\n",
       "      <th>AAPL</th>\n",
       "      <th>AMZN</th>\n",
       "      <th>FB</th>\n",
       "      <th>NFLX</th>\n",
       "      <th>MSFT</th>\n",
       "    </tr>\n",
       "  </thead>\n",
       "  <tbody>\n",
       "    <tr>\n",
       "      <th>0</th>\n",
       "      <td>2018-01-01</td>\n",
       "      <td>1.000000</td>\n",
       "      <td>1.000000</td>\n",
       "      <td>1.000000</td>\n",
       "      <td>1.000000</td>\n",
       "      <td>1.000000</td>\n",
       "      <td>1.000000</td>\n",
       "    </tr>\n",
       "    <tr>\n",
       "      <th>1</th>\n",
       "      <td>2018-01-08</td>\n",
       "      <td>1.018172</td>\n",
       "      <td>1.011943</td>\n",
       "      <td>1.061881</td>\n",
       "      <td>0.959968</td>\n",
       "      <td>1.053526</td>\n",
       "      <td>1.015988</td>\n",
       "    </tr>\n",
       "    <tr>\n",
       "      <th>2</th>\n",
       "      <td>2018-01-15</td>\n",
       "      <td>1.032008</td>\n",
       "      <td>1.019771</td>\n",
       "      <td>1.053240</td>\n",
       "      <td>0.970243</td>\n",
       "      <td>1.049860</td>\n",
       "      <td>1.020524</td>\n",
       "    </tr>\n",
       "    <tr>\n",
       "      <th>3</th>\n",
       "      <td>2018-01-22</td>\n",
       "      <td>1.066783</td>\n",
       "      <td>0.980057</td>\n",
       "      <td>1.140676</td>\n",
       "      <td>1.016858</td>\n",
       "      <td>1.307681</td>\n",
       "      <td>1.066561</td>\n",
       "    </tr>\n",
       "    <tr>\n",
       "      <th>4</th>\n",
       "      <td>2018-01-29</td>\n",
       "      <td>1.008773</td>\n",
       "      <td>0.917143</td>\n",
       "      <td>1.163374</td>\n",
       "      <td>1.018357</td>\n",
       "      <td>1.273537</td>\n",
       "      <td>1.040708</td>\n",
       "    </tr>\n",
       "    <tr>\n",
       "      <th>5</th>\n",
       "      <td>2018-02-05</td>\n",
       "      <td>0.941528</td>\n",
       "      <td>0.893771</td>\n",
       "      <td>1.089868</td>\n",
       "      <td>0.942521</td>\n",
       "      <td>1.188009</td>\n",
       "      <td>0.999887</td>\n",
       "    </tr>\n",
       "    <tr>\n",
       "      <th>6</th>\n",
       "      <td>2018-02-12</td>\n",
       "      <td>0.993259</td>\n",
       "      <td>0.985314</td>\n",
       "      <td>1.178621</td>\n",
       "      <td>0.949211</td>\n",
       "      <td>1.326349</td>\n",
       "      <td>1.043202</td>\n",
       "    </tr>\n",
       "    <tr>\n",
       "      <th>7</th>\n",
       "      <td>2018-02-19</td>\n",
       "      <td>1.022282</td>\n",
       "      <td>1.002857</td>\n",
       "      <td>1.220365</td>\n",
       "      <td>0.980947</td>\n",
       "      <td>1.361636</td>\n",
       "      <td>1.066561</td>\n",
       "    </tr>\n",
       "    <tr>\n",
       "      <th>8</th>\n",
       "      <td>2018-02-26</td>\n",
       "      <td>0.978852</td>\n",
       "      <td>1.006914</td>\n",
       "      <td>1.220569</td>\n",
       "      <td>0.945250</td>\n",
       "      <td>1.433640</td>\n",
       "      <td>1.055108</td>\n",
       "    </tr>\n",
       "    <tr>\n",
       "      <th>9</th>\n",
       "      <td>2018-03-05</td>\n",
       "      <td>1.052448</td>\n",
       "      <td>1.028457</td>\n",
       "      <td>1.284549</td>\n",
       "      <td>0.991330</td>\n",
       "      <td>1.578361</td>\n",
       "      <td>1.094682</td>\n",
       "    </tr>\n",
       "    <tr>\n",
       "      <th>10</th>\n",
       "      <td>2018-03-12</td>\n",
       "      <td>1.030393</td>\n",
       "      <td>1.017257</td>\n",
       "      <td>1.278683</td>\n",
       "      <td>0.990581</td>\n",
       "      <td>1.516501</td>\n",
       "      <td>1.072684</td>\n",
       "    </tr>\n",
       "    <tr>\n",
       "      <th>11</th>\n",
       "      <td>2018-03-19</td>\n",
       "      <td>0.926821</td>\n",
       "      <td>0.942514</td>\n",
       "      <td>1.216753</td>\n",
       "      <td>0.853037</td>\n",
       "      <td>1.433116</td>\n",
       "      <td>0.988547</td>\n",
       "    </tr>\n",
       "    <tr>\n",
       "      <th>12</th>\n",
       "      <td>2018-03-26</td>\n",
       "      <td>0.936093</td>\n",
       "      <td>0.958743</td>\n",
       "      <td>1.177522</td>\n",
       "      <td>0.855178</td>\n",
       "      <td>1.406496</td>\n",
       "      <td>1.034925</td>\n",
       "    </tr>\n",
       "    <tr>\n",
       "      <th>13</th>\n",
       "      <td>2018-04-02</td>\n",
       "      <td>0.913639</td>\n",
       "      <td>0.962171</td>\n",
       "      <td>1.143263</td>\n",
       "      <td>0.841317</td>\n",
       "      <td>1.375542</td>\n",
       "      <td>1.023132</td>\n",
       "    </tr>\n",
       "    <tr>\n",
       "      <th>14</th>\n",
       "      <td>2018-04-09</td>\n",
       "      <td>0.933807</td>\n",
       "      <td>0.998457</td>\n",
       "      <td>1.164058</td>\n",
       "      <td>0.880492</td>\n",
       "      <td>1.484118</td>\n",
       "      <td>1.055448</td>\n",
       "    </tr>\n",
       "    <tr>\n",
       "      <th>15</th>\n",
       "      <td>2018-04-16</td>\n",
       "      <td>0.973445</td>\n",
       "      <td>0.946971</td>\n",
       "      <td>1.242731</td>\n",
       "      <td>0.889912</td>\n",
       "      <td>1.560884</td>\n",
       "      <td>1.077220</td>\n",
       "    </tr>\n",
       "    <tr>\n",
       "      <th>16</th>\n",
       "      <td>2018-04-23</td>\n",
       "      <td>0.934515</td>\n",
       "      <td>0.927543</td>\n",
       "      <td>1.279447</td>\n",
       "      <td>0.929034</td>\n",
       "      <td>1.484642</td>\n",
       "      <td>1.086518</td>\n",
       "    </tr>\n",
       "    <tr>\n",
       "      <th>17</th>\n",
       "      <td>2018-04-30</td>\n",
       "      <td>0.950990</td>\n",
       "      <td>1.050457</td>\n",
       "      <td>1.286224</td>\n",
       "      <td>0.945197</td>\n",
       "      <td>1.524311</td>\n",
       "      <td>1.079034</td>\n",
       "    </tr>\n",
       "    <tr>\n",
       "      <th>18</th>\n",
       "      <td>2018-05-07</td>\n",
       "      <td>0.996398</td>\n",
       "      <td>1.077657</td>\n",
       "      <td>1.304091</td>\n",
       "      <td>1.000749</td>\n",
       "      <td>1.554645</td>\n",
       "      <td>1.107835</td>\n",
       "    </tr>\n",
       "    <tr>\n",
       "      <th>19</th>\n",
       "      <td>2018-05-14</td>\n",
       "      <td>0.967457</td>\n",
       "      <td>1.064629</td>\n",
       "      <td>1.280871</td>\n",
       "      <td>0.977683</td>\n",
       "      <td>1.543788</td>\n",
       "      <td>1.092641</td>\n",
       "    </tr>\n",
       "    <tr>\n",
       "      <th>20</th>\n",
       "      <td>2018-05-21</td>\n",
       "      <td>0.975894</td>\n",
       "      <td>1.077600</td>\n",
       "      <td>1.309981</td>\n",
       "      <td>0.989671</td>\n",
       "      <td>1.672889</td>\n",
       "      <td>1.115319</td>\n",
       "    </tr>\n",
       "    <tr>\n",
       "      <th>21</th>\n",
       "      <td>2018-05-28</td>\n",
       "      <td>1.015668</td>\n",
       "      <td>1.087086</td>\n",
       "      <td>1.335519</td>\n",
       "      <td>1.038212</td>\n",
       "      <td>1.714034</td>\n",
       "      <td>1.142873</td>\n",
       "    </tr>\n",
       "    <tr>\n",
       "      <th>22</th>\n",
       "      <td>2018-06-04</td>\n",
       "      <td>1.016911</td>\n",
       "      <td>1.095429</td>\n",
       "      <td>1.370055</td>\n",
       "      <td>1.012042</td>\n",
       "      <td>1.717082</td>\n",
       "      <td>1.152398</td>\n",
       "    </tr>\n",
       "    <tr>\n",
       "      <th>23</th>\n",
       "      <td>2018-06-11</td>\n",
       "      <td>1.045390</td>\n",
       "      <td>1.079086</td>\n",
       "      <td>1.396074</td>\n",
       "      <td>1.048167</td>\n",
       "      <td>1.866660</td>\n",
       "      <td>1.135389</td>\n",
       "    </tr>\n",
       "    <tr>\n",
       "      <th>24</th>\n",
       "      <td>2018-06-18</td>\n",
       "      <td>1.048311</td>\n",
       "      <td>1.056686</td>\n",
       "      <td>1.395830</td>\n",
       "      <td>1.079690</td>\n",
       "      <td>1.957665</td>\n",
       "      <td>1.138564</td>\n",
       "    </tr>\n",
       "    <tr>\n",
       "      <th>25</th>\n",
       "      <td>2018-06-25</td>\n",
       "      <td>1.012175</td>\n",
       "      <td>1.057771</td>\n",
       "      <td>1.382918</td>\n",
       "      <td>1.039979</td>\n",
       "      <td>1.864041</td>\n",
       "      <td>1.118154</td>\n",
       "    </tr>\n",
       "    <tr>\n",
       "      <th>26</th>\n",
       "      <td>2018-07-02</td>\n",
       "      <td>1.034421</td>\n",
       "      <td>1.074114</td>\n",
       "      <td>1.391729</td>\n",
       "      <td>1.087664</td>\n",
       "      <td>1.944140</td>\n",
       "      <td>1.147069</td>\n",
       "    </tr>\n",
       "    <tr>\n",
       "      <th>27</th>\n",
       "      <td>2018-07-09</td>\n",
       "      <td>1.078559</td>\n",
       "      <td>1.093314</td>\n",
       "      <td>1.475039</td>\n",
       "      <td>1.109553</td>\n",
       "      <td>1.884852</td>\n",
       "      <td>1.195487</td>\n",
       "    </tr>\n",
       "    <tr>\n",
       "      <th>28</th>\n",
       "      <td>2018-07-16</td>\n",
       "      <td>1.075012</td>\n",
       "      <td>1.093943</td>\n",
       "      <td>1.475584</td>\n",
       "      <td>1.123575</td>\n",
       "      <td>1.719367</td>\n",
       "      <td>1.205012</td>\n",
       "    </tr>\n",
       "    <tr>\n",
       "      <th>29</th>\n",
       "      <td>2018-07-23</td>\n",
       "      <td>1.123631</td>\n",
       "      <td>1.091314</td>\n",
       "      <td>1.478489</td>\n",
       "      <td>0.935991</td>\n",
       "      <td>1.691557</td>\n",
       "      <td>1.221000</td>\n",
       "    </tr>\n",
       "    <tr>\n",
       "      <th>...</th>\n",
       "      <td>...</td>\n",
       "      <td>...</td>\n",
       "      <td>...</td>\n",
       "      <td>...</td>\n",
       "      <td>...</td>\n",
       "      <td>...</td>\n",
       "      <td>...</td>\n",
       "    </tr>\n",
       "    <tr>\n",
       "      <th>75</th>\n",
       "      <td>2019-06-10</td>\n",
       "      <td>0.984686</td>\n",
       "      <td>1.101371</td>\n",
       "      <td>1.521120</td>\n",
       "      <td>0.970458</td>\n",
       "      <td>1.617839</td>\n",
       "      <td>1.501871</td>\n",
       "    </tr>\n",
       "    <tr>\n",
       "      <th>76</th>\n",
       "      <td>2019-06-17</td>\n",
       "      <td>1.017828</td>\n",
       "      <td>1.135886</td>\n",
       "      <td>1.554990</td>\n",
       "      <td>1.022960</td>\n",
       "      <td>1.758226</td>\n",
       "      <td>1.553124</td>\n",
       "    </tr>\n",
       "    <tr>\n",
       "      <th>77</th>\n",
       "      <td>2019-06-24</td>\n",
       "      <td>0.980657</td>\n",
       "      <td>1.130971</td>\n",
       "      <td>1.540614</td>\n",
       "      <td>1.032914</td>\n",
       "      <td>1.749226</td>\n",
       "      <td>1.518993</td>\n",
       "    </tr>\n",
       "    <tr>\n",
       "      <th>78</th>\n",
       "      <td>2019-07-01</td>\n",
       "      <td>1.026637</td>\n",
       "      <td>1.167029</td>\n",
       "      <td>1.580707</td>\n",
       "      <td>1.051110</td>\n",
       "      <td>1.812229</td>\n",
       "      <td>1.554144</td>\n",
       "    </tr>\n",
       "    <tr>\n",
       "      <th>79</th>\n",
       "      <td>2019-07-08</td>\n",
       "      <td>1.038712</td>\n",
       "      <td>1.161714</td>\n",
       "      <td>1.636103</td>\n",
       "      <td>1.096441</td>\n",
       "      <td>1.777466</td>\n",
       "      <td>1.575008</td>\n",
       "    </tr>\n",
       "    <tr>\n",
       "      <th>80</th>\n",
       "      <td>2019-07-15</td>\n",
       "      <td>1.025285</td>\n",
       "      <td>1.157657</td>\n",
       "      <td>1.598288</td>\n",
       "      <td>1.061600</td>\n",
       "      <td>1.500548</td>\n",
       "      <td>1.549155</td>\n",
       "    </tr>\n",
       "    <tr>\n",
       "      <th>81</th>\n",
       "      <td>2019-07-22</td>\n",
       "      <td>1.134437</td>\n",
       "      <td>1.187086</td>\n",
       "      <td>1.580821</td>\n",
       "      <td>1.069039</td>\n",
       "      <td>1.599028</td>\n",
       "      <td>1.602676</td>\n",
       "    </tr>\n",
       "    <tr>\n",
       "      <th>82</th>\n",
       "      <td>2019-07-29</td>\n",
       "      <td>1.083249</td>\n",
       "      <td>1.165829</td>\n",
       "      <td>1.483346</td>\n",
       "      <td>1.011614</td>\n",
       "      <td>1.518310</td>\n",
       "      <td>1.552330</td>\n",
       "    </tr>\n",
       "    <tr>\n",
       "      <th>83</th>\n",
       "      <td>2019-08-05</td>\n",
       "      <td>1.077824</td>\n",
       "      <td>1.148514</td>\n",
       "      <td>1.470605</td>\n",
       "      <td>1.005352</td>\n",
       "      <td>1.471165</td>\n",
       "      <td>1.561515</td>\n",
       "    </tr>\n",
       "    <tr>\n",
       "      <th>84</th>\n",
       "      <td>2019-08-12</td>\n",
       "      <td>1.068380</td>\n",
       "      <td>1.180000</td>\n",
       "      <td>1.458394</td>\n",
       "      <td>0.983142</td>\n",
       "      <td>1.441973</td>\n",
       "      <td>1.543599</td>\n",
       "    </tr>\n",
       "    <tr>\n",
       "      <th>85</th>\n",
       "      <td>2019-08-19</td>\n",
       "      <td>1.044510</td>\n",
       "      <td>1.157943</td>\n",
       "      <td>1.423451</td>\n",
       "      <td>0.951298</td>\n",
       "      <td>1.387876</td>\n",
       "      <td>1.512530</td>\n",
       "    </tr>\n",
       "    <tr>\n",
       "      <th>86</th>\n",
       "      <td>2019-08-26</td>\n",
       "      <td>1.077906</td>\n",
       "      <td>1.192800</td>\n",
       "      <td>1.445149</td>\n",
       "      <td>0.993685</td>\n",
       "      <td>1.398876</td>\n",
       "      <td>1.563216</td>\n",
       "    </tr>\n",
       "    <tr>\n",
       "      <th>87</th>\n",
       "      <td>2019-09-02</td>\n",
       "      <td>1.093175</td>\n",
       "      <td>1.218629</td>\n",
       "      <td>1.491702</td>\n",
       "      <td>1.003425</td>\n",
       "      <td>1.381828</td>\n",
       "      <td>1.577276</td>\n",
       "    </tr>\n",
       "    <tr>\n",
       "      <th>88</th>\n",
       "      <td>2019-09-09</td>\n",
       "      <td>1.124593</td>\n",
       "      <td>1.250000</td>\n",
       "      <td>1.496445</td>\n",
       "      <td>1.001820</td>\n",
       "      <td>1.400781</td>\n",
       "      <td>1.557093</td>\n",
       "    </tr>\n",
       "    <tr>\n",
       "      <th>89</th>\n",
       "      <td>2019-09-16</td>\n",
       "      <td>1.115856</td>\n",
       "      <td>1.244171</td>\n",
       "      <td>1.459687</td>\n",
       "      <td>1.016484</td>\n",
       "      <td>1.289347</td>\n",
       "      <td>1.581132</td>\n",
       "    </tr>\n",
       "    <tr>\n",
       "      <th>90</th>\n",
       "      <td>2019-09-23</td>\n",
       "      <td>1.111465</td>\n",
       "      <td>1.250400</td>\n",
       "      <td>1.403786</td>\n",
       "      <td>0.947819</td>\n",
       "      <td>1.252821</td>\n",
       "      <td>1.561742</td>\n",
       "    </tr>\n",
       "    <tr>\n",
       "      <th>91</th>\n",
       "      <td>2019-09-30</td>\n",
       "      <td>1.096867</td>\n",
       "      <td>1.297200</td>\n",
       "      <td>1.415339</td>\n",
       "      <td>0.965748</td>\n",
       "      <td>1.299062</td>\n",
       "      <td>1.566164</td>\n",
       "    </tr>\n",
       "    <tr>\n",
       "      <th>92</th>\n",
       "      <td>2019-10-07</td>\n",
       "      <td>1.102719</td>\n",
       "      <td>1.349771</td>\n",
       "      <td>1.409050</td>\n",
       "      <td>0.985764</td>\n",
       "      <td>1.347350</td>\n",
       "      <td>1.583853</td>\n",
       "    </tr>\n",
       "    <tr>\n",
       "      <th>93</th>\n",
       "      <td>2019-10-14</td>\n",
       "      <td>1.129973</td>\n",
       "      <td>1.350914</td>\n",
       "      <td>1.429870</td>\n",
       "      <td>0.994648</td>\n",
       "      <td>1.311015</td>\n",
       "      <td>1.558113</td>\n",
       "    </tr>\n",
       "    <tr>\n",
       "      <th>94</th>\n",
       "      <td>2019-10-21</td>\n",
       "      <td>1.147791</td>\n",
       "      <td>1.409029</td>\n",
       "      <td>1.432977</td>\n",
       "      <td>1.005566</td>\n",
       "      <td>1.318253</td>\n",
       "      <td>1.595759</td>\n",
       "    </tr>\n",
       "    <tr>\n",
       "      <th>95</th>\n",
       "      <td>2019-10-28</td>\n",
       "      <td>1.155603</td>\n",
       "      <td>1.461829</td>\n",
       "      <td>1.457474</td>\n",
       "      <td>1.036232</td>\n",
       "      <td>1.365827</td>\n",
       "      <td>1.629663</td>\n",
       "    </tr>\n",
       "    <tr>\n",
       "      <th>96</th>\n",
       "      <td>2019-11-04</td>\n",
       "      <td>1.189743</td>\n",
       "      <td>1.486514</td>\n",
       "      <td>1.452951</td>\n",
       "      <td>1.021354</td>\n",
       "      <td>1.388495</td>\n",
       "      <td>1.655063</td>\n",
       "    </tr>\n",
       "    <tr>\n",
       "      <th>97</th>\n",
       "      <td>2019-11-11</td>\n",
       "      <td>1.211063</td>\n",
       "      <td>1.518629</td>\n",
       "      <td>1.415209</td>\n",
       "      <td>1.044153</td>\n",
       "      <td>1.404972</td>\n",
       "      <td>1.700533</td>\n",
       "    </tr>\n",
       "    <tr>\n",
       "      <th>98</th>\n",
       "      <td>2019-11-18</td>\n",
       "      <td>1.175199</td>\n",
       "      <td>1.495886</td>\n",
       "      <td>1.420278</td>\n",
       "      <td>1.064062</td>\n",
       "      <td>1.478547</td>\n",
       "      <td>1.696224</td>\n",
       "    </tr>\n",
       "    <tr>\n",
       "      <th>99</th>\n",
       "      <td>2019-11-25</td>\n",
       "      <td>1.183927</td>\n",
       "      <td>1.527143</td>\n",
       "      <td>1.465089</td>\n",
       "      <td>1.079154</td>\n",
       "      <td>1.498452</td>\n",
       "      <td>1.716521</td>\n",
       "    </tr>\n",
       "    <tr>\n",
       "      <th>100</th>\n",
       "      <td>2019-12-02</td>\n",
       "      <td>1.216280</td>\n",
       "      <td>1.546914</td>\n",
       "      <td>1.425061</td>\n",
       "      <td>1.075997</td>\n",
       "      <td>1.463641</td>\n",
       "      <td>1.720717</td>\n",
       "    </tr>\n",
       "    <tr>\n",
       "      <th>101</th>\n",
       "      <td>2019-12-09</td>\n",
       "      <td>1.222821</td>\n",
       "      <td>1.572286</td>\n",
       "      <td>1.432660</td>\n",
       "      <td>1.038855</td>\n",
       "      <td>1.421496</td>\n",
       "      <td>1.752239</td>\n",
       "    </tr>\n",
       "    <tr>\n",
       "      <th>102</th>\n",
       "      <td>2019-12-16</td>\n",
       "      <td>1.224418</td>\n",
       "      <td>1.596800</td>\n",
       "      <td>1.453455</td>\n",
       "      <td>1.104094</td>\n",
       "      <td>1.604362</td>\n",
       "      <td>1.784896</td>\n",
       "    </tr>\n",
       "    <tr>\n",
       "      <th>103</th>\n",
       "      <td>2019-12-23</td>\n",
       "      <td>1.226504</td>\n",
       "      <td>1.656000</td>\n",
       "      <td>1.521226</td>\n",
       "      <td>1.113728</td>\n",
       "      <td>1.567170</td>\n",
       "      <td>1.802472</td>\n",
       "    </tr>\n",
       "    <tr>\n",
       "      <th>104</th>\n",
       "      <td>2019-12-30</td>\n",
       "      <td>1.213014</td>\n",
       "      <td>1.678000</td>\n",
       "      <td>1.503360</td>\n",
       "      <td>1.098475</td>\n",
       "      <td>1.540883</td>\n",
       "      <td>1.788185</td>\n",
       "    </tr>\n",
       "  </tbody>\n",
       "</table>\n",
       "<p>105 rows × 7 columns</p>\n",
       "</div>"
      ],
      "text/plain": [
       "           date      GOOG      AAPL      AMZN        FB      NFLX      MSFT\n",
       "0    2018-01-01  1.000000  1.000000  1.000000  1.000000  1.000000  1.000000\n",
       "1    2018-01-08  1.018172  1.011943  1.061881  0.959968  1.053526  1.015988\n",
       "2    2018-01-15  1.032008  1.019771  1.053240  0.970243  1.049860  1.020524\n",
       "3    2018-01-22  1.066783  0.980057  1.140676  1.016858  1.307681  1.066561\n",
       "4    2018-01-29  1.008773  0.917143  1.163374  1.018357  1.273537  1.040708\n",
       "5    2018-02-05  0.941528  0.893771  1.089868  0.942521  1.188009  0.999887\n",
       "6    2018-02-12  0.993259  0.985314  1.178621  0.949211  1.326349  1.043202\n",
       "7    2018-02-19  1.022282  1.002857  1.220365  0.980947  1.361636  1.066561\n",
       "8    2018-02-26  0.978852  1.006914  1.220569  0.945250  1.433640  1.055108\n",
       "9    2018-03-05  1.052448  1.028457  1.284549  0.991330  1.578361  1.094682\n",
       "10   2018-03-12  1.030393  1.017257  1.278683  0.990581  1.516501  1.072684\n",
       "11   2018-03-19  0.926821  0.942514  1.216753  0.853037  1.433116  0.988547\n",
       "12   2018-03-26  0.936093  0.958743  1.177522  0.855178  1.406496  1.034925\n",
       "13   2018-04-02  0.913639  0.962171  1.143263  0.841317  1.375542  1.023132\n",
       "14   2018-04-09  0.933807  0.998457  1.164058  0.880492  1.484118  1.055448\n",
       "15   2018-04-16  0.973445  0.946971  1.242731  0.889912  1.560884  1.077220\n",
       "16   2018-04-23  0.934515  0.927543  1.279447  0.929034  1.484642  1.086518\n",
       "17   2018-04-30  0.950990  1.050457  1.286224  0.945197  1.524311  1.079034\n",
       "18   2018-05-07  0.996398  1.077657  1.304091  1.000749  1.554645  1.107835\n",
       "19   2018-05-14  0.967457  1.064629  1.280871  0.977683  1.543788  1.092641\n",
       "20   2018-05-21  0.975894  1.077600  1.309981  0.989671  1.672889  1.115319\n",
       "21   2018-05-28  1.015668  1.087086  1.335519  1.038212  1.714034  1.142873\n",
       "22   2018-06-04  1.016911  1.095429  1.370055  1.012042  1.717082  1.152398\n",
       "23   2018-06-11  1.045390  1.079086  1.396074  1.048167  1.866660  1.135389\n",
       "24   2018-06-18  1.048311  1.056686  1.395830  1.079690  1.957665  1.138564\n",
       "25   2018-06-25  1.012175  1.057771  1.382918  1.039979  1.864041  1.118154\n",
       "26   2018-07-02  1.034421  1.074114  1.391729  1.087664  1.944140  1.147069\n",
       "27   2018-07-09  1.078559  1.093314  1.475039  1.109553  1.884852  1.195487\n",
       "28   2018-07-16  1.075012  1.093943  1.475584  1.123575  1.719367  1.205012\n",
       "29   2018-07-23  1.123631  1.091314  1.478489  0.935991  1.691557  1.221000\n",
       "..          ...       ...       ...       ...       ...       ...       ...\n",
       "75   2019-06-10  0.984686  1.101371  1.521120  0.970458  1.617839  1.501871\n",
       "76   2019-06-17  1.017828  1.135886  1.554990  1.022960  1.758226  1.553124\n",
       "77   2019-06-24  0.980657  1.130971  1.540614  1.032914  1.749226  1.518993\n",
       "78   2019-07-01  1.026637  1.167029  1.580707  1.051110  1.812229  1.554144\n",
       "79   2019-07-08  1.038712  1.161714  1.636103  1.096441  1.777466  1.575008\n",
       "80   2019-07-15  1.025285  1.157657  1.598288  1.061600  1.500548  1.549155\n",
       "81   2019-07-22  1.134437  1.187086  1.580821  1.069039  1.599028  1.602676\n",
       "82   2019-07-29  1.083249  1.165829  1.483346  1.011614  1.518310  1.552330\n",
       "83   2019-08-05  1.077824  1.148514  1.470605  1.005352  1.471165  1.561515\n",
       "84   2019-08-12  1.068380  1.180000  1.458394  0.983142  1.441973  1.543599\n",
       "85   2019-08-19  1.044510  1.157943  1.423451  0.951298  1.387876  1.512530\n",
       "86   2019-08-26  1.077906  1.192800  1.445149  0.993685  1.398876  1.563216\n",
       "87   2019-09-02  1.093175  1.218629  1.491702  1.003425  1.381828  1.577276\n",
       "88   2019-09-09  1.124593  1.250000  1.496445  1.001820  1.400781  1.557093\n",
       "89   2019-09-16  1.115856  1.244171  1.459687  1.016484  1.289347  1.581132\n",
       "90   2019-09-23  1.111465  1.250400  1.403786  0.947819  1.252821  1.561742\n",
       "91   2019-09-30  1.096867  1.297200  1.415339  0.965748  1.299062  1.566164\n",
       "92   2019-10-07  1.102719  1.349771  1.409050  0.985764  1.347350  1.583853\n",
       "93   2019-10-14  1.129973  1.350914  1.429870  0.994648  1.311015  1.558113\n",
       "94   2019-10-21  1.147791  1.409029  1.432977  1.005566  1.318253  1.595759\n",
       "95   2019-10-28  1.155603  1.461829  1.457474  1.036232  1.365827  1.629663\n",
       "96   2019-11-04  1.189743  1.486514  1.452951  1.021354  1.388495  1.655063\n",
       "97   2019-11-11  1.211063  1.518629  1.415209  1.044153  1.404972  1.700533\n",
       "98   2019-11-18  1.175199  1.495886  1.420278  1.064062  1.478547  1.696224\n",
       "99   2019-11-25  1.183927  1.527143  1.465089  1.079154  1.498452  1.716521\n",
       "100  2019-12-02  1.216280  1.546914  1.425061  1.075997  1.463641  1.720717\n",
       "101  2019-12-09  1.222821  1.572286  1.432660  1.038855  1.421496  1.752239\n",
       "102  2019-12-16  1.224418  1.596800  1.453455  1.104094  1.604362  1.784896\n",
       "103  2019-12-23  1.226504  1.656000  1.521226  1.113728  1.567170  1.802472\n",
       "104  2019-12-30  1.213014  1.678000  1.503360  1.098475  1.540883  1.788185\n",
       "\n",
       "[105 rows x 7 columns]"
      ]
     },
     "execution_count": 3,
     "metadata": {},
     "output_type": "execute_result"
    }
   ],
   "source": [
    "df"
   ]
  },
  {
   "cell_type": "code",
   "execution_count": null,
   "metadata": {},
   "outputs": [],
   "source": []
  }
 ],
 "metadata": {
  "kernelspec": {
   "display_name": "Python 3",
   "language": "python",
   "name": "python3"
  },
  "language_info": {
   "codemirror_mode": {
    "name": "ipython",
    "version": 3
   },
   "file_extension": ".py",
   "mimetype": "text/x-python",
   "name": "python",
   "nbconvert_exporter": "python",
   "pygments_lexer": "ipython3",
   "version": "3.7.9"
  }
 },
 "nbformat": 4,
 "nbformat_minor": 5
}
