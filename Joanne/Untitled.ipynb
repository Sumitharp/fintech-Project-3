{
 "cells": [
  {
   "cell_type": "code",
   "execution_count": null,
   "metadata": {},
   "outputs": [
    {
     "name": "stdout",
     "output_type": "stream",
     "text": [
      "Dash is running on http://127.0.0.1:8052/\n",
      "\n",
      " * Serving Flask app '__main__' (lazy loading)\n",
      " * Environment: production\n",
      "\u001b[31m   WARNING: This is a development server. Do not use it in a production deployment.\u001b[0m\n",
      "\u001b[2m   Use a production WSGI server instead.\u001b[0m\n",
      " * Debug mode: off\n"
     ]
    },
    {
     "name": "stderr",
     "output_type": "stream",
     "text": [
      " * Running on http://127.0.0.1:8052/ (Press CTRL+C to quit)\n",
      "127.0.0.1 - - [28/Jul/2021 20:43:32] \"GET / HTTP/1.1\" 200 -\n",
      "127.0.0.1 - - [28/Jul/2021 20:43:32] \"GET /_dash-component-suites/dash/deps/polyfill@7.v1_21_0m1627149480.12.1.min.js HTTP/1.1\" 200 -\n",
      "127.0.0.1 - - [28/Jul/2021 20:43:32] \"GET /_dash-component-suites/dash/deps/prop-types@15.v1_21_0m1627149480.7.2.min.js HTTP/1.1\" 200 -\n",
      "127.0.0.1 - - [28/Jul/2021 20:43:32] \"GET /_dash-component-suites/dash/deps/react-dom@16.v1_21_0m1627149480.14.0.min.js HTTP/1.1\" 200 -\n",
      "127.0.0.1 - - [28/Jul/2021 20:43:32] \"GET /_dash-component-suites/dash/deps/react@16.v1_21_0m1627149480.14.0.min.js HTTP/1.1\" 200 -\n",
      "127.0.0.1 - - [28/Jul/2021 20:43:32] \"GET /_dash-component-suites/dash_html_components/dash_html_components.v1_1_4m1627149479.min.js HTTP/1.1\" 200 -\n",
      "127.0.0.1 - - [28/Jul/2021 20:43:32] \"GET /_dash-component-suites/dash_core_components/dash_core_components-shared.v1_17_1m1627149480.js HTTP/1.1\" 200 -\n",
      "127.0.0.1 - - [28/Jul/2021 20:43:32] \"GET /_dash-component-suites/dash_core_components/dash_core_components.v1_17_1m1627149480.js HTTP/1.1\" 200 -\n",
      "127.0.0.1 - - [28/Jul/2021 20:43:32] \"GET /_dash-component-suites/dash/dash-renderer/build/dash_renderer.v1_21_0m1627149480.min.js HTTP/1.1\" 200 -\n",
      "127.0.0.1 - - [28/Jul/2021 20:43:32] \"GET /_favicon.ico?v=1.21.0 HTTP/1.1\" 200 -\n",
      "127.0.0.1 - - [28/Jul/2021 20:43:32] \"GET /_dash-dependencies HTTP/1.1\" 200 -\n",
      "127.0.0.1 - - [28/Jul/2021 20:43:32] \"GET /_dash-layout HTTP/1.1\" 200 -\n"
     ]
    },
    {
     "name": "stdout",
     "output_type": "stream",
     "text": [
      "Exception on /_dash-update-component [POST]\n",
      "Traceback (most recent call last):\n",
      "  File \"C:\\Users\\Joanne\\anaconda3\\envs\\hvplot_dev\\lib\\site-packages\\flask\\app.py\", line 2070, in wsgi_app\n",
      "    response = self.full_dispatch_request()\n",
      "  File \"C:\\Users\\Joanne\\anaconda3\\envs\\hvplot_dev\\lib\\site-packages\\flask\\app.py\", line 1515, in full_dispatch_request\n",
      "    rv = self.handle_user_exception(e)\n",
      "  File \"C:\\Users\\Joanne\\anaconda3\\envs\\hvplot_dev\\lib\\site-packages\\flask\\app.py\", line 1513, in full_dispatch_request\n",
      "    rv = self.dispatch_request()\n",
      "  File \"C:\\Users\\Joanne\\anaconda3\\envs\\hvplot_dev\\lib\\site-packages\\flask\\app.py\", line 1499, in dispatch_request\n",
      "    return self.ensure_sync(self.view_functions[rule.endpoint])(**req.view_args)\n",
      "  File \"C:\\Users\\Joanne\\anaconda3\\envs\\hvplot_dev\\lib\\site-packages\\dash\\dash.py\", line 1096, in dispatch\n",
      "    response.set_data(func(*args, outputs_list=outputs_list))\n",
      "  File \"C:\\Users\\Joanne\\anaconda3\\envs\\hvplot_dev\\lib\\site-packages\\dash\\dash.py\", line 1017, in add_context\n",
      "    output_value = func(*args, **kwargs)  # %% callback invoked %%\n",
      "  File \"<ipython-input-1-37b7c0b2c1e0>\", line 29, in update_value\n",
      "    df = yf.download(input_data, start=\"2017-01-01\", end=\"2021-07-29\").reset_index()\n",
      "NameError: name 'yf' is not defined\n"
     ]
    },
    {
     "name": "stderr",
     "output_type": "stream",
     "text": [
      "127.0.0.1 - - [28/Jul/2021 20:43:32] \"POST /_dash-update-component HTTP/1.1\" 500 -\n",
      "127.0.0.1 - - [28/Jul/2021 20:43:32] \"GET /_favicon.ico?v=1.21.0 HTTP/1.1\" 200 -\n"
     ]
    },
    {
     "name": "stdout",
     "output_type": "stream",
     "text": [
      "Exception on /_dash-update-component [POST]\n",
      "Traceback (most recent call last):\n",
      "  File \"C:\\Users\\Joanne\\anaconda3\\envs\\hvplot_dev\\lib\\site-packages\\flask\\app.py\", line 2070, in wsgi_app\n",
      "    response = self.full_dispatch_request()\n",
      "  File \"C:\\Users\\Joanne\\anaconda3\\envs\\hvplot_dev\\lib\\site-packages\\flask\\app.py\", line 1515, in full_dispatch_request\n",
      "    rv = self.handle_user_exception(e)\n",
      "  File \"C:\\Users\\Joanne\\anaconda3\\envs\\hvplot_dev\\lib\\site-packages\\flask\\app.py\", line 1513, in full_dispatch_request\n",
      "    rv = self.dispatch_request()\n",
      "  File \"C:\\Users\\Joanne\\anaconda3\\envs\\hvplot_dev\\lib\\site-packages\\flask\\app.py\", line 1499, in dispatch_request\n",
      "    return self.ensure_sync(self.view_functions[rule.endpoint])(**req.view_args)\n",
      "  File \"C:\\Users\\Joanne\\anaconda3\\envs\\hvplot_dev\\lib\\site-packages\\dash\\dash.py\", line 1096, in dispatch\n",
      "    response.set_data(func(*args, outputs_list=outputs_list))\n",
      "  File \"C:\\Users\\Joanne\\anaconda3\\envs\\hvplot_dev\\lib\\site-packages\\dash\\dash.py\", line 1017, in add_context\n",
      "    output_value = func(*args, **kwargs)  # %% callback invoked %%\n",
      "  File \"<ipython-input-1-37b7c0b2c1e0>\", line 29, in update_value\n",
      "    df = yf.download(input_data, start=\"2017-01-01\", end=\"2021-07-29\").reset_index()\n",
      "NameError: name 'yf' is not defined\n"
     ]
    },
    {
     "name": "stderr",
     "output_type": "stream",
     "text": [
      "127.0.0.1 - - [28/Jul/2021 20:43:34] \"POST /_dash-update-component HTTP/1.1\" 500 -\n"
     ]
    },
    {
     "name": "stdout",
     "output_type": "stream",
     "text": [
      "Exception on /_dash-update-component [POST]\n",
      "Traceback (most recent call last):\n",
      "  File \"C:\\Users\\Joanne\\anaconda3\\envs\\hvplot_dev\\lib\\site-packages\\flask\\app.py\", line 2070, in wsgi_app\n",
      "    response = self.full_dispatch_request()\n",
      "  File \"C:\\Users\\Joanne\\anaconda3\\envs\\hvplot_dev\\lib\\site-packages\\flask\\app.py\", line 1515, in full_dispatch_request\n",
      "    rv = self.handle_user_exception(e)\n",
      "  File \"C:\\Users\\Joanne\\anaconda3\\envs\\hvplot_dev\\lib\\site-packages\\flask\\app.py\", line 1513, in full_dispatch_request\n",
      "    rv = self.dispatch_request()\n",
      "  File \"C:\\Users\\Joanne\\anaconda3\\envs\\hvplot_dev\\lib\\site-packages\\flask\\app.py\", line 1499, in dispatch_request\n",
      "    return self.ensure_sync(self.view_functions[rule.endpoint])(**req.view_args)\n",
      "  File \"C:\\Users\\Joanne\\anaconda3\\envs\\hvplot_dev\\lib\\site-packages\\dash\\dash.py\", line 1096, in dispatch\n",
      "    response.set_data(func(*args, outputs_list=outputs_list))\n",
      "  File \"C:\\Users\\Joanne\\anaconda3\\envs\\hvplot_dev\\lib\\site-packages\\dash\\dash.py\", line 1017, in add_context\n",
      "    output_value = func(*args, **kwargs)  # %% callback invoked %%\n",
      "  File \"<ipython-input-1-37b7c0b2c1e0>\", line 29, in update_value\n",
      "    df = yf.download(input_data, start=\"2017-01-01\", end=\"2021-07-29\").reset_index()\n",
      "NameError: name 'yf' is not defined\n"
     ]
    },
    {
     "name": "stderr",
     "output_type": "stream",
     "text": [
      "127.0.0.1 - - [28/Jul/2021 20:43:35] \"POST /_dash-update-component HTTP/1.1\" 500 -\n"
     ]
    }
   ],
   "source": [
    "# Dash Framework - stock price visualization demo\n",
    "import pandas_datareader.data as web\n",
    "import dash\n",
    "import dash_core_components as dcc\n",
    "import dash_html_components as html\n",
    "from dash.dependencies import Input, Output\n",
    "import datetime\n",
    "\n",
    "# First the layout\n",
    "app = dash.Dash()\n",
    "app.title = \"Stock Visualization\"\n",
    "app.layout = html.Div(children=[\n",
    "    html.H1('Stock Visualization Dashboard'),\n",
    "    html.H4('Please enter the stock name'),\n",
    "    dcc.Input(id=\"input\", value='', type='text'),\n",
    "    html.Div(id=\"output-graph\")\n",
    "])\n",
    "\n",
    "# Second the interaction with the user\n",
    "\n",
    "\n",
    "@app.callback(\n",
    "    Output(component_id=\"output-graph\", component_property='children'),\n",
    "    [Input(component_id=\"input\", component_property=\"value\")]\n",
    ")\n",
    "def update_value(input_data):\n",
    "    start = datetime.datetime(2012, 1, 1)\n",
    "    end = datetime.datetime.now()\n",
    "    df = yf.download(input_data, start=\"2017-01-01\", end=\"2021-07-29\").reset_index()\n",
    "    #df = web.DataReader(input_data, 'yahoo', start, end)\n",
    "    #df = px.data.stocks()\n",
    "    fig = px.line(df, x='Date', y=\"Open\")\n",
    "    #fig.show()\n",
    "    \n",
    "    return dcc.Graph(id=\"demo\", figure=fig)\n",
    "\n",
    "\n",
    "if __name__ == \"__main__\":\n",
    "    app.run_server(debug=False, port=8052)"
   ]
  },
  {
   "cell_type": "code",
   "execution_count": null,
   "metadata": {},
   "outputs": [],
   "source": []
  }
 ],
 "metadata": {
  "kernelspec": {
   "display_name": "Python [conda env:hvplot_dev]",
   "language": "python",
   "name": "conda-env-hvplot_dev-py"
  },
  "language_info": {
   "codemirror_mode": {
    "name": "ipython",
    "version": 3
   },
   "file_extension": ".py",
   "mimetype": "text/x-python",
   "name": "python",
   "nbconvert_exporter": "python",
   "pygments_lexer": "ipython3",
   "version": "3.6.13"
  }
 },
 "nbformat": 4,
 "nbformat_minor": 4
}
