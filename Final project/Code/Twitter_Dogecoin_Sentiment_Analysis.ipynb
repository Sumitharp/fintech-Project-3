{
 "cells": [
  {
   "cell_type": "markdown",
   "source": [
    "# DogeCoin Sentiment Analysis - Part A - Twitter #Dogecoin"
   ],
   "metadata": {}
  },
  {
   "cell_type": "code",
   "execution_count": 1,
   "source": [
    "import re\r\n",
    "import nltk\r\n",
    "from PIL import Image                                   # conda install -c anaconda pillow. This allows us to make masks in our word clouds\r\n",
    "import webbrowser\r\n",
    "import time \r\n",
    "import tweepy\r\n",
    "import numpy as np\r\n",
    "import pandas as pd    \r\n",
    "from textblob import TextBlob\r\n",
    "import matplotlib.pyplot as plt\r\n",
    "from wordcloud import WordCloud\r\n",
    "import os\r\n",
    "from dotenv import load_dotenv\r\n",
    "load_dotenv('john.env')\r\n",
    "\r\n",
    "import warnings\r\n",
    "warnings.filterwarnings('ignore')"
   ],
   "outputs": [
    {
     "output_type": "stream",
     "name": "stderr",
     "text": [
      "\n",
      "Bad key \"text.kerning_factor\" on line 4 in\n",
      "C:\\Users\\jakel\\anaconda3\\envs\\ml2env\\lib\\site-packages\\matplotlib\\mpl-data\\stylelib\\_classic_test_patch.mplstyle.\n",
      "You probably need to get an updated matplotlibrc file from\n",
      "http://github.com/matplotlib/matplotlib/blob/master/matplotlibrc.template\n",
      "or from the matplotlib source distribution\n"
     ]
    }
   ],
   "metadata": {}
  },
  {
   "cell_type": "code",
   "execution_count": 2,
   "source": [
    "consumer_key = os.getenv('TWITTER_API')\r\n",
    "consumer_secret = os.getenv('TWITTER_SECRET_KEY')"
   ],
   "outputs": [],
   "metadata": {}
  },
  {
   "cell_type": "code",
   "execution_count": 3,
   "source": [
    "type(consumer_key)"
   ],
   "outputs": [
    {
     "output_type": "execute_result",
     "data": {
      "text/plain": [
       "str"
      ]
     },
     "metadata": {},
     "execution_count": 3
    }
   ],
   "metadata": {}
  },
  {
   "cell_type": "code",
   "execution_count": 4,
   "source": [
    "# API Authentication \r\n",
    "callback_uri = 'oob'                                                      # declare a uniform resource indicator, and set to 'out-of-band'\r\n",
    "auth = tweepy.OAuthHandler(consumer_key, consumer_secret, callback_uri)   # creates an authentication object. stores our consumer and secret key. \r\n",
    "redirect_url = auth.get_authorization_url()                               # stores the API authorization url used to get a PIN number                             \r\n",
    "webbrowser.open(redirect_url)                                             # Opens web and redirects you to Twitter app authorization website. Click Authorize and it provides a PIN number.\r\n",
    "prompt = '>'                                                              # Enter the PIN number here. \r\n",
    "print('enter PIN number at the prompt. Hit enter.')\r\n",
    "user_PIN = input(prompt)                                                  # enter the PIN number in prompt and now you'll have an access token. \r\n",
    "auth.get_access_token(user_PIN)                                           # Uses the PIN to generate an access token.\r\n",
    "print('Your access key ', auth.access_token)                              # This key does not change regardless how many different PIN numbers you get.\r\n",
    "print('The secret key ', auth.access_token_secret)\r\n",
    "api = tweepy.API(auth, wait_on_rate_limit=True)                           # Create a tweepy API object with the access token. Set wait_on_rate_limit to reset after 15 minutes."
   ],
   "outputs": [
    {
     "output_type": "stream",
     "name": "stdout",
     "text": [
      "enter PIN number at the prompt. Hit enter.\n",
      "Your access key  18325825-cHvbx5Kpg6HFjIrFYo8wfr8jheadKCXjUNQG57BvU\n",
      "The secret key  Bk14J5TH5g4YmZvRmra7u23uwrkfwgWrNHHs0v4G0Ttby\n"
     ]
    }
   ],
   "metadata": {}
  },
  {
   "cell_type": "code",
   "execution_count": 5,
   "source": [
    "# Set a variable to dogecoin hashtag.\r\n",
    "\r\n",
    "search_t = '#dogecoin' "
   ],
   "outputs": [],
   "metadata": {}
  },
  {
   "cell_type": "code",
   "execution_count": 6,
   "source": [
    "# Search twitter based on the query we pass\r\n",
    "\r\n",
    "posts = tweepy.Cursor(\r\n",
    "    api.search,\r\n",
    "    q=search_t,                # query is search_t which is for #dogecoin\r\n",
    "    lang=\"en\"\r\n",
    "    ).items(1000)              # grab past 1000 tweets on the hashtag"
   ],
   "outputs": [],
   "metadata": {}
  },
  {
   "cell_type": "code",
   "execution_count": 7,
   "source": [
    "# store all tweets in a raw DataFrame\r\n",
    "\r\n",
    "all_tweets= [tweet.text for tweet in posts]\r\n",
    "\r\n",
    "df = pd.DataFrame(\r\n",
    "    all_tweets,\r\n",
    "    columns=['Tweets']\r\n",
    ")\r\n",
    "\r\n",
    "df.shape"
   ],
   "outputs": [
    {
     "output_type": "execute_result",
     "data": {
      "text/plain": [
       "(1000, 1)"
      ]
     },
     "metadata": {},
     "execution_count": 7
    }
   ],
   "metadata": {}
  },
  {
   "cell_type": "code",
   "execution_count": 8,
   "source": [
    "pd.set_option('display.max_colwidth', -1)\r\n",
    "df.sample(10)"
   ],
   "outputs": [
    {
     "output_type": "execute_result",
     "data": {
      "text/plain": [
       "                                                                                                                                               Tweets\n",
       "861  @beefy_musk Done\\n\\n0x0A5bF29a16bD38b49e375dC8eD2A5ACe901d7c4c\\n\\n#DogeCoin https://t.co/fbY4RufQdg                                             \n",
       "769  RT @greg16676935420: Easiest call of my life #dogecoin https://t.co/EqMZEKwjhV                                                                  \n",
       "50   RT @TheOnlyFronk: Let's get #dogecoin trending! There is a massive update to #doge core code that will improve security, reduce fees to 0.0…    \n",
       "444  Mondays got you down?? Well get in here and chill with the dogefam 🐕🐕🐕 🚀🚀😬😬 #doge #dogecoin #DogecoinRise #dogefam… https://t.co/rX9AwckJrh     \n",
       "284  RT @MilgateTyler: such a silly bunch of shibes 🤣💯\\n\\n#dogearmy #dogecoin #doge https://t.co/hE8mVRXnUi                                          \n",
       "624  RT @CoinMarketCap: What Is Baby Shiba Inu (BABYSHIBAINU)?\\nhttps://t.co/jZfUOC1Sy2\\n\\nCoinMarketCap takes a deep dive into a dog-related meme…  \n",
       "513  RT @Maicus81: “What can’t kill crypto, makes it stronger.” #dogecoin ✨ https://t.co/JMf9cOjvKD                                                  \n",
       "481  @MoonconnectNET Nice project 👍👍\\n\\n@ankitsomani6\\n@coin_soi\\n@MaityAnjali\\n\\n#MoonConnect #MoonConnectNET #presale #BNB… https://t.co/yKgk5doefk\n",
       "799  RT @Dogemarine: Goooood Goooood let the doge flow through you\\n#DoOnlyGoodEveryday #Dogecoin #crypto #memes https://t.co/le9OuxjLkA             \n",
       "103  Yeah the \"INTERNET MONEY\" 🤣\\n@GorillaGains1 @cryptopediaK7 @dogecoin @Moonwillycoin @safemoon @shiba_coin… https://t.co/vwr21JJQTJ              "
      ],
      "text/html": [
       "<div>\n",
       "<style scoped>\n",
       "    .dataframe tbody tr th:only-of-type {\n",
       "        vertical-align: middle;\n",
       "    }\n",
       "\n",
       "    .dataframe tbody tr th {\n",
       "        vertical-align: top;\n",
       "    }\n",
       "\n",
       "    .dataframe thead th {\n",
       "        text-align: right;\n",
       "    }\n",
       "</style>\n",
       "<table border=\"1\" class=\"dataframe\">\n",
       "  <thead>\n",
       "    <tr style=\"text-align: right;\">\n",
       "      <th></th>\n",
       "      <th>Tweets</th>\n",
       "    </tr>\n",
       "  </thead>\n",
       "  <tbody>\n",
       "    <tr>\n",
       "      <th>861</th>\n",
       "      <td>@beefy_musk Done\\n\\n0x0A5bF29a16bD38b49e375dC8eD2A5ACe901d7c4c\\n\\n#DogeCoin https://t.co/fbY4RufQdg</td>\n",
       "    </tr>\n",
       "    <tr>\n",
       "      <th>769</th>\n",
       "      <td>RT @greg16676935420: Easiest call of my life #dogecoin https://t.co/EqMZEKwjhV</td>\n",
       "    </tr>\n",
       "    <tr>\n",
       "      <th>50</th>\n",
       "      <td>RT @TheOnlyFronk: Let's get #dogecoin trending! There is a massive update to #doge core code that will improve security, reduce fees to 0.0…</td>\n",
       "    </tr>\n",
       "    <tr>\n",
       "      <th>444</th>\n",
       "      <td>Mondays got you down?? Well get in here and chill with the dogefam 🐕🐕🐕 🚀🚀😬😬 #doge #dogecoin #DogecoinRise #dogefam… https://t.co/rX9AwckJrh</td>\n",
       "    </tr>\n",
       "    <tr>\n",
       "      <th>284</th>\n",
       "      <td>RT @MilgateTyler: such a silly bunch of shibes 🤣💯\\n\\n#dogearmy #dogecoin #doge https://t.co/hE8mVRXnUi</td>\n",
       "    </tr>\n",
       "    <tr>\n",
       "      <th>624</th>\n",
       "      <td>RT @CoinMarketCap: What Is Baby Shiba Inu (BABYSHIBAINU)?\\nhttps://t.co/jZfUOC1Sy2\\n\\nCoinMarketCap takes a deep dive into a dog-related meme…</td>\n",
       "    </tr>\n",
       "    <tr>\n",
       "      <th>513</th>\n",
       "      <td>RT @Maicus81: “What can’t kill crypto, makes it stronger.” #dogecoin ✨ https://t.co/JMf9cOjvKD</td>\n",
       "    </tr>\n",
       "    <tr>\n",
       "      <th>481</th>\n",
       "      <td>@MoonconnectNET Nice project 👍👍\\n\\n@ankitsomani6\\n@coin_soi\\n@MaityAnjali\\n\\n#MoonConnect #MoonConnectNET #presale #BNB… https://t.co/yKgk5doefk</td>\n",
       "    </tr>\n",
       "    <tr>\n",
       "      <th>799</th>\n",
       "      <td>RT @Dogemarine: Goooood Goooood let the doge flow through you\\n#DoOnlyGoodEveryday #Dogecoin #crypto #memes https://t.co/le9OuxjLkA</td>\n",
       "    </tr>\n",
       "    <tr>\n",
       "      <th>103</th>\n",
       "      <td>Yeah the \"INTERNET MONEY\" 🤣\\n@GorillaGains1 @cryptopediaK7 @dogecoin @Moonwillycoin @safemoon @shiba_coin… https://t.co/vwr21JJQTJ</td>\n",
       "    </tr>\n",
       "  </tbody>\n",
       "</table>\n",
       "</div>"
      ]
     },
     "metadata": {},
     "execution_count": 8
    }
   ],
   "metadata": {}
  },
  {
   "cell_type": "markdown",
   "source": [
    "## Clean up, apply subjectivity and polarity scores to each Tweet."
   ],
   "metadata": {}
  },
  {
   "cell_type": "code",
   "execution_count": 9,
   "source": [
    "# Define some basic emoji's. We want to remove as many emoji's as possible to clean this data up.\r\n",
    "\r\n",
    "#HappyEmoticons\r\n",
    "emoticons_happy = set([\r\n",
    "    ':-)', ':)', ';)', ':o)', ':]', ':3', ':c)', ':>', '=]', '8)', '=)', ':}',\r\n",
    "   ':^)', ':-D', ':D', '8-D', '8D', 'x-D', 'xD', 'X-D', 'XD', '=-D', '=D',\r\n",
    "    '=-3', '=3', ':-))', \":'-)\", \":')\", ':*', ':^*', '>:P', ':-P', ':P', 'X-P',\r\n",
    "    'x-p', 'xp', 'XP', ':-p', ':p', '=p', ':-b', ':b', '>:)', '>;)', '>:-)',\r\n",
    "    '<3'\r\n",
    "    ])\r\n",
    "\r\n",
    "# Sad Emoticons\r\n",
    "emoticons_sad = set([\r\n",
    "    ':L', ':-/', '>:/', ':S', '>:[', ':@', ':-(', ':[', ':-||', '=L', ':<',\r\n",
    "    ':-[', ':-<', '=\\\\', '=/', '>:(', ':(', '>.<', \":'-(\", \":'(\", ':\\\\', ':-c',\r\n",
    "    ':c', ':{', '>:\\\\', ';('\r\n",
    "    ])\r\n",
    "\r\n",
    "#Emoji patterns\r\n",
    "emoji_pattern = re.compile(\"[\"\r\n",
    "         u\"\\U0001F600-\\U0001F64F\"  # emoticons\r\n",
    "         u\"\\U0001F300-\\U0001F5FF\"  # symbols & pictographs\r\n",
    "         u\"\\U0001F680-\\U0001F6FF\"  # transport & map symbols\r\n",
    "         u\"\\U0001F1E0-\\U0001F1FF\"  # flags (iOS)\r\n",
    "         u\"\\U00002702-\\U000027B0\"\r\n",
    "         u\"\\U000024C2-\\U0001F251\"\r\n",
    "         \"]+\", flags=re.UNICODE)\r\n",
    "\r\n",
    "#combine sad and happy emoticons\r\n",
    "emoticons = emoticons_happy.union(emoticons_sad)"
   ],
   "outputs": [],
   "metadata": {}
  },
  {
   "cell_type": "code",
   "execution_count": 10,
   "source": [
    "# Remove unwanted elements from the tweets\r\n",
    "\r\n",
    "def clean_tweets(tweets):\r\n",
    "    tweets = re.sub('@[A-Za-z0-9]+', '', tweets)                         # Removes the @ \r\n",
    "    tweets = re.sub('#', '', tweets)                                     # removes the hashtag #\r\n",
    "    tweets = re.sub('RT[\\s]+', '', tweets)                               # removes retweets RT\r\n",
    "    tweets = re.sub('https?:\\/\\/\\S+', '', tweets)                        # removes links\r\n",
    "    tweets = emoji_pattern.sub(r'', tweets)                              # remove emojis based on            \r\n",
    "    return tweets\r\n",
    "\r\n",
    "# run the clean_tweets function on the Tweets column in the df\r\n",
    "df.Tweets = df.Tweets.apply(clean_tweets)\r\n",
    "\r\n",
    "# check if it cleaned up the tweets. \r\n",
    "pd.set_option('display.max_colwidth', -1)                                 # allows us to see full text \r\n",
    "df.sample(10)"
   ],
   "outputs": [
    {
     "output_type": "execute_result",
     "data": {
      "text/plain": [
       "                                                                                                                                 Tweets\n",
       "812  : As we always do, we deliver!! We just flew an aerial banner  on  's Tesla HQ and please see the video! Sup…                     \n",
       "655  _lee: Dogs love Cats dogecoin catecoin memes                                                                                      \n",
       "884  Fingers crossed for a dogecoin\\nBreak out!                                                                                        \n",
       "652  Trash Mobile service when you use the GPS for more than 10 seconds.\\n.\\nretailbruddaz cryptocurrencies…                           \n",
       "200  : The first ever coin dedicated to Satoshi Nakamoto!\\nPrivate Sale Successful \\nPresales Successful \\nPublic Sale Ongoing …       \n",
       "739  : The latest $DOGE newsletter goes out in 30 MINUTES!\\n\\nIt explains all the latest DOGE news and explains why Dogecoin is F…     \n",
       "380  : See I did good today, a family friendly wholesome meme 🤣🤣🤣  \\ndogecoin doge dogmoney dogefam dogearmy https…                    \n",
       "245  : Claim 1 WAX NFT FREE\\n\\nFollow Tasks For Giveaway\\n1. Follow: \\n2. Tag 3 Friends In Quote Tweet\\n\\nClaim NFT…                   \n",
       "306  : Retweet if you want to see  this again! To the mooooon   \\n  dogecoin doge DogecoinToTheMoon DogecoinRise d…                    \n",
       "731  I believe robinhood stock is gonna skyrocket as soon as they are done with cryptowallets. dogecoin bitcoin &lt; lame&gt;  Ethereum"
      ],
      "text/html": [
       "<div>\n",
       "<style scoped>\n",
       "    .dataframe tbody tr th:only-of-type {\n",
       "        vertical-align: middle;\n",
       "    }\n",
       "\n",
       "    .dataframe tbody tr th {\n",
       "        vertical-align: top;\n",
       "    }\n",
       "\n",
       "    .dataframe thead th {\n",
       "        text-align: right;\n",
       "    }\n",
       "</style>\n",
       "<table border=\"1\" class=\"dataframe\">\n",
       "  <thead>\n",
       "    <tr style=\"text-align: right;\">\n",
       "      <th></th>\n",
       "      <th>Tweets</th>\n",
       "    </tr>\n",
       "  </thead>\n",
       "  <tbody>\n",
       "    <tr>\n",
       "      <th>812</th>\n",
       "      <td>: As we always do, we deliver!! We just flew an aerial banner  on  's Tesla HQ and please see the video! Sup…</td>\n",
       "    </tr>\n",
       "    <tr>\n",
       "      <th>655</th>\n",
       "      <td>_lee: Dogs love Cats dogecoin catecoin memes</td>\n",
       "    </tr>\n",
       "    <tr>\n",
       "      <th>884</th>\n",
       "      <td>Fingers crossed for a dogecoin\\nBreak out!</td>\n",
       "    </tr>\n",
       "    <tr>\n",
       "      <th>652</th>\n",
       "      <td>Trash Mobile service when you use the GPS for more than 10 seconds.\\n.\\nretailbruddaz cryptocurrencies…</td>\n",
       "    </tr>\n",
       "    <tr>\n",
       "      <th>200</th>\n",
       "      <td>: The first ever coin dedicated to Satoshi Nakamoto!\\nPrivate Sale Successful \\nPresales Successful \\nPublic Sale Ongoing …</td>\n",
       "    </tr>\n",
       "    <tr>\n",
       "      <th>739</th>\n",
       "      <td>: The latest $DOGE newsletter goes out in 30 MINUTES!\\n\\nIt explains all the latest DOGE news and explains why Dogecoin is F…</td>\n",
       "    </tr>\n",
       "    <tr>\n",
       "      <th>380</th>\n",
       "      <td>: See I did good today, a family friendly wholesome meme 🤣🤣🤣  \\ndogecoin doge dogmoney dogefam dogearmy https…</td>\n",
       "    </tr>\n",
       "    <tr>\n",
       "      <th>245</th>\n",
       "      <td>: Claim 1 WAX NFT FREE\\n\\nFollow Tasks For Giveaway\\n1. Follow: \\n2. Tag 3 Friends In Quote Tweet\\n\\nClaim NFT…</td>\n",
       "    </tr>\n",
       "    <tr>\n",
       "      <th>306</th>\n",
       "      <td>: Retweet if you want to see  this again! To the mooooon   \\n  dogecoin doge DogecoinToTheMoon DogecoinRise d…</td>\n",
       "    </tr>\n",
       "    <tr>\n",
       "      <th>731</th>\n",
       "      <td>I believe robinhood stock is gonna skyrocket as soon as they are done with cryptowallets. dogecoin bitcoin &amp;lt; lame&amp;gt;  Ethereum</td>\n",
       "    </tr>\n",
       "  </tbody>\n",
       "</table>\n",
       "</div>"
      ]
     },
     "metadata": {},
     "execution_count": 10
    }
   ],
   "metadata": {}
  },
  {
   "cell_type": "code",
   "execution_count": 11,
   "source": [
    "# subjectivity is nothing but a sentence that expresses some personal feelings, views, or beliefs. value ranges from 0-1. 0 is objective, and 1 is very subjective.tweepy\r\n",
    "\r\n",
    "# adds subjectivity score to a Tweet\r\n",
    "def calc_subj(tweet):\r\n",
    "    return TextBlob(tweet).sentiment.subjectivity\r\n",
    "\r\n",
    "# adds polarity score \r\n",
    "def calc_pola(tweet):\r\n",
    "    return TextBlob(tweet).sentiment.polarity \r\n",
    "\r\n",
    "# Call and add subjective and polarity columns to the Dataframe\r\n",
    "df['Subjectivity'] = df.Tweets.apply(calc_subj) \r\n",
    "df['Polarity'] = df.Tweets.apply(calc_pola)\r\n",
    "\r\n",
    "df.head(10)"
   ],
   "outputs": [
    {
     "output_type": "execute_result",
     "data": {
      "text/plain": [
       "                                                                                                                        Tweets  \\\n",
       "0  Patience is the key here. Hold on to your dogecoin. Mean while we will pump another coin soon. Coin name will be…             \n",
       "1      I personally find this somewhat disturbing. I just am…                                                                    \n",
       "2  : CybrrrDOGE is Top3 Trending Cryptocurrency in CoinMarketCap\\n\\n\\n\\ncybrrrdoge cyberdoge dogecoin …                          \n",
       "3  _bdoge: Famous quote from  \\n\\n“I think it is possible for ordinary people to choose to be extraordinary.” Cryptocurency b…   \n",
       "4  : linkedin twitter facebook instagram tumblr socialmedia onlineshop pinterest dogecoin reddit gift gifts gi…                  \n",
       "5  : What Is Baby Shiba Inu (BABYSHIBAINU)?\\n\\n\\nCoinMarketCap takes a deep dive into a dog-related meme…                        \n",
       "6  : 10,000 $DOGE Giveaway  \\nTo Enter\\n Just Like, Retweet And Follow Me &amp;  \\n Comment dogearmy \\n\\ndoge dogecoin…          \n",
       "7  _musk: 24 Hours | DogeCoin  Giveaway 🤍\\n\\nFollow me \\nthis \\nFollow  \\n\\n Good Luck                                           \n",
       "8  : What Is Baby Shiba Inu (BABYSHIBAINU)?\\n\\n\\nCoinMarketCap takes a deep dive into a dog-related meme…                        \n",
       "9  : “What can’t kill crypto, makes it stronger.” dogecoin                                                                       \n",
       "\n",
       "   Subjectivity  Polarity  \n",
       "0  0.84375      -0.156250  \n",
       "1  0.55000      -0.250000  \n",
       "2  0.00000       0.000000  \n",
       "3  0.87500       0.145833  \n",
       "4  0.00000       0.000000  \n",
       "5  0.40000       0.000000  \n",
       "6  0.00000       0.000000  \n",
       "7  0.60000       0.700000  \n",
       "8  0.40000       0.000000  \n",
       "9  0.00000       0.000000  "
      ],
      "text/html": [
       "<div>\n",
       "<style scoped>\n",
       "    .dataframe tbody tr th:only-of-type {\n",
       "        vertical-align: middle;\n",
       "    }\n",
       "\n",
       "    .dataframe tbody tr th {\n",
       "        vertical-align: top;\n",
       "    }\n",
       "\n",
       "    .dataframe thead th {\n",
       "        text-align: right;\n",
       "    }\n",
       "</style>\n",
       "<table border=\"1\" class=\"dataframe\">\n",
       "  <thead>\n",
       "    <tr style=\"text-align: right;\">\n",
       "      <th></th>\n",
       "      <th>Tweets</th>\n",
       "      <th>Subjectivity</th>\n",
       "      <th>Polarity</th>\n",
       "    </tr>\n",
       "  </thead>\n",
       "  <tbody>\n",
       "    <tr>\n",
       "      <th>0</th>\n",
       "      <td>Patience is the key here. Hold on to your dogecoin. Mean while we will pump another coin soon. Coin name will be…</td>\n",
       "      <td>0.84375</td>\n",
       "      <td>-0.156250</td>\n",
       "    </tr>\n",
       "    <tr>\n",
       "      <th>1</th>\n",
       "      <td>I personally find this somewhat disturbing. I just am…</td>\n",
       "      <td>0.55000</td>\n",
       "      <td>-0.250000</td>\n",
       "    </tr>\n",
       "    <tr>\n",
       "      <th>2</th>\n",
       "      <td>: CybrrrDOGE is Top3 Trending Cryptocurrency in CoinMarketCap\\n\\n\\n\\ncybrrrdoge cyberdoge dogecoin …</td>\n",
       "      <td>0.00000</td>\n",
       "      <td>0.000000</td>\n",
       "    </tr>\n",
       "    <tr>\n",
       "      <th>3</th>\n",
       "      <td>_bdoge: Famous quote from  \\n\\n“I think it is possible for ordinary people to choose to be extraordinary.” Cryptocurency b…</td>\n",
       "      <td>0.87500</td>\n",
       "      <td>0.145833</td>\n",
       "    </tr>\n",
       "    <tr>\n",
       "      <th>4</th>\n",
       "      <td>: linkedin twitter facebook instagram tumblr socialmedia onlineshop pinterest dogecoin reddit gift gifts gi…</td>\n",
       "      <td>0.00000</td>\n",
       "      <td>0.000000</td>\n",
       "    </tr>\n",
       "    <tr>\n",
       "      <th>5</th>\n",
       "      <td>: What Is Baby Shiba Inu (BABYSHIBAINU)?\\n\\n\\nCoinMarketCap takes a deep dive into a dog-related meme…</td>\n",
       "      <td>0.40000</td>\n",
       "      <td>0.000000</td>\n",
       "    </tr>\n",
       "    <tr>\n",
       "      <th>6</th>\n",
       "      <td>: 10,000 $DOGE Giveaway  \\nTo Enter\\n Just Like, Retweet And Follow Me &amp;amp;  \\n Comment dogearmy \\n\\ndoge dogecoin…</td>\n",
       "      <td>0.00000</td>\n",
       "      <td>0.000000</td>\n",
       "    </tr>\n",
       "    <tr>\n",
       "      <th>7</th>\n",
       "      <td>_musk: 24 Hours | DogeCoin  Giveaway 🤍\\n\\nFollow me \\nthis \\nFollow  \\n\\n Good Luck</td>\n",
       "      <td>0.60000</td>\n",
       "      <td>0.700000</td>\n",
       "    </tr>\n",
       "    <tr>\n",
       "      <th>8</th>\n",
       "      <td>: What Is Baby Shiba Inu (BABYSHIBAINU)?\\n\\n\\nCoinMarketCap takes a deep dive into a dog-related meme…</td>\n",
       "      <td>0.40000</td>\n",
       "      <td>0.000000</td>\n",
       "    </tr>\n",
       "    <tr>\n",
       "      <th>9</th>\n",
       "      <td>: “What can’t kill crypto, makes it stronger.” dogecoin</td>\n",
       "      <td>0.00000</td>\n",
       "      <td>0.000000</td>\n",
       "    </tr>\n",
       "  </tbody>\n",
       "</table>\n",
       "</div>"
      ]
     },
     "metadata": {},
     "execution_count": 11
    }
   ],
   "metadata": {}
  },
  {
   "cell_type": "code",
   "execution_count": 12,
   "source": [
    "# Function to assign a label of the polarity score column.\r\n",
    "def sentiment(polarity):\r\n",
    "    result = ''\r\n",
    "    if polarity > 0:\r\n",
    "        result = 'Positve'\r\n",
    "    elif polarity == 0:\r\n",
    "        result = 'Neutral'\r\n",
    "    else:\r\n",
    "        result = 'Negative'\r\n",
    "    return result\r\n",
    "\r\n",
    "# Add a sentiment column and call sentiment function to assign a sentiment label to the numeric polarity score.\r\n",
    "df['Sentiment'] = df.Polarity.apply(sentiment)\r\n",
    "\r\n",
    "df.head()"
   ],
   "outputs": [
    {
     "output_type": "execute_result",
     "data": {
      "text/plain": [
       "                                                                                                                        Tweets  \\\n",
       "0  Patience is the key here. Hold on to your dogecoin. Mean while we will pump another coin soon. Coin name will be…             \n",
       "1      I personally find this somewhat disturbing. I just am…                                                                    \n",
       "2  : CybrrrDOGE is Top3 Trending Cryptocurrency in CoinMarketCap\\n\\n\\n\\ncybrrrdoge cyberdoge dogecoin …                          \n",
       "3  _bdoge: Famous quote from  \\n\\n“I think it is possible for ordinary people to choose to be extraordinary.” Cryptocurency b…   \n",
       "4  : linkedin twitter facebook instagram tumblr socialmedia onlineshop pinterest dogecoin reddit gift gifts gi…                  \n",
       "\n",
       "   Subjectivity  Polarity Sentiment  \n",
       "0  0.84375      -0.156250  Negative  \n",
       "1  0.55000      -0.250000  Negative  \n",
       "2  0.00000       0.000000  Neutral   \n",
       "3  0.87500       0.145833  Positve   \n",
       "4  0.00000       0.000000  Neutral   "
      ],
      "text/html": [
       "<div>\n",
       "<style scoped>\n",
       "    .dataframe tbody tr th:only-of-type {\n",
       "        vertical-align: middle;\n",
       "    }\n",
       "\n",
       "    .dataframe tbody tr th {\n",
       "        vertical-align: top;\n",
       "    }\n",
       "\n",
       "    .dataframe thead th {\n",
       "        text-align: right;\n",
       "    }\n",
       "</style>\n",
       "<table border=\"1\" class=\"dataframe\">\n",
       "  <thead>\n",
       "    <tr style=\"text-align: right;\">\n",
       "      <th></th>\n",
       "      <th>Tweets</th>\n",
       "      <th>Subjectivity</th>\n",
       "      <th>Polarity</th>\n",
       "      <th>Sentiment</th>\n",
       "    </tr>\n",
       "  </thead>\n",
       "  <tbody>\n",
       "    <tr>\n",
       "      <th>0</th>\n",
       "      <td>Patience is the key here. Hold on to your dogecoin. Mean while we will pump another coin soon. Coin name will be…</td>\n",
       "      <td>0.84375</td>\n",
       "      <td>-0.156250</td>\n",
       "      <td>Negative</td>\n",
       "    </tr>\n",
       "    <tr>\n",
       "      <th>1</th>\n",
       "      <td>I personally find this somewhat disturbing. I just am…</td>\n",
       "      <td>0.55000</td>\n",
       "      <td>-0.250000</td>\n",
       "      <td>Negative</td>\n",
       "    </tr>\n",
       "    <tr>\n",
       "      <th>2</th>\n",
       "      <td>: CybrrrDOGE is Top3 Trending Cryptocurrency in CoinMarketCap\\n\\n\\n\\ncybrrrdoge cyberdoge dogecoin …</td>\n",
       "      <td>0.00000</td>\n",
       "      <td>0.000000</td>\n",
       "      <td>Neutral</td>\n",
       "    </tr>\n",
       "    <tr>\n",
       "      <th>3</th>\n",
       "      <td>_bdoge: Famous quote from  \\n\\n“I think it is possible for ordinary people to choose to be extraordinary.” Cryptocurency b…</td>\n",
       "      <td>0.87500</td>\n",
       "      <td>0.145833</td>\n",
       "      <td>Positve</td>\n",
       "    </tr>\n",
       "    <tr>\n",
       "      <th>4</th>\n",
       "      <td>: linkedin twitter facebook instagram tumblr socialmedia onlineshop pinterest dogecoin reddit gift gifts gi…</td>\n",
       "      <td>0.00000</td>\n",
       "      <td>0.000000</td>\n",
       "      <td>Neutral</td>\n",
       "    </tr>\n",
       "  </tbody>\n",
       "</table>\n",
       "</div>"
      ]
     },
     "metadata": {},
     "execution_count": 12
    }
   ],
   "metadata": {}
  },
  {
   "cell_type": "code",
   "execution_count": 38,
   "source": [
    "# Count the sentiment labels.\r\n",
    "\r\n",
    "dff = pd.DataFrame(df['Sentiment'].value_counts()).reset_index()#.T\r\n",
    "dff"
   ],
   "outputs": [
    {
     "output_type": "execute_result",
     "data": {
      "text/plain": [
       "      index  Sentiment\n",
       "0  Neutral   527      \n",
       "1  Positve   397      \n",
       "2  Negative  76       "
      ],
      "text/html": [
       "<div>\n",
       "<style scoped>\n",
       "    .dataframe tbody tr th:only-of-type {\n",
       "        vertical-align: middle;\n",
       "    }\n",
       "\n",
       "    .dataframe tbody tr th {\n",
       "        vertical-align: top;\n",
       "    }\n",
       "\n",
       "    .dataframe thead th {\n",
       "        text-align: right;\n",
       "    }\n",
       "</style>\n",
       "<table border=\"1\" class=\"dataframe\">\n",
       "  <thead>\n",
       "    <tr style=\"text-align: right;\">\n",
       "      <th></th>\n",
       "      <th>index</th>\n",
       "      <th>Sentiment</th>\n",
       "    </tr>\n",
       "  </thead>\n",
       "  <tbody>\n",
       "    <tr>\n",
       "      <th>0</th>\n",
       "      <td>Neutral</td>\n",
       "      <td>527</td>\n",
       "    </tr>\n",
       "    <tr>\n",
       "      <th>1</th>\n",
       "      <td>Positve</td>\n",
       "      <td>397</td>\n",
       "    </tr>\n",
       "    <tr>\n",
       "      <th>2</th>\n",
       "      <td>Negative</td>\n",
       "      <td>76</td>\n",
       "    </tr>\n",
       "  </tbody>\n",
       "</table>\n",
       "</div>"
      ]
     },
     "metadata": {},
     "execution_count": 38
    }
   ],
   "metadata": {}
  },
  {
   "cell_type": "code",
   "execution_count": 39,
   "source": [
    "import plotly.express as px\r\n",
    "fig = px.pie(dff, values ='Sentiment', names ='index' )\r\n",
    "fig.show()"
   ],
   "outputs": [
    {
     "output_type": "display_data",
     "data": {
      "application/vnd.plotly.v1+json": {
       "config": {
        "plotlyServerURL": "https://plot.ly"
       },
       "data": [
        {
         "domain": {
          "x": [
           0,
           1
          ],
          "y": [
           0,
           1
          ]
         },
         "hovertemplate": "index=%{label}<br>Sentiment=%{value}<extra></extra>",
         "labels": [
          "Neutral",
          "Positve",
          "Negative"
         ],
         "legendgroup": "",
         "name": "",
         "showlegend": true,
         "type": "pie",
         "values": [
          527,
          397,
          76
         ]
        }
       ],
       "layout": {
        "legend": {
         "tracegroupgap": 0
        },
        "margin": {
         "t": 60
        },
        "template": {
         "data": {
          "bar": [
           {
            "error_x": {
             "color": "#2a3f5f"
            },
            "error_y": {
             "color": "#2a3f5f"
            },
            "marker": {
             "line": {
              "color": "#E5ECF6",
              "width": 0.5
             }
            },
            "type": "bar"
           }
          ],
          "barpolar": [
           {
            "marker": {
             "line": {
              "color": "#E5ECF6",
              "width": 0.5
             }
            },
            "type": "barpolar"
           }
          ],
          "carpet": [
           {
            "aaxis": {
             "endlinecolor": "#2a3f5f",
             "gridcolor": "white",
             "linecolor": "white",
             "minorgridcolor": "white",
             "startlinecolor": "#2a3f5f"
            },
            "baxis": {
             "endlinecolor": "#2a3f5f",
             "gridcolor": "white",
             "linecolor": "white",
             "minorgridcolor": "white",
             "startlinecolor": "#2a3f5f"
            },
            "type": "carpet"
           }
          ],
          "choropleth": [
           {
            "colorbar": {
             "outlinewidth": 0,
             "ticks": ""
            },
            "type": "choropleth"
           }
          ],
          "contour": [
           {
            "colorbar": {
             "outlinewidth": 0,
             "ticks": ""
            },
            "colorscale": [
             [
              0,
              "#0d0887"
             ],
             [
              0.1111111111111111,
              "#46039f"
             ],
             [
              0.2222222222222222,
              "#7201a8"
             ],
             [
              0.3333333333333333,
              "#9c179e"
             ],
             [
              0.4444444444444444,
              "#bd3786"
             ],
             [
              0.5555555555555556,
              "#d8576b"
             ],
             [
              0.6666666666666666,
              "#ed7953"
             ],
             [
              0.7777777777777778,
              "#fb9f3a"
             ],
             [
              0.8888888888888888,
              "#fdca26"
             ],
             [
              1,
              "#f0f921"
             ]
            ],
            "type": "contour"
           }
          ],
          "contourcarpet": [
           {
            "colorbar": {
             "outlinewidth": 0,
             "ticks": ""
            },
            "type": "contourcarpet"
           }
          ],
          "heatmap": [
           {
            "colorbar": {
             "outlinewidth": 0,
             "ticks": ""
            },
            "colorscale": [
             [
              0,
              "#0d0887"
             ],
             [
              0.1111111111111111,
              "#46039f"
             ],
             [
              0.2222222222222222,
              "#7201a8"
             ],
             [
              0.3333333333333333,
              "#9c179e"
             ],
             [
              0.4444444444444444,
              "#bd3786"
             ],
             [
              0.5555555555555556,
              "#d8576b"
             ],
             [
              0.6666666666666666,
              "#ed7953"
             ],
             [
              0.7777777777777778,
              "#fb9f3a"
             ],
             [
              0.8888888888888888,
              "#fdca26"
             ],
             [
              1,
              "#f0f921"
             ]
            ],
            "type": "heatmap"
           }
          ],
          "heatmapgl": [
           {
            "colorbar": {
             "outlinewidth": 0,
             "ticks": ""
            },
            "colorscale": [
             [
              0,
              "#0d0887"
             ],
             [
              0.1111111111111111,
              "#46039f"
             ],
             [
              0.2222222222222222,
              "#7201a8"
             ],
             [
              0.3333333333333333,
              "#9c179e"
             ],
             [
              0.4444444444444444,
              "#bd3786"
             ],
             [
              0.5555555555555556,
              "#d8576b"
             ],
             [
              0.6666666666666666,
              "#ed7953"
             ],
             [
              0.7777777777777778,
              "#fb9f3a"
             ],
             [
              0.8888888888888888,
              "#fdca26"
             ],
             [
              1,
              "#f0f921"
             ]
            ],
            "type": "heatmapgl"
           }
          ],
          "histogram": [
           {
            "marker": {
             "colorbar": {
              "outlinewidth": 0,
              "ticks": ""
             }
            },
            "type": "histogram"
           }
          ],
          "histogram2d": [
           {
            "colorbar": {
             "outlinewidth": 0,
             "ticks": ""
            },
            "colorscale": [
             [
              0,
              "#0d0887"
             ],
             [
              0.1111111111111111,
              "#46039f"
             ],
             [
              0.2222222222222222,
              "#7201a8"
             ],
             [
              0.3333333333333333,
              "#9c179e"
             ],
             [
              0.4444444444444444,
              "#bd3786"
             ],
             [
              0.5555555555555556,
              "#d8576b"
             ],
             [
              0.6666666666666666,
              "#ed7953"
             ],
             [
              0.7777777777777778,
              "#fb9f3a"
             ],
             [
              0.8888888888888888,
              "#fdca26"
             ],
             [
              1,
              "#f0f921"
             ]
            ],
            "type": "histogram2d"
           }
          ],
          "histogram2dcontour": [
           {
            "colorbar": {
             "outlinewidth": 0,
             "ticks": ""
            },
            "colorscale": [
             [
              0,
              "#0d0887"
             ],
             [
              0.1111111111111111,
              "#46039f"
             ],
             [
              0.2222222222222222,
              "#7201a8"
             ],
             [
              0.3333333333333333,
              "#9c179e"
             ],
             [
              0.4444444444444444,
              "#bd3786"
             ],
             [
              0.5555555555555556,
              "#d8576b"
             ],
             [
              0.6666666666666666,
              "#ed7953"
             ],
             [
              0.7777777777777778,
              "#fb9f3a"
             ],
             [
              0.8888888888888888,
              "#fdca26"
             ],
             [
              1,
              "#f0f921"
             ]
            ],
            "type": "histogram2dcontour"
           }
          ],
          "mesh3d": [
           {
            "colorbar": {
             "outlinewidth": 0,
             "ticks": ""
            },
            "type": "mesh3d"
           }
          ],
          "parcoords": [
           {
            "line": {
             "colorbar": {
              "outlinewidth": 0,
              "ticks": ""
             }
            },
            "type": "parcoords"
           }
          ],
          "pie": [
           {
            "automargin": true,
            "type": "pie"
           }
          ],
          "scatter": [
           {
            "marker": {
             "colorbar": {
              "outlinewidth": 0,
              "ticks": ""
             }
            },
            "type": "scatter"
           }
          ],
          "scatter3d": [
           {
            "line": {
             "colorbar": {
              "outlinewidth": 0,
              "ticks": ""
             }
            },
            "marker": {
             "colorbar": {
              "outlinewidth": 0,
              "ticks": ""
             }
            },
            "type": "scatter3d"
           }
          ],
          "scattercarpet": [
           {
            "marker": {
             "colorbar": {
              "outlinewidth": 0,
              "ticks": ""
             }
            },
            "type": "scattercarpet"
           }
          ],
          "scattergeo": [
           {
            "marker": {
             "colorbar": {
              "outlinewidth": 0,
              "ticks": ""
             }
            },
            "type": "scattergeo"
           }
          ],
          "scattergl": [
           {
            "marker": {
             "colorbar": {
              "outlinewidth": 0,
              "ticks": ""
             }
            },
            "type": "scattergl"
           }
          ],
          "scattermapbox": [
           {
            "marker": {
             "colorbar": {
              "outlinewidth": 0,
              "ticks": ""
             }
            },
            "type": "scattermapbox"
           }
          ],
          "scatterpolar": [
           {
            "marker": {
             "colorbar": {
              "outlinewidth": 0,
              "ticks": ""
             }
            },
            "type": "scatterpolar"
           }
          ],
          "scatterpolargl": [
           {
            "marker": {
             "colorbar": {
              "outlinewidth": 0,
              "ticks": ""
             }
            },
            "type": "scatterpolargl"
           }
          ],
          "scatterternary": [
           {
            "marker": {
             "colorbar": {
              "outlinewidth": 0,
              "ticks": ""
             }
            },
            "type": "scatterternary"
           }
          ],
          "surface": [
           {
            "colorbar": {
             "outlinewidth": 0,
             "ticks": ""
            },
            "colorscale": [
             [
              0,
              "#0d0887"
             ],
             [
              0.1111111111111111,
              "#46039f"
             ],
             [
              0.2222222222222222,
              "#7201a8"
             ],
             [
              0.3333333333333333,
              "#9c179e"
             ],
             [
              0.4444444444444444,
              "#bd3786"
             ],
             [
              0.5555555555555556,
              "#d8576b"
             ],
             [
              0.6666666666666666,
              "#ed7953"
             ],
             [
              0.7777777777777778,
              "#fb9f3a"
             ],
             [
              0.8888888888888888,
              "#fdca26"
             ],
             [
              1,
              "#f0f921"
             ]
            ],
            "type": "surface"
           }
          ],
          "table": [
           {
            "cells": {
             "fill": {
              "color": "#EBF0F8"
             },
             "line": {
              "color": "white"
             }
            },
            "header": {
             "fill": {
              "color": "#C8D4E3"
             },
             "line": {
              "color": "white"
             }
            },
            "type": "table"
           }
          ]
         },
         "layout": {
          "annotationdefaults": {
           "arrowcolor": "#2a3f5f",
           "arrowhead": 0,
           "arrowwidth": 1
          },
          "autotypenumbers": "strict",
          "coloraxis": {
           "colorbar": {
            "outlinewidth": 0,
            "ticks": ""
           }
          },
          "colorscale": {
           "diverging": [
            [
             0,
             "#8e0152"
            ],
            [
             0.1,
             "#c51b7d"
            ],
            [
             0.2,
             "#de77ae"
            ],
            [
             0.3,
             "#f1b6da"
            ],
            [
             0.4,
             "#fde0ef"
            ],
            [
             0.5,
             "#f7f7f7"
            ],
            [
             0.6,
             "#e6f5d0"
            ],
            [
             0.7,
             "#b8e186"
            ],
            [
             0.8,
             "#7fbc41"
            ],
            [
             0.9,
             "#4d9221"
            ],
            [
             1,
             "#276419"
            ]
           ],
           "sequential": [
            [
             0,
             "#0d0887"
            ],
            [
             0.1111111111111111,
             "#46039f"
            ],
            [
             0.2222222222222222,
             "#7201a8"
            ],
            [
             0.3333333333333333,
             "#9c179e"
            ],
            [
             0.4444444444444444,
             "#bd3786"
            ],
            [
             0.5555555555555556,
             "#d8576b"
            ],
            [
             0.6666666666666666,
             "#ed7953"
            ],
            [
             0.7777777777777778,
             "#fb9f3a"
            ],
            [
             0.8888888888888888,
             "#fdca26"
            ],
            [
             1,
             "#f0f921"
            ]
           ],
           "sequentialminus": [
            [
             0,
             "#0d0887"
            ],
            [
             0.1111111111111111,
             "#46039f"
            ],
            [
             0.2222222222222222,
             "#7201a8"
            ],
            [
             0.3333333333333333,
             "#9c179e"
            ],
            [
             0.4444444444444444,
             "#bd3786"
            ],
            [
             0.5555555555555556,
             "#d8576b"
            ],
            [
             0.6666666666666666,
             "#ed7953"
            ],
            [
             0.7777777777777778,
             "#fb9f3a"
            ],
            [
             0.8888888888888888,
             "#fdca26"
            ],
            [
             1,
             "#f0f921"
            ]
           ]
          },
          "colorway": [
           "#636efa",
           "#EF553B",
           "#00cc96",
           "#ab63fa",
           "#FFA15A",
           "#19d3f3",
           "#FF6692",
           "#B6E880",
           "#FF97FF",
           "#FECB52"
          ],
          "font": {
           "color": "#2a3f5f"
          },
          "geo": {
           "bgcolor": "white",
           "lakecolor": "white",
           "landcolor": "#E5ECF6",
           "showlakes": true,
           "showland": true,
           "subunitcolor": "white"
          },
          "hoverlabel": {
           "align": "left"
          },
          "hovermode": "closest",
          "mapbox": {
           "style": "light"
          },
          "paper_bgcolor": "white",
          "plot_bgcolor": "#E5ECF6",
          "polar": {
           "angularaxis": {
            "gridcolor": "white",
            "linecolor": "white",
            "ticks": ""
           },
           "bgcolor": "#E5ECF6",
           "radialaxis": {
            "gridcolor": "white",
            "linecolor": "white",
            "ticks": ""
           }
          },
          "scene": {
           "xaxis": {
            "backgroundcolor": "#E5ECF6",
            "gridcolor": "white",
            "gridwidth": 2,
            "linecolor": "white",
            "showbackground": true,
            "ticks": "",
            "zerolinecolor": "white"
           },
           "yaxis": {
            "backgroundcolor": "#E5ECF6",
            "gridcolor": "white",
            "gridwidth": 2,
            "linecolor": "white",
            "showbackground": true,
            "ticks": "",
            "zerolinecolor": "white"
           },
           "zaxis": {
            "backgroundcolor": "#E5ECF6",
            "gridcolor": "white",
            "gridwidth": 2,
            "linecolor": "white",
            "showbackground": true,
            "ticks": "",
            "zerolinecolor": "white"
           }
          },
          "shapedefaults": {
           "line": {
            "color": "#2a3f5f"
           }
          },
          "ternary": {
           "aaxis": {
            "gridcolor": "white",
            "linecolor": "white",
            "ticks": ""
           },
           "baxis": {
            "gridcolor": "white",
            "linecolor": "white",
            "ticks": ""
           },
           "bgcolor": "#E5ECF6",
           "caxis": {
            "gridcolor": "white",
            "linecolor": "white",
            "ticks": ""
           }
          },
          "title": {
           "x": 0.05
          },
          "xaxis": {
           "automargin": true,
           "gridcolor": "white",
           "linecolor": "white",
           "ticks": "",
           "title": {
            "standoff": 15
           },
           "zerolinecolor": "white",
           "zerolinewidth": 2
          },
          "yaxis": {
           "automargin": true,
           "gridcolor": "white",
           "linecolor": "white",
           "ticks": "",
           "title": {
            "standoff": 15
           },
           "zerolinecolor": "white",
           "zerolinewidth": 2
          }
         }
        }
       }
      }
     },
     "metadata": {}
    }
   ],
   "metadata": {}
  },
  {
   "cell_type": "code",
   "execution_count": null,
   "source": [
    "dic = [['Neutral', ]]"
   ],
   "outputs": [],
   "metadata": {}
  },
  {
   "cell_type": "code",
   "execution_count": 14,
   "source": [
    "# Save the Tweets to a CSV file\r\n",
    "\r\n",
    "df.to_csv('dogecoin_twitter_feed_5.csv')"
   ],
   "outputs": [],
   "metadata": {}
  },
  {
   "cell_type": "code",
   "execution_count": 17,
   "source": [
    "df.head()"
   ],
   "outputs": [
    {
     "output_type": "execute_result",
     "data": {
      "text/plain": [
       "                                                                                                                        Tweets  \\\n",
       "0  Patience is the key here. Hold on to your dogecoin. Mean while we will pump another coin soon. Coin name will be…             \n",
       "1      I personally find this somewhat disturbing. I just am…                                                                    \n",
       "2  : CybrrrDOGE is Top3 Trending Cryptocurrency in CoinMarketCap\\n\\n\\n\\ncybrrrdoge cyberdoge dogecoin …                          \n",
       "3  _bdoge: Famous quote from  \\n\\n“I think it is possible for ordinary people to choose to be extraordinary.” Cryptocurency b…   \n",
       "4  : linkedin twitter facebook instagram tumblr socialmedia onlineshop pinterest dogecoin reddit gift gifts gi…                  \n",
       "\n",
       "   Subjectivity  Polarity Sentiment  \n",
       "0  0.84375      -0.156250  Negative  \n",
       "1  0.55000      -0.250000  Negative  \n",
       "2  0.00000       0.000000  Neutral   \n",
       "3  0.87500       0.145833  Positve   \n",
       "4  0.00000       0.000000  Neutral   "
      ],
      "text/html": [
       "<div>\n",
       "<style scoped>\n",
       "    .dataframe tbody tr th:only-of-type {\n",
       "        vertical-align: middle;\n",
       "    }\n",
       "\n",
       "    .dataframe tbody tr th {\n",
       "        vertical-align: top;\n",
       "    }\n",
       "\n",
       "    .dataframe thead th {\n",
       "        text-align: right;\n",
       "    }\n",
       "</style>\n",
       "<table border=\"1\" class=\"dataframe\">\n",
       "  <thead>\n",
       "    <tr style=\"text-align: right;\">\n",
       "      <th></th>\n",
       "      <th>Tweets</th>\n",
       "      <th>Subjectivity</th>\n",
       "      <th>Polarity</th>\n",
       "      <th>Sentiment</th>\n",
       "    </tr>\n",
       "  </thead>\n",
       "  <tbody>\n",
       "    <tr>\n",
       "      <th>0</th>\n",
       "      <td>Patience is the key here. Hold on to your dogecoin. Mean while we will pump another coin soon. Coin name will be…</td>\n",
       "      <td>0.84375</td>\n",
       "      <td>-0.156250</td>\n",
       "      <td>Negative</td>\n",
       "    </tr>\n",
       "    <tr>\n",
       "      <th>1</th>\n",
       "      <td>I personally find this somewhat disturbing. I just am…</td>\n",
       "      <td>0.55000</td>\n",
       "      <td>-0.250000</td>\n",
       "      <td>Negative</td>\n",
       "    </tr>\n",
       "    <tr>\n",
       "      <th>2</th>\n",
       "      <td>: CybrrrDOGE is Top3 Trending Cryptocurrency in CoinMarketCap\\n\\n\\n\\ncybrrrdoge cyberdoge dogecoin …</td>\n",
       "      <td>0.00000</td>\n",
       "      <td>0.000000</td>\n",
       "      <td>Neutral</td>\n",
       "    </tr>\n",
       "    <tr>\n",
       "      <th>3</th>\n",
       "      <td>_bdoge: Famous quote from  \\n\\n“I think it is possible for ordinary people to choose to be extraordinary.” Cryptocurency b…</td>\n",
       "      <td>0.87500</td>\n",
       "      <td>0.145833</td>\n",
       "      <td>Positve</td>\n",
       "    </tr>\n",
       "    <tr>\n",
       "      <th>4</th>\n",
       "      <td>: linkedin twitter facebook instagram tumblr socialmedia onlineshop pinterest dogecoin reddit gift gifts gi…</td>\n",
       "      <td>0.00000</td>\n",
       "      <td>0.000000</td>\n",
       "      <td>Neutral</td>\n",
       "    </tr>\n",
       "  </tbody>\n",
       "</table>\n",
       "</div>"
      ]
     },
     "metadata": {},
     "execution_count": 17
    }
   ],
   "metadata": {}
  },
  {
   "cell_type": "markdown",
   "source": [
    "## Visualizations"
   ],
   "metadata": {}
  },
  {
   "cell_type": "code",
   "execution_count": 19,
   "source": [
    "# Graph the count of all the polarity labels in a bar graph.\r\n",
    "\r\n",
    "df['Sentiment'].value_counts.plot(kind='bar', color='red', title='Sentiment Classification')"
   ],
   "outputs": [
    {
     "output_type": "error",
     "ename": "AttributeError",
     "evalue": "'function' object has no attribute 'plot'",
     "traceback": [
      "\u001b[1;31m---------------------------------------------------------------------------\u001b[0m",
      "\u001b[1;31mAttributeError\u001b[0m                            Traceback (most recent call last)",
      "\u001b[1;32m~\\AppData\\Local\\Temp/ipykernel_18492/417612177.py\u001b[0m in \u001b[0;36m<module>\u001b[1;34m\u001b[0m\n\u001b[0;32m      1\u001b[0m \u001b[1;31m# Graph the count of all the polarity labels in a bar graph.\u001b[0m\u001b[1;33m\u001b[0m\u001b[1;33m\u001b[0m\u001b[1;33m\u001b[0m\u001b[0m\n\u001b[0;32m      2\u001b[0m \u001b[1;33m\u001b[0m\u001b[0m\n\u001b[1;32m----> 3\u001b[1;33m \u001b[0mdf\u001b[0m\u001b[1;33m[\u001b[0m\u001b[1;34m'Sentiment'\u001b[0m\u001b[1;33m]\u001b[0m\u001b[1;33m.\u001b[0m\u001b[0mvalue_counts\u001b[0m\u001b[1;33m.\u001b[0m\u001b[0mplot\u001b[0m\u001b[1;33m(\u001b[0m\u001b[0mkind\u001b[0m\u001b[1;33m=\u001b[0m\u001b[1;34m'bar'\u001b[0m\u001b[1;33m,\u001b[0m \u001b[0mcolor\u001b[0m\u001b[1;33m=\u001b[0m\u001b[1;34m'red'\u001b[0m\u001b[1;33m,\u001b[0m \u001b[0mtitle\u001b[0m\u001b[1;33m=\u001b[0m\u001b[1;34m'Sentiment Classification'\u001b[0m\u001b[1;33m)\u001b[0m\u001b[1;33m\u001b[0m\u001b[1;33m\u001b[0m\u001b[0m\n\u001b[0m",
      "\u001b[1;31mAttributeError\u001b[0m: 'function' object has no attribute 'plot'"
     ]
    }
   ],
   "metadata": {}
  },
  {
   "cell_type": "code",
   "execution_count": null,
   "source": [
    "df2"
   ],
   "outputs": [],
   "metadata": {}
  },
  {
   "cell_type": "code",
   "execution_count": 44,
   "source": [
    "# Scatter plot of the polarity numeric scores.\r\n",
    "\r\n",
    "plt.scatter(df.Polarity, df.Subjectivity, color='red')\r\n",
    "plt.title('Sentiment Analysis')\r\n",
    "plt.xlabel('Polarity')                      # 0.00 is neutral\r\n",
    "plt.ylabel('Subjectivity')"
   ],
   "outputs": [
    {
     "output_type": "execute_result",
     "data": {
      "text/plain": [
       "Text(0, 0.5, 'Subjectivity')"
      ]
     },
     "metadata": {},
     "execution_count": 44
    },
    {
     "output_type": "display_data",
     "data": {
      "text/plain": [
       "<Figure size 432x288 with 1 Axes>"
      ],
      "image/png": "[encoded data removed]"
     },
     "metadata": {
      "needs_background": "light"
     }
    }
   ],
   "metadata": {}
  },
  {
   "cell_type": "code",
   "execution_count": 45,
   "source": [
    "# Sentiment label breakdown, total, percentage \r\n",
    "\r\n",
    "# Create a sentiment dataframe. \r\n",
    "df_sentiment = pd.DataFrame(\r\n",
    "    df.Sentiment.value_counts(normalize=True)*100 \r\n",
    ")\r\n",
    "\r\n",
    "# Add a column called total. Set to the value counts of the df.Sentiment column.\r\n",
    "df_sentiment['Total'] = df.Sentiment.value_counts() \r\n",
    "\r\n",
    "df_sentiment['Percentage'] = df.Sentiment.value_counts() / 100 * 100                         # the percentage column should total 100 percent. this is not calculatiing correctly. \r\n",
    "\r\n",
    "\r\n",
    "df_sentiment\r\n"
   ],
   "outputs": [
    {
     "output_type": "execute_result",
     "data": {
      "text/plain": [
       "          Sentiment  Total  Percentage\n",
       "Positve   51.5       515    515.0     \n",
       "Neutral   43.6       436    436.0     \n",
       "Negative  4.9        49     49.0      "
      ],
      "text/html": [
       "<div>\n",
       "<style scoped>\n",
       "    .dataframe tbody tr th:only-of-type {\n",
       "        vertical-align: middle;\n",
       "    }\n",
       "\n",
       "    .dataframe tbody tr th {\n",
       "        vertical-align: top;\n",
       "    }\n",
       "\n",
       "    .dataframe thead th {\n",
       "        text-align: right;\n",
       "    }\n",
       "</style>\n",
       "<table border=\"1\" class=\"dataframe\">\n",
       "  <thead>\n",
       "    <tr style=\"text-align: right;\">\n",
       "      <th></th>\n",
       "      <th>Sentiment</th>\n",
       "      <th>Total</th>\n",
       "      <th>Percentage</th>\n",
       "    </tr>\n",
       "  </thead>\n",
       "  <tbody>\n",
       "    <tr>\n",
       "      <th>Positve</th>\n",
       "      <td>51.5</td>\n",
       "      <td>515</td>\n",
       "      <td>515.0</td>\n",
       "    </tr>\n",
       "    <tr>\n",
       "      <th>Neutral</th>\n",
       "      <td>43.6</td>\n",
       "      <td>436</td>\n",
       "      <td>436.0</td>\n",
       "    </tr>\n",
       "    <tr>\n",
       "      <th>Negative</th>\n",
       "      <td>4.9</td>\n",
       "      <td>49</td>\n",
       "      <td>49.0</td>\n",
       "    </tr>\n",
       "  </tbody>\n",
       "</table>\n",
       "</div>"
      ]
     },
     "metadata": {},
     "execution_count": 45
    }
   ],
   "metadata": {}
  },
  {
   "cell_type": "code",
   "execution_count": 46,
   "source": [
    "# create stopwords\r\n",
    "nltk.download('stopwords')\r\n",
    "stpwrd = set(nltk.corpus.stopwords.words('english'))\r\n",
    "\r\n",
    "# Combining all tweets text\r\n",
    "allWords = ' '.join([twts for twts in df['Tweets']])\r\n",
    "\r\n",
    "# Bring in an image of Elon as a mask to shape our word cloud.\r\n",
    "mask = np.array(Image.open(\"elon_m.jpg\"))\r\n",
    "\r\n",
    "\r\n",
    "# Define a function WC to make word cloud.\r\n",
    "\r\n",
    "def WC(data, title, mask=None):\r\n",
    "    wc =  WordCloud(                              # make a WordCloud object.\r\n",
    "        width = 500,\r\n",
    "        height = 500,\r\n",
    "        scale=3,\r\n",
    "        random_state=21,\r\n",
    "        colormap='autumn',\r\n",
    "        mask=mask,\r\n",
    "        stopwords=stpwrd,\r\n",
    "        collocations=True\r\n",
    "    ).generate(data)                                # take the allWords and generate cloud based on that. \r\n",
    "\r\n",
    "    plt.figure(figsize=(20,12))\r\n",
    "    #Cloud.to_file(str(title)+'.png') \r\n",
    "    plt.imshow(wc)\r\n",
    "    plt.axis('off')\r\n",
    "    fontdict = {'fontsize' : 20, 'fontweight' : 'bold'}\r\n",
    "    plt.title(title, fontdict=fontdict)\r\n",
    "    plt.show()                                      # no return statement???? \r\n",
    "\r\n",
    "# call the WC function, pass \r\n",
    "\r\n",
    "WC(allWords, 'Elon Musk', mask=mask)              # no word cloud is produced by this line. \r\n"
   ],
   "outputs": [
    {
     "output_type": "stream",
     "name": "stderr",
     "text": [
      "[nltk_data] Downloading package stopwords to\n",
      "[nltk_data]     C:\\Users\\jakel\\AppData\\Roaming\\nltk_data...\n",
      "[nltk_data]   Package stopwords is already up-to-date!\n"
     ]
    },
    {
     "output_type": "display_data",
     "data": {
      "text/plain": [
       "<Figure size 1440x864 with 1 Axes>"
      ],
      "image/png": "[encoded data removed]"
     },
     "metadata": {
      "needs_background": "light"
     }
    }
   ],
   "metadata": {}
  },
  {
   "cell_type": "markdown",
   "source": [
    "## Tokenizing the Words"
   ],
   "metadata": {}
  },
  {
   "cell_type": "code",
   "execution_count": null,
   "source": [
    "from nltk.tokenize import word_tokenize, sent_tokenize\r\n",
    "from nltk.corpus import stopwords\r\n",
    "from nltk.stem import WordNetLemmatizer, PorterStemmer\r\n",
    "from string import punctuation"
   ],
   "outputs": [],
   "metadata": {}
  }
 ],
 "metadata": {
  "orig_nbformat": 4,
  "language_info": {
   "name": "python",
   "version": "3.7.10",
   "mimetype": "text/x-python",
   "codemirror_mode": {
    "name": "ipython",
    "version": 3
   },
   "pygments_lexer": "ipython3",
   "nbconvert_exporter": "python",
   "file_extension": ".py"
  },
  "kernelspec": {
   "name": "python3",
   "display_name": "Python 3.7.10 64-bit ('ml2env': conda)"
  },
  "interpreter": {
   "hash": "4bc1484d5d5144b78f47b52320ed3d66b9b7a0f64abfbdce1ade28afcf51bab3"
  }
 },
 "nbformat": 4,
 "nbformat_minor": 2
}