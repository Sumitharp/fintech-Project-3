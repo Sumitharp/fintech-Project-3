{
 "cells": [
  {
   "cell_type": "code",
   "execution_count": null,
   "metadata": {},
   "outputs": [
    {
     "name": "stdout",
     "output_type": "stream",
     "text": [
      "Dash is running on http://127.0.0.1:8050/\n",
      "\n",
      " * Serving Flask app \"__main__\" (lazy loading)\n",
      " * Environment: production\n",
      "   WARNING: This is a development server. Do not use it in a production deployment.\n",
      "   Use a production WSGI server instead.\n",
      " * Debug mode: off\n"
     ]
    },
    {
     "name": "stderr",
     "output_type": "stream",
     "text": [
      " * Running on http://127.0.0.1:8050/ (Press CTRL+C to quit)\n",
      "127.0.0.1 - - [03/Aug/2021 14:49:08] \"\u001b[37mGET / HTTP/1.1\u001b[0m\" 200 -\n",
      "127.0.0.1 - - [03/Aug/2021 14:49:08] \"\u001b[37mGET /_favicon.ico?v=1.21.0 HTTP/1.1\u001b[0m\" 200 -\n",
      "127.0.0.1 - - [03/Aug/2021 14:49:08] \"\u001b[37mGET /_dash-layout HTTP/1.1\u001b[0m\" 200 -\n",
      "127.0.0.1 - - [03/Aug/2021 14:49:08] \"\u001b[37mGET /_dash-dependencies HTTP/1.1\u001b[0m\" 200 -\n"
     ]
    },
    {
     "name": "stdout",
     "output_type": "stream",
     "text": [
      "Exception on /_dash-update-component [POST]\n",
      "Traceback (most recent call last):\n",
      "  File \"C:\\Users\\Joanne\\anaconda3\\envs\\pyvizenv\\lib\\site-packages\\flask\\app.py\", line 2447, in wsgi_app\n",
      "    response = self.full_dispatch_request()\n",
      "  File \"C:\\Users\\Joanne\\anaconda3\\envs\\pyvizenv\\lib\\site-packages\\flask\\app.py\", line 1952, in full_dispatch_request\n",
      "    rv = self.handle_user_exception(e)\n",
      "  File \"C:\\Users\\Joanne\\anaconda3\\envs\\pyvizenv\\lib\\site-packages\\flask\\app.py\", line 1821, in handle_user_exception\n",
      "    reraise(exc_type, exc_value, tb)\n",
      "  File \"C:\\Users\\Joanne\\anaconda3\\envs\\pyvizenv\\lib\\site-packages\\flask\\_compat.py\", line 39, in reraise\n",
      "    raise value\n",
      "  File \"C:\\Users\\Joanne\\anaconda3\\envs\\pyvizenv\\lib\\site-packages\\flask\\app.py\", line 1950, in full_dispatch_request\n",
      "    rv = self.dispatch_request()\n",
      "  File \"C:\\Users\\Joanne\\anaconda3\\envs\\pyvizenv\\lib\\site-packages\\flask\\app.py\", line 1936, in dispatch_request\n",
      "    return self.view_functions[rule.endpoint](**req.view_args)\n",
      "  File \"C:\\Users\\Joanne\\anaconda3\\envs\\pyvizenv\\lib\\site-packages\\dash\\dash.py\", line 1096, in dispatch\n",
      "    response.set_data(func(*args, outputs_list=outputs_list))\n",
      "  File \"C:\\Users\\Joanne\\anaconda3\\envs\\pyvizenv\\lib\\site-packages\\dash\\dash.py\", line 1017, in add_context\n",
      "    output_value = func(*args, **kwargs)  # %% callback invoked %%\n",
      "  File \"<ipython-input-1-e5e949d4c2e9>\", line 29, in update_value\n",
      "    df = web.DataReader(input_data, 'yahoo', start, end)\n",
      "  File \"C:\\Users\\Joanne\\anaconda3\\envs\\pyvizenv\\lib\\site-packages\\pandas\\util\\_decorators.py\", line 188, in wrapper\n",
      "    return func(*args, **kwargs)\n",
      "  File \"C:\\Users\\Joanne\\anaconda3\\envs\\pyvizenv\\lib\\site-packages\\pandas_datareader\\data.py\", line 378, in DataReader\n",
      "    session=session,\n",
      "  File \"C:\\Users\\Joanne\\anaconda3\\envs\\pyvizenv\\lib\\site-packages\\pandas_datareader\\base.py\", line 253, in read\n",
      "    df = self._read_one_data(self.url, params=self._get_params(self.symbols))\n",
      "  File \"C:\\Users\\Joanne\\anaconda3\\envs\\pyvizenv\\lib\\site-packages\\pandas_datareader\\yahoo\\daily.py\", line 149, in _read_one_data\n",
      "    resp = self._get_response(url, params=params, headers=self.headers)\n",
      "  File \"C:\\Users\\Joanne\\anaconda3\\envs\\pyvizenv\\lib\\site-packages\\pandas_datareader\\base.py\", line 181, in _get_response\n",
      "    raise RemoteDataError(msg)\n",
      "pandas_datareader._utils.RemoteDataError: Unable to read URL: https://finance.yahoo.com/quote//history?period1=1262347200&period2=1628074799&interval=1d&frequency=1d&filter=history\n",
      "Response Text:\n",
      "b'<html>\\n<meta charset=\\'utf-8\\'>\\n<script>\\nvar u=\\'https://www.yahoo.com/?err=404&err_url=https%3a%2f%2ffinance.yahoo.com%2fquote%2f%2fhistory%3fperiod1%3d1262347200%26period2%3d1628074799%26interval%3d1d%26frequency%3d1d%26filter%3dhistory\\';\\nif(window!=window.top){\\n  document.write(\\'<p>Content is currently unavailable.</p><img src=\"//geo.yahoo.com/p?s=1197757039&t=\\'+new Date().getTime()+\\'&_R=\\'+encodeURIComponent(document.referrer)+\\'&err=404&err_url=\\'+u+\\'\" width=\"0px\" height=\"0px\"/>\\');\\n}else{\\n  window.location.replace(u);\\n}\\n</script>\\n<noscript><META http-equiv=\"refresh\" content=\"0;URL=\\'https://www.yahoo.com/?err=404&err_url=https%3a%2f%2ffinance.yahoo.com%2fquote%2f%2fhistory%3fperiod1%3d1262347200%26period2%3d1628074799%26interval%3d1d%26frequency%3d1d%26filter%3dhistory\\'\"></noscript>\\n</html>\\n'\n"
     ]
    },
    {
     "name": "stderr",
     "output_type": "stream",
     "text": [
      "127.0.0.1 - - [03/Aug/2021 14:49:11] \"\u001b[37mPOST /_dash-update-component HTTP/1.1\u001b[0m\" 200 -\n",
      "127.0.0.1 - - [03/Aug/2021 14:49:11] \"\u001b[35m\u001b[1mPOST /_dash-update-component HTTP/1.1\u001b[0m\" 500 -\n",
      "127.0.0.1 - - [03/Aug/2021 14:49:11] \"\u001b[37mPOST /_dash-update-component HTTP/1.1\u001b[0m\" 200 -\n",
      "127.0.0.1 - - [03/Aug/2021 14:49:11] \"\u001b[37mPOST /_dash-update-component HTTP/1.1\u001b[0m\" 200 -\n",
      "127.0.0.1 - - [03/Aug/2021 14:49:11] \"\u001b[37mGET /_dash-component-suites/dash_core_components/async-graph.js HTTP/1.1\u001b[0m\" 200 -\n",
      "127.0.0.1 - - [03/Aug/2021 14:49:12] \"\u001b[37mGET /_dash-component-suites/dash_core_components/async-plotlyjs.js HTTP/1.1\u001b[0m\" 200 -\n",
      "127.0.0.1 - - [03/Aug/2021 14:49:13] \"\u001b[37mPOST /_dash-update-component HTTP/1.1\u001b[0m\" 200 -\n"
     ]
    }
   ],
   "source": [
    "# Dash Framework - stock price visualization demo\n",
    "import pandas_datareader.data as web\n",
    "import dash\n",
    "import dash_core_components as dcc\n",
    "import dash_html_components as html\n",
    "from dash.dependencies import Input, Output\n",
    "import datetime\n",
    "\n",
    "# First the layout\n",
    "app = dash.Dash()\n",
    "app.title = \"Stock Visualization\"\n",
    "app.layout = html.Div(children=[\n",
    "    html.H1('Stock Visualization Dashboard'),\n",
    "    html.H4('Please enter the stock name'),\n",
    "    dcc.Input(id=\"input\", value='', type='text'),\n",
    "    html.Div(id=\"output-graph\")\n",
    "])\n",
    "\n",
    "# Second the interaction with the user\n",
    "\n",
    "\n",
    "@app.callback(\n",
    "    Output(component_id=\"output-graph\", component_property='children'),\n",
    "    [Input(component_id=\"input\", component_property=\"value\")]\n",
    ")\n",
    "def update_value(input_data):\n",
    "    start = datetime.datetime(2010, 1, 1)\n",
    "    end = datetime.datetime.now()\n",
    "    df = web.DataReader(input_data, 'yahoo', start, end)\n",
    "    return dcc.Graph(id=\"demo\", figure={'data': [{'x': df.index, 'y': df.Close, 'type': 'line', 'name': input_data}, ], \n",
    "    'layout': {'title': input_data}})\n",
    "\n",
    "\n",
    "if __name__ == \"__main__\":\n",
    "    app.run_server(debug=False)"
   ]
  },
  {
   "cell_type": "code",
   "execution_count": null,
   "metadata": {},
   "outputs": [],
   "source": []
  }
 ],
 "metadata": {
  "kernelspec": {
   "display_name": "Python 3",
   "language": "python",
   "name": "python3"
  },
  "language_info": {
   "codemirror_mode": {
    "name": "ipython",
    "version": 3
   },
   "file_extension": ".py",
   "mimetype": "text/x-python",
   "name": "python",
   "nbconvert_exporter": "python",
   "pygments_lexer": "ipython3",
   "version": "3.7.9"
  }
 },
 "nbformat": 4,
 "nbformat_minor": 5
}
