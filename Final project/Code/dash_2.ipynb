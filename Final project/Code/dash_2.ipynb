{
 "cells": [
  {
   "cell_type": "code",
   "execution_count": null,
   "metadata": {},
   "outputs": [],
   "source": [
    "import joaa\n",
    "df = joaa.joa('aapl')\n",
    "df"
   ]
  },
  {
   "cell_type": "code",
   "execution_count": null,
   "metadata": {},
   "outputs": [
    {
     "name": "stdout",
     "output_type": "stream",
     "text": [
      "Dash is running on http://127.0.0.1:8062/\n",
      "\n",
      " * Serving Flask app '__main__' (lazy loading)\n",
      " * Environment: production\n",
      "\u001b[31m   WARNING: This is a development server. Do not use it in a production deployment.\u001b[0m\n",
      "\u001b[2m   Use a production WSGI server instead.\u001b[0m\n",
      " * Debug mode: off\n"
     ]
    },
    {
     "name": "stderr",
     "output_type": "stream",
     "text": [
      " * Running on http://127.0.0.1:8062/ (Press CTRL+C to quit)\n"
     ]
    }
   ],
   "source": [
    "# Dash Framework - stock price visualization demo\n",
    "import pandas_datareader.data as web\n",
    "import dash\n",
    "import dash_core_components as dcc\n",
    "import dash_html_components as html\n",
    "from dash.dependencies import Input, Output\n",
    "import datetime\n",
    "\n",
    "# First the layout\n",
    "app = dash.Dash()\n",
    "app.title = \"Stock Visualization\"\n",
    "app.layout = html.Div(children=[\n",
    "    html.H1('Real vs. Predict'),\n",
    "    dcc.Input(id=\"input\", value='', type='text'),\n",
    "    html.Div(id=\"output-graph\")\n",
    "])\n",
    "\n",
    "# Second the interaction with the user\n",
    "\n",
    "\n",
    "@app.callback(\n",
    "    Output(component_id=\"output-graph\", component_property='children'),\n",
    "    [Input(component_id=\"input\", component_property=\"value\")]\n",
    ")\n",
    "def update_value(input_data):\n",
    "    import plotly.express as px\n",
    "    import dash_prep\n",
    "    df = dash_prep.joa(input_data).reset_index()\n",
    "    #df = px.data.stocks()\n",
    "    fig = px.line(df, x='Date', y=['Close', 'Predictions'])\n",
    "    #fig.show()\n",
    "    return dcc.Graph(id=\"demo\", figure= fig)\n",
    "\n",
    "\n",
    "if __name__ == \"__main__\":\n",
    "    app.run_server(debug=False, port=8062)"
   ]
  },
  {
   "cell_type": "code",
   "execution_count": null,
   "metadata": {},
   "outputs": [],
   "source": []
  }
 ],
 "metadata": {
  "kernelspec": {
   "display_name": "Python [conda env:hvplot_dev]",
   "language": "python",
   "name": "conda-env-hvplot_dev-py"
  },
  "language_info": {
   "codemirror_mode": {
    "name": "ipython",
    "version": 3
   },
   "file_extension": ".py",
   "mimetype": "text/x-python",
   "name": "python",
   "nbconvert_exporter": "python",
   "pygments_lexer": "ipython3",
   "version": "3.6.13"
  }
 },
 "nbformat": 4,
 "nbformat_minor": 5
}
